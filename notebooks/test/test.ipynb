{
 "cells": [
  {
   "cell_type": "code",
   "execution_count": null,
   "id": "9cb870b0-94d3-4e62-b083-cebb3d90736c",
   "metadata": {
    "tags": []
   },
   "outputs": [],
   "source": [
    "import os.path\n",
    "\n",
    "from astropy.table import Table"
   ]
  },
  {
   "cell_type": "markdown",
   "id": "e90e377e-3e77-4447-98de-c32b4f86f6b5",
   "metadata": {},
   "source": [
    "## Testing General Write-Out\n",
    "\n",
    "Checking if this is an issue with astropy tables or not"
   ]
  },
  {
   "cell_type": "code",
   "execution_count": null,
   "id": "c8d19dc3-e2f6-4765-838f-665f5285a900",
   "metadata": {
    "tags": []
   },
   "outputs": [],
   "source": [
    "path = 'test.txt'\n",
    "\n",
    "# Throw an error if the file already exists\n",
    "if os.path.isfile(path):\n",
    "    raise NameError(\"This file already exists.\")\n",
    "    \n",
    "# If file doesn't exist, create it    \n",
    "else:\n",
    "    with open(path, \"w\") as outfile:\n",
    "        outfile.write(\"Hello, world!\")"
   ]
  },
  {
   "cell_type": "markdown",
   "id": "4952920c-dd42-4ace-a539-e7e9a6d74731",
   "metadata": {
    "tags": []
   },
   "source": [
    "## Testing astropy table write-out\n",
    "\n",
    "The file `csv-test.csv` does not exist in this folder -- if the CI throws an overwrite error, we must be running the pipeline twice."
   ]
  },
  {
   "cell_type": "code",
   "execution_count": null,
   "id": "e609d7ec-d420-4347-8605-ae028e570c5f",
   "metadata": {
    "tags": []
   },
   "outputs": [],
   "source": [
    "t = Table(data=[[\"This\", 0], [\"is\", 1], [\"a\", 2], [\"test\", 3]])\n",
    "t.write('csv-test.csv', format='ascii')"
   ]
  }
 ],
 "metadata": {
  "kernelspec": {
   "display_name": "Python 3 (ipykernel)",
   "language": "python",
   "name": "python3"
  },
  "language_info": {
   "codemirror_mode": {
    "name": "ipython",
    "version": 3
   },
   "file_extension": ".py",
   "mimetype": "text/x-python",
   "name": "python",
   "nbconvert_exporter": "python",
   "pygments_lexer": "ipython3",
   "version": "3.11.4"
  }
 },
 "nbformat": 4,
 "nbformat_minor": 5
}
