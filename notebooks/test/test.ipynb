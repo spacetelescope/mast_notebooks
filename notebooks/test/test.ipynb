{
 "cells": [
  {
   "cell_type": "code",
   "execution_count": null,
   "id": "9cb870b0-94d3-4e62-b083-cebb3d90736c",
   "metadata": {
    "tags": []
   },
   "outputs": [],
   "source": [
    "from astropy.table import Table"
   ]
  },
  {
   "cell_type": "markdown",
   "id": "4952920c-dd42-4ace-a539-e7e9a6d74731",
   "metadata": {
    "tags": []
   },
   "source": [
    "# Testing the write-out\n",
    "\n",
    "The file `csv-test.csv` does not exist in this folder -- if the CI throws an overwrite error, we must be running the pipeline twice."
   ]
  },
  {
   "cell_type": "code",
   "execution_count": null,
   "id": "e609d7ec-d420-4347-8605-ae028e570c5f",
   "metadata": {
    "tags": []
   },
   "outputs": [],
   "source": [
    "t = Table(data=[[\"This\", 0], [\"is\", 1], [\"a\", 2], [\"test\", 3]])\n",
    "t.write('csv-test.csv', format='ascii')"
   ]
  }
 ],
 "metadata": {
  "kernelspec": {
   "display_name": "Python 3 (ipykernel)",
   "language": "python",
   "name": "python3"
  },
  "language_info": {
   "codemirror_mode": {
    "name": "ipython",
    "version": 3
   },
   "file_extension": ".py",
   "mimetype": "text/x-python",
   "name": "python",
   "nbconvert_exporter": "python",
   "pygments_lexer": "ipython3",
   "version": "3.11.4"
  }
 },
 "nbformat": 4,
 "nbformat_minor": 5
}
