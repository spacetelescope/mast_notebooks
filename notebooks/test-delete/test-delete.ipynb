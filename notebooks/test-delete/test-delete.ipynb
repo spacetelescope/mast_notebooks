{
 "cells": [
  {
   "cell_type": "code",
   "execution_count": null,
   "id": "37c5e14e-c5a6-4887-a4db-ccc6e34bc110",
   "metadata": {},
   "outputs": [],
   "source": [
    "from astroquery.mast import Observations"
   ]
  },
  {
   "cell_type": "code",
   "execution_count": null,
   "id": "1c8d4e3f-0f63-4177-8abd-4d124ab5b504",
   "metadata": {},
   "outputs": [],
   "source": [
    "Observations.query_criteria(proposal_pi=\"Dutkiewicz\")"
   ]
  },
  {
   "cell_type": "code",
   "execution_count": null,
   "id": "0cefec1f-eb93-4e5c-8b30-550e3b39bc15",
   "metadata": {},
   "outputs": [],
   "source": [
    "1/0"
   ]
  },
  {
   "cell_type": "code",
   "execution_count": null,
   "id": "83edb01c-dccd-4f91-931d-e208c86d6cf4",
   "metadata": {},
   "outputs": [],
   "source": [
    "print(\"Hello, world!\")"
   ]
  }
 ],
 "metadata": {
  "kernelspec": {
   "display_name": "Python 3 (ipykernel)",
   "language": "python",
   "name": "python3"
  },
  "language_info": {
   "codemirror_mode": {
    "name": "ipython",
    "version": 3
   },
   "file_extension": ".py",
   "mimetype": "text/x-python",
   "name": "python",
   "nbconvert_exporter": "python",
   "pygments_lexer": "ipython3",
   "version": "3.11.3"
  }
 },
 "nbformat": 4,
 "nbformat_minor": 5
}
