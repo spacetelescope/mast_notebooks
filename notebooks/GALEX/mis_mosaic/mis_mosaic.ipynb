{
 "cells": [
  {
   "cell_type": "markdown",
   "id": "7c9aa64b",
   "metadata": {},
   "source": [
    "<a id=\"top\"></a>\n",
    "# Surveying dust structure via GALEX MIS\n",
    "***\n",
    "\n",
    "The objective of this tutorial is to create a UV mosaic of a high-latitute cloud, using data from GALEX. We'll query the MAST Archive for Observations, then use the data to create a composite image.\n",
    "\n",
    "## Learning goals\n",
    "\n",
    "By the end of this tutorial you will be able to:\n",
    "\n",
    "- Understand UV images and how they are useful to study dust\n",
    "- Create masks for circular images\n",
    "- Create a mosaic from several images using WCS\n",
    "\n",
    "\n",
    "## Introduction\n",
    "\n",
    "**GALEX background**: The [Galaxy Evolution Explorer (GALEX)](https://archive.stsci.edu/missions-and-data/galex) was a satellite designed to investigate star formation. It observed the sky in two different bands: in the Near UV (NUV) ($1750-27504$ Å) and in the Far UV (FUV) ($1350-1750$ Å). The GALEX database contains over 600 million source measurements in the ultraviolet domain, with some sources having more than one measurement, making them useful for studying their variable sources. \n",
    "\n",
    "**GALEX Medium Imaging survey (MIS) background**: Single orbit exposures (1,500s) of 1000 square degrees in positions that match the Sloan Digital Sky Survey (SDSS). These images present a higher resolution in comparison with AIS, since their exposure time was longer.\n",
    "\n",
    "Clouds can be visible in UV when they are found close to hot stars. The objective of this tutorial is to extract and display an intensity map image of a high-latitude cloud retrieved from GALEX MIS. High-latitude clouds (Galactic latitude: $|b| > 20-30º$) are interesting because they are considered ideal candidates to study triggered star formation.\n",
    "\n",
    "## Table of Contents\n",
    "* [Imports](#Imports)\n",
    "* [MBM 15 Search in GALEX MIS](#MBM-15-Search-in-GALEX-MIS)\n",
    "* [Product Selection and Download](#Product-Selection-and-Download)\n",
    "* [Plotting a Test Image](#Plotting-a-Test-Image)\n",
    "* [Data Downsizing](#Data-Downsizing)\n",
    "* [Creating a Circular Mask](#Creating-a-Circular-Mask)\n",
    "* [Assembling the Mosaic](#Assembling-the-Mosaic)\n",
    "* [Plotting the Mosaic](#Plotting-the-Mosaic)\n",
    "\n",
    "\n",
    "## Imports\n",
    "\n",
    "- `astropy` to use tools needed for performing astronomy and astrophysics with Python, including handling fits files, defining coordinates or choosing the right limits for image visualization.\n",
    "- `Observations` from _astroquery.mast_ to query the Barbara A. Mikulski Archive for Space Telescopes (MAST).\n",
    "- `matplotlib` to visualize images.\n",
    "- `numpy` to manipulate arrays.\n",
    "- `reproject` to select the correct WCS for our images"
   ]
  },
  {
   "cell_type": "code",
   "execution_count": null,
   "id": "5d658657",
   "metadata": {},
   "outputs": [],
   "source": [
    "import astropy.units as u\n",
    "import matplotlib.pyplot as plt\n",
    "import numpy as np\n",
    "\n",
    "from astropy.io import fits\n",
    "from astroquery.mast import Observations\n",
    "from astropy.visualization import ZScaleInterval\n",
    "from astropy.wcs import WCS\n",
    "from photutils.aperture import CircularAperture\n",
    "from reproject import reproject_interp\n",
    "from reproject.mosaicking import find_optimal_celestial_wcs"
   ]
  },
  {
   "cell_type": "markdown",
   "id": "f74fd4af",
   "metadata": {},
   "source": [
    "## MBM 15 Search in GALEX MIS\n",
    "\n",
    "We'll access GALEX MIS products using `astroquery.mast`. Let's search for any Observations within a degree of our target, the molecular cloud MBM 15. We should also specify mission with the filter `obs_collection = GALEX`.\n",
    "\n",
    "Note that we add two additional filters to our query below. First, we use `project=\"MIS\"` to specify the medium imaging survey. There are a few [imaging surveys](http://galex.stsci.edu/doc/CTM/wiki/Public_documentation/Chapter_2.html#GALEX_Science_Surveys) we could choose from, but MIS will give us good coverage of the cloud with a longer exposure time than the all-sky survey. [GALEX has two detectors](http://galex.stsci.edu/doc/CTM/wiki/Public_documentation/Chapter_1.html#Detectors), so let's also choose the Near UV with `filters=\"NUV\"`. Since we're just looking to create a mosaic, it doesn't matter too much which filter we pick; you might have a valid scientific reason to prefer one over the other."
   ]
  },
  {
   "cell_type": "code",
   "execution_count": null,
   "id": "df710d6c-32aa-47c9-ad72-e71ed8fcf52f",
   "metadata": {},
   "outputs": [],
   "source": [
    "obs = Observations.query_criteria(objectname=\"MBM 15\", radius=\"1 deg\", obs_collection=\"GALEX\", project=\"MIS\", filters=\"NUV\")\n",
    "len(obs)"
   ]
  },
  {
   "cell_type": "markdown",
   "id": "9cb4712c-58db-4f1c-abf5-02ffeb8a8be8",
   "metadata": {},
   "source": [
    "## Product Selection and Download\n",
    "\n",
    "With nine Observations, we should be able to a mosaic with a good view of the nebula. Now we need to get the data products: the actual files associated with these Observations."
   ]
  },
  {
   "cell_type": "code",
   "execution_count": null,
   "id": "3cb149d2-0944-4678-bc13-f919a0d215e0",
   "metadata": {},
   "outputs": [],
   "source": [
    "prod = Observations.get_product_list(obs)\n",
    "len(prod)"
   ]
  },
  {
   "cell_type": "markdown",
   "id": "244fc15b-25b7-42e3-8ca6-9334efe413e5",
   "metadata": {},
   "source": [
    "Woah! Over 2000 files from just 9 Observations. Many of these files were intended for calibration or data validation, so we'll just select files that are marked as `\"SCIENCE\"` type. We'll also keep only files that have been flagged as a \"minimum recommended products\". These files are considered the absolute minimum needed to do analyze the Observations, which will work well for our mosaic."
   ]
  },
  {
   "cell_type": "code",
   "execution_count": null,
   "id": "5ec8cb1d",
   "metadata": {},
   "outputs": [],
   "source": [
    "# The manifest will save the download status (i.e. success vs. failed) as well as the file location\n",
    "manifest = Observations.download_products(prod, productType=\"SCIENCE\", mrp_only = True)"
   ]
  },
  {
   "cell_type": "markdown",
   "id": "a42d5d15",
   "metadata": {},
   "source": [
    "Great! Now, you might notice that the files end with either `fd-int.fits.gz` or `nd-int.fits.gz`; due to the way GALEX Observations are handled, we're actually getting both the fd (far UV) and nd (near UV) data. We'll handle this gracefully a few cells from now.\n",
    "\n",
    "In the meantime, let's open the files into a list of fits objects:"
   ]
  },
  {
   "cell_type": "code",
   "execution_count": null,
   "id": "2ed69f8a",
   "metadata": {},
   "outputs": [],
   "source": [
    "hdus = [fits.open(filename) for filename in manifest[\"Local Path\"]]"
   ]
  },
  {
   "cell_type": "markdown",
   "id": "1422e98d-aebb-4265-9bae-aa3df5a4b621",
   "metadata": {},
   "source": [
    "Since that cell doesn't have any output, we should run a test to make sure everything is working.\n",
    "\n",
    "## Plotting a Test Image\n",
    "\n",
    "Let's run our test by getting the data from the first file in the list and plotting it. We won't worry (yet) about plotting the correct coordinates, although we will need to appropriately scale the data based on brightness so it's visible in our plot."
   ]
  },
  {
   "cell_type": "code",
   "execution_count": null,
   "id": "b1996db3-d311-451d-9162-657107be757c",
   "metadata": {},
   "outputs": [],
   "source": [
    "# Create a figure on which to plot our data\n",
    "fig = plt.figure(0,[9,9])\n",
    "ax = fig.add_subplot(111)\n",
    "\n",
    "# Get the primary data from the first fits file\n",
    "test_data = hdus[0][0].data\n",
    "\n",
    "# Automatically scale the brightness based on the data\n",
    "interval = ZScaleInterval(contrast=0.5)\n",
    "lims = interval.get_limits(test_data)\n",
    "\n",
    "# Show our data with the scaling from above\n",
    "ax.imshow(test_data, vmin=lims[0], vmax=lims[1], cmap='BuPu_r')"
   ]
  },
  {
   "cell_type": "markdown",
   "id": "2d370d1b-ecac-4c20-bd06-1e9f022f591b",
   "metadata": {},
   "source": [
    "Excellent. We can aleady see some of the \"wispy\" or cloud-like structure of our target. \n",
    "\n",
    "We should take note of the shape of the data: namely, it is circular. We need to keep this in mind as we construct our mosaic."
   ]
  },
  {
   "cell_type": "markdown",
   "id": "c61273d9-9dd3-4997-a36c-da02f090712c",
   "metadata": {},
   "source": [
    "## Data Downsizing\n",
    "\n",
    "These `.fits` files that we've downloaded are actually quite large. To keep Notebook runtime short, we're going to scale down the resolution of the image. The \"downgrade factor\" is, in effect, making the pixels larger and thus have lower memory/processing requirements. With a default downgrade factor of five, our most complicated cell (coming later) will take about 30 seconds to run. To see the original quality image, you can set `downgrade_factor = 1` (i.e. original quality).\n",
    "\n",
    "At this step, we also need to find an optimal [WCS](https://docs.astropy.org/en/stable/wcs/index.html) that is big enough to display our combined mosaic. In essence, we know how big each image is and where it was taken on the sky; `find_optimal_celestial_wcs` will do the hard work for us and select an appropriate image size and coordinates."
   ]
  },
  {
   "cell_type": "code",
   "execution_count": null,
   "id": "c1ef27aa",
   "metadata": {},
   "outputs": [],
   "source": [
    "# determine the angular resolution of the image\n",
    "res = np.abs(hdus[0][0].header['CDELT1'])\n",
    "\n",
    "# set up a \"downgrade factor\" to decrease the resolution of the final combined mosaic, because these files are BIG\n",
    "downgrade_factor = 5     # = 1 for original quality\n",
    "\n",
    "# use astropy's find_optimal_celestial_wcs to determine the output WCS \n",
    "# for the combined image based on the information in the headers\n",
    "wcs_out, shape_out = find_optimal_celestial_wcs(hdus, resolution=res*downgrade_factor*u.deg)"
   ]
  },
  {
   "cell_type": "markdown",
   "id": "1e699ed4-86aa-4062-98a2-f3ecdd99d625",
   "metadata": {},
   "source": [
    "## Creating a Circular Mask\n",
    "Since the GALEX data is circular, we need to create a mask for the data. What we want is a set of valid values within the $0.6^\\circ$ observation, surrounded by NaNs. \n",
    "\n",
    "Our function below takes `map_in`, keeping only valid values within the circular aperture. All other values are set to NaN; this allows us to compute a meaningful \"average\" value where the observations overlap."
   ]
  },
  {
   "cell_type": "code",
   "execution_count": null,
   "id": "2f32eb37",
   "metadata": {},
   "outputs": [],
   "source": [
    "def galex_mask(map_in, header):\n",
    "    # define the radius of the circle to be 0.6 degrees: use header information to convert this to pixels\n",
    "    dr = np.rint(0.6 / header['CDELT2'])\n",
    "    app = CircularAperture((header['CRPIX1'], header['CRPIX2']), r=dr)\n",
    "    \n",
    "    # convert aperture to mask\n",
    "    amask = app.to_mask(method='center')\n",
    "    # pad the mask\n",
    "    amask = np.pad(np.array(amask.data), 480)\n",
    "    # convert mask to boolean values\n",
    "    amask = np.array(amask, dtype=bool)\n",
    "    \n",
    "    # mask all pixels outside of aperture to \"NaN\"\n",
    "    map_in[~amask] = np.nan\n",
    "    \n",
    "    return map_in"
   ]
  },
  {
   "cell_type": "markdown",
   "id": "2dd5a0f7-9d7d-4579-b3c3-3edea3015f50",
   "metadata": {},
   "source": [
    "We'll use this function in our \"assembly\" below."
   ]
  },
  {
   "cell_type": "markdown",
   "id": "4ce87624-b821-4170-8a77-b18926cdc27f",
   "metadata": {},
   "source": [
    "## Assembling the Mosaic\n",
    "It's time to put all of the pieces together! Let's combine these images, following the steps below:\n",
    "\n",
    "1. Get the data from each HDU.\n",
    "2. Only keep the NUV data.\n",
    "3. Set all data outside the aperture to NaN.\n",
    "4. Reproject the data onto the mosaic WCS to correctly orient all of the images.\n",
    "5. Take the average of the all the maps to gracefully handle any overlapping regions.\n",
    "\n",
    "**Note:** this cell will take roughly 30 seconds to run with a downscaling factor of five. If you changed `downgrade_factor` to something lower than five, it will likely take longer. "
   ]
  },
  {
   "cell_type": "code",
   "execution_count": null,
   "id": "9086f984-9bd8-4245-9d1e-e633b6b8d71b",
   "metadata": {},
   "outputs": [],
   "source": [
    "# Create an empty \"maps\" list to hold our outputs\n",
    "maps = []\n",
    "\n",
    "# Loop through the hdus, getting the data and header from each\n",
    "for hdu in hdus:\n",
    "    fmap = hdu[0].data\n",
    "    fhead = hdu[0].header\n",
    "    \n",
    "    # Only keep the NUV bands. (FUV = 1)\n",
    "    if fhead['band'] == 2:\n",
    "        # for each image, use our function to set all pixels outside of the GALEX footprint to NaN\n",
    "        fmap = galex_mask(fmap, fhead)\n",
    "\n",
    "        # use reproject to reproject each image to the \"combined\" output WCS defined earlier\n",
    "        regmap, foot = reproject_interp((fmap, fhead), wcs_out, shape_out)\n",
    "\n",
    "        # append the reprojected map to a list\n",
    "        maps.append(regmap)\n",
    "        \n",
    "# average all of the reprojected maps together\n",
    "combined = np.nanmean(np.dstack((maps)), 2)"
   ]
  },
  {
   "cell_type": "markdown",
   "id": "0cccf922-54a6-4793-97f7-828ed78469ae",
   "metadata": {},
   "source": [
    "Excellent. Now it's time for the moment of truth."
   ]
  },
  {
   "cell_type": "markdown",
   "id": "6236b421-d697-49db-a812-042d9ce1ac1f",
   "metadata": {},
   "source": [
    "## Plotting the Mosaic\n",
    "Just like with our test image, we'll need to create a figure. In this instance, we want to specify the projection to be our mosaic WCS so that the coordinates are labeled. \n",
    "\n",
    "Otherwise, we proceed as normal."
   ]
  },
  {
   "cell_type": "code",
   "execution_count": null,
   "id": "8e89618a",
   "metadata": {},
   "outputs": [],
   "source": [
    "# Create the figure for the new map\n",
    "fig = plt.figure(0,[9,9])\n",
    "ax = fig.add_subplot(111, projection=wcs_out)\n",
    "\n",
    "# Automatically scale the brightness\n",
    "interval = ZScaleInterval(contrast=0.5)\n",
    "lims = interval.get_limits(combined)\n",
    "\n",
    "# Plot the new map\n",
    "ax.imshow(combined, vmin=lims[0], vmax=lims[1], origin='lower', cmap='BuPu_r')\n",
    "ax.set_xlabel('RA')\n",
    "ax.set_ylabel('Dec')\n",
    "\n",
    "# Un-comment the below to save the figure as a jpg\n",
    "#plt.savefig('mbm15.jpg', dpi=600, bbox_inches='tight')"
   ]
  },
  {
   "cell_type": "markdown",
   "id": "9b717237",
   "metadata": {},
   "source": [
    "Beautiful! Our mosaic is complete. You may notice some artifacts where the data was incomplete; you can also see an arc in the lower left corner where our circular NaN aperture didn't quite match the data. How might you improve upon this?\n",
    "\n",
    "\n",
    "This image corresponds to the \n",
    "[Molecular cloud MBM 15](http://simbad.cds.unistra.fr/simbad/sim-id?Ident=mbm+15&submit=submit+id). This molecular cloud belongs to the Orion-Eridanus superbubble, west of the Orion Nebula. More information about this cloud can be found in [Joubaud et al. (2019)](https://ui.adsabs.harvard.edu/abs/2019A%26A...631A..52J/abstract). "
   ]
  },
  {
   "cell_type": "markdown",
   "id": "8e6c11bf",
   "metadata": {},
   "source": [
    "## Additional Resources\n",
    "\n",
    "For more information about the MAST archive and details about the tutorial: \n",
    "\n",
    "* <a href=\"https://mast.stsci.edu/api/v0/index.html\">MAST API</a> <br>\n",
    "* <a href=\"https://archive.stsci.edu/galex/\">GALEX via MAST</a> <br>\n",
    "\n",
    "## About this Notebook\n",
    "\n",
    "**Authors**: Clara Puerto Sánchez, Claire Murray, Thomas Dutkiewicz <br>\n",
    "**Keywords**: mosaic, dust, GALEX <br>\n",
    "**Last Updated**: May 2023 <br>\n",
    "\n",
    "For support, please contact the Archive HelpDesk at archive@stsci.edu.\n",
    "***\n",
    "[Top of Page](#top)\n",
    "<img style=\"float: right;\" src=\"https://raw.githubusercontent.com/spacetelescope/notebooks/master/assets/stsci_pri_combo_mark_horizonal_white_bkgd.png\" alt=\"Space Telescope Logo\" width=\"200px\"/>"
   ]
  }
 ],
 "metadata": {
  "kernelspec": {
   "display_name": "Python 3 (ipykernel)",
   "language": "python",
   "name": "python3"
  },
  "language_info": {
   "codemirror_mode": {
    "name": "ipython",
    "version": 3
   },
   "file_extension": ".py",
   "mimetype": "text/x-python",
   "name": "python",
   "nbconvert_exporter": "python",
   "pygments_lexer": "ipython3",
   "version": "3.8.16"
  }
 },
 "nbformat": 4,
 "nbformat_minor": 5
}
