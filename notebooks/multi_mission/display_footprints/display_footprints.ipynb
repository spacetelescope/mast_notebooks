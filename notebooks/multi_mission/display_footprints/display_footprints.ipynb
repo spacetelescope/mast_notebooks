{
 "cells": [
  {
   "cell_type": "markdown",
   "metadata": {},
   "source": [
    "# PySIAF Observation Footprint Viewer\n",
    "***\n",
    "\n",
    "## Learning Goals\n",
    "- Know the requirements for generating a telescope footprint\n",
    "- Create a plot of a footprint in the telescope's reference frame\n",
    "- Create a plot of a footprint on the sky\n",
    "\n",
    "## Introduction\n",
    "This Notebook is a replacement for a web-based footprint viewer, and is designed as a \"quick look\" tool. Scientists intending to propose for Observations should use the [Astronomer's Proposal Tool (APT)](https://www.stsci.edu/scientific-community/software/astronomers-proposal-tool-apt).\n",
    "\n",
    "Note that since [PySIAF](https://pysiaf.readthedocs.io/en/latest/) covers only HST, JWST, and Roman, footprints for other telescopes cannot be generated using this Notebook.\n",
    "\n",
    "## Imports\n",
    "- `ipyaladin` plots the footprints on to a survey background\n",
    "- `numpy` is not listed in the import cell, but is necessary to run the `selectSIAF` script\n",
    "- `selectSIAF` is a script that uses `SIAF` to generate the telescope aperture names. Curious readers may wish to explore this file.\n",
    "-  `SIAF` will translate the telescope pointing into corresponding sky footprints\n",
    "-  `time` adds a pause to give Aladin time to load"
   ]
  },
  {
   "cell_type": "code",
   "execution_count": null,
   "metadata": {},
   "outputs": [],
   "source": [
    "from astroquery.mast import Mast\n",
    "from ipyaladin import Aladin\n",
    "from selectSIAF import defineApertures, getVertices, computeStcsFootprint\n",
    "\n",
    "import matplotlib.pyplot as plt\n",
    "import pysiaf\n",
    "import time"
   ]
  },
  {
   "cell_type": "markdown",
   "metadata": {},
   "source": [
    "## Select a Telescope, Instrument, and Aperture\n",
    "In order to display a fooprint, we must first select three criteria:\n",
    "1. Telescope. This must be a telescope with data in [pysiaf](https://pysiaf.readthedocs.io/en/stable/index.html); at present, this is HST, JWST, and Roman.\n",
    "2. Instrument. The instrument used for the observation. The valid acronyms are listed in code comments in the cell below.\n",
    "3. Aperture. For a full list of valid apertures, see the instrument documentation:\n",
    "    - [HST User Documentation Homepage](https://hst-docs.stsci.edu)\n",
    "    - [JWST MIRI Homepage](https://jwst-docs.stsci.edu/jwst-mid-infrared-instrument) (JWST has no instrument homepage; use the site navigation to reach other instrument pages)\n",
    "    - [Roman Instruments Homepage](https://roman-docs.stsci.edu/roman-instruments-home)\n",
    "\n",
    "### Example: Roman WFI\n",
    "In the code cell below, we'll set some variables to hold these three selections. In this example, we're going to plot all 18 apertures from the Roman Space Telescope's Wide Field Instrument.\n",
    "\n",
    "For completeness, examples for HST and JWST are available but commented out."
   ]
  },
  {
   "cell_type": "code",
   "execution_count": null,
   "metadata": {},
   "outputs": [],
   "source": [
    "# define telescope, instrument, and aperture\n",
    "\n",
    "selectedTelescope = 'roman'\n",
    "selectedInstrument = 'WFI'      #Allowed options ALL, WFI, CGI\n",
    "selectedAperture = 'ALL'        #Allowed options ALL or individual apertures listed in instrument documentation\n",
    "\n",
    "# selectedTelescope = 'hst'\n",
    "# selectedInstrument = 'ALL'     #Allowed options ALL, ACS, COS, FGS, NICMOS, STIS, WFC3\n",
    "# selectedAperture = 'ALL'       #Allowed options ALL or individual apertures listed in instrument documentation\n",
    "\n",
    "# selectedTelescope = 'jwst'\n",
    "# selectedInstrument = 'ALL'     #Allowed options ALL, FGS, MIRI, NIRCAM, NIRSPEC, NIRISS\n",
    "# selectedAperture = 'ALL'       #Allowed options ALL or individual apertures listed in instrument documentation"
   ]
  },
  {
   "cell_type": "markdown",
   "metadata": {},
   "source": [
    "## Configure Apertures, Telescope Coordinate System\n",
    "\n",
    "To simplify this Notebook, the `defineApertures` function from `selectSIAF` is essentially a lookup table, translating user-friendly instrument names into the correct corresponding apertures. \n",
    "\n",
    "This same function also generates the correct `V2Ref` and `V3Ref` offset angles. These V2/V3 values answer the question \"what angles are there between this instrument and the line-of-sight of the telescope?\". This is quite useful since, barring a catastrophic event, the instruments do not change their alignment relative to the line-of-sight.\n"
   ]
  },
  {
   "cell_type": "code",
   "execution_count": null,
   "metadata": {},
   "outputs": [],
   "source": [
    "# Set up aperture list and reference coordinates\n",
    "apertureList, V2Ref, V3Ref = defineApertures(selectedTelescope, selectedInstrument, selectedAperture)"
   ]
  },
  {
   "cell_type": "markdown",
   "metadata": {},
   "source": [
    "### Optional: Plot Footprint in Telescope Frame\n",
    "\n",
    "Although not necessary to generate the final image, it is possible to plot the telescope apertures. We'll be plotting in a coordinate system that uses the telescope's pointing direction as (0,0); because of this, we don't need information about the celestial target or roll angle.\n",
    "\n",
    "*Note: labels are useful for Roman WFI, but may be cluttered for other missions. You can toggle them off by setting `label=False` below.*"
   ]
  },
  {
   "cell_type": "code",
   "execution_count": null,
   "metadata": {},
   "outputs": [],
   "source": [
    "# OPTIONAL : set up plot of apertures (only works for QUAD, RECT, PICK aperture shapes)\n",
    "\n",
    "# Set up the figure\n",
    "plt.figure(figsize=(8, 8), facecolor='w', edgecolor='k')\n",
    "plt.gca().invert_xaxis()\n",
    "\n",
    "# iterate through apertures, then plot\n",
    "for aperture in apertureList:\n",
    "    # circles are not properly plotted, skip\n",
    "    if aperture.AperShape!='CIRC':\n",
    "        # set labels=False to remove them\n",
    "        aperture.plot(label=True)\n",
    "\n",
    "# Add guide lines for boresight (V2, V3) = (0, 0)\n",
    "plt.axvline(color='k', linestyle=\":\")\n",
    "plt.axhline(color='k', linestyle=\":\")\n",
    "\n",
    "# Display the plot\n",
    "plt.show() "
   ]
  },
  {
   "cell_type": "markdown",
   "metadata": {},
   "source": [
    "## Specifying a Target\n",
    "\n",
    "For convenience, we can use the `resolve_object` function from the MAST module of `astroquery` to get our coordinates. This isn't necessary if you already know the exact coordinates; however, you should note that the additional formatting steps below are necessary for `PySIAF` and `Aladin` to understand your query."
   ]
  },
  {
   "cell_type": "code",
   "execution_count": null,
   "metadata": {},
   "outputs": [],
   "source": [
    "# Resolve the target name to coordinates\n",
    "coords = Mast.resolve_object(\"M101\")\n",
    "coords"
   ]
  },
  {
   "cell_type": "markdown",
   "metadata": {},
   "source": [
    "Using MAST to resolve our target returns a [skycoord](https://docs.astropy.org/en/stable/coordinates/) object. We need two different formats to satisfy `pysiaf` and `Aladin`. `pysiaf` requires separate ra/dec objects, while `Aladin` is looking for a string containing both.\n",
    "\n",
    "Fortunately, `skycoord` objects are flexible enough to handle both of these requirements with straightforward calls:"
   ]
  },
  {
   "cell_type": "code",
   "execution_count": null,
   "metadata": {},
   "outputs": [],
   "source": [
    "# get the values for SIAF\n",
    "targetRa = coords.ra\n",
    "targetDec = coords.dec\n",
    "\n",
    "coords_str = coords.to_string()\n",
    "\n",
    "# print out these values to check their conversions\n",
    "print(f\"RA:     {targetRa}\\nDEC:    {targetDec}\\nString: {coords_str}\")"
   ]
  },
  {
   "cell_type": "markdown",
   "metadata": {},
   "source": [
    "There's rounding in our RA/Dec as a result of our `to_string()` call. As we'll see later on, we only need this string to point the Aladin viewer at the right section of the sky; a little bit of rounding won't affect our view much."
   ]
  },
  {
   "cell_type": "markdown",
   "metadata": {},
   "source": [
    "## Telescope Position Angle\n",
    "\n",
    "The last variable we need to set before using `pysiaf` is the telescope position angle. From the docstring of the `attitude_matrix` function:\n",
    ">Position angle of V3 axis at nu2,nu3 measured from North to East (default unit is degree)\n",
    "\n",
    "In plain English, this is the telescope roll angle; with the telescope fixed on the target, it rotates around its V1 (line-of-sight) axis. Modifying this value will cause the footprints to \"roll\" around the target."
   ]
  },
  {
   "cell_type": "code",
   "execution_count": null,
   "metadata": {},
   "outputs": [],
   "source": [
    "# can be any value between 0 and 360\n",
    "telescopePositionAngle = 0"
   ]
  },
  {
   "cell_type": "markdown",
   "metadata": {},
   "source": [
    "## Generate The Attitude Matrix\n",
    "\n",
    "At this point, we've generated footprints in the telescope's field of view. Now, we need to translate this into a view on the sky, in RA/Dec coordinates. This is handled by the `attitude_matrix` function, which is doing some matrix multiplication behind the scenes."
   ]
  },
  {
   "cell_type": "code",
   "execution_count": null,
   "metadata": {},
   "outputs": [],
   "source": [
    "# Set telescope pointing matrix: \"attitude matrix\"\n",
    "attmat = pysiaf.utils.rotations.attitude_matrix(V2Ref, V3Ref, targetRa, targetDec, telescopePositionAngle)"
   ]
  },
  {
   "cell_type": "markdown",
   "metadata": {},
   "source": [
    "## Calculate Sky Regions\n",
    "\n",
    "The final step is to convert to the [IVOA Space-Time Coordinate Metadata Linear String Implementation (STS-C)](https://ivoa.net/documents/STC-S/). Do not fear this verbose name; it's a method of standardizing footprints in string formats. The specifics depend on the particular shape used. For the curious, the `computeStcsFootprint` function from `selectSIAF` is what calcuates these strings in this Notebook.\n",
    "\n",
    "Since `Aladin` knows how to parse this format, it will be able to plot it on a sky background of our choice. It is not particularly human readable, but we'll print it out anyway."
   ]
  },
  {
   "cell_type": "code",
   "execution_count": null,
   "metadata": {},
   "outputs": [],
   "source": [
    "# Loop through aperture list  (only works for QUAD, RECT, CIRC aperture shapes)\n",
    "# Transform to sky coordinates, build footprints for passing to Aladin\n",
    "combinedSregion=''\n",
    "for apertureSiaf in apertureList:\n",
    "    apertureSiaf.set_attitude_matrix(attmat)\n",
    "    xVertices, yVertices = getVertices(apertureSiaf)\n",
    "    \n",
    "    # Skip PICK which do not have vertices\n",
    "    if (xVertices is not None and yVertices is not None):\n",
    "        skyRa, skyDec = apertureSiaf.idl_to_sky(xVertices, yVertices)\n",
    "        apertureSregion = computeStcsFootprint(apertureSiaf, skyRa, skyDec)\n",
    "        combinedSregion+=apertureSregion\n",
    "        \n",
    "print('\\n'+combinedSregion)"
   ]
  },
  {
   "cell_type": "markdown",
   "metadata": {},
   "source": [
    "## Initialize Aladin\n",
    "Let's start the Aladin viewer. We're loading a default field of view of 1 degree, with DSS as the background survey. Depending on your screen size, you may need to adjust the `height` (in pixels) to get the best view.\n",
    "\n",
    "**NOTE:** The footprint will not show up right up away!"
   ]
  },
  {
   "cell_type": "code",
   "execution_count": null,
   "metadata": {},
   "outputs": [],
   "source": [
    "aladin = Aladin(height=600,fov=1, survey=\"P/DSS2/color\", target=coords_str)\n",
    "aladin"
   ]
  },
  {
   "cell_type": "markdown",
   "metadata": {},
   "source": [
    "This looks great, but where's our footprint? Well, we can only add an overlay once `Aladin` is already up and running. \n",
    "\n",
    "Let's add the footprint now:"
   ]
  },
  {
   "cell_type": "code",
   "execution_count": null,
   "metadata": {},
   "outputs": [],
   "source": [
    "# Pause for 2 seconds to give Aladin time to load the viewer\n",
    "# Necessary when using \"Run All Cells\", or even just hitting 'shift+enter' fast enough\n",
    "time.sleep(2)\n",
    "\n",
    "# Add the footprint with a hexcode for the color; you can also enter, e.g. \"green\"\n",
    "aladin.add_overlay_from_stcs(combinedSregion, color=\"#70CBFF\")"
   ]
  },
  {
   "cell_type": "markdown",
   "metadata": {},
   "source": [
    "Done! Err... well, almost done. Aladin will only show the footprint when you mouse over the display or make another change to it.\n",
    "\n",
    "Let's change the display size from the command line to force the footprint to appear."
   ]
  },
  {
   "cell_type": "code",
   "execution_count": null,
   "metadata": {},
   "outputs": [],
   "source": [
    "aladin.fov=2"
   ]
  },
  {
   "cell_type": "markdown",
   "metadata": {},
   "source": [
    "Done! The footprint is now visible in the Aladin window."
   ]
  },
  {
   "cell_type": "markdown",
   "metadata": {},
   "source": [
    "## About this Notebook\n",
    "\n",
    "If you have comments or questions on this notebook, please contact us through the Archive Help Desk e-mail at archive@stsci.edu.\n",
    "\n",
    "**Authors:** Brian McLean, Thomas Dutkiewicz <br>\n",
    "**Keywords:** Footprints <br>\n",
    "**Last Updated:** May 2024 <br>\n",
    "\n",
    "***\n",
    "[Top of Page](#top)\n",
    "<img style=\"float: right;\" src=\"https://raw.githubusercontent.com/spacetelescope/notebooks/master/assets/stsci_pri_combo_mark_horizonal_white_bkgd.png\" alt=\"Space Telescope Logo\" width=\"200px\"/> "
   ]
  }
 ],
 "metadata": {
  "kernelspec": {
   "display_name": "Python 3 (ipykernel)",
   "language": "python",
   "name": "python3"
  },
  "language_info": {
   "codemirror_mode": {
    "name": "ipython",
    "version": 3
   },
   "file_extension": ".py",
   "mimetype": "text/x-python",
   "name": "python",
   "nbconvert_exporter": "python",
   "pygments_lexer": "ipython3",
   "version": "3.12.1"
  }
 },
 "nbformat": 4,
 "nbformat_minor": 4
}
