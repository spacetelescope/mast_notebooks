{
 "cells": [
  {
   "cell_type": "markdown",
   "metadata": {},
   "source": [
    "<a id=\"top\"></a>\n",
    "# Resolving Named Objects with Astroquery\n",
    "***\n",
    "## Learning Goals\n",
    "\n",
    "- Understand how `astroquery.mast` resolves named astronomical objects.\n",
    "- Use the `resolve_object` function to resolve named objects.\n",
    "- Compare the results of different resolvers.\n",
    "- Configure the resolver used in `astroquery.mast` queries."
   ]
  },
  {
   "cell_type": "markdown",
   "metadata": {
    "slideshow": {
     "slide_type": "slide"
    }
   },
   "source": [
    "## Table of Contents\n",
    "* [Introduction](#Introduction)\n",
    "* [Resolving an Object](#Resolving-an-Object)\n",
    "    * [Specifying a Resolver](#Specifying-a-Resolver)\n",
    "* [Comparing Results Across Resolvers](#Comparing-Results-Across-Resolvers)\n",
    "* [Configuring the Resolver in Queries](#Configuring-the-Resolver-in-Queries)\n",
    "* [Additional Resources](#Additional-Resources)\n",
    "\n",
    "## Introduction\n",
    "\n",
    "When querying the [Mikulski Archive for Space Telescopes (MAST)](https://archive.stsci.edu/) using [`astroquery.mast`](https://astroquery.readthedocs.io/en/latest/mast/mast.html), it's common to search for data by specifying the name of a well-known astronomical object—such as [“M31”](https://simbad.u-strasbg.fr/simbad/sim-id?Ident=M31) or [“Betelgeuse”](https://simbad.u-strasbg.fr/simbad/sim-id?Ident=Betelgeuse)—rather than providing precise celestial coordinates. For an in-depth discussion of how name resolution works, including potential pitfalls, resolver order, and real-world examples, see the [\"Searching for Named Sources\"](https://outerspace.stsci.edu/display/MASTDOCS/Searching+for+Named+Sources) article in the MAST documentation.\n",
    "\n",
    "These name-based queries are handled by [SANTA, the STScI Archive Name Translation Application](https://mastresolver.stsci.edu/Santa-war/). SANTA resolves object names into celestial coordinates by querying a sequence of resolver services—including [SIMBAD](https://simbad.u-strasbg.fr/simbad/), [NED](https://ned.ipac.caltech.edu/), [TIC](https://tess.mit.edu/science/tess-input-catalogue/), and others—until a match is found or all options are exhausted. Different resolvers may return slightly different positions for the same object due to variations in reference catalogs. These differences can impact which observations are returned from MAST, particularly when searching for angularly large sources using a narrow search radius. More dramatically, different resolvers may return completely different objects for the same name due to differing naming conventions. See the \n",
    "[\"Problem cases\" section of \"Searching for Named Sources\"](https://outerspace.stsci.edu/display/MASTDOCS/Searching+for+Named+Sources#SearchingforNamedSources-Problemcases) for more information.\n",
    "\n",
    "In this notebook, we will explore how to use `astroquery.mast` to resolve named objects and configure the resolver used in our queries."
   ]
  },
  {
   "cell_type": "markdown",
   "metadata": {
    "slideshow": {
     "slide_type": "slide"
    }
   },
   "source": [
    "## Imports\n",
    "\n",
    "This notebook uses the following packages:\n",
    "- *astroquery.mast* to resolve named astronomical objects and query data."
   ]
  },
  {
   "cell_type": "code",
   "execution_count": null,
   "metadata": {
    "slideshow": {
     "slide_type": "fragment"
    }
   },
   "outputs": [],
   "source": [
    "from astroquery import log\n",
    "from astroquery.mast import Observations"
   ]
  },
  {
   "cell_type": "markdown",
   "metadata": {},
   "source": [
    "***"
   ]
  },
  {
   "cell_type": "markdown",
   "metadata": {},
   "source": [
    "## Resolving an Object\n",
    "\n",
    "First, we'll demonstrate how to interact directly with the SANTA service using `astroquery.mast` before showing how to incorporate these settings into MAST queries.\n",
    "\n",
    "When working with data from MAST, it's often helpful to resolve the name of an astronomical object into its celestial coordinates. The [`resolve_object`](https://astroquery.readthedocs.io/en/latest/mast/mast.html#resolving-object-names) function, available in any of the MAST query classes, provides a flexible way to do this. It queries the SANTA service and supports specifying a particular resolver or retrieving results from all available resolvers.\n",
    "\n",
    "Let's resolve an object name using SANTA's default resolver sequence. We'll use the `Observations` class to do this, but you could also use `Catalogs`, `MastMissions`, or any other MAST query class. Below, we will resolve the name [\"NGC 1909\"](https://theskylive.com/sky/deepsky/ngc1909-witch-head-nebula-object), which refers to a [reflection nebula](https://www.nasa.gov/image-article/reflection-nebula/) in the constellation of [Eridanus](https://noirlab.edu/public/education/constellations/eridanus/)."
   ]
  },
  {
   "cell_type": "code",
   "execution_count": null,
   "metadata": {},
   "outputs": [],
   "source": [
    "log.setLevel(\"DEBUG\")\n",
    "Observations.resolve_object(\"NGC 1909\")\n",
    "log.setLevel(\"INFO\")"
   ]
  },
  {
   "cell_type": "markdown",
   "metadata": {},
   "source": [
    "As you can tell from the debug statement, this object was resolved using the SIMBAD resolver. This means that SIMBAD was the first resolver in the sequence to return a result.\n",
    "\n",
    "### Specifying a Resolver\n",
    "\n",
    "If you want to use a specific resolver, you can do so by passing the `resolver` argument to the `resolve_object` function. The available options for `resolver` are `SIMBAD` and `NED` (case-insensitive). At this time, other resolvers such as TIC cannot be specified here. Below, we will resolve \"NGC 1909\" using both the SIMBAD and NED resolvers. The results will be slightly different, as each resolver uses a different reference catalog and naming convention."
   ]
  },
  {
   "cell_type": "code",
   "execution_count": null,
   "metadata": {},
   "outputs": [],
   "source": [
    "simbad_coord = Observations.resolve_object(\"NGC 1909\", resolver=\"simbad\")\n",
    "ned_coord = Observations.resolve_object(\"NGC 1909\", resolver=\"ned\")\n",
    "\n",
    "print(\"SIMBAD Coordinates: \", simbad_coord)\n",
    "print(\"NED Coordinates: \", ned_coord)\n",
    "\n",
    "# Print the separation between the two coordinates\n",
    "print(f\"Separation: {simbad_coord.separation(ned_coord).arcmin} arcmin\")"
   ]
  },
  {
   "cell_type": "markdown",
   "metadata": {},
   "source": [
    "The separation between the two resolved positions is over 55 arcminutes, which is significant enough to affect the results of a query. For example, if you were to search for observations within a 10 arcminute radius of the resolved position, you would get different results depending on which resolver you used."
   ]
  },
  {
   "cell_type": "markdown",
   "metadata": {},
   "source": [
    "## Comparing Results Across Resolvers\n",
    "\n",
    "To compare the results across all available resolvers in SANTA, we can set the `resolve_all` parameter to `True`. This will return dictionary where the keys are the names of the resolvers and the values are the resolved positions. This is useful for understanding how different resolvers interpret the same object name and can help you choose the best resolver for your needs.\n",
    "\n",
    "Let's query all resolvers for the object \"mu eri\". This is a known [imprecise source name](https://outerspace.stsci.edu/display/MASTDOCS/Searching+for+Named+Sources#SearchingforNamedSources-Problemcases), meaning that the identifier refers to a different astrophysical source based on the resolver used. You'll notice that the coordinates returned by the SIMBAD and NED resolvers are quite different."
   ]
  },
  {
   "cell_type": "code",
   "execution_count": null,
   "metadata": {},
   "outputs": [],
   "source": [
    "coords = Observations.resolve_object('mu eri', resolve_all=True)\n",
    "coords"
   ]
  },
  {
   "cell_type": "code",
   "execution_count": null,
   "metadata": {},
   "outputs": [],
   "source": [
    "# Print the separation between the coordinates returned by SIMBAD and NED\n",
    "print(f\"Separation: {coords['SIMBAD'].separation(coords['NED']).arcmin} arcmin\")"
   ]
  },
  {
   "cell_type": "markdown",
   "metadata": {},
   "source": [
    "For some variety, let's also resolve an object from the TESS Input Catalog (TIC)."
   ]
  },
  {
   "cell_type": "code",
   "execution_count": null,
   "metadata": {},
   "outputs": [],
   "source": [
    "Observations.resolve_object(\"TIC 141914082\", resolve_all=True)"
   ]
  },
  {
   "cell_type": "markdown",
   "metadata": {},
   "source": [
    "## Configuring the Resolver in Queries\n",
    "\n",
    "Because the resolver used in a query can affect the results returned, it's important to be able to configure the resolver used in your queries. Query methods that accept a `resolver` argument will use the specified resolver when resolving object names. If you don't specify a resolver, the default resolver sequence will be used.\n",
    "\n",
    "Let's see this in action. We'll query the MAST Archive for observations of \"NGC 1909\" using the Simbad resolver, and then we'll do the same using the NED resolver. The results should be different, as we expect the two resolvers to return different positions for the same object name. We'll set our search radius to 2 arcminutes."
   ]
  },
  {
   "cell_type": "code",
   "execution_count": null,
   "metadata": {},
   "outputs": [],
   "source": [
    "# Query NGC 5658 with SIMBAD\n",
    "simbad_obs = Observations.query_object(\"NGC 1909\", radius=\"2 arcmin\", resolver=\"simbad\")\n",
    "print(\"Number of results from SIMBAD: \", len(simbad_obs))\n",
    "\n",
    "# Query NGC 5658 with NED\n",
    "ned_obs = Observations.query_object(\"NGC 1909\", radius=\"2 arcmin\", resolver=\"ned\")\n",
    "print(\"Number of results from NED: \", len(ned_obs))\n",
    "\n",
    "# Many results correspond to individual dithers within a single Spitzer observation.\n",
    "# We can count the number of unique observations by creating a set of the observation IDs.\n",
    "obs_ids_simbad = set(simbad_obs['obs_id'])\n",
    "obs_ids_ned = set(ned_obs['obs_id'])\n",
    "print(\"Number of unique observations from SIMBAD: \", len(obs_ids_simbad))\n",
    "print(\"Number of unique observations from NED: \", len(obs_ids_ned))\n",
    "\n",
    "# Get the difference between the two sets of observation IDs\n",
    "disjoint_obs_ids = obs_ids_simbad - obs_ids_ned\n",
    "print(f\"Number of unique observations in SIMBAD not in NED: {len(disjoint_obs_ids)}\")"
   ]
  },
  {
   "cell_type": "markdown",
   "metadata": {},
   "source": [
    "The coordinates resolved by NED return many more observations than those resolved by SIMBAD. There are also some observations that are returned by SIMBAD and not by NED, and vice versa. When searching MAST, specifying a resolver can help to make queries more consistent and reproducible. By explicitly choosing a resolver, you can avoid any surprises that might arise from changes in the default resolver sequence or differences in the results returned by different resolvers.\n",
    "\n",
    "The following MAST query methods accept a `resolver` argument:\n",
    "- `Observations.query_object`\n",
    "- `Observations.query_object_count`\n",
    "- `Observations.query_criteria`\n",
    "- `Observations.query_criteria_count`\n",
    "- `Catalogs.query_object`\n",
    "- `Catalogs.query_criteria`\n",
    "- `MastMissions.query_object`\n",
    "- `MastMissions.query_criteria`\n",
    "- `Tesscut.get_sectors`\n",
    "- `Tesscut.download_cutouts`\n",
    "- `Tesscut.get_cutouts`"
   ]
  },
  {
   "cell_type": "markdown",
   "metadata": {},
   "source": [
    "## Additional Resources\n",
    "\n",
    "- [Astroquery.mast Documentation](https://astroquery.readthedocs.io/en/latest/mast/mast.html)\n",
    "- [SANTA Documentation](https://mastresolver.stsci.edu/Santa-war/)"
   ]
  },
  {
   "cell_type": "markdown",
   "metadata": {},
   "source": [
    "## Citations\n",
    "\n",
    "If you use `astroquery` for published research, please cite the\n",
    "authors. Follow these links for more information about citing `astroquery`:\n",
    "\n",
    "* [Citing Astroquery](https://github.com/astropy/astroquery/blob/main/astroquery/CITATION)"
   ]
  },
  {
   "cell_type": "markdown",
   "metadata": {
    "slideshow": {
     "slide_type": "slide"
    }
   },
   "source": [
    "## About this Notebook\n",
    "\n",
    "**Author(s):** Sam Bianco (sbianco@stsci.edu) <br>\n",
    "**Keyword(s):** Astroquery, resolver, SANTA <br>\n",
    "**First published:** May 2025 <br>\n",
    "**Last updated:** May 2025 <br>\n",
    "\n",
    "***\n",
    "[Top of Page](#top)\n",
    "<img style=\"float: right;\" src=\"https://raw.githubusercontent.com/spacetelescope/style-guides/master/guides/images/stsci-logo.png\" alt=\"Space Telescope Logo\" width=\"200px\"/> "
   ]
  }
 ],
 "metadata": {
  "kernelspec": {
   "display_name": "Python 3 (ipykernel)",
   "language": "python",
   "name": "python3"
  },
  "language_info": {
   "codemirror_mode": {
    "name": "ipython",
    "version": 3
   },
   "file_extension": ".py",
   "mimetype": "text/x-python",
   "name": "python",
   "nbconvert_exporter": "python",
   "pygments_lexer": "ipython3",
   "version": "3.12.2"
  }
 },
 "nbformat": 4,
 "nbformat_minor": 4
}
