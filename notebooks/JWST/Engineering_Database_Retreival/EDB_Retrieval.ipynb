{
 "cells": [
  {
   "cell_type": "markdown",
   "metadata": {},
   "source": [
    "# JWST Engineering Data Retrieval\n",
    "\n",
    "This tutorial will show you how to retrieve JWST engineeering data and use it in the context of a Python session. The [Engineering Data](https://outerspace.stsci.edu/display/MASTDOCS/Engineering+Data) chapter of the [JWST Archive Manual](https://outerspace.stsci.edu/display/MASTDOCS/JWST+Archive+Manual) describes how data from thousands of engineering telemetry points on JWST are stored in the Engineering Database in the form of timeseries. These data may be searched by means of an identifier, or **mnenomic**. \n",
    "\n",
    "Some quantities of interest require more than one mnemonic (a *tuple*) for meaningful analysis. This tutorial illustrates how to retrieve a tuple of mnenomics and visualize the result. In the following example, timeseries will be retrieved for mnemonics: `SA_ZADUCMDX` and `SA_ZADUCMDY` which are the *x-* and *y-* angles on the sky of the JWST [Fine Steering Mirror](https://jwst-docs.stsci.edu/jwst-observatory-hardware/jwst-telescope) (FSM). For more details on constructing a mnemonic, see the [Engineering Data](https://outerspace.stsci.edu/display/MASTDOCS/Engineering+Data) page.\n",
    "\n",
    "Note that this folder includes a companion script; after completing the tutorial, this offers a compact, customizable way to download the data.\n",
    "\n",
    "The workflow consists of: \n",
    "* [Setup](#Setup)\n",
    "* [Downloading Data](#Downloading-Data)\n",
    "    * [Define the attributes for the mnemonics of interest](#Define-Mnemonic-Parameters) \n",
    "    * [Construct the filenames to contain the mnemonic timeseries](#Construct-File-Names)\n",
    "    * [Call the web service to fetch the data and return files containing the timeseries](#Call-the-Webservice)\n",
    "    * [Prepare the data for analysis](#Prepare-the-Data-for-Analysis)\n",
    "* [Visualize the data](#Visualize-the-Data-Tuple)\n",
    "    * [Split the data into mini-series at time boundaries](#Identify-Subseries-in-the-Data)\n",
    "    * [Plot the timeseries](#Plot-the-Segmented-Timeseries)\n",
    "* [Additional resources](#Additional-Resources)"
   ]
  },
  {
   "cell_type": "markdown",
   "metadata": {},
   "source": [
    "# Setup\n",
    "\n",
    "Begin by importing the relevant Python libraries to retrieve data. \n",
    "\n",
    "* `os` for handling file separators, i.e. \"/\" on Unix-like machines and \"\\\\\" on Windows\n",
    "* `urllib` to complete the web request\n",
    "* `pathlib` to create a directory for the downloaded files\n",
    "* `pandas` for convenient data manipulation"
   ]
  },
  {
   "cell_type": "code",
   "execution_count": 1,
   "metadata": {
    "execution": {
     "iopub.execute_input": "2025-09-11T15:14:35.867117Z",
     "iopub.status.busy": "2025-09-11T15:14:35.866976Z",
     "iopub.status.idle": "2025-09-11T15:14:36.082003Z",
     "shell.execute_reply": "2025-09-11T15:14:36.081552Z"
    }
   },
   "outputs": [],
   "source": [
    "import os\n",
    "import urllib.error\n",
    "import urllib.request\n",
    "from pathlib import Path\n",
    "import pandas as pd"
   ]
  },
  {
   "cell_type": "markdown",
   "metadata": {},
   "source": [
    "Below is a function to connect to the EDB web service and retrieve the data files. It will be used later in this tutorial. "
   ]
  },
  {
   "cell_type": "code",
   "execution_count": 2,
   "metadata": {
    "execution": {
     "iopub.execute_input": "2025-09-11T15:14:36.083955Z",
     "iopub.status.busy": "2025-09-11T15:14:36.083764Z",
     "iopub.status.idle": "2025-09-11T15:14:36.087964Z",
     "shell.execute_reply": "2025-09-11T15:14:36.087560Z"
    }
   },
   "outputs": [],
   "source": [
    "def download_edb_datafiles(filenames, folder, prefix=''):\n",
    "    '''\n",
    "    Download filenames to directory\n",
    "    \n",
    "    Parameters\n",
    "    ----------\n",
    "    filenames : iterable\n",
    "        List of string-valued file names to contain the desired mnemonic timeseries\n",
    "    folder: str\n",
    "        Directory (relative to cwd) in which to write output files\n",
    "    prefix: str\n",
    "        Prefix in MAST server URL (blank except for developer testing)\n",
    "        \n",
    "    Returns\n",
    "    -------\n",
    "    int\n",
    "       Success status for each mnemonic retrieval\n",
    "    '''\n",
    "            \n",
    "    Path(folder).mkdir(exist_ok=True)\n",
    "    \n",
    "    urlStr = \"https://mast.stsci.edu{}/api/v0.1/Download/file?uri=mast:jwstedb/{}\"\n",
    "    status = 0\n",
    "    for fname in filenames:\n",
    "        print(\n",
    "            f\"Downloading File: mast:jwstedb/{fname}\\n\",\n",
    "            f\" To: {folder}/{fname}\",\n",
    "        )\n",
    "        url = urlStr.format(prefix, fname)\n",
    "        try:\n",
    "            urllib.request.urlretrieve(url, filename=f\"{folder}/{fname}\")\n",
    "        except urllib.error.HTTPError:\n",
    "            print(\"  ***Error downloading file***\")\n",
    "            status = 1\n",
    "    \n",
    "    return status"
   ]
  },
  {
   "cell_type": "markdown",
   "metadata": {},
   "source": [
    "# Downloading Data\n",
    "To download data, you'll need to format the request correctly. That requires defining nmemonics, naming files to match, and then calling the webservice to begin the download.\n",
    "\n",
    "## Define Mnemonic Parameters\n",
    "\n",
    "Next, define the parameters of each mnemonic of interest. The parameters are:\n",
    "* The mnenomic name\n",
    "* Start time\n",
    "* End time\n",
    "\n",
    "The start and end times are in UTC and have a \"compact\" ISO-8601 formatting: `yyyymmddThhmmss`, where the **T** is a literal character. The definitions can be stored in multiple ways: here they will be stored in a Python dictionary, which could be stored in an external `.yaml` file. In the companion script they are stored in an external `.csv` file."
   ]
  },
  {
   "cell_type": "markdown",
   "metadata": {},
   "source": [
    "Since the mnemonics of interest are a tuple, the start/end times are the same: from 00:00 to 06:00 on 2022 July 01. Define these times first, followed by the full parameter dictionary."
   ]
  },
  {
   "cell_type": "code",
   "execution_count": 3,
   "metadata": {
    "execution": {
     "iopub.execute_input": "2025-09-11T15:14:36.089414Z",
     "iopub.status.busy": "2025-09-11T15:14:36.089270Z",
     "iopub.status.idle": "2025-09-11T15:14:36.092153Z",
     "shell.execute_reply": "2025-09-11T15:14:36.091742Z"
    }
   },
   "outputs": [
    {
     "name": "stdout",
     "output_type": "stream",
     "text": [
      "SA_ZADUCMDX {'t_start': '20220701T000000', 't_end': '20220701T030000'}\n",
      "SA_ZADUCMDY {'t_start': '20220701T000000', 't_end': '20220701T030000'}\n"
     ]
    }
   ],
   "source": [
    "times = { \n",
    "         't_start': '20220701T000000',\n",
    "         't_end':   '20220701T030000'\n",
    "        }\n",
    "mnemonics = {\n",
    "            'SA_ZADUCMDX': times,\n",
    "            'SA_ZADUCMDY': times\n",
    "           }\n",
    "for m, v in mnemonics.items():\n",
    "    print(m, v)"
   ]
  },
  {
   "cell_type": "markdown",
   "metadata": {},
   "source": [
    "## Construct File Names\n",
    "\n",
    "The key to fetching data from the web service is to construct file names to contain the data for each mnemonic. The web service will parse the file names to determine how to query the engineering database and retrieve the timeseries of interest.\n",
    "\n",
    "The file names have the form: \n",
    "\n",
    "    `<mnemonic_name>-<t_start>-<t_end>.csv`\n",
    "    \n",
    "Use a dictionary comprehension to construct a list of file names; these will be passed to the webservice calling function."
   ]
  },
  {
   "cell_type": "code",
   "execution_count": 4,
   "metadata": {
    "execution": {
     "iopub.execute_input": "2025-09-11T15:14:36.119012Z",
     "iopub.status.busy": "2025-09-11T15:14:36.118852Z",
     "iopub.status.idle": "2025-09-11T15:14:36.121834Z",
     "shell.execute_reply": "2025-09-11T15:14:36.121324Z"
    }
   },
   "outputs": [
    {
     "name": "stdout",
     "output_type": "stream",
     "text": [
      "['SA_ZADUCMDX-20220701T000000-20220701T030000.csv', 'SA_ZADUCMDY-20220701T000000-20220701T030000.csv']\n"
     ]
    }
   ],
   "source": [
    "fnames = ['-'.join([m, v['t_start'], v['t_end']]) + '.csv' for m, v in mnemonics.items()]\n",
    "print(fnames)"
   ]
  },
  {
   "cell_type": "markdown",
   "metadata": {},
   "source": [
    "## Call the Webservice"
   ]
  },
  {
   "cell_type": "markdown",
   "metadata": {},
   "source": [
    "Set the (optional) output folder name prior to the webservice call. "
   ]
  },
  {
   "cell_type": "code",
   "execution_count": 5,
   "metadata": {
    "execution": {
     "iopub.execute_input": "2025-09-11T15:14:36.123278Z",
     "iopub.status.busy": "2025-09-11T15:14:36.123130Z",
     "iopub.status.idle": "2025-09-11T15:14:36.125354Z",
     "shell.execute_reply": "2025-09-11T15:14:36.124867Z"
    }
   },
   "outputs": [],
   "source": [
    "# Sub-directory where the data files will be written:\n",
    "subdir = 'edb-data'"
   ]
  },
  {
   "cell_type": "markdown",
   "metadata": {},
   "source": [
    "Now call the EDB web service. The files containing data will be written to your local storage, in the specified subdirectory. \n",
    "\n",
    "<div class=\"alert alert-block alert-info\">\n",
    "\n",
    "<span style=\"color:black\">\n",
    "    The webservice may take a long time (or timeout), depending upon the quantity of data in the timeseries within the chosen date range. The three-hour time interval in this example returns over 40,000 rows.  \n",
    "    \n",
    "</span>\n",
    "</div>"
   ]
  },
  {
   "cell_type": "code",
   "execution_count": 6,
   "metadata": {
    "execution": {
     "iopub.execute_input": "2025-09-11T15:14:36.126718Z",
     "iopub.status.busy": "2025-09-11T15:14:36.126550Z",
     "iopub.status.idle": "2025-09-11T15:14:37.780858Z",
     "shell.execute_reply": "2025-09-11T15:14:37.780295Z"
    }
   },
   "outputs": [
    {
     "name": "stdout",
     "output_type": "stream",
     "text": [
      "Downloading File: mast:jwstedb/SA_ZADUCMDX-20220701T000000-20220701T030000.csv\n",
      "  To: edb-data/SA_ZADUCMDX-20220701T000000-20220701T030000.csv\n"
     ]
    },
    {
     "name": "stdout",
     "output_type": "stream",
     "text": [
      "Downloading File: mast:jwstedb/SA_ZADUCMDY-20220701T000000-20220701T030000.csv\n",
      "  To: edb-data/SA_ZADUCMDY-20220701T000000-20220701T030000.csv\n"
     ]
    }
   ],
   "source": [
    "status = download_edb_datafiles(fnames, folder=subdir)"
   ]
  },
  {
   "cell_type": "markdown",
   "metadata": {},
   "source": [
    "## Prepare the Data for Analysis\n",
    "\n",
    "Create a list of Pandas dataframes from the mnemonics data that were just written to disk. "
   ]
  },
  {
   "cell_type": "code",
   "execution_count": 7,
   "metadata": {
    "execution": {
     "iopub.execute_input": "2025-09-11T15:14:37.782628Z",
     "iopub.status.busy": "2025-09-11T15:14:37.782453Z",
     "iopub.status.idle": "2025-09-11T15:14:37.848869Z",
     "shell.execute_reply": "2025-09-11T15:14:37.848291Z"
    }
   },
   "outputs": [],
   "source": [
    "df = [pd.read_csv(subdir+os.path.sep+f) for f in fnames]"
   ]
  },
  {
   "cell_type": "markdown",
   "metadata": {},
   "source": [
    "Make sure the sizes of the dataframes are equal, and take a look at the first dataframe."
   ]
  },
  {
   "cell_type": "code",
   "execution_count": 8,
   "metadata": {
    "execution": {
     "iopub.execute_input": "2025-09-11T15:14:37.850721Z",
     "iopub.status.busy": "2025-09-11T15:14:37.850535Z",
     "iopub.status.idle": "2025-09-11T15:14:37.860433Z",
     "shell.execute_reply": "2025-09-11T15:14:37.859932Z"
    }
   },
   "outputs": [
    {
     "name": "stdout",
     "output_type": "stream",
     "text": [
      "Dataframes have the same size? True\n"
     ]
    },
    {
     "data": {
      "text/html": [
       "<div>\n",
       "<style scoped>\n",
       "    .dataframe tbody tr th:only-of-type {\n",
       "        vertical-align: middle;\n",
       "    }\n",
       "\n",
       "    .dataframe tbody tr th {\n",
       "        vertical-align: top;\n",
       "    }\n",
       "\n",
       "    .dataframe thead th {\n",
       "        text-align: right;\n",
       "    }\n",
       "</style>\n",
       "<table border=\"1\" class=\"dataframe\">\n",
       "  <thead>\n",
       "    <tr style=\"text-align: right;\">\n",
       "      <th></th>\n",
       "      <th>theTime</th>\n",
       "      <th>MJD</th>\n",
       "      <th>euvalue</th>\n",
       "      <th>sqldataType</th>\n",
       "    </tr>\n",
       "  </thead>\n",
       "  <tbody>\n",
       "    <tr>\n",
       "      <th>0</th>\n",
       "      <td>2022-06-30 23:59:59.839000</td>\n",
       "      <td>59760.999998</td>\n",
       "      <td>0.151660</td>\n",
       "      <td>float</td>\n",
       "    </tr>\n",
       "    <tr>\n",
       "      <th>1</th>\n",
       "      <td>2022-07-01 00:00:00.095000</td>\n",
       "      <td>59761.000001</td>\n",
       "      <td>0.150761</td>\n",
       "      <td>float</td>\n",
       "    </tr>\n",
       "    <tr>\n",
       "      <th>2</th>\n",
       "      <td>2022-07-01 00:00:00.351000</td>\n",
       "      <td>59761.000004</td>\n",
       "      <td>0.150312</td>\n",
       "      <td>float</td>\n",
       "    </tr>\n",
       "    <tr>\n",
       "      <th>3</th>\n",
       "      <td>2022-07-01 00:00:00.607000</td>\n",
       "      <td>59761.000007</td>\n",
       "      <td>0.149759</td>\n",
       "      <td>float</td>\n",
       "    </tr>\n",
       "    <tr>\n",
       "      <th>4</th>\n",
       "      <td>2022-07-01 00:00:00.863000</td>\n",
       "      <td>59761.000010</td>\n",
       "      <td>0.148798</td>\n",
       "      <td>float</td>\n",
       "    </tr>\n",
       "    <tr>\n",
       "      <th>...</th>\n",
       "      <td>...</td>\n",
       "      <td>...</td>\n",
       "      <td>...</td>\n",
       "      <td>...</td>\n",
       "    </tr>\n",
       "    <tr>\n",
       "      <th>42185</th>\n",
       "      <td>2022-07-01 02:59:59.189000</td>\n",
       "      <td>59761.124991</td>\n",
       "      <td>0.140328</td>\n",
       "      <td>float</td>\n",
       "    </tr>\n",
       "    <tr>\n",
       "      <th>42186</th>\n",
       "      <td>2022-07-01 02:59:59.445000</td>\n",
       "      <td>59761.124994</td>\n",
       "      <td>0.139679</td>\n",
       "      <td>float</td>\n",
       "    </tr>\n",
       "    <tr>\n",
       "      <th>42187</th>\n",
       "      <td>2022-07-01 02:59:59.701000</td>\n",
       "      <td>59761.124997</td>\n",
       "      <td>0.139530</td>\n",
       "      <td>float</td>\n",
       "    </tr>\n",
       "    <tr>\n",
       "      <th>42188</th>\n",
       "      <td>2022-07-01 02:59:59.957000</td>\n",
       "      <td>59761.125000</td>\n",
       "      <td>0.138832</td>\n",
       "      <td>float</td>\n",
       "    </tr>\n",
       "    <tr>\n",
       "      <th>42189</th>\n",
       "      <td>2022-07-01 03:00:00.213000</td>\n",
       "      <td>59761.125002</td>\n",
       "      <td>0.138384</td>\n",
       "      <td>float</td>\n",
       "    </tr>\n",
       "  </tbody>\n",
       "</table>\n",
       "<p>42190 rows × 4 columns</p>\n",
       "</div>"
      ],
      "text/plain": [
       "                          theTime           MJD   euvalue sqldataType\n",
       "0      2022-06-30 23:59:59.839000  59760.999998  0.151660       float\n",
       "1      2022-07-01 00:00:00.095000  59761.000001  0.150761       float\n",
       "2      2022-07-01 00:00:00.351000  59761.000004  0.150312       float\n",
       "3      2022-07-01 00:00:00.607000  59761.000007  0.149759       float\n",
       "4      2022-07-01 00:00:00.863000  59761.000010  0.148798       float\n",
       "...                           ...           ...       ...         ...\n",
       "42185  2022-07-01 02:59:59.189000  59761.124991  0.140328       float\n",
       "42186  2022-07-01 02:59:59.445000  59761.124994  0.139679       float\n",
       "42187  2022-07-01 02:59:59.701000  59761.124997  0.139530       float\n",
       "42188  2022-07-01 02:59:59.957000  59761.125000  0.138832       float\n",
       "42189  2022-07-01 03:00:00.213000  59761.125002  0.138384       float\n",
       "\n",
       "[42190 rows x 4 columns]"
      ]
     },
     "execution_count": 8,
     "metadata": {},
     "output_type": "execute_result"
    }
   ],
   "source": [
    "print('Dataframes have the same size? {}'.format(len(df[0]) == len(df[1])))\n",
    "df[0]"
   ]
  },
  {
   "cell_type": "markdown",
   "metadata": {},
   "source": [
    "# Visualize the Data Tuple\n",
    "\n",
    "Create an x-y plot for analysis. This is easy to do by plotting the Pandas dataframes. It is more interesting to add color to indicate successive moves of the FSM. Begin by loading a numeric and some Bokeh plotting libraries. "
   ]
  },
  {
   "cell_type": "code",
   "execution_count": 9,
   "metadata": {
    "execution": {
     "iopub.execute_input": "2025-09-11T15:14:37.861892Z",
     "iopub.status.busy": "2025-09-11T15:14:37.861754Z",
     "iopub.status.idle": "2025-09-11T15:14:38.209488Z",
     "shell.execute_reply": "2025-09-11T15:14:38.209035Z"
    }
   },
   "outputs": [
    {
     "data": {
      "text/html": [
       "    <style>\n",
       "        .bk-notebook-logo {\n",
       "            display: block;\n",
       "            width: 20px;\n",
       "            height: 20px;\n",
       "            background-image: url(data:image/png;base64,iVBORw0KGgoAAAANSUhEUgAAABQAAAAUCAYAAACNiR0NAAAABHNCSVQICAgIfAhkiAAAAAlwSFlzAAALEgAACxIB0t1+/AAAABx0RVh0U29mdHdhcmUAQWRvYmUgRmlyZXdvcmtzIENTNui8sowAAAOkSURBVDiNjZRtaJVlGMd/1/08zzln5zjP1LWcU9N0NkN8m2CYjpgQYQXqSs0I84OLIC0hkEKoPtiH3gmKoiJDU7QpLgoLjLIQCpEsNJ1vqUOdO7ppbuec5+V+rj4ctwzd8IIbbi6u+8f1539dt3A78eXC7QizUF7gyV1fD1Yqg4JWz84yffhm0qkFqBogB9rM8tZdtwVsPUhWhGcFJngGeWrPzHm5oaMmkfEg1usvLFyc8jLRqDOMru7AyC8saQr7GG7f5fvDeH7Ej8CM66nIF+8yngt6HWaKh7k49Soy9nXurCi1o3qUbS3zWfrYeQDTB/Qj6kX6Ybhw4B+bOYoLKCC9H3Nu/leUTZ1JdRWkkn2ldcCamzrcf47KKXdAJllSlxAOkRgyHsGC/zRday5Qld9DyoM4/q/rUoy/CXh3jzOu3bHUVZeU+DEn8FInkPBFlu3+nW3Nw0mk6vCDiWg8CeJaxEwuHS3+z5RgY+YBR6V1Z1nxSOfoaPa4LASWxxdNp+VWTk7+4vzaou8v8PN+xo+KY2xsw6une2frhw05CTYOmQvsEhjhWjn0bmXPjpE1+kplmmkP3suftwTubK9Vq22qKmrBhpY4jvd5afdRA3wGjFAgcnTK2s4hY0/GPNIb0nErGMCRxWOOX64Z8RAC4oCXdklmEvcL8o0BfkNK4lUg9HTl+oPlQxdNo3Mg4Nv175e/1LDGzZen30MEjRUtmXSfiTVu1kK8W4txyV6BMKlbgk3lMwYCiusNy9fVfvvwMxv8Ynl6vxoByANLTWplvuj/nF9m2+PDtt1eiHPBr1oIfhCChQMBw6Aw0UulqTKZdfVvfG7VcfIqLG9bcldL/+pdWTLxLUy8Qq38heUIjh4XlzZxzQm19lLFlr8vdQ97rjZVOLf8nclzckbcD4wxXMidpX30sFd37Fv/GtwwhzhxGVAprjbg0gCAEeIgwCZyTV2Z1REEW8O4py0wsjeloKoMr6iCY6dP92H6Vw/oTyICIthibxjm/DfN9lVz8IqtqKYLUXfoKVMVQVVJOElGjrnnUt9T9wbgp8AyYKaGlqingHZU/uG2NTZSVqwHQTWkx9hxjkpWDaCg6Ckj5qebgBVbT3V3NNXMSiWSDdGV3hrtzla7J+duwPOToIg42ChPQOQjspnSlp1V+Gjdged7+8UN5CRAV7a5EdFNwCjEaBR27b3W890TE7g24NAP/mMDXRWrGoFPQI9ls/MWO2dWFAar/xcOIImbbpA3zgAAAABJRU5ErkJggg==);\n",
       "        }\n",
       "    </style>\n",
       "    <div>\n",
       "        <a href=\"https://bokeh.org\" target=\"_blank\" class=\"bk-notebook-logo\"></a>\n",
       "        <span id=\"c8a87d7b-12ac-46c1-a3c4-533fc1f3edb9\">Loading BokehJS ...</span>\n",
       "    </div>\n"
      ]
     },
     "metadata": {},
     "output_type": "display_data"
    },
    {
     "data": {
      "application/javascript": [
       "'use strict';\n",
       "(function(root) {\n",
       "  function now() {\n",
       "    return new Date();\n",
       "  }\n",
       "\n",
       "  const force = true;\n",
       "\n",
       "  if (typeof root._bokeh_onload_callbacks === \"undefined\" || force === true) {\n",
       "    root._bokeh_onload_callbacks = [];\n",
       "    root._bokeh_is_loading = undefined;\n",
       "  }\n",
       "\n",
       "const JS_MIME_TYPE = 'application/javascript';\n",
       "  const HTML_MIME_TYPE = 'text/html';\n",
       "  const EXEC_MIME_TYPE = 'application/vnd.bokehjs_exec.v0+json';\n",
       "  const CLASS_NAME = 'output_bokeh rendered_html';\n",
       "\n",
       "  /**\n",
       "   * Render data to the DOM node\n",
       "   */\n",
       "  function render(props, node) {\n",
       "    const script = document.createElement(\"script\");\n",
       "    node.appendChild(script);\n",
       "  }\n",
       "\n",
       "  /**\n",
       "   * Handle when an output is cleared or removed\n",
       "   */\n",
       "  function handleClearOutput(event, handle) {\n",
       "    function drop(id) {\n",
       "      const view = Bokeh.index.get_by_id(id)\n",
       "      if (view != null) {\n",
       "        view.model.document.clear()\n",
       "        Bokeh.index.delete(view)\n",
       "      }\n",
       "    }\n",
       "\n",
       "    const cell = handle.cell;\n",
       "\n",
       "    const id = cell.output_area._bokeh_element_id;\n",
       "    const server_id = cell.output_area._bokeh_server_id;\n",
       "\n",
       "    // Clean up Bokeh references\n",
       "    if (id != null) {\n",
       "      drop(id)\n",
       "    }\n",
       "\n",
       "    if (server_id !== undefined) {\n",
       "      // Clean up Bokeh references\n",
       "      const cmd_clean = \"from bokeh.io.state import curstate; print(curstate().uuid_to_server['\" + server_id + \"'].get_sessions()[0].document.roots[0]._id)\";\n",
       "      cell.notebook.kernel.execute(cmd_clean, {\n",
       "        iopub: {\n",
       "          output: function(msg) {\n",
       "            const id = msg.content.text.trim()\n",
       "            drop(id)\n",
       "          }\n",
       "        }\n",
       "      });\n",
       "      // Destroy server and session\n",
       "      const cmd_destroy = \"import bokeh.io.notebook as ion; ion.destroy_server('\" + server_id + \"')\";\n",
       "      cell.notebook.kernel.execute(cmd_destroy);\n",
       "    }\n",
       "  }\n",
       "\n",
       "  /**\n",
       "   * Handle when a new output is added\n",
       "   */\n",
       "  function handleAddOutput(event, handle) {\n",
       "    const output_area = handle.output_area;\n",
       "    const output = handle.output;\n",
       "\n",
       "    // limit handleAddOutput to display_data with EXEC_MIME_TYPE content only\n",
       "    if ((output.output_type != \"display_data\") || (!Object.prototype.hasOwnProperty.call(output.data, EXEC_MIME_TYPE))) {\n",
       "      return\n",
       "    }\n",
       "\n",
       "    const toinsert = output_area.element.find(\".\" + CLASS_NAME.split(' ')[0]);\n",
       "\n",
       "    if (output.metadata[EXEC_MIME_TYPE][\"id\"] !== undefined) {\n",
       "      toinsert[toinsert.length - 1].firstChild.textContent = output.data[JS_MIME_TYPE];\n",
       "      // store reference to embed id on output_area\n",
       "      output_area._bokeh_element_id = output.metadata[EXEC_MIME_TYPE][\"id\"];\n",
       "    }\n",
       "    if (output.metadata[EXEC_MIME_TYPE][\"server_id\"] !== undefined) {\n",
       "      const bk_div = document.createElement(\"div\");\n",
       "      bk_div.innerHTML = output.data[HTML_MIME_TYPE];\n",
       "      const script_attrs = bk_div.children[0].attributes;\n",
       "      for (let i = 0; i < script_attrs.length; i++) {\n",
       "        toinsert[toinsert.length - 1].firstChild.setAttribute(script_attrs[i].name, script_attrs[i].value);\n",
       "        toinsert[toinsert.length - 1].firstChild.textContent = bk_div.children[0].textContent\n",
       "      }\n",
       "      // store reference to server id on output_area\n",
       "      output_area._bokeh_server_id = output.metadata[EXEC_MIME_TYPE][\"server_id\"];\n",
       "    }\n",
       "  }\n",
       "\n",
       "  function register_renderer(events, OutputArea) {\n",
       "\n",
       "    function append_mime(data, metadata, element) {\n",
       "      // create a DOM node to render to\n",
       "      const toinsert = this.create_output_subarea(\n",
       "        metadata,\n",
       "        CLASS_NAME,\n",
       "        EXEC_MIME_TYPE\n",
       "      );\n",
       "      this.keyboard_manager.register_events(toinsert);\n",
       "      // Render to node\n",
       "      const props = {data: data, metadata: metadata[EXEC_MIME_TYPE]};\n",
       "      render(props, toinsert[toinsert.length - 1]);\n",
       "      element.append(toinsert);\n",
       "      return toinsert\n",
       "    }\n",
       "\n",
       "    /* Handle when an output is cleared or removed */\n",
       "    events.on('clear_output.CodeCell', handleClearOutput);\n",
       "    events.on('delete.Cell', handleClearOutput);\n",
       "\n",
       "    /* Handle when a new output is added */\n",
       "    events.on('output_added.OutputArea', handleAddOutput);\n",
       "\n",
       "    /**\n",
       "     * Register the mime type and append_mime function with output_area\n",
       "     */\n",
       "    OutputArea.prototype.register_mime_type(EXEC_MIME_TYPE, append_mime, {\n",
       "      /* Is output safe? */\n",
       "      safe: true,\n",
       "      /* Index of renderer in `output_area.display_order` */\n",
       "      index: 0\n",
       "    });\n",
       "  }\n",
       "\n",
       "  // register the mime type if in Jupyter Notebook environment and previously unregistered\n",
       "  if (root.Jupyter !== undefined) {\n",
       "    const events = require('base/js/events');\n",
       "    const OutputArea = require('notebook/js/outputarea').OutputArea;\n",
       "\n",
       "    if (OutputArea.prototype.mime_types().indexOf(EXEC_MIME_TYPE) == -1) {\n",
       "      register_renderer(events, OutputArea);\n",
       "    }\n",
       "  }\n",
       "  if (typeof (root._bokeh_timeout) === \"undefined\" || force === true) {\n",
       "    root._bokeh_timeout = Date.now() + 5000;\n",
       "    root._bokeh_failed_load = false;\n",
       "  }\n",
       "\n",
       "  const NB_LOAD_WARNING = {'data': {'text/html':\n",
       "     \"<div style='background-color: #fdd'>\\n\"+\n",
       "     \"<p>\\n\"+\n",
       "     \"BokehJS does not appear to have successfully loaded. If loading BokehJS from CDN, this \\n\"+\n",
       "     \"may be due to a slow or bad network connection. Possible fixes:\\n\"+\n",
       "     \"</p>\\n\"+\n",
       "     \"<ul>\\n\"+\n",
       "     \"<li>re-rerun `output_notebook()` to attempt to load from CDN again, or</li>\\n\"+\n",
       "     \"<li>use INLINE resources instead, as so:</li>\\n\"+\n",
       "     \"</ul>\\n\"+\n",
       "     \"<code>\\n\"+\n",
       "     \"from bokeh.resources import INLINE\\n\"+\n",
       "     \"output_notebook(resources=INLINE)\\n\"+\n",
       "     \"</code>\\n\"+\n",
       "     \"</div>\"}};\n",
       "\n",
       "  function display_loaded(error = null) {\n",
       "    const el = document.getElementById(\"c8a87d7b-12ac-46c1-a3c4-533fc1f3edb9\");\n",
       "    if (el != null) {\n",
       "      const html = (() => {\n",
       "        if (typeof root.Bokeh === \"undefined\") {\n",
       "          if (error == null) {\n",
       "            return \"BokehJS is loading ...\";\n",
       "          } else {\n",
       "            return \"BokehJS failed to load.\";\n",
       "          }\n",
       "        } else {\n",
       "          const prefix = `BokehJS ${root.Bokeh.version}`;\n",
       "          if (error == null) {\n",
       "            return `${prefix} successfully loaded.`;\n",
       "          } else {\n",
       "            return `${prefix} <b>encountered errors</b> while loading and may not function as expected.`;\n",
       "          }\n",
       "        }\n",
       "      })();\n",
       "      el.innerHTML = html;\n",
       "\n",
       "      if (error != null) {\n",
       "        const wrapper = document.createElement(\"div\");\n",
       "        wrapper.style.overflow = \"auto\";\n",
       "        wrapper.style.height = \"5em\";\n",
       "        wrapper.style.resize = \"vertical\";\n",
       "        const content = document.createElement(\"div\");\n",
       "        content.style.fontFamily = \"monospace\";\n",
       "        content.style.whiteSpace = \"pre-wrap\";\n",
       "        content.style.backgroundColor = \"rgb(255, 221, 221)\";\n",
       "        content.textContent = error.stack ?? error.toString();\n",
       "        wrapper.append(content);\n",
       "        el.append(wrapper);\n",
       "      }\n",
       "    } else if (Date.now() < root._bokeh_timeout) {\n",
       "      setTimeout(() => display_loaded(error), 100);\n",
       "    }\n",
       "  }\n",
       "\n",
       "  function run_callbacks() {\n",
       "    try {\n",
       "      root._bokeh_onload_callbacks.forEach(function(callback) {\n",
       "        if (callback != null)\n",
       "          callback();\n",
       "      });\n",
       "    } finally {\n",
       "      delete root._bokeh_onload_callbacks\n",
       "    }\n",
       "    console.debug(\"Bokeh: all callbacks have finished\");\n",
       "  }\n",
       "\n",
       "  function load_libs(css_urls, js_urls, callback) {\n",
       "    if (css_urls == null) css_urls = [];\n",
       "    if (js_urls == null) js_urls = [];\n",
       "\n",
       "    root._bokeh_onload_callbacks.push(callback);\n",
       "    if (root._bokeh_is_loading > 0) {\n",
       "      console.debug(\"Bokeh: BokehJS is being loaded, scheduling callback at\", now());\n",
       "      return null;\n",
       "    }\n",
       "    if (js_urls == null || js_urls.length === 0) {\n",
       "      run_callbacks();\n",
       "      return null;\n",
       "    }\n",
       "    console.debug(\"Bokeh: BokehJS not loaded, scheduling load and callback at\", now());\n",
       "    root._bokeh_is_loading = css_urls.length + js_urls.length;\n",
       "\n",
       "    function on_load() {\n",
       "      root._bokeh_is_loading--;\n",
       "      if (root._bokeh_is_loading === 0) {\n",
       "        console.debug(\"Bokeh: all BokehJS libraries/stylesheets loaded\");\n",
       "        run_callbacks()\n",
       "      }\n",
       "    }\n",
       "\n",
       "    function on_error(url) {\n",
       "      console.error(\"failed to load \" + url);\n",
       "    }\n",
       "\n",
       "    for (let i = 0; i < css_urls.length; i++) {\n",
       "      const url = css_urls[i];\n",
       "      const element = document.createElement(\"link\");\n",
       "      element.onload = on_load;\n",
       "      element.onerror = on_error.bind(null, url);\n",
       "      element.rel = \"stylesheet\";\n",
       "      element.type = \"text/css\";\n",
       "      element.href = url;\n",
       "      console.debug(\"Bokeh: injecting link tag for BokehJS stylesheet: \", url);\n",
       "      document.body.appendChild(element);\n",
       "    }\n",
       "\n",
       "    for (let i = 0; i < js_urls.length; i++) {\n",
       "      const url = js_urls[i];\n",
       "      const element = document.createElement('script');\n",
       "      element.onload = on_load;\n",
       "      element.onerror = on_error.bind(null, url);\n",
       "      element.async = false;\n",
       "      element.src = url;\n",
       "      console.debug(\"Bokeh: injecting script tag for BokehJS library: \", url);\n",
       "      document.head.appendChild(element);\n",
       "    }\n",
       "  };\n",
       "\n",
       "  function inject_raw_css(css) {\n",
       "    const element = document.createElement(\"style\");\n",
       "    element.appendChild(document.createTextNode(css));\n",
       "    document.body.appendChild(element);\n",
       "  }\n",
       "\n",
       "  const js_urls = [\"https://cdn.bokeh.org/bokeh/release/bokeh-3.8.0.min.js\", \"https://cdn.bokeh.org/bokeh/release/bokeh-gl-3.8.0.min.js\", \"https://cdn.bokeh.org/bokeh/release/bokeh-widgets-3.8.0.min.js\", \"https://cdn.bokeh.org/bokeh/release/bokeh-tables-3.8.0.min.js\", \"https://cdn.bokeh.org/bokeh/release/bokeh-mathjax-3.8.0.min.js\"];\n",
       "  const css_urls = [];\n",
       "\n",
       "  const inline_js = [    function(Bokeh) {\n",
       "      Bokeh.set_log_level(\"info\");\n",
       "    },\n",
       "function(Bokeh) {\n",
       "    }\n",
       "  ];\n",
       "\n",
       "  function run_inline_js() {\n",
       "    if (root.Bokeh !== undefined || force === true) {\n",
       "      try {\n",
       "            for (let i = 0; i < inline_js.length; i++) {\n",
       "      inline_js[i].call(root, root.Bokeh);\n",
       "    }\n",
       "\n",
       "      } catch (error) {display_loaded(error);throw error;\n",
       "      }if (force === true) {\n",
       "        display_loaded();\n",
       "      }} else if (Date.now() < root._bokeh_timeout) {\n",
       "      setTimeout(run_inline_js, 100);\n",
       "    } else if (!root._bokeh_failed_load) {\n",
       "      console.log(\"Bokeh: BokehJS failed to load within specified timeout.\");\n",
       "      root._bokeh_failed_load = true;\n",
       "    } else if (force !== true) {\n",
       "      const cell = $(document.getElementById(\"c8a87d7b-12ac-46c1-a3c4-533fc1f3edb9\")).parents('.cell').data().cell;\n",
       "      cell.output_area.append_execute_result(NB_LOAD_WARNING)\n",
       "    }\n",
       "  }\n",
       "\n",
       "  if (root._bokeh_is_loading === 0) {\n",
       "    console.debug(\"Bokeh: BokehJS loaded, going straight to plotting\");\n",
       "    run_inline_js();\n",
       "  } else {\n",
       "    load_libs(css_urls, js_urls, function() {\n",
       "      console.debug(\"Bokeh: BokehJS plotting callback run at\", now());\n",
       "      run_inline_js();\n",
       "    });\n",
       "  }\n",
       "}(window));"
      ],
      "application/vnd.bokehjs_load.v0+json": "'use strict';\n(function(root) {\n  function now() {\n    return new Date();\n  }\n\n  const force = true;\n\n  if (typeof root._bokeh_onload_callbacks === \"undefined\" || force === true) {\n    root._bokeh_onload_callbacks = [];\n    root._bokeh_is_loading = undefined;\n  }\n\n\n  if (typeof (root._bokeh_timeout) === \"undefined\" || force === true) {\n    root._bokeh_timeout = Date.now() + 5000;\n    root._bokeh_failed_load = false;\n  }\n\n  const NB_LOAD_WARNING = {'data': {'text/html':\n     \"<div style='background-color: #fdd'>\\n\"+\n     \"<p>\\n\"+\n     \"BokehJS does not appear to have successfully loaded. If loading BokehJS from CDN, this \\n\"+\n     \"may be due to a slow or bad network connection. Possible fixes:\\n\"+\n     \"</p>\\n\"+\n     \"<ul>\\n\"+\n     \"<li>re-rerun `output_notebook()` to attempt to load from CDN again, or</li>\\n\"+\n     \"<li>use INLINE resources instead, as so:</li>\\n\"+\n     \"</ul>\\n\"+\n     \"<code>\\n\"+\n     \"from bokeh.resources import INLINE\\n\"+\n     \"output_notebook(resources=INLINE)\\n\"+\n     \"</code>\\n\"+\n     \"</div>\"}};\n\n  function display_loaded(error = null) {\n    const el = document.getElementById(\"c8a87d7b-12ac-46c1-a3c4-533fc1f3edb9\");\n    if (el != null) {\n      const html = (() => {\n        if (typeof root.Bokeh === \"undefined\") {\n          if (error == null) {\n            return \"BokehJS is loading ...\";\n          } else {\n            return \"BokehJS failed to load.\";\n          }\n        } else {\n          const prefix = `BokehJS ${root.Bokeh.version}`;\n          if (error == null) {\n            return `${prefix} successfully loaded.`;\n          } else {\n            return `${prefix} <b>encountered errors</b> while loading and may not function as expected.`;\n          }\n        }\n      })();\n      el.innerHTML = html;\n\n      if (error != null) {\n        const wrapper = document.createElement(\"div\");\n        wrapper.style.overflow = \"auto\";\n        wrapper.style.height = \"5em\";\n        wrapper.style.resize = \"vertical\";\n        const content = document.createElement(\"div\");\n        content.style.fontFamily = \"monospace\";\n        content.style.whiteSpace = \"pre-wrap\";\n        content.style.backgroundColor = \"rgb(255, 221, 221)\";\n        content.textContent = error.stack ?? error.toString();\n        wrapper.append(content);\n        el.append(wrapper);\n      }\n    } else if (Date.now() < root._bokeh_timeout) {\n      setTimeout(() => display_loaded(error), 100);\n    }\n  }\n\n  function run_callbacks() {\n    try {\n      root._bokeh_onload_callbacks.forEach(function(callback) {\n        if (callback != null)\n          callback();\n      });\n    } finally {\n      delete root._bokeh_onload_callbacks\n    }\n    console.debug(\"Bokeh: all callbacks have finished\");\n  }\n\n  function load_libs(css_urls, js_urls, callback) {\n    if (css_urls == null) css_urls = [];\n    if (js_urls == null) js_urls = [];\n\n    root._bokeh_onload_callbacks.push(callback);\n    if (root._bokeh_is_loading > 0) {\n      console.debug(\"Bokeh: BokehJS is being loaded, scheduling callback at\", now());\n      return null;\n    }\n    if (js_urls == null || js_urls.length === 0) {\n      run_callbacks();\n      return null;\n    }\n    console.debug(\"Bokeh: BokehJS not loaded, scheduling load and callback at\", now());\n    root._bokeh_is_loading = css_urls.length + js_urls.length;\n\n    function on_load() {\n      root._bokeh_is_loading--;\n      if (root._bokeh_is_loading === 0) {\n        console.debug(\"Bokeh: all BokehJS libraries/stylesheets loaded\");\n        run_callbacks()\n      }\n    }\n\n    function on_error(url) {\n      console.error(\"failed to load \" + url);\n    }\n\n    for (let i = 0; i < css_urls.length; i++) {\n      const url = css_urls[i];\n      const element = document.createElement(\"link\");\n      element.onload = on_load;\n      element.onerror = on_error.bind(null, url);\n      element.rel = \"stylesheet\";\n      element.type = \"text/css\";\n      element.href = url;\n      console.debug(\"Bokeh: injecting link tag for BokehJS stylesheet: \", url);\n      document.body.appendChild(element);\n    }\n\n    for (let i = 0; i < js_urls.length; i++) {\n      const url = js_urls[i];\n      const element = document.createElement('script');\n      element.onload = on_load;\n      element.onerror = on_error.bind(null, url);\n      element.async = false;\n      element.src = url;\n      console.debug(\"Bokeh: injecting script tag for BokehJS library: \", url);\n      document.head.appendChild(element);\n    }\n  };\n\n  function inject_raw_css(css) {\n    const element = document.createElement(\"style\");\n    element.appendChild(document.createTextNode(css));\n    document.body.appendChild(element);\n  }\n\n  const js_urls = [\"https://cdn.bokeh.org/bokeh/release/bokeh-3.8.0.min.js\", \"https://cdn.bokeh.org/bokeh/release/bokeh-gl-3.8.0.min.js\", \"https://cdn.bokeh.org/bokeh/release/bokeh-widgets-3.8.0.min.js\", \"https://cdn.bokeh.org/bokeh/release/bokeh-tables-3.8.0.min.js\", \"https://cdn.bokeh.org/bokeh/release/bokeh-mathjax-3.8.0.min.js\"];\n  const css_urls = [];\n\n  const inline_js = [    function(Bokeh) {\n      Bokeh.set_log_level(\"info\");\n    },\nfunction(Bokeh) {\n    }\n  ];\n\n  function run_inline_js() {\n    if (root.Bokeh !== undefined || force === true) {\n      try {\n            for (let i = 0; i < inline_js.length; i++) {\n      inline_js[i].call(root, root.Bokeh);\n    }\n\n      } catch (error) {display_loaded(error);throw error;\n      }if (force === true) {\n        display_loaded();\n      }} else if (Date.now() < root._bokeh_timeout) {\n      setTimeout(run_inline_js, 100);\n    } else if (!root._bokeh_failed_load) {\n      console.log(\"Bokeh: BokehJS failed to load within specified timeout.\");\n      root._bokeh_failed_load = true;\n    } else if (force !== true) {\n      const cell = $(document.getElementById(\"c8a87d7b-12ac-46c1-a3c4-533fc1f3edb9\")).parents('.cell').data().cell;\n      cell.output_area.append_execute_result(NB_LOAD_WARNING)\n    }\n  }\n\n  if (root._bokeh_is_loading === 0) {\n    console.debug(\"Bokeh: BokehJS loaded, going straight to plotting\");\n    run_inline_js();\n  } else {\n    load_libs(css_urls, js_urls, function() {\n      console.debug(\"Bokeh: BokehJS plotting callback run at\", now());\n      run_inline_js();\n    });\n  }\n}(window));"
     },
     "metadata": {},
     "output_type": "display_data"
    }
   ],
   "source": [
    "from bokeh.io import output_notebook\n",
    "import bokeh.plotting as bp\n",
    "from bokeh.models import ColorBar, FixedTicker, Span\n",
    "from bokeh.palettes import Spectral10 as cm\n",
    "from bokeh.transform import linear_cmap\n",
    "\n",
    "import numpy as np\n",
    "\n",
    "# The following method is needed for bokeh display in a Notebook.\n",
    "# Note that it does not activate the display. This happens in the 'Plot Timeseries' section.\n",
    "output_notebook()"
   ]
  },
  {
   "cell_type": "markdown",
   "metadata": {},
   "source": [
    "## Identify Subseries in the Data\n",
    "\n",
    "Engineering data may contain periods of sampling between observations where the returned values do not change. The following function attempts to break up the timeseries by looking for these stretches of unchanging values."
   ]
  },
  {
   "cell_type": "code",
   "execution_count": 10,
   "metadata": {
    "execution": {
     "iopub.execute_input": "2025-09-11T15:14:38.211073Z",
     "iopub.status.busy": "2025-09-11T15:14:38.210879Z",
     "iopub.status.idle": "2025-09-11T15:14:38.216662Z",
     "shell.execute_reply": "2025-09-11T15:14:38.216237Z"
    }
   },
   "outputs": [],
   "source": [
    "def find_breaks(x_data, y_data, max_flats=5):\n",
    "    \"\"\"\n",
    "    Parameters\n",
    "    ----------\n",
    "    x_data : pandas.DataFrame\n",
    "        X-axis timeseries data.\n",
    "    y_data : pandas.DataFrame \n",
    "        Y-axis timeseries data.\n",
    "    max_flats : int, default=5\n",
    "        After this many data points with unchanging values, timeseries data will be broken up.\n",
    "        \n",
    "    Returns\n",
    "    -------\n",
    "    list of pandas.DataFrame\n",
    "        Each DataFrame contains a continuous set of changing EDB timeseries data with X/Y-paired values.\n",
    "    \"\"\"\n",
    "    \n",
    "    # Get the MJD and position values out of the DataFrames.\n",
    "    x_vals = x_data['euvalue'].values\n",
    "    x_dates = x_data['MJD'].values\n",
    "    y_vals = y_data['euvalue'].values\n",
    "    y_dates = y_data['MJD'].values\n",
    "    \n",
    "    # Combine the x and y data into a single DataFrame.\n",
    "    xy_frame = pd.DataFrame(data=x_dates, columns=['MJD'])\n",
    "    xy_frame['timestamp'] = x_data['theTime'].values\n",
    "    xy_frame['x_value'] = x_vals\n",
    "    xy_frame['y_value'] = y_vals\n",
    "    \n",
    "    # Scan the timeseries data to look for flat periods of no reading change.\n",
    "    results = []\n",
    "    m = 0\n",
    "    flat = 0\n",
    "    recording = True\n",
    "    \n",
    "    for n in range(1, len(x_vals)):\n",
    "        \n",
    "        # Make sure the x and y timestamps match.\n",
    "        if x_dates[n] == y_dates[n]:\n",
    "            \n",
    "            # Calculate the distance from the current positions to the following.\n",
    "            x_diff = np.abs(x_vals[n-1] - x_vals[n])\n",
    "            y_diff = np.abs(y_vals[n-1] - y_vals[n])\n",
    "            \n",
    "            # Multiple points with no change will stop recording and store the current series.\n",
    "            if (x_diff == 0 and y_diff == 0):\n",
    "                flat += 1\n",
    "                if not recording:\n",
    "                    continue\n",
    "                elif flat >= max_flats:\n",
    "                    size = (n-max_flats) - m\n",
    "                    if size > 1:\n",
    "                        results.append(xy_frame[m:n-(max_flats)])\n",
    "                    recording = False\n",
    "                    \n",
    "            # Start recording if changes detected.\n",
    "            elif (x_diff > 0 or y_diff > 0) and not recording:\n",
    "                flat = 0\n",
    "                m = n\n",
    "                recording = True\n",
    "    \n",
    "    # Capture the final series if still recording.\n",
    "    if recording and (n - m) > 1:\n",
    "        results.append(xy_frame[m:])\n",
    "    \n",
    "    print(\"returning {} timeseries\".format(len(results)))\n",
    "    \n",
    "    return results"
   ]
  },
  {
   "cell_type": "markdown",
   "metadata": {},
   "source": [
    "Report the start/end times of each identified subseries. Since there are many of them, we print only the last result as a sample."
   ]
  },
  {
   "cell_type": "code",
   "execution_count": 11,
   "metadata": {
    "execution": {
     "iopub.execute_input": "2025-09-11T15:14:38.217980Z",
     "iopub.status.busy": "2025-09-11T15:14:38.217840Z",
     "iopub.status.idle": "2025-09-11T15:14:38.306778Z",
     "shell.execute_reply": "2025-09-11T15:14:38.306309Z"
    }
   },
   "outputs": [
    {
     "name": "stdout",
     "output_type": "stream",
     "text": [
      "returning 41 timeseries\n",
      "    2022-07-01 02:57:26.101000 - 2022-07-01 03:00:00.213000\n"
     ]
    }
   ],
   "source": [
    "split_series = find_breaks(df[0], df[1], max_flats=5)\n",
    "for ss in split_series:\n",
    "    v = ss['timestamp'].values\n",
    "\n",
    "# Inserting this print statement into the for loop will print all 41 timeseries\n",
    "print(\"    {0} - {1}\".format(v[0], v[-1]))"
   ]
  },
  {
   "cell_type": "markdown",
   "metadata": {},
   "source": [
    "## Plot the Segmented Timeseries\n",
    "\n",
    "The following function plots a single subseries of the x/y paired data and applies a color gradiant based on the associated time stamps. "
   ]
  },
  {
   "cell_type": "code",
   "execution_count": 12,
   "metadata": {
    "execution": {
     "iopub.execute_input": "2025-09-11T15:14:38.308174Z",
     "iopub.status.busy": "2025-09-11T15:14:38.308028Z",
     "iopub.status.idle": "2025-09-11T15:14:38.313403Z",
     "shell.execute_reply": "2025-09-11T15:14:38.312999Z"
    }
   },
   "outputs": [],
   "source": [
    "def plot_x_v_y_color(data):\n",
    "    \"\"\"\n",
    "    Plot x-versus-y timeseries data with color mapping based on the timing.\n",
    "    \n",
    "    Parameters\n",
    "    ----------\n",
    "    data : pandas.DataFrame\n",
    "        A combined x & y timeseries data set.\n",
    "    \"\"\"\n",
    "    \n",
    "    mjd = data['MJD']\n",
    "    n_ticks = 10\n",
    "    \n",
    "    # Create a bokeh.plotting figure object.\n",
    "    n = bp.figure(height=600, width=900, match_aspect=True)\n",
    "    \n",
    "    # Set up a linear color map based on the MJD data.\n",
    "    mapper = linear_cmap(field_name='MJD', palette=cm, low=min(mjd), high=max(mjd))\n",
    "    \n",
    "    # Add lines to make 0 axis a bit more obvious.\n",
    "    lw = 1.3\n",
    "    vline = Span(location=0, dimension='height', line_color='black', line_width=lw)\n",
    "    hline = Span(location=0, dimension='width', line_color='black', line_width=lw)\n",
    "    n.renderers.extend([vline, hline])\n",
    "    \n",
    "    # Add a circle plot of x vs y with the color map applied.\n",
    "    radius = (data['x_value'].max() - data['x_value'].min()) / 100  # Standardize the radius of points\n",
    "    n.circle(source=data, x='x_value', y='y_value', fill_alpha=0.6, fill_color=mapper, line_color=None, radius=radius)\n",
    "    \n",
    "    # Translate legend values from MJD to time stamps.\n",
    "    indices = list(range(0, len(mjd), int(len(mjd)/n_ticks)))\n",
    "    tick_dict = {mjd.values[x]: data['timestamp'].values[x] for x in indices}\n",
    "    ticks = FixedTicker(ticks=list(tick_dict.keys()))\n",
    "    \n",
    "    # Add some labels to our axes\n",
    "    n.xaxis.axis_label = \"FSM x-axis commanded angle (arcsec)\"\n",
    "    n.yaxis.axis_label = \"FSM y-axis commanded angle (arcsec)\"\n",
    "    \n",
    "    # Add a color bar legend for the MJD data.\n",
    "    color_bar = ColorBar(color_mapper=mapper['transform'], \n",
    "                         width=12,\n",
    "                         ticker=ticks,\n",
    "                         major_label_overrides=tick_dict,\n",
    "                         location=(0, 0), \n",
    "                         label_standoff=45,\n",
    "                         )\n",
    "    n.add_layout(color_bar, 'right')\n",
    "    \n",
    "    # Display the figure.\n",
    "    bp.show(n)"
   ]
  },
  {
   "cell_type": "markdown",
   "metadata": {},
   "source": [
    "In the following command you can update the index to change which split timeseries you are plotting. Once the plot renders, use the plot control tools in the upper right to pan, zoom, and save the plot. "
   ]
  },
  {
   "cell_type": "code",
   "execution_count": 13,
   "metadata": {
    "execution": {
     "iopub.execute_input": "2025-09-11T15:14:38.314690Z",
     "iopub.status.busy": "2025-09-11T15:14:38.314521Z",
     "iopub.status.idle": "2025-09-11T15:14:38.399919Z",
     "shell.execute_reply": "2025-09-11T15:14:38.399491Z"
    }
   },
   "outputs": [
    {
     "data": {
      "text/html": [
       "\n",
       "  <div id=\"ec660eb0-56fd-48e3-9543-b97efd63eedd\" data-root-id=\"p1008\" style=\"display: contents;\"></div>\n"
      ]
     },
     "metadata": {},
     "output_type": "display_data"
    },
    {
     "data": {
      "application/javascript": [
       "(function(root) {\n",
       "  function embed_document(root) {\n",
       "  const docs_json = {\"a7f5163e-968d-4e90-bbd6-b3147faa20d0\":{\"version\":\"3.8.0\",\"title\":\"Bokeh Application\",\"config\":{\"type\":\"object\",\"name\":\"DocumentConfig\",\"id\":\"p1060\",\"attributes\":{\"notifications\":{\"type\":\"object\",\"name\":\"Notifications\",\"id\":\"p1061\"}}},\"roots\":[{\"type\":\"object\",\"name\":\"Figure\",\"id\":\"p1008\",\"attributes\":{\"width\":900,\"x_range\":{\"type\":\"object\",\"name\":\"DataRange1d\",\"id\":\"p1009\"},\"y_range\":{\"type\":\"object\",\"name\":\"DataRange1d\",\"id\":\"p1010\"},\"x_scale\":{\"type\":\"object\",\"name\":\"LinearScale\",\"id\":\"p1017\"},\"y_scale\":{\"type\":\"object\",\"name\":\"LinearScale\",\"id\":\"p1018\"},\"title\":{\"type\":\"object\",\"name\":\"Title\",\"id\":\"p1015\"},\"renderers\":[{\"type\":\"object\",\"name\":\"Span\",\"id\":\"p1043\",\"attributes\":{\"location\":0,\"dimension\":\"height\",\"line_width\":1.3}},{\"type\":\"object\",\"name\":\"Span\",\"id\":\"p1044\",\"attributes\":{\"location\":0,\"line_width\":1.3}},{\"type\":\"object\",\"name\":\"GlyphRenderer\",\"id\":\"p1054\",\"attributes\":{\"data_source\":{\"type\":\"object\",\"name\":\"ColumnDataSource\",\"id\":\"p1045\",\"attributes\":{\"selected\":{\"type\":\"object\",\"name\":\"Selection\",\"id\":\"p1046\",\"attributes\":{\"indices\":[],\"line_indices\":[]}},\"selection_policy\":{\"type\":\"object\",\"name\":\"UnionRenderers\",\"id\":\"p1047\"},\"data\":{\"type\":\"map\",\"entries\":[[\"index\",{\"type\":\"ndarray\",\"array\":{\"type\":\"bytes\",\"data\":\"H4sIAAEAAAAC/y3V07IYBgBAwRvbtm27sZ00tm3btm03Zhvbtm3b6s60D/sJZ05AQEBAIAIThKAEIzghCEkoQhOGsIQjPBGISCQiE4WoRCM6MYhJLGITh7jEIz4JSEgiEpOEpCQjOSlISSpSk4a0pCM9GchIJjKThaxkIzs5yEkucpOHvOTjD/JTgIIUojBFKEoxilOCkpSiNGUoSznKU4GKVKIyf1KFqlSjOjWoSS1qU4e61KM+DWhIIxrThKY0ozktaEkrWtOGtrSjPR3oSCc604WudKM7PehJL3rTh770oz8DGMggBjOEoQxjOCMYyShGM4axjGM8E5jIJCYzhalMYzozmMksZjOHucxjPgtYyCIWs4SlLGM5K/iLlaxiNWtYyzrWs4GNbGIzW/ibf9jKNrazg53sYjd72Ms+9nOAgxziMEc4yjGOc4KTnOI0ZzjLOc5zgYtc4jJXuMo1rnODm9ziNne4yz3u84CHPOIxT3jKM57zgpe84jVveMs73vOBj3ziM1/4yje+84Of/OJ3wH/xByIwQQhKMIITgpCEIjRhCEs4whOBiEQiMlGISjSiE4OYxCI2cYhLPOKTgIQkIjFJSEoykpOClKQiNWlISzrSk4GMZCIzWchKNrKTg5zkIjd5yEs+/iA/BShIIQpThKIUozglKEkpSlOGspSjPBWoSCUq8ydVqEo1qlODmtSiNnWoSz3q04CGNKIxTWhKM5rTgpa0ojVtaEs72tOBjnSiM13oSje604Oe9KI3fehLP/ozgIEMYjBDGMowhjOCkYxiNGMYyzjGM4GJTGIyU5jKNKYzg5nMYjZzmMs85rOAhSxiMUtYyjKWs4K/WMkqVrOGtaxjPRvYyCY2s4W/+YetbGM7O9jJLnazh73sYz8HOMghDnOEoxzjOCc4ySlOc4aznOM8F7jIJS5zhatc4zo3uMktbnOHu9zjPg94yCMe84SnPOM5L3jJK17zhre84z0f+MgnPvOFr3zjOz/4yS9+/z/+QAQmCEEJRnBCEJJQhCYMYQlHeCIQkUhEJgpRiUZ0YhCTWMQmDnGJR3wSkJBEJCYJSUlGclKQklSkJg1pSUd6MpCRTGQmC1nJRnb+BWfEjLbcCAAA\"},\"shape\":[567],\"dtype\":\"int32\",\"order\":\"little\"}],[\"MJD\",{\"type\":\"ndarray\",\"array\":{\"type\":\"bytes\",\"data\":\"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\"},\"shape\":[567],\"dtype\":\"float64\",\"order\":\"little\"}],[\"timestamp\",{\"type\":\"ndarray\",\"array\":[\"2022-06-30 23:59:59.839000\",\"2022-07-01 00:00:00.095000\",\"2022-07-01 00:00:00.351000\",\"2022-07-01 00:00:00.607000\",\"2022-07-01 00:00:00.863000\",\"2022-07-01 00:00:01.119000\",\"2022-07-01 00:00:01.375000\",\"2022-07-01 00:00:01.631000\",\"2022-07-01 00:00:01.887000\",\"2022-07-01 00:00:02.143000\",\"2022-07-01 00:00:02.399000\",\"2022-07-01 00:00:02.655000\",\"2022-07-01 00:00:02.911000\",\"2022-07-01 00:00:03.167000\",\"2022-07-01 00:00:03.423000\",\"2022-07-01 00:00:03.679000\",\"2022-07-01 00:00:03.935000\",\"2022-07-01 00:00:04.191000\",\"2022-07-01 00:00:04.447000\",\"2022-07-01 00:00:04.703000\",\"2022-07-01 00:00:04.959000\",\"2022-07-01 00:00:05.215000\",\"2022-07-01 00:00:05.471000\",\"2022-07-01 00:00:05.727000\",\"2022-07-01 00:00:05.983000\",\"2022-07-01 00:00:06.239000\",\"2022-07-01 00:00:06.495000\",\"2022-07-01 00:00:06.751000\",\"2022-07-01 00:00:07.007000\",\"2022-07-01 00:00:07.263000\",\"2022-07-01 00:00:07.519000\",\"2022-07-01 00:00:07.775000\",\"2022-07-01 00:00:08.031000\",\"2022-07-01 00:00:08.287000\",\"2022-07-01 00:00:08.543000\",\"2022-07-01 00:00:08.799000\",\"2022-07-01 00:00:09.055000\",\"2022-07-01 00:00:09.311000\",\"2022-07-01 00:00:09.567000\",\"2022-07-01 00:00:09.823000\",\"2022-07-01 00:00:10.079000\",\"2022-07-01 00:00:10.335000\",\"2022-07-01 00:00:10.591000\",\"2022-07-01 00:00:10.847000\",\"2022-07-01 00:00:11.103000\",\"2022-07-01 00:00:11.359000\",\"2022-07-01 00:00:11.615000\",\"2022-07-01 00:00:11.871000\",\"2022-07-01 00:00:12.127000\",\"2022-07-01 00:00:12.383000\",\"2022-07-01 00:00:12.639000\",\"2022-07-01 00:00:12.895000\",\"2022-07-01 00:00:13.151000\",\"2022-07-01 00:00:13.407000\",\"2022-07-01 00:00:13.663000\",\"2022-07-01 00:00:13.919000\",\"2022-07-01 00:00:14.175000\",\"2022-07-01 00:00:14.431000\",\"2022-07-01 00:00:14.687000\",\"2022-07-01 00:00:14.943000\",\"2022-07-01 00:00:15.199000\",\"2022-07-01 00:00:15.455000\",\"2022-07-01 00:00:15.711000\",\"2022-07-01 00:00:15.967000\",\"2022-07-01 00:00:16.223000\",\"2022-07-01 00:00:16.479000\",\"2022-07-01 00:00:16.735000\",\"2022-07-01 00:00:16.991000\",\"2022-07-01 00:00:17.247000\",\"2022-07-01 00:00:17.503000\",\"2022-07-01 00:00:17.759000\",\"2022-07-01 00:00:18.015000\",\"2022-07-01 00:00:18.271000\",\"2022-07-01 00:00:18.527000\",\"2022-07-01 00:00:18.783000\",\"2022-07-01 00:00:19.039000\",\"2022-07-01 00:00:19.295000\",\"2022-07-01 00:00:19.551000\",\"2022-07-01 00:00:19.807000\",\"2022-07-01 00:00:20.063000\",\"2022-07-01 00:00:20.319000\",\"2022-07-01 00:00:20.575000\",\"2022-07-01 00:00:20.831000\",\"2022-07-01 00:00:21.087000\",\"2022-07-01 00:00:21.343000\",\"2022-07-01 00:00:21.599000\",\"2022-07-01 00:00:21.855000\",\"2022-07-01 00:00:22.111000\",\"2022-07-01 00:00:22.367000\",\"2022-07-01 00:00:22.623000\",\"2022-07-01 00:00:22.879000\",\"2022-07-01 00:00:23.135000\",\"2022-07-01 00:00:23.391000\",\"2022-07-01 00:00:23.647000\",\"2022-07-01 00:00:23.903000\",\"2022-07-01 00:00:24.159000\",\"2022-07-01 00:00:24.415000\",\"2022-07-01 00:00:24.671000\",\"2022-07-01 00:00:24.927000\",\"2022-07-01 00:00:25.183000\",\"2022-07-01 00:00:25.439000\",\"2022-07-01 00:00:25.695000\",\"2022-07-01 00:00:25.951000\",\"2022-07-01 00:00:26.207000\",\"2022-07-01 00:00:26.463000\",\"2022-07-01 00:00:26.719000\",\"2022-07-01 00:00:26.975000\",\"2022-07-01 00:00:27.231000\",\"2022-07-01 00:00:27.487000\",\"2022-07-01 00:00:27.743000\",\"2022-07-01 00:00:27.999000\",\"2022-07-01 00:00:28.255000\",\"2022-07-01 00:00:28.511000\",\"2022-07-01 00:00:28.767000\",\"2022-07-01 00:00:29.023000\",\"2022-07-01 00:00:29.279000\",\"2022-07-01 00:00:29.535000\",\"2022-07-01 00:00:29.791000\",\"2022-07-01 00:00:30.047000\",\"2022-07-01 00:00:30.303000\",\"2022-07-01 00:00:30.559000\",\"2022-07-01 00:00:30.815000\",\"2022-07-01 00:00:31.071000\",\"2022-07-01 00:00:31.327000\",\"2022-07-01 00:00:31.583000\",\"2022-07-01 00:00:31.839000\",\"2022-07-01 00:00:32.095000\",\"2022-07-01 00:00:32.351000\",\"2022-07-01 00:00:32.607000\",\"2022-07-01 00:00:32.863000\",\"2022-07-01 00:00:33.119000\",\"2022-07-01 00:00:33.375000\",\"2022-07-01 00:00:33.631000\",\"2022-07-01 00:00:33.887000\",\"2022-07-01 00:00:34.143000\",\"2022-07-01 00:00:34.399000\",\"2022-07-01 00:00:34.655000\",\"2022-07-01 00:00:34.911000\",\"2022-07-01 00:00:35.167000\",\"2022-07-01 00:00:35.423000\",\"2022-07-01 00:00:35.679000\",\"2022-07-01 00:00:35.935000\",\"2022-07-01 00:00:36.191000\",\"2022-07-01 00:00:36.447000\",\"2022-07-01 00:00:36.703000\",\"2022-07-01 00:00:36.959000\",\"2022-07-01 00:00:37.215000\",\"2022-07-01 00:00:37.471000\",\"2022-07-01 00:00:37.727000\",\"2022-07-01 00:00:37.983000\",\"2022-07-01 00:00:38.239000\",\"2022-07-01 00:00:38.495000\",\"2022-07-01 00:00:38.751000\",\"2022-07-01 00:00:39.007000\",\"2022-07-01 00:00:39.263000\",\"2022-07-01 00:00:39.519000\",\"2022-07-01 00:00:39.775000\",\"2022-07-01 00:00:40.031000\",\"2022-07-01 00:00:40.287000\",\"2022-07-01 00:00:40.543000\",\"2022-07-01 00:00:40.799000\",\"2022-07-01 00:00:41.055000\",\"2022-07-01 00:00:41.311000\",\"2022-07-01 00:00:41.567000\",\"2022-07-01 00:00:41.823000\",\"2022-07-01 00:00:42.079000\",\"2022-07-01 00:00:42.335000\",\"2022-07-01 00:00:42.591000\",\"2022-07-01 00:00:42.847000\",\"2022-07-01 00:00:43.103000\",\"2022-07-01 00:00:43.359000\",\"2022-07-01 00:00:43.615000\",\"2022-07-01 00:00:43.871000\",\"2022-07-01 00:00:44.127000\",\"2022-07-01 00:00:44.383000\",\"2022-07-01 00:00:44.639000\",\"2022-07-01 00:00:44.895000\",\"2022-07-01 00:00:45.151000\",\"2022-07-01 00:00:45.407000\",\"2022-07-01 00:00:45.663000\",\"2022-07-01 00:00:45.919000\",\"2022-07-01 00:00:46.175000\",\"2022-07-01 00:00:46.431000\",\"2022-07-01 00:00:46.687000\",\"2022-07-01 00:00:46.943000\",\"2022-07-01 00:00:47.199000\",\"2022-07-01 00:00:47.455000\",\"2022-07-01 00:00:47.711000\",\"2022-07-01 00:00:47.967000\",\"2022-07-01 00:00:48.223000\",\"2022-07-01 00:00:48.479000\",\"2022-07-01 00:00:48.735000\",\"2022-07-01 00:00:48.991000\",\"2022-07-01 00:00:49.247000\",\"2022-07-01 00:00:49.503000\",\"2022-07-01 00:00:49.759000\",\"2022-07-01 00:00:50.015000\",\"2022-07-01 00:00:50.271000\",\"2022-07-01 00:00:50.527000\",\"2022-07-01 00:00:50.783000\",\"2022-07-01 00:00:51.039000\",\"2022-07-01 00:00:51.295000\",\"2022-07-01 00:00:51.551000\",\"2022-07-01 00:00:51.807000\",\"2022-07-01 00:00:52.063000\",\"2022-07-01 00:00:52.319000\",\"2022-07-01 00:00:52.575000\",\"2022-07-01 00:00:52.831000\",\"2022-07-01 00:00:53.087000\",\"2022-07-01 00:00:53.343000\",\"2022-07-01 00:00:53.599000\",\"2022-07-01 00:00:53.855000\",\"2022-07-01 00:00:54.111000\",\"2022-07-01 00:00:54.367000\",\"2022-07-01 00:00:54.623000\",\"2022-07-01 00:00:54.879000\",\"2022-07-01 00:00:55.135000\",\"2022-07-01 00:00:55.391000\",\"2022-07-01 00:00:55.647000\",\"2022-07-01 00:00:55.903000\",\"2022-07-01 00:00:56.159000\",\"2022-07-01 00:00:56.415000\",\"2022-07-01 00:00:56.671000\",\"2022-07-01 00:00:56.927000\",\"2022-07-01 00:00:57.183000\",\"2022-07-01 00:00:57.439000\",\"2022-07-01 00:00:57.695000\",\"2022-07-01 00:00:57.951000\",\"2022-07-01 00:00:58.207000\",\"2022-07-01 00:00:58.463000\",\"2022-07-01 00:00:58.719000\",\"2022-07-01 00:00:58.975000\",\"2022-07-01 00:00:59.231000\",\"2022-07-01 00:00:59.487000\",\"2022-07-01 00:00:59.743000\",\"2022-07-01 00:00:59.999000\",\"2022-07-01 00:01:00.255000\",\"2022-07-01 00:01:00.511000\",\"2022-07-01 00:01:00.767000\",\"2022-07-01 00:01:01.023000\",\"2022-07-01 00:01:01.279000\",\"2022-07-01 00:01:01.535000\",\"2022-07-01 00:01:01.791000\",\"2022-07-01 00:01:02.047000\",\"2022-07-01 00:01:02.303000\",\"2022-07-01 00:01:02.559000\",\"2022-07-01 00:01:02.815000\",\"2022-07-01 00:01:03.071000\",\"2022-07-01 00:01:03.327000\",\"2022-07-01 00:01:03.583000\",\"2022-07-01 00:01:03.839000\",\"2022-07-01 00:01:04.095000\",\"2022-07-01 00:01:04.351000\",\"2022-07-01 00:01:04.607000\",\"2022-07-01 00:01:04.863000\",\"2022-07-01 00:01:05.119000\",\"2022-07-01 00:01:05.375000\",\"2022-07-01 00:01:05.631000\",\"2022-07-01 00:01:05.887000\",\"2022-07-01 00:01:06.143000\",\"2022-07-01 00:01:06.399000\",\"2022-07-01 00:01:06.655000\",\"2022-07-01 00:01:06.911000\",\"2022-07-01 00:01:07.167000\",\"2022-07-01 00:01:07.423000\",\"2022-07-01 00:01:07.679000\",\"2022-07-01 00:01:07.935000\",\"2022-07-01 00:01:08.191000\",\"2022-07-01 00:01:08.447000\",\"2022-07-01 00:01:08.703000\",\"2022-07-01 00:01:08.959000\",\"2022-07-01 00:01:09.215000\",\"2022-07-01 00:01:09.471000\",\"2022-07-01 00:01:09.727000\",\"2022-07-01 00:01:09.983000\",\"2022-07-01 00:01:10.239000\",\"2022-07-01 00:01:10.495000\",\"2022-07-01 00:01:10.751000\",\"2022-07-01 00:01:11.007000\",\"2022-07-01 00:01:11.263000\",\"2022-07-01 00:01:11.519000\",\"2022-07-01 00:01:11.775000\",\"2022-07-01 00:01:12.031000\",\"2022-07-01 00:01:12.287000\",\"2022-07-01 00:01:12.543000\",\"2022-07-01 00:01:12.799000\",\"2022-07-01 00:01:13.055000\",\"2022-07-01 00:01:13.311000\",\"2022-07-01 00:01:13.567000\",\"2022-07-01 00:01:13.823000\",\"2022-07-01 00:01:14.079000\",\"2022-07-01 00:01:14.335000\",\"2022-07-01 00:01:14.591000\",\"2022-07-01 00:01:14.847000\",\"2022-07-01 00:01:15.103000\",\"2022-07-01 00:01:15.359000\",\"2022-07-01 00:01:15.615000\",\"2022-07-01 00:01:15.871000\",\"2022-07-01 00:01:16.127000\",\"2022-07-01 00:01:16.383000\",\"2022-07-01 00:01:16.639000\",\"2022-07-01 00:01:16.895000\",\"2022-07-01 00:01:17.151000\",\"2022-07-01 00:01:17.407000\",\"2022-07-01 00:01:17.663000\",\"2022-07-01 00:01:17.919000\",\"2022-07-01 00:01:18.175000\",\"2022-07-01 00:01:18.431000\",\"2022-07-01 00:01:18.687000\",\"2022-07-01 00:01:18.943000\",\"2022-07-01 00:01:19.199000\",\"2022-07-01 00:01:19.455000\",\"2022-07-01 00:01:19.711000\",\"2022-07-01 00:01:19.967000\",\"2022-07-01 00:01:20.223000\",\"2022-07-01 00:01:20.479000\",\"2022-07-01 00:01:20.735000\",\"2022-07-01 00:01:20.991000\",\"2022-07-01 00:01:21.247000\",\"2022-07-01 00:01:21.503000\",\"2022-07-01 00:01:21.759000\",\"2022-07-01 00:01:22.015000\",\"2022-07-01 00:01:22.271000\",\"2022-07-01 00:01:22.527000\",\"2022-07-01 00:01:22.783000\",\"2022-07-01 00:01:23.039000\",\"2022-07-01 00:01:23.295000\",\"2022-07-01 00:01:23.551000\",\"2022-07-01 00:01:23.807000\",\"2022-07-01 00:01:24.063000\",\"2022-07-01 00:01:24.319000\",\"2022-07-01 00:01:24.575000\",\"2022-07-01 00:01:24.831000\",\"2022-07-01 00:01:25.087000\",\"2022-07-01 00:01:25.343000\",\"2022-07-01 00:01:25.599000\",\"2022-07-01 00:01:25.855000\",\"2022-07-01 00:01:26.111000\",\"2022-07-01 00:01:26.367000\",\"2022-07-01 00:01:26.623000\",\"2022-07-01 00:01:26.879000\",\"2022-07-01 00:01:27.135000\",\"2022-07-01 00:01:27.391000\",\"2022-07-01 00:01:27.647000\",\"2022-07-01 00:01:27.903000\",\"2022-07-01 00:01:28.159000\",\"2022-07-01 00:01:28.415000\",\"2022-07-01 00:01:28.671000\",\"2022-07-01 00:01:28.927000\",\"2022-07-01 00:01:29.183000\",\"2022-07-01 00:01:29.439000\",\"2022-07-01 00:01:29.695000\",\"2022-07-01 00:01:29.951000\",\"2022-07-01 00:01:30.207000\",\"2022-07-01 00:01:30.463000\",\"2022-07-01 00:01:30.719000\",\"2022-07-01 00:01:30.975000\",\"2022-07-01 00:01:31.231000\",\"2022-07-01 00:01:31.487000\",\"2022-07-01 00:01:31.743000\",\"2022-07-01 00:01:31.999000\",\"2022-07-01 00:01:32.255000\",\"2022-07-01 00:01:32.511000\",\"2022-07-01 00:01:32.767000\",\"2022-07-01 00:01:33.023000\",\"2022-07-01 00:01:33.279000\",\"2022-07-01 00:01:33.535000\",\"2022-07-01 00:01:33.791000\",\"2022-07-01 00:01:34.047000\",\"2022-07-01 00:01:34.303000\",\"2022-07-01 00:01:34.559000\",\"2022-07-01 00:01:34.815000\",\"2022-07-01 00:01:35.071000\",\"2022-07-01 00:01:35.327000\",\"2022-07-01 00:01:35.583000\",\"2022-07-01 00:01:35.839000\",\"2022-07-01 00:01:36.095000\",\"2022-07-01 00:01:36.351000\",\"2022-07-01 00:01:36.607000\",\"2022-07-01 00:01:36.863000\",\"2022-07-01 00:01:37.119000\",\"2022-07-01 00:01:37.375000\",\"2022-07-01 00:01:37.631000\",\"2022-07-01 00:01:37.887000\",\"2022-07-01 00:01:38.143000\",\"2022-07-01 00:01:38.399000\",\"2022-07-01 00:01:38.655000\",\"2022-07-01 00:01:38.911000\",\"2022-07-01 00:01:39.167000\",\"2022-07-01 00:01:39.423000\",\"2022-07-01 00:01:39.679000\",\"2022-07-01 00:01:39.935000\",\"2022-07-01 00:01:40.191000\",\"2022-07-01 00:01:40.447000\",\"2022-07-01 00:01:40.703000\",\"2022-07-01 00:01:40.959000\",\"2022-07-01 00:01:41.215000\",\"2022-07-01 00:01:41.471000\",\"2022-07-01 00:01:41.727000\",\"2022-07-01 00:01:41.983000\",\"2022-07-01 00:01:42.239000\",\"2022-07-01 00:01:42.495000\",\"2022-07-01 00:01:42.751000\",\"2022-07-01 00:01:43.007000\",\"2022-07-01 00:01:43.263000\",\"2022-07-01 00:01:43.519000\",\"2022-07-01 00:01:43.775000\",\"2022-07-01 00:01:44.031000\",\"2022-07-01 00:01:44.287000\",\"2022-07-01 00:01:44.543000\",\"2022-07-01 00:01:44.799000\",\"2022-07-01 00:01:45.055000\",\"2022-07-01 00:01:45.311000\",\"2022-07-01 00:01:45.567000\",\"2022-07-01 00:01:45.823000\",\"2022-07-01 00:01:46.079000\",\"2022-07-01 00:01:46.335000\",\"2022-07-01 00:01:46.591000\",\"2022-07-01 00:01:46.847000\",\"2022-07-01 00:01:47.103000\",\"2022-07-01 00:01:47.359000\",\"2022-07-01 00:01:47.615000\",\"2022-07-01 00:01:47.871000\",\"2022-07-01 00:01:48.127000\",\"2022-07-01 00:01:48.383000\",\"2022-07-01 00:01:48.639000\",\"2022-07-01 00:01:48.895000\",\"2022-07-01 00:01:49.151000\",\"2022-07-01 00:01:49.407000\",\"2022-07-01 00:01:49.663000\",\"2022-07-01 00:01:49.919000\",\"2022-07-01 00:01:50.175000\",\"2022-07-01 00:01:50.431000\",\"2022-07-01 00:01:50.687000\",\"2022-07-01 00:01:50.943000\",\"2022-07-01 00:01:51.199000\",\"2022-07-01 00:01:51.455000\",\"2022-07-01 00:01:51.711000\",\"2022-07-01 00:01:51.967000\",\"2022-07-01 00:01:52.223000\",\"2022-07-01 00:01:52.479000\",\"2022-07-01 00:01:52.735000\",\"2022-07-01 00:01:52.991000\",\"2022-07-01 00:01:53.247000\",\"2022-07-01 00:01:53.503000\",\"2022-07-01 00:01:53.759000\",\"2022-07-01 00:01:54.015000\",\"2022-07-01 00:01:54.271000\",\"2022-07-01 00:01:54.527000\",\"2022-07-01 00:01:54.783000\",\"2022-07-01 00:01:55.039000\",\"2022-07-01 00:01:55.295000\",\"2022-07-01 00:01:55.551000\",\"2022-07-01 00:01:55.807000\",\"2022-07-01 00:01:56.063000\",\"2022-07-01 00:01:56.319000\",\"2022-07-01 00:01:56.575000\",\"2022-07-01 00:01:56.831000\",\"2022-07-01 00:01:57.087000\",\"2022-07-01 00:01:57.343000\",\"2022-07-01 00:01:57.599000\",\"2022-07-01 00:01:57.855000\",\"2022-07-01 00:01:58.111000\",\"2022-07-01 00:01:58.367000\",\"2022-07-01 00:01:58.623000\",\"2022-07-01 00:01:58.879000\",\"2022-07-01 00:01:59.135000\",\"2022-07-01 00:01:59.391000\",\"2022-07-01 00:01:59.647000\",\"2022-07-01 00:01:59.903000\",\"2022-07-01 00:02:00.159000\",\"2022-07-01 00:02:00.415000\",\"2022-07-01 00:02:00.671000\",\"2022-07-01 00:02:00.927000\",\"2022-07-01 00:02:01.183000\",\"2022-07-01 00:02:01.439000\",\"2022-07-01 00:02:01.695000\",\"2022-07-01 00:02:01.951000\",\"2022-07-01 00:02:02.207000\",\"2022-07-01 00:02:02.463000\",\"2022-07-01 00:02:02.719000\",\"2022-07-01 00:02:02.975000\",\"2022-07-01 00:02:03.231000\",\"2022-07-01 00:02:03.487000\",\"2022-07-01 00:02:03.743000\",\"2022-07-01 00:02:03.999000\",\"2022-07-01 00:02:04.255000\",\"2022-07-01 00:02:04.511000\",\"2022-07-01 00:02:04.767000\",\"2022-07-01 00:02:05.023000\",\"2022-07-01 00:02:05.279000\",\"2022-07-01 00:02:05.535000\",\"2022-07-01 00:02:05.791000\",\"2022-07-01 00:02:06.047000\",\"2022-07-01 00:02:06.303000\",\"2022-07-01 00:02:06.559000\",\"2022-07-01 00:02:06.815000\",\"2022-07-01 00:02:07.071000\",\"2022-07-01 00:02:07.327000\",\"2022-07-01 00:02:07.583000\",\"2022-07-01 00:02:07.839000\",\"2022-07-01 00:02:08.095000\",\"2022-07-01 00:02:08.351000\",\"2022-07-01 00:02:08.607000\",\"2022-07-01 00:02:08.863000\",\"2022-07-01 00:02:09.119000\",\"2022-07-01 00:02:09.375000\",\"2022-07-01 00:02:09.631000\",\"2022-07-01 00:02:09.887000\",\"2022-07-01 00:02:10.143000\",\"2022-07-01 00:02:10.399000\",\"2022-07-01 00:02:10.655000\",\"2022-07-01 00:02:10.911000\",\"2022-07-01 00:02:11.167000\",\"2022-07-01 00:02:11.423000\",\"2022-07-01 00:02:11.679000\",\"2022-07-01 00:02:11.935000\",\"2022-07-01 00:02:12.191000\",\"2022-07-01 00:02:12.447000\",\"2022-07-01 00:02:12.703000\",\"2022-07-01 00:02:12.959000\",\"2022-07-01 00:02:13.215000\",\"2022-07-01 00:02:13.471000\",\"2022-07-01 00:02:13.727000\",\"2022-07-01 00:02:13.983000\",\"2022-07-01 00:02:14.239000\",\"2022-07-01 00:02:14.495000\",\"2022-07-01 00:02:14.751000\",\"2022-07-01 00:02:15.007000\",\"2022-07-01 00:02:15.263000\",\"2022-07-01 00:02:15.519000\",\"2022-07-01 00:02:15.775000\",\"2022-07-01 00:02:16.031000\",\"2022-07-01 00:02:16.287000\",\"2022-07-01 00:02:16.543000\",\"2022-07-01 00:02:16.799000\",\"2022-07-01 00:02:17.055000\",\"2022-07-01 00:02:17.311000\",\"2022-07-01 00:02:17.567000\",\"2022-07-01 00:02:17.823000\",\"2022-07-01 00:02:18.079000\",\"2022-07-01 00:02:18.335000\",\"2022-07-01 00:02:18.591000\",\"2022-07-01 00:02:18.847000\",\"2022-07-01 00:02:19.103000\",\"2022-07-01 00:02:19.359000\",\"2022-07-01 00:02:19.615000\",\"2022-07-01 00:02:19.871000\",\"2022-07-01 00:02:20.127000\",\"2022-07-01 00:02:20.383000\",\"2022-07-01 00:02:20.639000\",\"2022-07-01 00:02:20.895000\",\"2022-07-01 00:02:21.151000\",\"2022-07-01 00:02:21.407000\",\"2022-07-01 00:02:21.663000\",\"2022-07-01 00:02:21.919000\",\"2022-07-01 00:02:22.175000\",\"2022-07-01 00:02:22.431000\",\"2022-07-01 00:02:22.687000\",\"2022-07-01 00:02:22.943000\",\"2022-07-01 00:02:23.199000\",\"2022-07-01 00:02:23.455000\",\"2022-07-01 00:02:23.711000\",\"2022-07-01 00:02:23.967000\",\"2022-07-01 00:02:24.223000\",\"2022-07-01 00:02:24.479000\",\"2022-07-01 00:02:24.735000\"],\"shape\":[567],\"dtype\":\"object\",\"order\":\"little\"}],[\"x_value\",{\"type\":\"ndarray\",\"array\":{\"type\":\"bytes\",\"data\":\"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\"},\"shape\":[567],\"dtype\":\"float64\",\"order\":\"little\"}],[\"y_value\",{\"type\":\"ndarray\",\"array\":{\"type\":\"bytes\",\"data\":\"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\"},\"shape\":[567],\"dtype\":\"float64\",\"order\":\"little\"}]]}}},\"view\":{\"type\":\"object\",\"name\":\"CDSView\",\"id\":\"p1055\",\"attributes\":{\"filter\":{\"type\":\"object\",\"name\":\"AllIndices\",\"id\":\"p1056\"}}},\"glyph\":{\"type\":\"object\",\"name\":\"Circle\",\"id\":\"p1051\",\"attributes\":{\"x\":{\"type\":\"field\",\"field\":\"x_value\"},\"y\":{\"type\":\"field\",\"field\":\"y_value\"},\"radius\":{\"type\":\"value\",\"value\":0.0007395048529999999},\"line_color\":{\"type\":\"value\",\"value\":null},\"fill_color\":{\"type\":\"field\",\"field\":\"MJD\",\"transform\":{\"type\":\"object\",\"name\":\"LinearColorMapper\",\"id\":\"p1042\",\"attributes\":{\"palette\":[\"#5e4fa2\",\"#3288bd\",\"#66c2a5\",\"#abdda4\",\"#e6f598\",\"#fee08b\",\"#fdae61\",\"#f46d43\",\"#d53e4f\",\"#9e0142\"],\"low\":59760.9999981366,\"high\":59761.0016751736}}},\"fill_alpha\":{\"type\":\"value\",\"value\":0.6}}},\"nonselection_glyph\":{\"type\":\"object\",\"name\":\"Circle\",\"id\":\"p1052\",\"attributes\":{\"x\":{\"type\":\"field\",\"field\":\"x_value\"},\"y\":{\"type\":\"field\",\"field\":\"y_value\"},\"radius\":{\"type\":\"value\",\"value\":0.0007395048529999999},\"line_color\":{\"type\":\"value\",\"value\":null},\"line_alpha\":{\"type\":\"value\",\"value\":0.1},\"fill_color\":{\"type\":\"field\",\"field\":\"MJD\",\"transform\":{\"id\":\"p1042\"}},\"fill_alpha\":{\"type\":\"value\",\"value\":0.1},\"hatch_alpha\":{\"type\":\"value\",\"value\":0.1}}},\"muted_glyph\":{\"type\":\"object\",\"name\":\"Circle\",\"id\":\"p1053\",\"attributes\":{\"x\":{\"type\":\"field\",\"field\":\"x_value\"},\"y\":{\"type\":\"field\",\"field\":\"y_value\"},\"radius\":{\"type\":\"value\",\"value\":0.0007395048529999999},\"line_color\":{\"type\":\"value\",\"value\":null},\"line_alpha\":{\"type\":\"value\",\"value\":0.2},\"fill_color\":{\"type\":\"field\",\"field\":\"MJD\",\"transform\":{\"id\":\"p1042\"}},\"fill_alpha\":{\"type\":\"value\",\"value\":0.2},\"hatch_alpha\":{\"type\":\"value\",\"value\":0.2}}}}}],\"toolbar\":{\"type\":\"object\",\"name\":\"Toolbar\",\"id\":\"p1016\",\"attributes\":{\"tools\":[{\"type\":\"object\",\"name\":\"PanTool\",\"id\":\"p1029\"},{\"type\":\"object\",\"name\":\"WheelZoomTool\",\"id\":\"p1030\",\"attributes\":{\"renderers\":\"auto\"}},{\"type\":\"object\",\"name\":\"BoxZoomTool\",\"id\":\"p1031\",\"attributes\":{\"dimensions\":\"both\",\"overlay\":{\"type\":\"object\",\"name\":\"BoxAnnotation\",\"id\":\"p1032\",\"attributes\":{\"syncable\":false,\"line_color\":\"black\",\"line_alpha\":1.0,\"line_width\":2,\"line_dash\":[4,4],\"fill_color\":\"lightgrey\",\"fill_alpha\":0.5,\"level\":\"overlay\",\"visible\":false,\"left\":{\"type\":\"number\",\"value\":\"nan\"},\"right\":{\"type\":\"number\",\"value\":\"nan\"},\"top\":{\"type\":\"number\",\"value\":\"nan\"},\"bottom\":{\"type\":\"number\",\"value\":\"nan\"},\"left_units\":\"canvas\",\"right_units\":\"canvas\",\"top_units\":\"canvas\",\"bottom_units\":\"canvas\",\"handles\":{\"type\":\"object\",\"name\":\"BoxInteractionHandles\",\"id\":\"p1038\",\"attributes\":{\"all\":{\"type\":\"object\",\"name\":\"AreaVisuals\",\"id\":\"p1037\",\"attributes\":{\"fill_color\":\"white\",\"hover_fill_color\":\"lightgray\"}}}}}}}},{\"type\":\"object\",\"name\":\"SaveTool\",\"id\":\"p1039\"},{\"type\":\"object\",\"name\":\"ResetTool\",\"id\":\"p1040\"},{\"type\":\"object\",\"name\":\"HelpTool\",\"id\":\"p1041\"}]}},\"left\":[{\"type\":\"object\",\"name\":\"LinearAxis\",\"id\":\"p1024\",\"attributes\":{\"ticker\":{\"type\":\"object\",\"name\":\"BasicTicker\",\"id\":\"p1025\",\"attributes\":{\"mantissas\":[1,2,5]}},\"formatter\":{\"type\":\"object\",\"name\":\"BasicTickFormatter\",\"id\":\"p1026\"},\"axis_label\":\"FSM y-axis commanded angle (arcsec)\",\"major_label_policy\":{\"type\":\"object\",\"name\":\"AllLabels\",\"id\":\"p1027\"}}}],\"right\":[{\"type\":\"object\",\"name\":\"ColorBar\",\"id\":\"p1058\",\"attributes\":{\"location\":[0,0],\"width\":12,\"ticker\":{\"type\":\"object\",\"name\":\"FixedTicker\",\"id\":\"p1057\",\"attributes\":{\"ticks\":[59760.9999981366,59761.0001640625,59761.0003299884,59761.0004959144,59761.0006618403,59761.0008277662,59761.0009936921,59761.0011596181,59761.001325544,59761.0014914699,59761.0016573958],\"minor_ticks\":[]}},\"major_label_overrides\":{\"type\":\"map\",\"entries\":[[59760.9999981366,\"2022-06-30 23:59:59.839000\"],[59761.0001640625,\"2022-07-01 00:00:14.175000\"],[59761.0003299884,\"2022-07-01 00:00:28.511000\"],[59761.0004959144,\"2022-07-01 00:00:42.847000\"],[59761.0006618403,\"2022-07-01 00:00:57.183000\"],[59761.0008277662,\"2022-07-01 00:01:11.519000\"],[59761.0009936921,\"2022-07-01 00:01:25.855000\"],[59761.0011596181,\"2022-07-01 00:01:40.191000\"],[59761.001325544,\"2022-07-01 00:01:54.527000\"],[59761.0014914699,\"2022-07-01 00:02:08.863000\"],[59761.0016573958,\"2022-07-01 00:02:23.199000\"]]},\"major_label_policy\":{\"type\":\"object\",\"name\":\"NoOverlap\",\"id\":\"p1059\"},\"label_standoff\":45,\"color_mapper\":{\"id\":\"p1042\"}}}],\"below\":[{\"type\":\"object\",\"name\":\"LinearAxis\",\"id\":\"p1019\",\"attributes\":{\"ticker\":{\"type\":\"object\",\"name\":\"BasicTicker\",\"id\":\"p1020\",\"attributes\":{\"mantissas\":[1,2,5]}},\"formatter\":{\"type\":\"object\",\"name\":\"BasicTickFormatter\",\"id\":\"p1021\"},\"axis_label\":\"FSM x-axis commanded angle (arcsec)\",\"major_label_policy\":{\"type\":\"object\",\"name\":\"AllLabels\",\"id\":\"p1022\"}}}],\"center\":[{\"type\":\"object\",\"name\":\"Grid\",\"id\":\"p1023\",\"attributes\":{\"axis\":{\"id\":\"p1019\"}}},{\"type\":\"object\",\"name\":\"Grid\",\"id\":\"p1028\",\"attributes\":{\"dimension\":1,\"axis\":{\"id\":\"p1024\"}}}],\"match_aspect\":true}}]}};\n",
       "  const render_items = [{\"docid\":\"a7f5163e-968d-4e90-bbd6-b3147faa20d0\",\"roots\":{\"p1008\":\"ec660eb0-56fd-48e3-9543-b97efd63eedd\"},\"root_ids\":[\"p1008\"]}];\n",
       "  void root.Bokeh.embed.embed_items_notebook(docs_json, render_items);\n",
       "  }\n",
       "  if (root.Bokeh !== undefined) {\n",
       "    embed_document(root);\n",
       "  } else {\n",
       "    let attempts = 0;\n",
       "    const timer = setInterval(function(root) {\n",
       "      if (root.Bokeh !== undefined) {\n",
       "        clearInterval(timer);\n",
       "        embed_document(root);\n",
       "      } else {\n",
       "        attempts++;\n",
       "        if (attempts > 100) {\n",
       "          clearInterval(timer);\n",
       "          console.log(\"Bokeh: ERROR: Unable to run BokehJS code because BokehJS library is missing\");\n",
       "        }\n",
       "      }\n",
       "    }, 10, root)\n",
       "  }\n",
       "})(window);"
      ],
      "application/vnd.bokehjs_exec.v0+json": ""
     },
     "metadata": {
      "application/vnd.bokehjs_exec.v0+json": {
       "id": "p1008"
      }
     },
     "output_type": "display_data"
    }
   ],
   "source": [
    "plot_x_v_y_color(split_series[0])"
   ]
  },
  {
   "cell_type": "code",
   "execution_count": 14,
   "metadata": {
    "execution": {
     "iopub.execute_input": "2025-09-11T15:14:38.401242Z",
     "iopub.status.busy": "2025-09-11T15:14:38.401086Z",
     "iopub.status.idle": "2025-09-11T15:14:38.404427Z",
     "shell.execute_reply": "2025-09-11T15:14:38.403927Z"
    },
    "tags": []
   },
   "outputs": [
    {
     "data": {
      "text/plain": [
       "41"
      ]
     },
     "execution_count": 14,
     "metadata": {},
     "output_type": "execute_result"
    }
   ],
   "source": [
    "len(split_series)"
   ]
  },
  {
   "cell_type": "markdown",
   "metadata": {},
   "source": [
    "# Additional Resources\n",
    "* The [JWST Engineering Database Portal](https://mast.stsci.edu/portal_jwst/Mashup/Clients/jwstedb/jwstedb.html)\n",
    "* The [Engineering Data](https://outerspace.stsci.edu/display/MASTDOCS/Engineering+Data) chapter of the JWST Archive Manual.\n",
    "* For more information about retreiving parameter metadata, see the [API for JWST Metadata Page](https://outerspace.stsci.edu/display/MASTDOCS/API+for+JWST+Metadata). As an example, you might run a query to confirm the units on the above figure should be in arcseconds.\n",
    "\n",
    "## About this Notebook\n",
    "This notebook was developed by MAST staff, chiefly Dick Shaw, Peter Forshay, and Bernie Shiao. Additional editing was provided by Thomas Dutkiewicz.\n",
    "\n",
    "**Last updated:** October 2023 <br>\n",
    "\n",
    "For support, please contact the Archive HelpDesk at archive@stsci.edu.\n",
    "\n",
    "***\n",
    " <img style=\"float: right;\" src=\"https://raw.githubusercontent.com/spacetelescope/notebooks/master/assets/stsci_pri_combo_mark_horizonal_white_bkgd.png\" alt=\"Space Telescope Logo\" width=\"200px\"/>\n",
    "\n",
    "[Return to top of page](#JWST-Engineering-Data-Retrieval)"
   ]
  }
 ],
 "metadata": {
  "kernelspec": {
   "display_name": "myenv",
   "language": "python",
   "name": "python3"
  },
  "language_info": {
   "codemirror_mode": {
    "name": "ipython",
    "version": 3
   },
   "file_extension": ".py",
   "mimetype": "text/x-python",
   "name": "python",
   "nbconvert_exporter": "python",
   "pygments_lexer": "ipython3",
   "version": "3.11.13"
  }
 },
 "nbformat": 4,
 "nbformat_minor": 4
}
