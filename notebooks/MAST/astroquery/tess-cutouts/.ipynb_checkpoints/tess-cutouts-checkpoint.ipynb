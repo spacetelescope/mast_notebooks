{
 "cells": [
  {
   "cell_type": "code",
   "execution_count": null,
   "id": "8e62ffad",
   "metadata": {},
   "outputs": [],
   "source": [
    "from astropy.coordinates import SkyCoord\n",
    "from astroquery.mast import Tesscut\n",
    "\n",
    "import astropy.units as u\n",
    "import matplotlib.pyplot as plt"
   ]
  },
  {
   "cell_type": "code",
   "execution_count": null,
   "id": "2e9606df",
   "metadata": {},
   "outputs": [],
   "source": [
    "# Target TIC 820148\n",
    "ra, dec = 135.068791070904, -4.93685127545661\n",
    "coords = SkyCoord(ra*u.deg, dec*u.deg, frame='icrs')"
   ]
  },
  {
   "cell_type": "markdown",
   "id": "70820a7d",
   "metadata": {},
   "source": [
    "New product call for `get_sectors` method:"
   ]
  },
  {
   "cell_type": "code",
   "execution_count": null,
   "id": "26b79fd4",
   "metadata": {},
   "outputs": [],
   "source": [
    "Tesscut.get_sectors(coordinates=coords, product='tica')"
   ]
  },
  {
   "cell_type": "markdown",
   "id": "093f1027",
   "metadata": {},
   "source": [
    "By default, it will return sectors for SPOC. This default is the same for all functions."
   ]
  },
  {
   "cell_type": "code",
   "execution_count": null,
   "id": "7532030f",
   "metadata": {},
   "outputs": [],
   "source": [
    "Tesscut.get_sectors(coordinates=coords)"
   ]
  },
  {
   "cell_type": "markdown",
   "id": "bccb8890",
   "metadata": {},
   "source": [
    "New product call for `get_cutouts` method:"
   ]
  },
  {
   "cell_type": "code",
   "execution_count": null,
   "id": "ecdc00e3",
   "metadata": {},
   "outputs": [],
   "source": [
    "cutouts = Tesscut.get_cutouts(coordinates=coords, product='tica', size=6)\n",
    "cutouts"
   ]
  },
  {
   "cell_type": "markdown",
   "id": "91b4ebd6",
   "metadata": {},
   "source": [
    "We will plot one of the FFI cutouts for one of the sectors:"
   ]
  },
  {
   "cell_type": "code",
   "execution_count": null,
   "id": "d3b31a5e",
   "metadata": {},
   "outputs": [],
   "source": [
    "ffi_cutout = cutouts[0][1].data['FLUX'][0]\n",
    "\n",
    "plt.imshow(ffi_cutout)"
   ]
  },
  {
   "cell_type": "code",
   "execution_count": null,
   "id": "e3501c72",
   "metadata": {},
   "outputs": [],
   "source": [
    "print(cutouts[0][0].header.cards['PROCVER'])\n",
    "print(cutouts[0][0].header.cards['FFI_TYPE'])"
   ]
  },
  {
   "cell_type": "markdown",
   "id": "aaf3be82",
   "metadata": {},
   "source": [
    "New product call for `download_cutouts` method:"
   ]
  },
  {
   "cell_type": "code",
   "execution_count": null,
   "id": "60fa5388",
   "metadata": {},
   "outputs": [],
   "source": [
    "manifest = Tesscut.download_cutouts(coordinates=coords, product='tica', size=5)"
   ]
  },
  {
   "cell_type": "markdown",
   "id": "c91cd4d4",
   "metadata": {},
   "source": [
    "TICA is not currently supported by TESSCut's moving targets feature, so any call to moving targets in any of the functions while `product='TICA'` will return an error."
   ]
  },
  {
   "cell_type": "code",
   "execution_count": null,
   "id": "0ddcd477",
   "metadata": {},
   "outputs": [],
   "source": [
    "Tesscut.get_sectors(objectname='Eleonora', moving_target=True, product='tica')"
   ]
  },
  {
   "cell_type": "code",
   "execution_count": null,
   "id": "9b8c0012",
   "metadata": {},
   "outputs": [],
   "source": [
    "Tesscut.get_cutouts(objectname='Eleonora', moving_target=True, product='tica')"
   ]
  },
  {
   "cell_type": "code",
   "execution_count": null,
   "id": "a0de1357",
   "metadata": {},
   "outputs": [],
   "source": [
    "Tesscut.download_cutouts(objectname='Eleonora', moving_target=True, product='tica')"
   ]
  }
 ],
 "metadata": {
  "kernelspec": {
   "display_name": "Python 3 (ipykernel)",
   "language": "python",
   "name": "python3"
  },
  "language_info": {
   "codemirror_mode": {
    "name": "ipython",
    "version": 3
   },
   "file_extension": ".py",
   "mimetype": "text/x-python",
   "name": "python",
   "nbconvert_exporter": "python",
   "pygments_lexer": "ipython3",
   "version": "3.9.7"
  }
 },
 "nbformat": 4,
 "nbformat_minor": 5
}
