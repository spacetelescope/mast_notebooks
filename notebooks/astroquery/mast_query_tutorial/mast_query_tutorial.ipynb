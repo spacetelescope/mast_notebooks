{
 "cells": [
  {
   "cell_type": "markdown",
   "metadata": {},
   "source": [
    "<a id=\"top\"></a>\n",
    "# Searching MAST using astroquery.mast's Mast class.\n",
    "***\n",
    "## Learning Goals\n",
    "\n",
    "By the end of this tutorial, you will:\n",
    "\n",
    "- Recognize the types of services MAST Portal API provides through `astroquery.mast` and their required parameters.\n",
    "- Understand the benefits of `astroquery.mast`'s `Mast` class.\n",
    "- Make queries for different types of services using `astroquery.mast.Mast.mast_query`.\n"
   ]
  },
  {
   "cell_type": "markdown",
   "metadata": {
    "slideshow": {
     "slide_type": "slide"
    }
   },
   "source": [
    "## Introduction\n",
    "`astroquery.mast.Mast` is a class that allows programmatic access to the MAST Portal. It is similar to `astroquery.mast.Observations` in that the Observations class also allows direct programmatic access to the MAST Portal. The Mast class is still needed in addition to Observations because Observations provides simplified methods to query MAST's CAOM database, while Mast can be used to query other MAST databases including CAOM. Compared to Observations, using Mast, users can create more refined queries using science instrument keywords. \n",
    "\n",
    "Previously, users who wanted to query for observations using the Mast class had to compile their own JSON/dictionaries to feed into the MAST Portal API. To simplify queries, users should use the `mast_query` method under `astroquery.mast.Mast`. \n",
    "\n",
    "\n",
    "The workflow for this notebook consists of:\n",
    "* [Filtered Queries](#Filtered-Queries)\n",
    "    * [JWST Query](#JWST-Query)\n",
    "    * [TESS Query](#TESS-Query)\n",
    "* [Cone Search](#Cone-Search)\n",
    "* [Mast vs Observations](#Mast-vs-Observations)\n",
    "* [Additional Resources](#Additional-Resources)"
   ]
  },
  {
   "cell_type": "markdown",
   "metadata": {
    "slideshow": {
     "slide_type": "slide"
    }
   },
   "source": [
    "## Imports\n",
    "\n",
    "- *astropy.units* to handle unit conversion.\n",
    "- *astropy.time Time* to handle time format conversion."
   ]
  },
  {
   "cell_type": "code",
   "execution_count": 1,
   "metadata": {
    "slideshow": {
     "slide_type": "fragment"
    }
   },
   "outputs": [],
   "source": [
    "import astropy.units as u\n",
    "\n",
    "from astropy.time import Time\n",
    "from astroquery.mast import Mast\n",
    "from astroquery.mast import Observations"
   ]
  },
  {
   "cell_type": "markdown",
   "metadata": {},
   "source": [
    "## Date Format Helper Method"
   ]
  },
  {
   "cell_type": "code",
   "execution_count": 2,
   "metadata": {},
   "outputs": [],
   "source": [
    "def set_mjd_range(min, max):\n",
    "    '''Set time range in MJD given limits expressed as ISO-8601 dates'''\n",
    "    return {\n",
    "        \"min\": Time(min, format='isot').mjd, \n",
    "        \"max\": Time(max, format='isot').mjd\n",
    "        }"
   ]
  },
  {
   "cell_type": "markdown",
   "metadata": {},
   "source": [
    "***"
   ]
  },
  {
   "cell_type": "markdown",
   "metadata": {},
   "source": [
    "## Filtered Queries\n",
    "\n",
    "MAST's Filtered services use the parameters 'columns' and 'filters'. The 'columns' parameter is a required string that specifies the columns to be returned as a comma-separated list. The 'filters' parameter is a required list of filters to be applied. Using the `mast_query` method, users can list filters using keyword arguments and a list of values. The examples below will show the necessary format of these arguments for different services."
   ]
  },
  {
   "cell_type": "markdown",
   "metadata": {
    "slideshow": {
     "slide_type": "slide"
    }
   },
   "source": [
    "### JWST Query \n",
    "\n",
    "This is a query to view all targets of opportunity observed in the first half of 2023 by JWST's Nirspec instrument. The table only shows the specified columns."
   ]
  },
  {
   "cell_type": "code",
   "execution_count": 3,
   "metadata": {
    "slideshow": {
     "slide_type": "fragment"
    }
   },
   "outputs": [],
   "source": [
    "jwst_table = Mast.mast_query('Mast.Jwst.Filtered.Nirspec',\n",
    "                        columns = 'title, instrume, targname, date_obs_mjd',\n",
    "                        targoopp = ['T'],\n",
    "                        date_obs_mjd = [set_mjd_range('2023-01-01', '2023-06-01')])"
   ]
  },
  {
   "cell_type": "markdown",
   "metadata": {},
   "source": [
    "To verify that the query above returns the correct range of observations, convert the time format form mjd to iso for readability."
   ]
  },
  {
   "cell_type": "code",
   "execution_count": 4,
   "metadata": {},
   "outputs": [],
   "source": [
    "jwst_table['date_obs_mjd'] = Time(jwst_table['date_obs_mjd'], format='mjd').iso"
   ]
  },
  {
   "cell_type": "code",
   "execution_count": 5,
   "metadata": {},
   "outputs": [
    {
     "data": {
      "text/html": [
       "<div><i>Table masked=True length=212</i>\n",
       "<table id=\"table4655258192\" class=\"table-striped table-bordered table-condensed\">\n",
       "<thead><tr><th>title</th><th>instrume</th><th>targname</th><th>date_obs_mjd</th></tr></thead>\n",
       "<thead><tr><th>str114</th><th>str7</th><th>str15</th><th>str23</th></tr></thead>\n",
       "<tr><td>Near- and Mid-IR Observations to Probe Dust Formation in the Remarkably Nearby Stripped-Envelope Supernova 2023dbc</td><td>NIRSPEC</td><td>SN 2023dbc</td><td>2023-05-03 18:18:16.473</td></tr>\n",
       "<tr><td>Near- and Mid-IR Observations to Probe Dust Formation in the Remarkably Nearby Stripped-Envelope Supernova 2023dbc</td><td>NIRSPEC</td><td>SN 2023dbc</td><td>2023-05-03 18:18:16.473</td></tr>\n",
       "<tr><td>Near- and Mid-IR Observations to Probe Dust Formation in the Remarkably Nearby Stripped-Envelope Supernova 2023dbc</td><td>NIRSPEC</td><td>SN 2023dbc</td><td>2023-05-03 18:20:00.923</td></tr>\n",
       "<tr><td>Near- and Mid-IR Observations to Probe Dust Formation in the Remarkably Nearby Stripped-Envelope Supernova 2023dbc</td><td>NIRSPEC</td><td>SN 2023dbc</td><td>2023-05-03 18:20:00.923</td></tr>\n",
       "<tr><td>Near- and Mid-IR Observations to Probe Dust Formation in the Remarkably Nearby Stripped-Envelope Supernova 2023dbc</td><td>NIRSPEC</td><td>SN 2023dbc</td><td>2023-05-03 18:23:54.223</td></tr>\n",
       "<tr><td>Near- and Mid-IR Observations to Probe Dust Formation in the Remarkably Nearby Stripped-Envelope Supernova 2023dbc</td><td>NIRSPEC</td><td>SN 2023dbc</td><td>2023-05-03 18:23:54.223</td></tr>\n",
       "<tr><td>...</td><td>...</td><td>...</td><td>...</td></tr>\n",
       "<tr><td>NAOMY-J: NIR-dark Accretion Outbursts from Massive Young stellar objects with JWST</td><td>NIRSPEC</td><td>IRAS 18134-1942</td><td>2023-05-07 18:18:55.896</td></tr>\n",
       "<tr><td>NAOMY-J: NIR-dark Accretion Outbursts from Massive Young stellar objects with JWST</td><td>NIRSPEC</td><td>IRAS 18134-1942</td><td>2023-05-07 18:18:55.896</td></tr>\n",
       "<tr><td>ToO Comet</td><td>NIRSPEC</td><td>ZTF (C/2022 E3)</td><td>2023-03-01 05:01:30.083</td></tr>\n",
       "<tr><td>ToO Comet</td><td>NIRSPEC</td><td>ZTF (C/2022 E3)</td><td>2023-03-01 05:01:30.083</td></tr>\n",
       "<tr><td>ToO Comet</td><td>NIRSPEC</td><td>ZTF (C/2022 E3)</td><td>2023-03-01 05:01:37.380</td></tr>\n",
       "<tr><td>ToO Comet</td><td>NIRSPEC</td><td>ZTF (C/2022 E3)</td><td>2023-03-01 05:01:37.380</td></tr>\n",
       "<tr><td>ToO Comet</td><td>NIRSPEC</td><td>ZTF (C/2022 E3)</td><td>2023-03-01 05:01:37.380</td></tr>\n",
       "</table></div>"
      ],
      "text/plain": [
       "<Table masked=True length=212>\n",
       "                                                      title                                                        ...\n",
       "                                                      str114                                                       ...\n",
       "------------------------------------------------------------------------------------------------------------------ ...\n",
       "Near- and Mid-IR Observations to Probe Dust Formation in the Remarkably Nearby Stripped-Envelope Supernova 2023dbc ...\n",
       "Near- and Mid-IR Observations to Probe Dust Formation in the Remarkably Nearby Stripped-Envelope Supernova 2023dbc ...\n",
       "Near- and Mid-IR Observations to Probe Dust Formation in the Remarkably Nearby Stripped-Envelope Supernova 2023dbc ...\n",
       "Near- and Mid-IR Observations to Probe Dust Formation in the Remarkably Nearby Stripped-Envelope Supernova 2023dbc ...\n",
       "Near- and Mid-IR Observations to Probe Dust Formation in the Remarkably Nearby Stripped-Envelope Supernova 2023dbc ...\n",
       "Near- and Mid-IR Observations to Probe Dust Formation in the Remarkably Nearby Stripped-Envelope Supernova 2023dbc ...\n",
       "                                                                                                               ... ...\n",
       "                                NAOMY-J: NIR-dark Accretion Outbursts from Massive Young stellar objects with JWST ...\n",
       "                                NAOMY-J: NIR-dark Accretion Outbursts from Massive Young stellar objects with JWST ...\n",
       "                                                                                                         ToO Comet ...\n",
       "                                                                                                         ToO Comet ...\n",
       "                                                                                                         ToO Comet ...\n",
       "                                                                                                         ToO Comet ...\n",
       "                                                                                                         ToO Comet ..."
      ]
     },
     "execution_count": 5,
     "metadata": {},
     "output_type": "execute_result"
    }
   ],
   "source": [
    "# Output the table.\n",
    "jwst_table"
   ]
  },
  {
   "cell_type": "markdown",
   "metadata": {},
   "source": [
    "### TESS Query\n",
    "\n",
    "TESS queries have 2 types of filtered services. There are [Mast.Catalogs.Filtered...](https://mast.stsci.edu/api/v0/_services.html#MastCatalogsFilteredTic) and [Mast.Catalogs.Filtered...Rows](https://mast.stsci.edu/api/v0/_services.html#MastCatalogsFilteredTicRows) services. To specify columns using the columns parameter in the `mast_query` method, 'rows' services must be used and the other must be used to count the number of returned methods. "
   ]
  },
  {
   "cell_type": "code",
   "execution_count": 6,
   "metadata": {},
   "outputs": [
    {
     "data": {
      "text/html": [
       "<div><i>Table masked=True length=9</i>\n",
       "<table id=\"table4655258432\" class=\"table-striped table-bordered table-condensed\">\n",
       "<thead><tr><th>id</th><th>objtype</th><th>lumclass</th><th>ra</th><th>dec</th><th>Teff</th><th>logg</th></tr></thead>\n",
       "<thead><tr><th>str9</th><th>str4</th><th>str5</th><th>float64</th><th>float64</th><th>float64</th><th>float64</th></tr></thead>\n",
       "<tr><td>441660223</td><td>STAR</td><td>DWARF</td><td>210.637077874118</td><td>54.4478798585702</td><td>4376.0</td><td>4.70571</td></tr>\n",
       "<tr><td>441660183</td><td>STAR</td><td>DWARF</td><td>210.538862106365</td><td>54.2729869423289</td><td>4368.0</td><td>4.62257</td></tr>\n",
       "<tr><td>441662171</td><td>STAR</td><td>DWARF</td><td>210.925849073183</td><td>54.3818325006587</td><td>4281.0</td><td>4.67429</td></tr>\n",
       "<tr><td>441660233</td><td>STAR</td><td>DWARF</td><td>210.632755491987</td><td>54.4886965046062</td><td>4465.0</td><td>4.72413</td></tr>\n",
       "<tr><td>441662352</td><td>STAR</td><td>DWARF</td><td>211.05020975977</td><td>54.3724607057412</td><td>4327.0</td><td>4.66134</td></tr>\n",
       "<tr><td>441662136</td><td>STAR</td><td>DWARF</td><td>210.7425480397</td><td>54.5405016569961</td><td>4369.96</td><td>4.50826</td></tr>\n",
       "<tr><td>441662201</td><td>STAR</td><td>DWARF</td><td>210.775735695348</td><td>54.2851241294785</td><td>4437.0</td><td>4.72054</td></tr>\n",
       "<tr><td>441662211</td><td>STAR</td><td>DWARF</td><td>210.843392261145</td><td>54.259935920806</td><td>4339.5</td><td>4.66932</td></tr>\n",
       "<tr><td>441662375</td><td>STAR</td><td>DWARF</td><td>210.956407009065</td><td>54.4609598428694</td><td>4487.0</td><td>4.52807</td></tr>\n",
       "</table></div>"
      ],
      "text/plain": [
       "<Table masked=True length=9>\n",
       "    id    objtype lumclass        ra              dec          Teff    logg \n",
       "   str9     str4    str5       float64          float64      float64 float64\n",
       "--------- ------- -------- ---------------- ---------------- ------- -------\n",
       "441660223    STAR    DWARF 210.637077874118 54.4478798585702  4376.0 4.70571\n",
       "441660183    STAR    DWARF 210.538862106365 54.2729869423289  4368.0 4.62257\n",
       "441662171    STAR    DWARF 210.925849073183 54.3818325006587  4281.0 4.67429\n",
       "441660233    STAR    DWARF 210.632755491987 54.4886965046062  4465.0 4.72413\n",
       "441662352    STAR    DWARF  211.05020975977 54.3724607057412  4327.0 4.66134\n",
       "441662136    STAR    DWARF   210.7425480397 54.5405016569961 4369.96 4.50826\n",
       "441662201    STAR    DWARF 210.775735695348 54.2851241294785  4437.0 4.72054\n",
       "441662211    STAR    DWARF 210.843392261145  54.259935920806  4339.5 4.66932\n",
       "441662375    STAR    DWARF 210.956407009065 54.4609598428694  4487.0 4.52807"
      ]
     },
     "execution_count": 6,
     "metadata": {},
     "output_type": "execute_result"
    }
   ],
   "source": [
    "# Example of a 'rows' service\n",
    "Mast.mast_query('Mast.Catalogs.Filtered.Tic.Position.Rows',\n",
    "           columns = 'id, objtype, lumclass, ra, dec, Teff, logg',\n",
    "           Teff = [{'min': 4250, 'max': 4500}], \n",
    "           logg = [{'min': 4.5, 'max': 5.0}],\n",
    "           ra = 210.8023,\n",
    "           dec = 54.349,\n",
    "           radius = .2)"
   ]
  },
  {
   "cell_type": "code",
   "execution_count": 7,
   "metadata": {},
   "outputs": [
    {
     "data": {
      "text/html": [
       "<div><i>Table masked=True length=1</i>\n",
       "<table id=\"table4655260064\" class=\"table-striped table-bordered table-condensed\">\n",
       "<thead><tr><th>Column1</th></tr></thead>\n",
       "<thead><tr><th>str1</th></tr></thead>\n",
       "<tr><td>9</td></tr>\n",
       "</table></div>"
      ],
      "text/plain": [
       "<Table masked=True length=1>\n",
       "Column1\n",
       "  str1 \n",
       "-------\n",
       "      9"
      ]
     },
     "execution_count": 7,
     "metadata": {},
     "output_type": "execute_result"
    }
   ],
   "source": [
    "# Example of a service without 'rows'\n",
    "Mast.mast_query('Mast.Catalogs.Filtered.Tic.Position',\n",
    "           columns = 'COUNT_BIG(*)',\n",
    "           Teff = [{'min': 4250, 'max': 4500}],\n",
    "           logg = [{'min': 4.5, 'max': 5.0}],\n",
    "           ra = 210.8023,\n",
    "           dec = 54.349,\n",
    "           radius = .2)"
   ]
  },
  {
   "cell_type": "markdown",
   "metadata": {},
   "source": [
    "## Cone Search\n",
    "\n",
    "The MAST Portal API's cone searches are not filtered using non-positional criteria. Most cone searches only accept the parameters 'ra', 'dec', and radius and return a table with all columns present. Users can limit the columns by assigning the table returned from the `mast_query` call to a variable and masking it with a list of column names."
   ]
  },
  {
   "cell_type": "code",
   "execution_count": 8,
   "metadata": {
    "scrolled": true
   },
   "outputs": [],
   "source": [
    "gaia_table = Mast.mast_query('Mast.Catalogs.GaiaDR1.Cone',\n",
    "                        ra = 254.287,\n",
    "                        dec = -4.09933,\n",
    "                        radius = 0.02)"
   ]
  },
  {
   "cell_type": "code",
   "execution_count": 9,
   "metadata": {},
   "outputs": [
    {
     "data": {
      "text/html": [
       "<div><i>Table masked=True length=875</i>\n",
       "<table id=\"table4656474016\" class=\"table-striped table-bordered table-condensed\">\n",
       "<thead><tr><th>solution_id</th><th>source_id</th><th>random_index</th><th>ref_epoch</th><th>ra</th><th>ra_error</th><th>dec</th><th>dec_error</th><th>parallax</th><th>parallax_error</th><th>pmra</th><th>pmra_error</th><th>pmdec</th><th>pmdec_error</th><th>ra_dec_corr</th><th>ra_parallax_corr</th><th>ra_pmra_corr</th><th>ra_pmdec_corr</th><th>dec_parallax_corr</th><th>dec_pmra_corr</th><th>dec_pmdec_corr</th><th>parallax_pmra_corr</th><th>parallax_pmdec_corr</th><th>pmra_pmdec_corr</th><th>astrometric_n_obs_al</th><th>astrometric_n_obs_ac</th><th>astrometric_n_good_obs_al</th><th>astrometric_n_good_obs_ac</th><th>astrometric_n_bad_obs_al</th><th>astrometric_n_bad_obs_ac</th><th>astrometric_delta_q</th><th>astrometric_excess_noise</th><th>astrometric_excess_noise_sig</th><th>astrometric_primary_flag</th><th>astrometric_relegation_factor</th><th>astrometric_weight_al</th><th>astrometric_weight_ac</th><th>astrometric_priors_used</th><th>matched_observations</th><th>duplicated_source</th><th>scan_direction_strength_k1</th><th>scan_direction_strength_k2</th><th>scan_direction_strength_k3</th><th>scan_direction_strength_k4</th><th>scan_direction_mean_k1</th><th>scan_direction_mean_k2</th><th>scan_direction_mean_k3</th><th>scan_direction_mean_k4</th><th>phot_g_n_obs</th><th>phot_g_mean_flux</th><th>phot_g_mean_flux_error</th><th>phot_g_mean_mag</th><th>phot_variable_flag</th><th>l</th><th>b</th><th>ecl_lon</th><th>ecl_lat</th><th>distance</th></tr></thead>\n",
       "<thead><tr><th>str19</th><th>str19</th><th>str10</th><th>float64</th><th>float64</th><th>float64</th><th>float64</th><th>float64</th><th>float64</th><th>float64</th><th>float64</th><th>float64</th><th>float64</th><th>float64</th><th>float64</th><th>float64</th><th>float64</th><th>float64</th><th>float64</th><th>float64</th><th>float64</th><th>float64</th><th>float64</th><th>float64</th><th>int64</th><th>int64</th><th>int64</th><th>int64</th><th>int64</th><th>int64</th><th>float64</th><th>float64</th><th>float64</th><th>bool</th><th>float64</th><th>float64</th><th>float64</th><th>int64</th><th>int64</th><th>bool</th><th>float64</th><th>float64</th><th>float64</th><th>float64</th><th>float64</th><th>float64</th><th>float64</th><th>float64</th><th>int64</th><th>float64</th><th>float64</th><th>float64</th><th>str13</th><th>float64</th><th>float64</th><th>float64</th><th>float64</th><th>float64</th></tr></thead>\n",
       "<tr><td>1635378410781933568</td><td>4365623394967062528</td><td>35099587</td><td>2015.0</td><td>254.28664594877367</td><td>0.7800591199324893</td><td>-4.099749987378444</td><td>0.7024372469056464</td><td>nan</td><td>nan</td><td>nan</td><td>nan</td><td>nan</td><td>nan</td><td>0.84535</td><td>nan</td><td>nan</td><td>nan</td><td>nan</td><td>nan</td><td>nan</td><td>nan</td><td>nan</td><td>nan</td><td>98</td><td>0</td><td>98</td><td>0</td><td>0</td><td>0</td><td>nan</td><td>1.924916386604309</td><td>92.79155731201172</td><td>False</td><td>7.47733736</td><td>0.2425749</td><td>nan</td><td>2</td><td>15</td><td>False</td><td>-7.87700462</td><td>-16.1296864</td><td>6.3257103</td><td>42.9588852</td><td>0.442392617</td><td>0.4329202</td><td>0.2614181</td><td>0.486563176</td><td>94</td><td>4185.569882100682</td><td>18.38994116052593</td><td>16.470383570620648</td><td>NOT_AVAILABLE</td><td>15.136960410817105</td><td>23.077171848464424</td><td>253.4558143667002</td><td>18.441611890550437</td><td>0.032923603904397254</td></tr>\n",
       "<tr><td>1635378410781933568</td><td>4365623394967063808</td><td>687570591</td><td>2015.0</td><td>254.28780098630097</td><td>0.3397216821635168</td><td>-4.099498500282075</td><td>0.29689657486339727</td><td>nan</td><td>nan</td><td>nan</td><td>nan</td><td>nan</td><td>nan</td><td>0.86065</td><td>nan</td><td>nan</td><td>nan</td><td>nan</td><td>nan</td><td>nan</td><td>nan</td><td>nan</td><td>nan</td><td>88</td><td>0</td><td>87</td><td>0</td><td>1</td><td>0</td><td>nan</td><td>0.6602540016174316</td><td>16.458555221557617</td><td>False</td><td>2.73135948</td><td>1.64296556</td><td>nan</td><td>2</td><td>11</td><td>False</td><td>9.71254349</td><td>-10.5788441</td><td>22.3184643</td><td>-43.0938072</td><td>0.364626735</td><td>0.228746325</td><td>0.143637747</td><td>0.6820425</td><td>85</td><td>6263.45801028208</td><td>20.510147022314126</td><td>16.0327346381058</td><td>NOT_AVAILABLE</td><td>15.137853178927873</td><td>23.076325706082308</td><td>253.45699085708185</td><td>18.44199257620658</td><td>0.04899074978341256</td></tr>\n",
       "<tr><td>1635378410781933568</td><td>4365623394967060608</td><td>880111999</td><td>2015.0</td><td>254.28611847638524</td><td>0.3561949355968105</td><td>-4.099302584519687</td><td>0.3601204958305138</td><td>nan</td><td>nan</td><td>nan</td><td>nan</td><td>nan</td><td>nan</td><td>0.68935</td><td>nan</td><td>nan</td><td>nan</td><td>nan</td><td>nan</td><td>nan</td><td>nan</td><td>nan</td><td>nan</td><td>79</td><td>0</td><td>77</td><td>0</td><td>2</td><td>0</td><td>nan</td><td>0.7493849992752075</td><td>25.84652328491211</td><td>False</td><td>3.05324078</td><td>1.44881618</td><td>nan</td><td>2</td><td>9</td><td>False</td><td>37.90309</td><td>32.5035744</td><td>32.8654747</td><td>41.38783</td><td>0.340221226</td><td>0.511677265</td><td>0.2953254</td><td>0.601127267</td><td>74</td><td>10414.377902601193</td><td>42.38322852209233</td><td>15.480686732076563</td><td>NOT_AVAILABLE</td><td>15.137071933590725</td><td>23.077854818529115</td><td>253.45520979204986</td><td>18.441996651890626</td><td>0.0527817395016619</td></tr>\n",
       "<tr><td>1635378410781933568</td><td>4365623390673094528</td><td>328809522</td><td>2015.0</td><td>254.28630188415966</td><td>0.18787617975637025</td><td>-4.098723527834929</td><td>0.18040514452497075</td><td>nan</td><td>nan</td><td>nan</td><td>nan</td><td>nan</td><td>nan</td><td>0.659</td><td>nan</td><td>nan</td><td>nan</td><td>nan</td><td>nan</td><td>nan</td><td>nan</td><td>nan</td><td>nan</td><td>87</td><td>0</td><td>87</td><td>0</td><td>0</td><td>0</td><td>nan</td><td>0.3887620270252228</td><td>34.048095703125</td><td>False</td><td>1.916658</td><td>5.32621336</td><td>nan</td><td>2</td><td>11</td><td>False</td><td>29.7785</td><td>29.0432053</td><td>28.9352627</td><td>39.48811</td><td>0.420812249</td><td>0.5211736</td><td>0.332130939</td><td>0.5413987</td><td>83</td><td>35378.9074066953</td><td>39.64938494730562</td><td>14.152909022265671</td><td>NOT_AVAILABLE</td><td>15.13771157071593</td><td>23.07800482328448</td><td>253.45533206753862</td><td>18.44259273759549</td><td>0.055404535306989355</td></tr>\n",
       "<tr><td>1635378410781933568</td><td>4365623394967139072</td><td>66578505</td><td>2015.0</td><td>254.28631458933617</td><td>5.190582688528432</td><td>-4.098362814717396</td><td>9.156621425650696</td><td>nan</td><td>nan</td><td>nan</td><td>nan</td><td>nan</td><td>nan</td><td>0.99775</td><td>nan</td><td>nan</td><td>nan</td><td>nan</td><td>nan</td><td>nan</td><td>nan</td><td>nan</td><td>nan</td><td>49</td><td>0</td><td>48</td><td>0</td><td>1</td><td>0</td><td>nan</td><td>0.7914198040962219</td><td>13.048690795898438</td><td>False</td><td>3.20657086</td><td>1.129101</td><td>nan</td><td>2</td><td>10</td><td>False</td><td>-12.55341</td><td>14.84307</td><td>7.092051</td><td>33.2416</td><td>0.6348926</td><td>0.508596659</td><td>0.406490982</td><td>0.3617657</td><td>49</td><td>5440.789047016121</td><td>47.22871379713026</td><td>16.185615344964816</td><td>NOT_AVAILABLE</td><td>15.138051951538742</td><td>23.078184315609292</td><td>253.45530215860325</td><td>18.44295255634628</td><td>0.07106480133806763</td></tr>\n",
       "<tr><td>1635378410781933568</td><td>4365623394967057536</td><td>210125702</td><td>2015.0</td><td>254.28566247803315</td><td>0.7530906555217215</td><td>-4.099109117083124</td><td>0.9075526420051354</td><td>nan</td><td>nan</td><td>nan</td><td>nan</td><td>nan</td><td>nan</td><td>0.70365</td><td>nan</td><td>nan</td><td>nan</td><td>nan</td><td>nan</td><td>nan</td><td>nan</td><td>nan</td><td>nan</td><td>74</td><td>0</td><td>74</td><td>0</td><td>0</td><td>0</td><td>nan</td><td>1.0489517450332642</td><td>104.23538970947266</td><td>False</td><td>4.16002941</td><td>0.862173855</td><td>nan</td><td>2</td><td>10</td><td>False</td><td>26.8588333</td><td>33.4136925</td><td>30.21497</td><td>35.843998</td><td>0.488398135</td><td>0.7802222</td><td>0.358722836</td><td>0.509797156</td><td>71</td><td>16715.6955384251</td><td>118.11416134290565</td><td>14.96695893320388</td><td>NOT_AVAILABLE</td><td>15.136989824486024</td><td>23.07834328104185</td><td>253.45471027859728</td><td>18.442137214693826</td><td>0.0811357255638983</td></tr>\n",
       "<tr><td>...</td><td>...</td><td>...</td><td>...</td><td>...</td><td>...</td><td>...</td><td>...</td><td>...</td><td>...</td><td>...</td><td>...</td><td>...</td><td>...</td><td>...</td><td>...</td><td>...</td><td>...</td><td>...</td><td>...</td><td>...</td><td>...</td><td>...</td><td>...</td><td>...</td><td>...</td><td>...</td><td>...</td><td>...</td><td>...</td><td>...</td><td>...</td><td>...</td><td>...</td><td>...</td><td>...</td><td>...</td><td>...</td><td>...</td><td>...</td><td>...</td><td>...</td><td>...</td><td>...</td><td>...</td><td>...</td><td>...</td><td>...</td><td>...</td><td>...</td><td>...</td><td>...</td><td>...</td><td>...</td><td>...</td><td>...</td><td>...</td><td>...</td></tr>\n",
       "<tr><td>1635378410781933568</td><td>4365623326247082368</td><td>101115014</td><td>2015.0</td><td>254.3064805677504</td><td>0.5987684241325426</td><td>-4.103549187509055</td><td>0.6597572168126047</td><td>nan</td><td>nan</td><td>nan</td><td>nan</td><td>nan</td><td>nan</td><td>0.7378</td><td>nan</td><td>nan</td><td>nan</td><td>nan</td><td>nan</td><td>nan</td><td>nan</td><td>nan</td><td>nan</td><td>81</td><td>0</td><td>78</td><td>0</td><td>3</td><td>0</td><td>nan</td><td>1.1500691175460815</td><td>8.589797019958496</td><td>False</td><td>4.538842</td><td>0.3877287</td><td>nan</td><td>2</td><td>11</td><td>False</td><td>-7.67721558</td><td>10.47965</td><td>-47.67763</td><td>-43.8571663</td><td>0.275416255</td><td>0.2184333</td><td>0.114333965</td><td>0.6738109</td><td>77</td><td>1343.5042166297785</td><td>15.390087420037432</td><td>17.704172479295366</td><td>NOT_AVAILABLE</td><td>15.144793361651569</td><td>23.058359681761356</td><td>253.47698882589418</td><td>18.440082483278317</td><td>1.1930088058260746</td></tr>\n",
       "<tr><td>1635378410781933568</td><td>4365621810125011584</td><td>1100951027</td><td>2015.0</td><td>254.27985928154925</td><td>0.23204915270888957</td><td>-4.11790253859122</td><td>0.18781479766110132</td><td>nan</td><td>nan</td><td>nan</td><td>nan</td><td>nan</td><td>nan</td><td>0.81745</td><td>nan</td><td>nan</td><td>nan</td><td>nan</td><td>nan</td><td>nan</td><td>nan</td><td>nan</td><td>nan</td><td>116</td><td>0</td><td>116</td><td>0</td><td>0</td><td>0</td><td>nan</td><td>0.5149827003479004</td><td>116.4601058959961</td><td>False</td><td>3.397205</td><td>3.51343036</td><td>nan</td><td>2</td><td>14</td><td>False</td><td>27.1610432</td><td>17.9196</td><td>24.7467785</td><td>40.5636444</td><td>0.39681828</td><td>0.387795836</td><td>0.2937474</td><td>0.52201587</td><td>119</td><td>76706.74204650884</td><td>23.75421072075741</td><td>13.312686220300753</td><td>NOT_AVAILABLE</td><td>15.116316439497957</td><td>23.073346746186786</td><td>253.4508984667109</td><td>18.422807972120896</td><td>1.193483255271985</td></tr>\n",
       "<tr><td>1635378410781933568</td><td>4365635249077232512</td><td>154592179</td><td>2015.0</td><td>254.2912605388703</td><td>0.3164174449248199</td><td>-4.079892570403416</td><td>0.2856776002576363</td><td>nan</td><td>nan</td><td>nan</td><td>nan</td><td>nan</td><td>nan</td><td>0.86005</td><td>nan</td><td>nan</td><td>nan</td><td>nan</td><td>nan</td><td>nan</td><td>nan</td><td>nan</td><td>nan</td><td>98</td><td>0</td><td>98</td><td>0</td><td>0</td><td>0</td><td>nan</td><td>0.5940356254577637</td><td>10.883842468261719</td><td>False</td><td>2.49588966</td><td>1.70174289</td><td>nan</td><td>2</td><td>16</td><td>False</td><td>-6.15812349</td><td>-15.9215307</td><td>7.228573</td><td>42.4350929</td><td>0.4564187</td><td>0.444226682</td><td>0.261365533</td><td>0.4789456</td><td>96</td><td>4525.436557903442</td><td>14.928694977527059</td><td>16.38561886159338</td><td>NOT_AVAILABLE</td><td>15.157938374013675</td><td>23.083733853171402</td><td>253.45825826778096</td><td>18.461863527470648</td><td>1.1937942599867195</td></tr>\n",
       "<tr><td>1635378410781933568</td><td>4365635249077161472</td><td>343286133</td><td>2015.0</td><td>254.29023184655907</td><td>6.833511566626751</td><td>-4.079677476931266</td><td>6.731852300393025</td><td>nan</td><td>nan</td><td>nan</td><td>nan</td><td>nan</td><td>nan</td><td>0.8773</td><td>nan</td><td>nan</td><td>nan</td><td>nan</td><td>nan</td><td>nan</td><td>nan</td><td>nan</td><td>nan</td><td>65</td><td>0</td><td>54</td><td>0</td><td>11</td><td>0</td><td>nan</td><td>6.267368793487549</td><td>231.418701171875</td><td>False</td><td>24.1476078</td><td>0.02445137</td><td>nan</td><td>2</td><td>13</td><td>False</td><td>2.48527336</td><td>4.44117165</td><td>16.237154</td><td>27.0407639</td><td>0.8067817</td><td>0.581837</td><td>0.400878549</td><td>0.5067055</td><td>64</td><td>1569.1403147708197</td><td>45.74157184146737</td><td>17.535615612448026</td><td>NOT_AVAILABLE</td><td>15.157548853546697</td><td>23.084719102071563</td><td>253.45715775690854</td><td>18.461960724082704</td><td>1.194909264085885</td></tr>\n",
       "<tr><td>1635378410781933568</td><td>4365635249077157888</td><td>1095599663</td><td>2015.0</td><td>254.290361369568</td><td>5.504702434446226</td><td>-4.079672641578106</td><td>3.5774211449652644</td><td>nan</td><td>nan</td><td>nan</td><td>nan</td><td>nan</td><td>nan</td><td>0.9299</td><td>nan</td><td>nan</td><td>nan</td><td>nan</td><td>nan</td><td>nan</td><td>nan</td><td>nan</td><td>nan</td><td>42</td><td>0</td><td>40</td><td>0</td><td>2</td><td>0</td><td>nan</td><td>4.668428421020508</td><td>59.259376525878906</td><td>False</td><td>17.999403</td><td>0.04110719</td><td>nan</td><td>2</td><td>8</td><td>False</td><td>-94.65813</td><td>-33.41424</td><td>-22.4662647</td><td>-38.9383163</td><td>0.3401808</td><td>0.39892748</td><td>0.434366465</td><td>0.846481144</td><td>42</td><td>1030.5197913968839</td><td>14.807378559623277</td><td>17.992129221509963</td><td>NOT_AVAILABLE</td><td>15.157627378420928</td><td>23.08461188043639</td><td>253.45729250190058</td><td>18.461980197871583</td><td>1.196474444196872</td></tr>\n",
       "<tr><td>1635378410781933568</td><td>4365635145998225536</td><td>1130439014</td><td>2015.0</td><td>254.27964918184765</td><td>3.0726555239973106</td><td>-4.080777458538118</td><td>2.4169145366498466</td><td>nan</td><td>nan</td><td>nan</td><td>nan</td><td>nan</td><td>nan</td><td>0.99455</td><td>nan</td><td>nan</td><td>nan</td><td>nan</td><td>nan</td><td>nan</td><td>nan</td><td>nan</td><td>nan</td><td>63</td><td>0</td><td>63</td><td>0</td><td>0</td><td>0</td><td>nan</td><td>0.4552708864212036</td><td>1.3528187274932861</td><td>False</td><td>2.01783347</td><td>0.904749632</td><td>nan</td><td>2</td><td>12</td><td>False</td><td>-13.472683</td><td>-25.699604</td><td>-25.19968</td><td>-44.6930656</td><td>0.636619449</td><td>0.6359448</td><td>0.149279669</td><td>0.5381774</td><td>62</td><td>1411.8481646719456</td><td>5.2845227551893705</td><td>17.650300079825133</td><td>NOT_AVAILABLE</td><td>15.150481418010305</td><td>23.093107704643586</td><td>253.44623298502464</td><td>18.459668884651595</td><td>1.1969307344277031</td></tr>\n",
       "<tr><td>1635378410781933568</td><td>4365623291887247104</td><td>892801933</td><td>2015.0</td><td>254.29794942816002</td><td>13.322378344999725</td><td>-4.116071965107101</td><td>4.14648289656837</td><td>nan</td><td>nan</td><td>nan</td><td>nan</td><td>nan</td><td>nan</td><td>-0.99335</td><td>nan</td><td>nan</td><td>nan</td><td>nan</td><td>nan</td><td>nan</td><td>nan</td><td>nan</td><td>nan</td><td>54</td><td>0</td><td>54</td><td>0</td><td>0</td><td>0</td><td>nan</td><td>0.6803464293479919</td><td>4.240992069244385</td><td>False</td><td>2.80348</td><td>0.961639464</td><td>nan</td><td>2</td><td>11</td><td>False</td><td>42.364254</td><td>-12.2146749</td><td>12.2889309</td><td>43.1539955</td><td>0.136936247</td><td>0.315412343</td><td>0.5841476</td><td>0.5261916</td><td>48</td><td>2081.6892137453856</td><td>19.618102499791927</td><td>17.228730334033834</td><td>NOT_AVAILABLE</td><td>15.128352452282162</td><td>23.058983972241954</td><td>253.46957479503573</td><td>18.4266752275803</td><td>1.1993521365318034</td></tr>\n",
       "</table></div>"
      ],
      "text/plain": [
       "<Table masked=True length=875>\n",
       "    solution_id          source_id      ...       distance      \n",
       "       str19               str19        ...       float64       \n",
       "------------------- ------------------- ... --------------------\n",
       "1635378410781933568 4365623394967062528 ... 0.032923603904397254\n",
       "1635378410781933568 4365623394967063808 ...  0.04899074978341256\n",
       "1635378410781933568 4365623394967060608 ...   0.0527817395016619\n",
       "1635378410781933568 4365623390673094528 ... 0.055404535306989355\n",
       "1635378410781933568 4365623394967139072 ...  0.07106480133806763\n",
       "1635378410781933568 4365623394967057536 ...   0.0811357255638983\n",
       "                ...                 ... ...                  ...\n",
       "1635378410781933568 4365623326247082368 ...   1.1930088058260746\n",
       "1635378410781933568 4365621810125011584 ...    1.193483255271985\n",
       "1635378410781933568 4365635249077232512 ...   1.1937942599867195\n",
       "1635378410781933568 4365635249077161472 ...    1.194909264085885\n",
       "1635378410781933568 4365635249077157888 ...    1.196474444196872\n",
       "1635378410781933568 4365635145998225536 ...   1.1969307344277031\n",
       "1635378410781933568 4365623291887247104 ...   1.1993521365318034"
      ]
     },
     "execution_count": 9,
     "metadata": {},
     "output_type": "execute_result"
    }
   ],
   "source": [
    "# Output the table\n",
    "gaia_table"
   ]
  },
  {
   "cell_type": "markdown",
   "metadata": {},
   "source": [
    "Even though the radius is specified in degrees, the resulting table lists it in arc minutes under the 'distance' column. To verify that the query above returns the correct observation, convert the distance values to degrees using the 'astropy.units' module and make sure they're less than the given radius."
   ]
  },
  {
   "cell_type": "code",
   "execution_count": 10,
   "metadata": {},
   "outputs": [
    {
     "data": {
      "text/latex": [
       "$0.019989202 \\; \\mathrm{{}^{\\circ}}$"
      ],
      "text/plain": [
       "<Quantity 0.0199892 deg>"
      ]
     },
     "execution_count": 10,
     "metadata": {},
     "output_type": "execute_result"
    }
   ],
   "source": [
    "(max(gaia_table['distance']) * u.arcmin).to(u.deg)"
   ]
  },
  {
   "cell_type": "markdown",
   "metadata": {},
   "source": [
    "## Mast vs Observations\n",
    "\n",
    "`Mast.mast_query` is similar to `Observations.query_criteria`. Both methods use keyword arguments to query MAST databases. All `astroquery.mast.Observations` class queries go through the CAOM  MAST database. Although users can similarly query CAOM with `Mast.mast_query`, there are some important differences and limitations between the two methods. The two examples below detail those differences by performing the same query using both methods. "
   ]
  },
  {
   "cell_type": "code",
   "execution_count": 11,
   "metadata": {
    "scrolled": true
   },
   "outputs": [
    {
     "data": {
      "text/html": [
       "<div><i>Table masked=True length=3</i>\n",
       "<table id=\"table4655254688\" class=\"table-striped table-bordered table-condensed\">\n",
       "<thead><tr><th>intentType</th><th>obs_collection</th><th>provenance_name</th><th>instrument_name</th><th>project</th><th>filters</th><th>wavelength_region</th><th>target_name</th><th>target_classification</th><th>obs_id</th><th>s_ra</th><th>s_dec</th><th>dataproduct_type</th><th>proposal_pi</th><th>calib_level</th><th>t_min</th><th>t_max</th><th>t_exptime</th><th>em_min</th><th>em_max</th><th>obs_title</th><th>t_obs_release</th><th>proposal_id</th><th>proposal_type</th><th>sequence_number</th><th>s_region</th><th>jpegURL</th><th>dataURL</th><th>dataRights</th><th>mtFlag</th><th>srcDen</th><th>obsid</th><th>objID</th></tr></thead>\n",
       "<thead><tr><th>str7</th><th>str3</th><th>str7</th><th>str8</th><th>str3</th><th>str6</th><th>str7</th><th>str6</th><th>str18</th><th>str9</th><th>float64</th><th>float64</th><th>str5</th><th>str16</th><th>int64</th><th>float64</th><th>float64</th><th>float64</th><th>float64</th><th>float64</th><th>str6</th><th>float64</th><th>str4</th><th>str2</th><th>int64</th><th>str192</th><th>str1</th><th>str35</th><th>str6</th><th>bool</th><th>float64</th><th>str8</th><th>str9</th></tr></thead>\n",
       "<tr><td>science</td><td>HST</td><td>CALSTIS</td><td>STIS/CCD</td><td>HST</td><td>MIRVIS</td><td>Optical</td><td>EV-LAC</td><td>STAR;M V-IV;CORONA</td><td>o6au01msq</td><td>341.7067159883</td><td>44.33381826126</td><td>image</td><td>Osten, Rachel A.</td><td>1</td><td>52172.687127777775</td><td>52172.68916674769</td><td>2.1</td><td>nan</td><td>nan</td><td>EV Lac</td><td>52537.68916657</td><td>8880</td><td>GO</td><td>--</td><td>POLYGON 341.7054021239983 44.333427657529214 341.70616680825816 44.3347273362981 341.7079843313322 44.33418022122444 341.70721964707235 44.332880542455555 341.7054021239983 44.333427657529214</td><td>--</td><td>mast:HST/product/o6au01msq_raw.fits</td><td>PUBLIC</td><td>False</td><td>nan</td><td>24476662</td><td>281780229</td></tr>\n",
       "<tr><td>science</td><td>HST</td><td>CALSTIS</td><td>STIS/CCD</td><td>HST</td><td>MIRVIS</td><td>Optical</td><td>EV-LAC</td><td>STAR;M V-IV;CORONA</td><td>o6au01mtq</td><td>341.7067159813</td><td>44.33381825835</td><td>image</td><td>Osten, Rachel A.</td><td>1</td><td>52172.69290408565</td><td>52172.692915659725</td><td>1.0</td><td>nan</td><td>nan</td><td>EV Lac</td><td>52537.69290498</td><td>8880</td><td>GO</td><td>--</td><td>POLYGON 341.7066757444726 44.33382271712645 341.70668339175285 44.33383571288162 341.70675621224444 44.3338137892895 341.70674856496413 44.33380079353434 341.7066757444726 44.33382271712645</td><td>--</td><td>mast:HST/product/o6au01mtq_raw.fits</td><td>PUBLIC</td><td>False</td><td>nan</td><td>24476663</td><td>281780226</td></tr>\n",
       "<tr><td>science</td><td>HST</td><td>CALSTIS</td><td>STIS/CCD</td><td>HST</td><td>MIRVIS</td><td>Optical</td><td>EV-LAC</td><td>STAR;M V-IV;CORONA</td><td>o6au01muq</td><td>341.7067159741</td><td>44.33381825535</td><td>image</td><td>Osten, Rachel A.</td><td>1</td><td>52172.694884108794</td><td>52172.69489568287</td><td>1.0</td><td>nan</td><td>nan</td><td>EV Lac</td><td>52537.69488411</td><td>8880</td><td>GO</td><td>--</td><td>POLYGON 341.7066757372726 44.333822714126455 341.70668338455283 44.333835709881626 341.7067562050444 44.333813786289504 341.7067485577641 44.33380079053434 341.7066757372726 44.333822714126455</td><td>--</td><td>mast:HST/product/o6au01muq_raw.fits</td><td>PUBLIC</td><td>False</td><td>nan</td><td>24476664</td><td>281780213</td></tr>\n",
       "</table></div>"
      ],
      "text/plain": [
       "<Table masked=True length=3>\n",
       "intentType obs_collection provenance_name ...  srcDen  obsid     objID  \n",
       "   str7         str3            str7      ... float64   str8      str9  \n",
       "---------- -------------- --------------- ... ------- -------- ---------\n",
       "   science            HST         CALSTIS ...     nan 24476662 281780229\n",
       "   science            HST         CALSTIS ...     nan 24476663 281780226\n",
       "   science            HST         CALSTIS ...     nan 24476664 281780213"
      ]
     },
     "execution_count": 11,
     "metadata": {},
     "output_type": "execute_result"
    }
   ],
   "source": [
    "Observations.query_criteria(dataproduct_type=['image'],\n",
    "                            proposal_pi='Osten*',\n",
    "                            s_dec=[43.5, 45.5])"
   ]
  },
  {
   "cell_type": "markdown",
   "metadata": {},
   "source": [
    "`Observations.query_criteria` is a simpler method for CAOM queries. It also allows wildcarding whereas `Mast.mast_query` requires exact string."
   ]
  },
  {
   "cell_type": "code",
   "execution_count": 12,
   "metadata": {
    "scrolled": true
   },
   "outputs": [
    {
     "data": {
      "text/html": [
       "<div><i>Table masked=True length=3</i>\n",
       "<table id=\"table4655261888\" class=\"table-striped table-bordered table-condensed\">\n",
       "<thead><tr><th>intentType</th><th>obs_collection</th><th>provenance_name</th><th>instrument_name</th><th>project</th><th>filters</th><th>wavelength_region</th><th>target_name</th><th>target_classification</th><th>obs_id</th><th>s_ra</th><th>s_dec</th><th>dataproduct_type</th><th>proposal_pi</th><th>calib_level</th><th>t_min</th><th>t_max</th><th>t_exptime</th><th>em_min</th><th>em_max</th><th>obs_title</th><th>t_obs_release</th><th>proposal_id</th><th>proposal_type</th><th>sequence_number</th><th>s_region</th><th>jpegURL</th><th>dataURL</th><th>dataRights</th><th>mtFlag</th><th>srcDen</th><th>obsid</th><th>objID</th></tr></thead>\n",
       "<thead><tr><th>str7</th><th>str3</th><th>str7</th><th>str8</th><th>str3</th><th>str6</th><th>str7</th><th>str6</th><th>str18</th><th>str9</th><th>float64</th><th>float64</th><th>str5</th><th>str16</th><th>int64</th><th>float64</th><th>float64</th><th>float64</th><th>float64</th><th>float64</th><th>str6</th><th>float64</th><th>str4</th><th>str2</th><th>int64</th><th>str192</th><th>str1</th><th>str35</th><th>str6</th><th>bool</th><th>float64</th><th>str8</th><th>str9</th></tr></thead>\n",
       "<tr><td>science</td><td>HST</td><td>CALSTIS</td><td>STIS/CCD</td><td>HST</td><td>MIRVIS</td><td>Optical</td><td>EV-LAC</td><td>STAR;M V-IV;CORONA</td><td>o6au01muq</td><td>341.7067159741</td><td>44.33381825535</td><td>image</td><td>Osten, Rachel A.</td><td>1</td><td>52172.694884108794</td><td>52172.69489568287</td><td>1.0</td><td>nan</td><td>nan</td><td>EV Lac</td><td>52537.69488411</td><td>8880</td><td>GO</td><td>--</td><td>POLYGON 341.7066757372726 44.333822714126455 341.70668338455283 44.333835709881626 341.7067562050444 44.333813786289504 341.7067485577641 44.33380079053434 341.7066757372726 44.333822714126455</td><td>--</td><td>mast:HST/product/o6au01muq_raw.fits</td><td>PUBLIC</td><td>False</td><td>nan</td><td>24476664</td><td>281780213</td></tr>\n",
       "<tr><td>science</td><td>HST</td><td>CALSTIS</td><td>STIS/CCD</td><td>HST</td><td>MIRVIS</td><td>Optical</td><td>EV-LAC</td><td>STAR;M V-IV;CORONA</td><td>o6au01mtq</td><td>341.7067159813</td><td>44.33381825835</td><td>image</td><td>Osten, Rachel A.</td><td>1</td><td>52172.69290408565</td><td>52172.692915659725</td><td>1.0</td><td>nan</td><td>nan</td><td>EV Lac</td><td>52537.69290498</td><td>8880</td><td>GO</td><td>--</td><td>POLYGON 341.7066757444726 44.33382271712645 341.70668339175285 44.33383571288162 341.70675621224444 44.3338137892895 341.70674856496413 44.33380079353434 341.7066757444726 44.33382271712645</td><td>--</td><td>mast:HST/product/o6au01mtq_raw.fits</td><td>PUBLIC</td><td>False</td><td>nan</td><td>24476663</td><td>281780226</td></tr>\n",
       "<tr><td>science</td><td>HST</td><td>CALSTIS</td><td>STIS/CCD</td><td>HST</td><td>MIRVIS</td><td>Optical</td><td>EV-LAC</td><td>STAR;M V-IV;CORONA</td><td>o6au01msq</td><td>341.7067159883</td><td>44.33381826126</td><td>image</td><td>Osten, Rachel A.</td><td>1</td><td>52172.687127777775</td><td>52172.68916674769</td><td>2.1</td><td>nan</td><td>nan</td><td>EV Lac</td><td>52537.68916657</td><td>8880</td><td>GO</td><td>--</td><td>POLYGON 341.7054021239983 44.333427657529214 341.70616680825816 44.3347273362981 341.7079843313322 44.33418022122444 341.70721964707235 44.332880542455555 341.7054021239983 44.333427657529214</td><td>--</td><td>mast:HST/product/o6au01msq_raw.fits</td><td>PUBLIC</td><td>False</td><td>nan</td><td>24476662</td><td>281780229</td></tr>\n",
       "</table></div>"
      ],
      "text/plain": [
       "<Table masked=True length=3>\n",
       "intentType obs_collection provenance_name ...  srcDen  obsid     objID  \n",
       "   str7         str3            str7      ... float64   str8      str9  \n",
       "---------- -------------- --------------- ... ------- -------- ---------\n",
       "   science            HST         CALSTIS ...     nan 24476664 281780213\n",
       "   science            HST         CALSTIS ...     nan 24476663 281780226\n",
       "   science            HST         CALSTIS ...     nan 24476662 281780229"
      ]
     },
     "execution_count": 12,
     "metadata": {},
     "output_type": "execute_result"
    }
   ],
   "source": [
    "Mast.mast_query('Mast.Caom.Filtered',\n",
    "                dataproduct_type = ['image'],\n",
    "                proposal_pi = ['Osten, Rachel A.'],\n",
    "                s_dec = [{'min':43.5, 'max':45.5}])"
   ]
  },
  {
   "cell_type": "markdown",
   "metadata": {},
   "source": [
    "## Additional Resources\n",
    "\n",
    "- [MAST Services](https://mast.stsci.edu/api/v0/_services.html) \n",
    "- [astroquery.mast Documentation](https://astroquery.readthedocs.io/en/latest/mast/mast_mastquery.html)"
   ]
  },
  {
   "cell_type": "markdown",
   "metadata": {},
   "source": [
    "## Citations\n",
    "\n",
    "If you use `astropy` or `astroquery` for published research, please cite the\n",
    "authors. Follow these links for more information about citing `astropy` and\n",
    "`astroquery`:\n",
    "\n",
    "* [Citing `astropy`](https://www.astropy.org/acknowledging.html)\n",
    "* [Citing `astroquery`](https://github.com/astropy/astroquery/blob/main/astroquery/CITATION)\n",
    "\n"
   ]
  },
  {
   "cell_type": "markdown",
   "metadata": {
    "slideshow": {
     "slide_type": "slide"
    }
   },
   "source": [
    "## About this Notebook\n",
    "\n",
    "**Author(s):** Makayla St. Cyr <br>\n",
    "**Keyword(s):** Tutorial, MAST, TESS, JWST, astroquery, cone <br>\n",
    "**Last Updated:** Aug 2023 <br>\n",
    "***\n",
    "[Top of Page](#top)\n",
    "<img style=\"float: right;\" src=\"https://raw.githubusercontent.com/spacetelescope/notebooks/master/assets/stsci_pri_combo_mark_horizonal_white_bkgd.png\" alt=\"Space Telescope Logo\" width=\"200px\"/> "
   ]
  }
 ],
 "metadata": {
  "kernelspec": {
   "display_name": "Python 3 (ipykernel)",
   "language": "python",
   "name": "python3"
  },
  "language_info": {
   "codemirror_mode": {
    "name": "ipython",
    "version": 3
   },
   "file_extension": ".py",
   "mimetype": "text/x-python",
   "name": "python",
   "nbconvert_exporter": "python",
   "pygments_lexer": "ipython3",
   "version": "3.10.12"
  }
 },
 "nbformat": 4,
 "nbformat_minor": 4
}
