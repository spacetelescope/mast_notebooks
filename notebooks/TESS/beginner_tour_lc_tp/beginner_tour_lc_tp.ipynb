{
 "cells": [
  {
   "cell_type": "markdown",
   "metadata": {
    "slideshow": {
     "slide_type": "slide"
    }
   },
   "source": [
    "<a id=\"title_ID\"></a>\n",
    "# Beginnner: A Tour of the Contents of the TESS 2-minute Cadence Data\n",
    "<br>\n",
    "This notebook tutorial gives a brief tour of the contents of the TESS (Transiting Exoplanet Survey Satelite) 2-minute cadence data products. The tour will demonstrate how to extract the most useful data from these data files. This notebook assumes basic understanding of the FITS file format and basic python proficiency. The notebook uses examples to describe some of the information that is contained in the TESS file types.\n",
    "\n",
    "### Table of Contents \n",
    "<br> [Introduction](#intro_ID) <br> [Imports](#imports_ID) <br> [Getting the Data](#data_ID) <br> [Contents of Target Pixel Files](#TPF_ID) <br> [Example Usage of TPF](#TPFUsage_ID) <br> [Contents of Light Curve Files](#LCF_ID) <br> [Additional Resources](#resources_ID) <br> [About this Notebook](#about_ID)"
   ]
  },
  {
   "cell_type": "markdown",
   "metadata": {
    "slideshow": {
     "slide_type": "skip"
    }
   },
   "source": [
    "***"
   ]
  },
  {
   "cell_type": "markdown",
   "metadata": {
    "slideshow": {
     "slide_type": "slide"
    }
   },
   "source": [
    "<a id=\"intro_ID\"></a>\n",
    "## Introduction\n",
    "TESS  only downloads select portions of the sky at a 2-minute cadence. The pixels collected around chosen targets are packaged in a file called the Target Pixel file. Light curve files contain the time series photometry that is derived from those pixels for each target. Each target pixel file packages these pixels as a time series of images in a binary FITS table. These files can then be used to measure the relative photometry of the observed star.  TESS also produces full frame images at a 30-minute cadence. We do not discuss those in this notebook.\n",
    "\n",
    "For more information about the TESS mission and collected data, visit the [MAST's TESS homepage](http://archive.stsci.edu/tess/). To read more details about TESS Data Products, look in the [TESS Science Product Description Document](https://archive.stsci.edu/missions/tess/doc/EXP-TESS-ARC-ICD-TM-0014.pdf). Once users understand the TESS data, a convenient software package to work with that data is called [lightkurve](https://docs.lightkurve.org/). However, we do not use it below in order to clearly show how the data in the files are organized. "
   ]
  },
  {
   "cell_type": "markdown",
   "metadata": {
    "slideshow": {
     "slide_type": "skip"
    }
   },
   "source": [
    "[Top of Page](#title_ID)"
   ]
  },
  {
   "cell_type": "markdown",
   "metadata": {
    "slideshow": {
     "slide_type": "skip"
    }
   },
   "source": [
    "***"
   ]
  },
  {
   "cell_type": "markdown",
   "metadata": {
    "slideshow": {
     "slide_type": "slide"
    }
   },
   "source": [
    "<a id=\"imports_ID\"></a>\n",
    "## Imports\n",
    "Let's start by importing some libraries to the environment: \n",
    "- *numpy* to handle array functions\n",
    "- *astropy.io fits* for accessing FITS files\n",
    "- *astropy.wcs WCS* for World Coordinate Systems\n",
    "- *matplotlib.pyplot* for plotting data\n",
    "\n",
    "Note, *%matplotlib inline* allows us to see our plots in the notebook."
   ]
  },
  {
   "cell_type": "code",
   "execution_count": null,
   "metadata": {},
   "outputs": [],
   "source": [
    "%matplotlib inline \n",
    "import numpy as np\n",
    "from astropy.io import fits\n",
    "from astropy.wcs import WCS\n",
    "import matplotlib.pyplot as plt"
   ]
  },
  {
   "cell_type": "markdown",
   "metadata": {
    "slideshow": {
     "slide_type": "skip"
    }
   },
   "source": [
    "[Top of Page](#title_ID)"
   ]
  },
  {
   "cell_type": "markdown",
   "metadata": {
    "slideshow": {
     "slide_type": "skip"
    }
   },
   "source": [
    "***"
   ]
  },
  {
   "cell_type": "markdown",
   "metadata": {
    "slideshow": {
     "slide_type": "slide"
    }
   },
   "source": [
    "<a id=\"data_ID\"></a>\n",
    "## Getting the Data\n",
    "Some of the TESS pipeline data is stored as a high-level science product called [tess-data-alerts](https://archive.stsci.edu/prepds/tess-data-alerts/).  We use this data set as an example since it has the same format as the light curve and target pixel files available directly from the TESS project.  This tuorial should work with any TESS light curve and target pixel file from the same target and sector. We are using the following files:\n",
    "\n",
    "- Lightcurve file: hlsp_tess-data-alerts_tess_phot_00025155310-s01_tess_v1_lc.fits\n",
    "- Target Pixel file: hlsp_tess-data-alerts_tess_phot_00025155310-s01_tess_v1_tp.fits\n",
    "\n",
    "This notebook is using a direct link to the data product online at MAST.  However, if you have the files locally, you could just substitute that link with the local file location. "
   ]
  },
  {
   "cell_type": "code",
   "execution_count": null,
   "metadata": {},
   "outputs": [],
   "source": [
    "#Here is the online directory location for our files. If files are local, change this to your local path.\n",
    "ddir = \"https://archive.stsci.edu/hlsps/tess-data-alerts/\"\n",
    "\n",
    "lcfile = ddir + \"hlsp_tess-data-alerts_tess_phot_00025155310-s01_tess_v1_lc.fits\"\n",
    "tpfile = ddir + \"hlsp_tess-data-alerts_tess_phot_00025155310-s01_tess_v1_tp.fits\""
   ]
  },
  {
   "cell_type": "markdown",
   "metadata": {
    "slideshow": {
     "slide_type": "skip"
    }
   },
   "source": [
    "[Top of Page](#title_ID)"
   ]
  },
  {
   "cell_type": "markdown",
   "metadata": {
    "slideshow": {
     "slide_type": "skip"
    }
   },
   "source": [
    "***"
   ]
  },
  {
   "cell_type": "markdown",
   "metadata": {
    "slideshow": {
     "slide_type": "slide"
    }
   },
   "source": [
    "<a id=\"TPF_ID\"></a>\n",
    "## Contents of Target Pixel File\n",
    "\n",
    "Now that we have the file, we can now explore its contents. \n",
    "The target pixel file contains 4 extensions: a primary header, a PIXELS extension, an APERTURE extension and a Target Cosmic Ray extension.\n",
    "\n",
    "- **No. 0 (Primary):**\n",
    "<br>This HDU contains meta-data related to the entire file.\n",
    "- **No. 1 (Pixels):**\n",
    "<br>This HDU contains a binary table that has 11 columns containing a time series of either scalar values or images. \n",
    "- **No. 2 (Aperture):**\n",
    "<br>This HDU contains an image that gives information about each pixel and how it was used by ther TESS pipeline in the data processing. \n",
    "- **No. 3 (Target Cosmic Ray):** \n",
    "<br> This HDU is new in the TESS target pixel files and describes the cosmic rays that were identified and subtracted from the target pixels. These cosmic ray corrections are only available if the TESS Pipeline cosmic ray correction algorithm was enabled during processing."
   ]
  },
  {
   "cell_type": "code",
   "execution_count": null,
   "metadata": {},
   "outputs": [],
   "source": [
    "fits.info(tpfile)\n",
    "tphdu = fits.open(tpfile)"
   ]
  },
  {
   "cell_type": "markdown",
   "metadata": {},
   "source": [
    "<a id=\"TPF_ID\"></a>\n",
    "**Contents of the PIXELS extension.**\n",
    "The pixels extension contains raw and calibrated pixels collected by the spacecraft at a 2-minute cadence. Here is a sumary of the columns available in that extension.\n",
    "\n",
    "- TIME: Time of mid-cadence stored in BJD-2457000.0.\n",
    "- CADENCENO: Cadence number\n",
    "- RAW_CNTS: The raw counts per pixel before any processing.\n",
    "- FLUX: The calibrated, background subtracted pixels for each cadence.\n",
    "- FLUX_BKG: The background measured and removed for these pixels. \n",
    "- QUALITY: Quality flags.\n",
    "- POS_CORR1 & POS_CORR2: The (column,row) local motion of the star calculated from the motion polynomials. Motion polynomials are calculated from the PSF centroids of select stars on each CCD. "
   ]
  },
  {
   "cell_type": "code",
   "execution_count": null,
   "metadata": {},
   "outputs": [],
   "source": [
    "tphdu[1].columns"
   ]
  },
  {
   "cell_type": "markdown",
   "metadata": {},
   "source": [
    "**Show First Calibrated Image.** Note that the RAW_CNTS, FLUX and FLUX_BKG columns contain images. We will use the World Coordinate System information in the APERTURE extension header to overlay the RA and Dec on the image."
   ]
  },
  {
   "cell_type": "code",
   "execution_count": null,
   "metadata": {},
   "outputs": [],
   "source": [
    "#Plot the first image of the FLUX Column with WCS overlay.\n",
    "tpf_data = tphdu[1].data\n",
    "first_image = tpf_data['FLUX'][1]\n",
    "\n",
    "#The aperture extension header contains the same WCS as that in the Pixels extension.\n",
    "wcs = WCS(tphdu[2].header)\n",
    "\n",
    "#Plot the first image in the file.\n",
    "fig = plt.figure(figsize = (6,6))\n",
    "fig.add_subplot(111, projection = wcs)\n",
    "plt.imshow(first_image, origin = 'lower', cmap = plt.cm.viridis)\n",
    "plt.xlabel('RA', fontsize = 14)\n",
    "plt.ylabel('Dec', fontsize = 14)\n",
    "plt.grid(axis = 'both', color = 'white', ls = 'solid')"
   ]
  },
  {
   "cell_type": "markdown",
   "metadata": {
    "slideshow": {
     "slide_type": "skip"
    }
   },
   "source": [
    "[Top of Page](#title_ID)"
   ]
  },
  {
   "cell_type": "markdown",
   "metadata": {
    "slideshow": {
     "slide_type": "fragment"
    }
   },
   "source": [
    "<a id=\"TPFUsage_ID\"></a>\n",
    "### Example Usage of Target Pixel File\n",
    "The most common usage of this file is to create a light curve from the pixels stored in the PIXELS HDU.  We will show how to make the exact light curve found in the light curve SAP_FLUX column and then highlight some of the other information in this file."
   ]
  },
  {
   "cell_type": "markdown",
   "metadata": {},
   "source": [
    "### Example 1. Create the optimal aperture light curve from the pixels. \n",
    "**Step 1. Read in the Aperture information from the third extension.**\n",
    "Each pixel in the aperture extension image is an integer that represents a set of binary flags.  The entire set of flags and what they mean can be found in the TESS Archive Manual.  Of interest to us in this exersize is which pixels belong to the \"optimal aperture\" used to create this target's light curve. This is the second bit of this set of binary flags. To determine which pixels are in the optimal aperture we need to do a bitwise AND between the pixel value and the value 2. (Similarly, if you wanted to determine which pixels were used to calculate the flux-weighted centroid, you would use the 4th bit which has a value of  2^(4-1)=8.)"
   ]
  },
  {
   "cell_type": "code",
   "execution_count": null,
   "metadata": {},
   "outputs": [],
   "source": [
    "ap_image = (tphdu[2].data)\n",
    "ap_want = np.bitwise_and(ap_image, 2) / float(2)\n",
    "print(ap_want)"
   ]
  },
  {
   "cell_type": "markdown",
   "metadata": {},
   "source": [
    "**Step 2. Create time series photometry using these pixels** For each cadence we will sum the values in the FLUX column associated with those pixels that show a '1' above."
   ]
  },
  {
   "cell_type": "code",
   "execution_count": null,
   "metadata": {},
   "outputs": [],
   "source": [
    "#define a simple aperture function to sum-up specified pixels for one cadence\n",
    "def aperture_phot(image,aperture):\n",
    "    \n",
    "    flux = np.sum(image[aperture == 1])\n",
    "\n",
    "    return flux"
   ]
  },
  {
   "cell_type": "code",
   "execution_count": null,
   "metadata": {},
   "outputs": [],
   "source": [
    "#Use the map lambda functions to apply that function to all cadences\n",
    "opap_flux = np.array(list (map (lambda x: aperture_phot(x,ap_want), tpf_data['FLUX'] ) ) )\n",
    "print(opap_flux[1:10])"
   ]
  },
  {
   "cell_type": "markdown",
   "metadata": {},
   "source": [
    "**Step 3. Extract the Array of Times from the FLUX Extension.** The resulting plot will be better understood if we extract the Barycentric Julian Dates from the file. Times in TESS are all offset by a value that is stored in the header under BJDREFI + BJDREFF.\n"
   ]
  },
  {
   "cell_type": "code",
   "execution_count": null,
   "metadata": {},
   "outputs": [],
   "source": [
    "time_bjd = tpf_data[\"TIME\"]\n",
    "tpf_head = tphdu[1].header\n",
    "bjd_ref = tpf_head['BJDREFI'] + tpf_head['BJDREFF']\n",
    "time = time_bjd + bjd_ref\n",
    "print(\"TESS JD Offset is: %f\" % bjd_ref)"
   ]
  },
  {
   "cell_type": "markdown",
   "metadata": {},
   "source": [
    "**Step 4. Plot the resulting light curve.**  Plot the time vs optimal aperture flux."
   ]
  },
  {
   "cell_type": "code",
   "execution_count": null,
   "metadata": {},
   "outputs": [],
   "source": [
    "plt.figure(figsize = (13,4))\n",
    "plt.plot(time_bjd, opap_flux,'.', label = 'Optimal Aperture', ms = 6)\n",
    "plt.legend(loc = \"lower left\")\n",
    "plt.xlabel('Time (BJD)', fontsize = 14)\n",
    "plt.ylabel('Flux (e-/s)', fontsize = 14)\n",
    "plt.ylim(7000,8210)\n",
    "plt.title(\"TESS Lightcurve Derived from Calibrated Pixels.\", fontsize = 14)"
   ]
  },
  {
   "cell_type": "markdown",
   "metadata": {},
   "source": [
    "### Example 2. Create a light curve of the background flux that was subtracted.\n",
    "This is very similar to the steps above, except that we want to apply the aperture to the background flux estimated for this part of the sky. This information is stored as images in the FLUX_BKG extension.  Note that this background has already been subtracted from the flux values provided in the FLUX column.\n",
    "<br><br>\n",
    "**Step 1. Determine the flux from the background in the optimal aperture.**\n",
    "This is done using that same aperture_phot function we wrote above. And we are using the same optimal aperture we defined above. "
   ]
  },
  {
   "cell_type": "code",
   "execution_count": null,
   "metadata": {},
   "outputs": [],
   "source": [
    "back_im = tpf_data['FLUX_BKG']\n",
    "back_opap_flux = list(map(lambda x: aperture_phot(x,ap_want), back_im))"
   ]
  },
  {
   "cell_type": "markdown",
   "metadata": {},
   "source": [
    "**Step 2. Plot this background flux against the time.**"
   ]
  },
  {
   "cell_type": "code",
   "execution_count": null,
   "metadata": {},
   "outputs": [],
   "source": [
    "plt.figure(figsize = (13,4))\n",
    "plt.plot(time_bjd,back_opap_flux,'.', label = 'Background in Optimal Aperture', ms=6)\n",
    "plt.legend(loc = \"lower left\")\n",
    "plt.xlabel('Time (BJD)', fontsize = 14)\n",
    "plt.ylabel('Background Flux (e-/s)', fontsize = 14)\n",
    "plt.title(\"TESS Background Lightcurve from Target Pixel File.\", fontsize = 14)"
   ]
  },
  {
   "cell_type": "markdown",
   "metadata": {},
   "source": [
    "Recall that TESS orbits the earth approximately every 2 weeks. We can see that the background flux changes signficantly depending on where the spacecraft is in its orbit."
   ]
  },
  {
   "cell_type": "markdown",
   "metadata": {},
   "source": [
    "[Top of Page](#title_ID)"
   ]
  },
  {
   "cell_type": "markdown",
   "metadata": {},
   "source": [
    "***"
   ]
  },
  {
   "cell_type": "markdown",
   "metadata": {},
   "source": [
    "<a id=\"LCF_ID\"></a>\n",
    "## Contents of the Light Curve File\n",
    "The light curve file uses the information from the pixels to determine time series photometry. It also contains a host of information regarding the quality of each cadence, the observed motion of the star and how the light curve was extracted.  The extensions available in these data files are as follows. \n",
    "\n",
    "- **No. 0 (Primary):**\n",
    "<br>This HDU contains meta-data related to the entire file.\n",
    "- **No. 1 (Lightcurve):**\n",
    "<br>This HDU contains a binary table that has 11 columns containing a time series of either scalar values or images. \n",
    "- **No. 2 (Aperture):**\n",
    "<br>This HDU contains an image that gives information about each pixel and how it was used by ther TESS pipeline in the data processing. This is the same as the target pixel file. \n",
    "\n",
    "Recall that we defined lcfile above to point to the file hlsp_tess-data-alerts_tess_phot_00025155310-s01_tess_v1_lc.fits."
   ]
  },
  {
   "cell_type": "code",
   "execution_count": null,
   "metadata": {},
   "outputs": [],
   "source": [
    "lchdu = fits.open(lcfile)\n",
    "fits.info(lcfile)"
   ]
  },
  {
   "cell_type": "markdown",
   "metadata": {},
   "source": [
    "**Lighturve Extension.** The lightcurve extension contains most of the data in this type of file. Let's list the columns available in this extension. Unlike the target pixel file, all these data are simply arrays instead of images. Here is a quick run down of the most important inormation in this file. \n",
    "\n",
    "- TIME: stored in BJD-2457000\n",
    "- CADENCENO: Cadence number\n",
    "- SAP_FLUX: Simple aperture photometry flux. (This is what we calculated above.)\n",
    "- SAP_BKG: Background flux that has already been removed from SAP_FLUX. \n",
    "- PDCSAP_FLUX: Systematics corrected photometry using cotrending basis vectors.\n",
    "- QUALITY: Quality flags\n",
    "- PSF_CENTR1 & PSF_CENTR2: The (column,row) position of the star measured using PSF photometry.\n",
    "- MOM_CENTR1 & MOM_CENTR2: The (column,row) position of the star measured using flux weighted centroids.\n",
    "- POS_CORR1 & POS_CORR2: The (column,row) local motion of the star calculated from the motion polynomials. Motion polynomials are calculated from the PSF centroids of select stars on each CCD. \n",
    "\n",
    "Note, while there is a WCS in the header of these files, it refers to one cadence near the middle of sector. The POS_CORR columns provide information about small changes to that WCS."
   ]
  },
  {
   "cell_type": "code",
   "execution_count": null,
   "metadata": {},
   "outputs": [],
   "source": [
    "#Open and view columns in lightcurve extension\n",
    "lcdata = lchdu[1].data\n",
    "lchdu[1].columns"
   ]
  },
  {
   "cell_type": "markdown",
   "metadata": {},
   "source": [
    "[Top of Page](#title_ID)"
   ]
  },
  {
   "cell_type": "markdown",
   "metadata": {},
   "source": [
    "***"
   ]
  },
  {
   "cell_type": "markdown",
   "metadata": {},
   "source": [
    "### Example Usage of the Light Curve File.\n",
    "\n",
    "### Example 3. Compare the SAP_FLUX and PDCSAP_FLUX light curves. \n",
    "We will also mark bad cadences using the quality flag column.\n",
    "\n",
    "**Step 1. Plot both types of fluxes against time.**"
   ]
  },
  {
   "cell_type": "code",
   "execution_count": null,
   "metadata": {},
   "outputs": [],
   "source": [
    "sapflux = lcdata['SAP_FLUX']\n",
    "pdcflux = lcdata['PDCSAP_FLUX']\n",
    "quality = lcdata['QUALITY']\n",
    "time = lcdata['TIME']\n",
    "\n",
    "fig = plt.figure(figsize = (11,4))\n",
    "\n",
    "fig.add_subplot(211)\n",
    "plt.plot(time, sapflux,'.', label = 'SAP')\n",
    "plt.legend(loc = 'lower left')\n",
    "plt.ylim(6000,8210)  #Zoom in\n",
    "\n",
    "fig.add_subplot(212)\n",
    "plt.plot(time, pdcflux,'.', label = 'PDC')\n",
    "plt.legend(loc = 'lower left')\n",
    "plt.xlabel('TIME (BTJD)')\n",
    "plt.ylim(8500,9510)"
   ]
  },
  {
   "cell_type": "markdown",
   "metadata": {},
   "source": [
    "**A few things to notice here.** The PDC light curve is created by fitting basis vectors to the time series that are created from all the stars on the same CCD.  That fit is used to detrend the SAPFLUX timeseries and create the PDCSAP_FLUX time series.  In this way, those anomalies that are common to all stars are removed. PDC also gaps cadences, which is why many of the highly scattered points are not present in the PDC light curve."
   ]
  },
  {
   "cell_type": "markdown",
   "metadata": {},
   "source": [
    "**Step 2. Clean-up both plots by removing cadences flagged as anomalous.** The Quality column contains integers that act as binary flags identified in the TESS data. We are going to remove the data that has been flagged by one of the following flags:\n",
    "\n",
    "- Bit 1. Attitude Tweak\n",
    "- Bit 2. Safe Mode\n",
    "- Bit 3. Coarse Point\n",
    "- Bit 4. Earth Point\n",
    "- Bit 5. Argabrightening Event (Sudden brightening across the CCD.)\n",
    "- Bit 6. Reaction Wheel Desaturation\n",
    "- Bit 8. Manual Exclude\n",
    "- Bit 10. Impulsive outlier\n",
    "- Bit 12. Straylight detected\n",
    "\n",
    "The other flags are informational and do not necessarily indicate that the cadence should not be used. However, you may have scientifically valid reasons for removing those cadences as well, so it is worth learning about them. See the [archive manual](https://outerspace.stsci.edu/display/TESS/TESS+Archive+Manual) for a full listing of the flags. "
   ]
  },
  {
   "cell_type": "code",
   "execution_count": null,
   "metadata": {},
   "outputs": [],
   "source": [
    "bad_bits = np.array([1,2,3,4,5,6,8,10,12])\n",
    "value = 0\n",
    "for v in bad_bits:\n",
    "    value = value + 2**(v-1)\n",
    "    \n",
    "bad_data = np.bitwise_and(quality, value) >= 1 \n",
    "print(bad_data[0:5])"
   ]
  },
  {
   "cell_type": "markdown",
   "metadata": {},
   "source": [
    "**Step 3. Create the same plot as before now removing the flagged data columns.** Notice how well it cleans up the data and the plot now autoscales so we can see the transits of TESS Object of Interest TOI-114.01."
   ]
  },
  {
   "cell_type": "code",
   "execution_count": null,
   "metadata": {},
   "outputs": [],
   "source": [
    "#Same plot as before with flagged data removed.\n",
    "fig = plt.figure(figsize = (14,5))\n",
    "fig.add_subplot(211)\n",
    "plt.plot(time[~bad_data], sapflux[~bad_data], '.', label = 'SAP')\n",
    "plt.legend(loc = 'lower left')\n",
    "\n",
    "fig.add_subplot(212)\n",
    "plt.plot(time[~bad_data], pdcflux[~bad_data], '.', label = 'PDC')\n",
    "plt.legend(loc = 'lower left')\n",
    "plt.xlabel('TIME (BTJD)')"
   ]
  },
  {
   "cell_type": "markdown",
   "metadata": {},
   "source": [
    "***"
   ]
  },
  {
   "cell_type": "markdown",
   "metadata": {},
   "source": [
    "### Example 4.  Plot the spacecraft motion.   \n",
    "We will plot the measured (col,row) position of the star as measured from the flux weighted centroids. The spacecraft dumps the momentum gathered in its wheels every once and a while. We can mark when that happens by using the quality flags (bit 6, see above)."
   ]
  },
  {
   "cell_type": "code",
   "execution_count": null,
   "metadata": {},
   "outputs": [],
   "source": [
    "fluxcent_col = lcdata['MOM_CENTR1']\n",
    "fluxcent_row = lcdata['MOM_CENTR2']\n",
    "distance = ((fluxcent_col-np.nanmean(fluxcent_col))**2 + (fluxcent_row-np.nanmean(fluxcent_row))**2)**(0.5)\n",
    "\n",
    "mom_dump = np.bitwise_and(quality, 2**5) >= 1 \n",
    "\n",
    "plt.figure(figsize = (11,5))\n",
    "plt.plot(time[~bad_data], distance[~bad_data], '.', label = \"mom_centr distance\")\n",
    "plt.vlines(time[mom_dump], 0,.1, colors = 'r', label = \"Momentum Dump\")\n",
    "plt.xlabel('TIME(BTKD)')\n",
    "plt.legend(loc = \"upper left\")"
   ]
  },
  {
   "cell_type": "markdown",
   "metadata": {},
   "source": [
    "Notice that the momentum dumps are correlated with reduced scatter in the motion. Also notice that the time of large scatter in our photometry is correlated with the large scatter in the motion. "
   ]
  },
  {
   "cell_type": "markdown",
   "metadata": {
    "slideshow": {
     "slide_type": "skip"
    }
   },
   "source": [
    "[Top of Page](#title_ID)"
   ]
  },
  {
   "cell_type": "markdown",
   "metadata": {},
   "source": [
    "***"
   ]
  },
  {
   "cell_type": "markdown",
   "metadata": {},
   "source": [
    "### Example 5. Compare Light Curves\n",
    "Now that we have a SAP_FLUX light curve and and the light curve we calculated with the target pixel files (opap_flux), we can show that indeed the data is the same by plotting the two light curves on top of each other. The lower subplot shows the difference. The small scatter in the residuals is caused by rounding error."
   ]
  },
  {
   "cell_type": "code",
   "execution_count": null,
   "metadata": {},
   "outputs": [],
   "source": [
    "# sapflux is the photometry calculated by the pipeline.\n",
    "# opap_flux is the photometry we calculated from the pixels.\n",
    "fig = plt.figure(figsize = (11,5))\n",
    "fig.add_subplot(211)\n",
    "plt.plot(time[~bad_data], sapflux[~bad_data], 'r.', label = \"SAP_FLUX\")\n",
    "plt.plot(time[~bad_data], opap_flux[~bad_data], 'b.', ms = 2, label = \"Target Pixel Op. Aperture\")\n",
    "plt.xlabel(\"Time (BTJD)\")\n",
    "plt.ylabel(\"Flux (e-/s)\")\n",
    "plt.legend(loc = \"lower left\")\n",
    "plt.xlim(1326,1330)\n",
    "plt.ylim(7955,8090)\n",
    "\n",
    "fig.add_subplot(212)\n",
    "plt.plot(time[~bad_data], opap_flux[~bad_data]-sapflux[~bad_data], 'm.', label = \"difference\")\n",
    "plt.ylim(-.01,.01)\n",
    "plt.xlim(1326,1330)\n",
    "plt.legend()"
   ]
  },
  {
   "cell_type": "markdown",
   "metadata": {},
   "source": [
    "[Top of Page](#title_ID)"
   ]
  },
  {
   "cell_type": "markdown",
   "metadata": {},
   "source": [
    "***"
   ]
  },
  {
   "cell_type": "markdown",
   "metadata": {},
   "source": [
    "### Exercise for the Reader\n",
    "a) The \"rain plot\" was used in the early days of Kepler to see if there are potential shifts in the flux-weighted centroids of the star during the transits. This can be an indication that there is a background eclipsing binary causing the transit-like shape, though the evidence is not definitive.  Can you plot the motion of the star on the detector (separately in row and column) as a function of flux? Bonus points if you normalize the flux first.\n",
    "\n",
    "b) Determine which pixels were used by the pipeline to calculate the flux-weighted centroids?\n"
   ]
  },
  {
   "cell_type": "code",
   "execution_count": null,
   "metadata": {},
   "outputs": [],
   "source": [
    "#Place your answer here\n",
    "#(a)\n",
    "\n"
   ]
  },
  {
   "cell_type": "code",
   "execution_count": null,
   "metadata": {},
   "outputs": [],
   "source": [
    "#(b)\n",
    "\n"
   ]
  },
  {
   "cell_type": "markdown",
   "metadata": {},
   "source": [
    "***"
   ]
  },
  {
   "cell_type": "code",
   "execution_count": null,
   "metadata": {},
   "outputs": [],
   "source": [
    "#Solution to (a)\n",
    "#Here we choose do a simple normalization by subtracting off the median.\n",
    "normflux = pdcflux[~bad_data] - np.nanmedian(pdcflux[~bad_data])\n",
    "fwNorm_row = fluxcent_row[~bad_data] - np.nanmedian(fluxcent_row[~bad_data])\n",
    "fwNorm_col = fluxcent_col[~bad_data] - np.nanmedian(fluxcent_col[~bad_data])\n",
    "\n",
    "plt.figure(figsize=(10,5))\n",
    "plt.subplot(121)\n",
    "plt.plot(fwNorm_row,normflux,'b+')\n",
    "plt.title(\"row\")\n",
    "plt.xlabel(\"change in row(pixels)\")\n",
    "plt.ylabel(\"change in flux\")\n",
    "\n",
    "plt.subplot(122)\n",
    "plt.plot(fwNorm_col,normflux,'r+')\n",
    "plt.title(\"column\")\n",
    "plt.xlabel(\"change in column (pixels)\")\n",
    "plt.ylabel(\"change in flux\")"
   ]
  },
  {
   "cell_type": "markdown",
   "metadata": {},
   "source": [
    "**Interpretation.** No motion is correlated with the flux according to the flux weighted centroids. However there is apparently some significant motion along the CCD rows through-out the observations. "
   ]
  },
  {
   "cell_type": "markdown",
   "metadata": {},
   "source": [
    "[Top of Page](#title_ID)"
   ]
  },
  {
   "cell_type": "code",
   "execution_count": null,
   "metadata": {},
   "outputs": [],
   "source": [
    "#Solution to (b)\n",
    "#Let's display those pixels used in the flux-weighted centroid, we need to consider bit 4 of the aperture extension.\n",
    "ap_image = (tphdu[2].data)\n",
    "ap_want = np.bitwise_and(ap_image, 8)  >1\n",
    "print(ap_want)\n",
    "#Notice that it is the same as the optimal aperture. This may not always be the case.\n",
    "\n",
    "#If we set all other pixels to 0 we can plot just those pixels in this aperture from the third cadence.\n",
    "one_image = tpf_data['FLUX'][2]\n",
    "fw_first = one_image\n",
    "fw_first[~ap_want] = 0\n",
    "fig = plt.figure(figsize = (6,6))\n",
    "\n",
    "plt.imshow(fw_first, cmap = plt.cm.viridis)\n",
    "plt.xlabel('column', fontsize = 14)\n",
    "plt.ylabel('row', fontsize = 14)\n",
    "plt.grid(axis = 'both', color = 'white', ls = 'solid')"
   ]
  },
  {
   "cell_type": "markdown",
   "metadata": {},
   "source": [
    "***"
   ]
  },
  {
   "cell_type": "code",
   "execution_count": null,
   "metadata": {},
   "outputs": [],
   "source": [
    "#Close the FITS files for good practice.\n",
    "lchdu.close()\n",
    "tphdu.close()"
   ]
  },
  {
   "cell_type": "markdown",
   "metadata": {},
   "source": [
    "<a id=\"resources_ID\"></a>\n",
    "## Aditional Resources\n",
    "For more information about the MAST archive and details about mission data:\n",
    "<br>\n",
    "<br>[MAST API](https://mast.stsci.edu/api/v0/index.html)\n",
    "<br>[TESS Archive Page (MAST)](https://archive.stsci.edu/tess)\n",
    "<br>[TESS Archive Manual](https://outerspace.stsci.edu/display/TESS/TESS+Archive+Manual)\n",
    "<br>[Exo.MAST website](https://exo.mast.stsci.edu/exo/ExoMast/html/exomast.html)"
   ]
  },
  {
   "cell_type": "markdown",
   "metadata": {},
   "source": [
    "***"
   ]
  },
  {
   "cell_type": "markdown",
   "metadata": {},
   "source": [
    "<a id=\"about_ID\"></a>\n",
    "## About this Notebook\n",
    "**Author:** Susan E. Mullally, STScI Archive Scientist\n",
    "<br>**Updated On:** 2018-11-28"
   ]
  },
  {
   "cell_type": "markdown",
   "metadata": {},
   "source": [
    "***"
   ]
  },
  {
   "cell_type": "markdown",
   "metadata": {},
   "source": [
    "[Top of Page](#title_ID)\n",
    "<img style=\"float: right;\" src=\"https://raw.githubusercontent.com/spacetelescope/notebooks/master/assets/stsci_pri_combo_mark_horizonal_white_bkgd.png\" alt=\"STScI logo\" width=\"200px\"/> "
   ]
  }
 ],
 "metadata": {
  "language_info": {
   "name": "python"
  }
 },
 "nbformat": 4,
 "nbformat_minor": 2
}
