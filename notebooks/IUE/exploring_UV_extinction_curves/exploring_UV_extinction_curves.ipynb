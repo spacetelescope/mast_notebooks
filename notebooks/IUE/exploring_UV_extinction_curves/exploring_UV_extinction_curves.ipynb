{
 "cells": [
  {
   "cell_type": "markdown",
   "id": "929b4d77",
   "metadata": {},
   "source": [
    "<a id=\"top\"></a>\n",
    "# Exploring UV Extinction Curves\n",
    "***\n",
    "## Learning Goals\n",
    "\n",
    "By the end of this tutorial, you will be able to:\n",
    "\n",
    "- Perform data queries on the MAST archives using astroquery\n",
    "- Narrow down query results to the desired spectrum\n",
    "- Clean, analyze, and plot spectral data\n",
    "- Fit extinction curves to a parameterized model"
   ]
  },
  {
   "cell_type": "markdown",
   "id": "fbc2060f",
   "metadata": {},
   "source": [
    "## Introduction\n",
    "\n",
    "In this tutorial, you will learn how to download IUE data using the [MAST Archive API, astroquery](https://astroquery.readthedocs.io/en/latest/mast/mast.html). We'll obtain the spectra of two stars, one reddened and one not. We will use these spectra to construct and plot UV extinction curves. An extinction curve demonstrates the wavelength dependence of dust extinction. It compares the dust-free Spectral Energy Distribution (SED) of a star to the observed SED. Normally these curves are created by plotting $k(\\lambda-V)$ versus $1/\\lambda$, with $\\lambda$ being the wavelength (see 'Useful Equations' below).\n",
    "\n",
    "Extinction is relevant in a diverse range of scenarios. Sometimes, dust is found very near the observed object, like in stars with disks or proto-stellar clouds. However, the target does not need to be intrinsically \"dusty\"; dust in a galaxy that is light-years from a target star might still block the line-of-sight view and impact the observation.\n",
    "\n",
    "In this lesson, our data comes from the [International Ultraviolet Explorer](https://archive.stsci.edu/iue/) (IUE). IUE performed spectrophotometry in the wavelength range from 1150 Å to 3200 Å. MAST hosts these observations, which include more than 100,000 spectra.\n",
    "\n",
    "\n",
    "**Defining some terms**:\n",
    "\n",
    "- **Color index**: difference between magnitude of a star in two different passbands, typically B and V. Symbol: $(B-V)$. \n",
    "- **Extinction**: absoption and scattering of light by dust and gas between an object and the observer. It is a measure of the interstellar reddening quantified by the difference between the magnitude of the band when observed through dust versus a dust-free environment. Symbol: $A(\\lambda)$.  \n",
    "- **Magellanic Clouds**: Irregular dwarf galaxies that orbit the Milky Way galaxy and are located in the southern celestial hemisphere. Two distinct groups can be differentiated: the Large Magellanic Cloud (LMC) and the Small Magellanic Cloud (SMC).\n",
    "- **Spectral type**: stellar classification from hotter (O stars) to cooler (M stars). Temperature defines a star's \"color\" and surface brightness.\n",
    "\n",
    "\n",
    "**The \"extinction equation\" we'll use to create our plots:**\n",
    "- $k(\\lambda-V) = \\frac{m(\\lambda-V)-m(\\lambda-V)_o}{(B-V)-(B-V)_o} = \\frac{A(\\lambda)-A(V)}{A(B)-A(V)}$ \n",
    "\n",
    "_**Note**: the $x_o$ terms refer to the star that is nearly unaffected by dust, i.e. $(B-V)$ corresponds to the observed color index and $(B-V)_o$ to the color index if there were no extinction due to dust. The stars should have the same spectral type in order to perform this comparison._\n",
    "\n",
    "<!-- - The [Fitzpatrick and Massa (1990) parametrization](https://ui.adsabs.harvard.edu/abs/1990ApJS...72..163F/abstract): this will be the parametrization that will be followed in this tutorial for extinction curves. This parametrization is a combination of three elements; a linear \"background term\"; a Lorentsian-like \"Drude\" profile for the 2175 Å bump, $D(x; \\gamma, x_o)$; finally, a far-UV curvature term, $F(x)$. The $x$ in the equation corresponds to $x = \\lambda^{-1}$. \n",
    "\n",
    "$$\\begin{equation}\n",
    " k(x-V) = c_1 + c_2x + c_3D(x; \\gamma, x_o)+c_4F(x)\n",
    "\\end{equation}$$\n",
    "\n",
    "$$\\begin{equation}\n",
    " D(x; \\gamma, x_o) = \\frac{x^2}{(x^2-x_o^2)^2+x^2\\gamma^2}\n",
    "\\end{equation}$$\n",
    "\n",
    "$$\\begin{equation}\n",
    " F(x) = \\begin{cases}\n",
    "    0.5392(x-5.9)^2+0.05644(x-5.9)^3, & \\text{for $x \\geq 5.9 \\mu m^{-1}$}.\\\\\n",
    "    0, & \\text{otherwise}.\n",
    "  \\end{cases}\n",
    "\\end{equation}$$ -->\n",
    "    \n",
    "## Table of Contents\n",
    "* [Imports](#Imports)\n",
    "* [Searching by Target Name and Downloading Spectra](#Searching-the-MAST-archive-by-target-name-and-downloading-spectra)\n",
    "* [Exploring the downloaded data files](#Exploring-the-downloaded-data-files)\n",
    "* [Data access and manipulation](#Data-access-and-manipulation)\n",
    "* [Saving values into your local computer](#Saving-values-into-your-local-computer)\n",
    "* [Exercises](#Exercises)\n",
    "* [Additional Resources](#Additional-Resources)"
   ]
  },
  {
   "cell_type": "markdown",
   "id": "5920e02e",
   "metadata": {},
   "source": [
    "## Imports "
   ]
  },
  {
   "cell_type": "markdown",
   "id": "36f71271",
   "metadata": {},
   "source": [
    "The first step will be to import the libraries we will be using throughout this tutorial: \n",
    "\n",
    "- `Observations` from [astroquery.mast](https://astroquery.readthedocs.io/en/latest/mast/mast.html) to query the MAST Archive.\n",
    "- `fits` from _astropy.io_ for accessing FITS files\n",
    "- `Simbad` from [astroquery.simbad](https://astroquery.readthedocs.io/en/latest/simbad/simbad.html) to query the SIMBAD database.\n",
    "- `numpy` for array manipulations\n",
    "- `matplotlib` for plotting"
   ]
  },
  {
   "cell_type": "code",
   "execution_count": null,
   "id": "5fa17d07",
   "metadata": {},
   "outputs": [],
   "source": [
    "from astroquery.mast import Observations\n",
    "from astropy.io import fits\n",
    "from astroquery.simbad import Simbad\n",
    "\n",
    "import numpy as np\n",
    "\n",
    "import matplotlib.pyplot as plt"
   ]
  },
  {
   "cell_type": "markdown",
   "id": "6afd250c",
   "metadata": {},
   "source": [
    "_**Warning**: If you have not installed the astroquery package on your computer, you will need to. Information about astroquery can be found [on the readthedocs](https://astroquery.readthedocs.io/en/latest/)._"
   ]
  },
  {
   "cell_type": "markdown",
   "id": "7a11267b",
   "metadata": {},
   "source": [
    "## Background and Targets"
   ]
  },
  {
   "cell_type": "markdown",
   "id": "d3c60d39",
   "metadata": {},
   "source": [
    "The first step is to find the data files we want to use. We will using the `Observations` Class from `astroquery.mast` both to search for and download UV data from the IUE.\n",
    "\n",
    "We'll be targeting two stars: AzV 456 and AzV 70. This former is reddened by dust, while the latter is not. This particular example is from [Gordon et al. (2003)](https://ui.adsabs.harvard.edu/abs/2003ApJ...594..279G/abstract), but you can use any pair of reddened and unreddened stars with the same spectral type and luminosity class.\n",
    "\n",
    "## Searching and Downloading in astroquery.mast\n",
    "\n",
    "We'll make our targets flexible here by creating a \"dusty\" and \"no dust\" option. If you want to explore other stars, change the targets below!"
   ]
  },
  {
   "cell_type": "code",
   "execution_count": null,
   "id": "daa7d030",
   "metadata": {},
   "outputs": [],
   "source": [
    "target_dusty = \"Azv456\"\n",
    "target_nodust = \"Azv70\""
   ]
  },
  {
   "cell_type": "markdown",
   "id": "31746c01-2f45-4818-838f-88b37a175660",
   "metadata": {},
   "source": [
    "The `query_criteria` function allows you to filter by mission, as well as object name. For a full list of fields you can query, as well as their associated metadata names, see the [CAOM fields description](https://mast.stsci.edu/api/v0/_c_a_o_mfields.html) page. For this search, we'll filter for IUE data taken on the \"no dust\" target.\n",
    "\n",
    "**Note: We'll use a radius of zero to exactly match our target; depending on your particular query, this may result in some missing observations. Use with caution!**"
   ]
  },
  {
   "cell_type": "code",
   "execution_count": null,
   "id": "fc1e4e13",
   "metadata": {
    "scrolled": true
   },
   "outputs": [],
   "source": [
    "# We use a radius of zero to find exact matches\n",
    "obs_table_nodust = Observations.query_criteria(obs_collection=\"IUE\",\n",
    "                                           objectname=target_nodust,\n",
    "                                           radius = \"0m\")\n",
    "len(obs_table_nodust)"
   ]
  },
  {
   "cell_type": "code",
   "execution_count": null,
   "id": "b13bca65",
   "metadata": {},
   "outputs": [],
   "source": [
    "# Display the matching observations, if you want\n",
    "obs_table_nodust.show_in_notebook()"
   ]
  },
  {
   "cell_type": "markdown",
   "id": "f98b2aed",
   "metadata": {},
   "source": [
    "There are two matching observations. One covers a short wavelength domain and the other covers the long domain (short and long are relative: both are UV observations). Let's use both so that we'll have a more complete picture of the extinction behavior over different wavelengths.\n",
    "\n",
    "Let's find the data products associated with these observations. We'll use the `get_products` function to do that."
   ]
  },
  {
   "cell_type": "code",
   "execution_count": null,
   "id": "fb2d61e4",
   "metadata": {},
   "outputs": [],
   "source": [
    "data_products_nodust = Observations.get_product_list(obs_table_nodust)"
   ]
  },
  {
   "cell_type": "code",
   "execution_count": null,
   "id": "40d92a0d",
   "metadata": {},
   "outputs": [],
   "source": [
    "# Display the products, if you want\n",
    "data_products_nodust.show_in_notebook()"
   ]
  },
  {
   "cell_type": "markdown",
   "id": "83cbce39",
   "metadata": {},
   "source": [
    "This looks good, but a fair number of these results have the `productType` 'AUXILIARY'; they were orginially intended for calibration or engineering purposes. We want only the the products marked 'SCIENCE'; more specifically, we're looking for extracted spectra in `.fits` files. Let's add some filters to match those results."
   ]
  },
  {
   "cell_type": "code",
   "execution_count": null,
   "id": "f66f8cc4",
   "metadata": {},
   "outputs": [],
   "source": [
    "filtered_products_nodust = Observations.filter_products(data_products_nodust,\n",
    "                                                     productType='SCIENCE',\n",
    "                                                     extension = '.fits')\n",
    "len(filtered_products_nodust)"
   ]
  },
  {
   "cell_type": "code",
   "execution_count": null,
   "id": "18b6da95",
   "metadata": {},
   "outputs": [],
   "source": [
    "# Display the results, if you want\n",
    "filtered_products_nodust.show_in_notebook()"
   ]
  },
  {
   "cell_type": "markdown",
   "id": "2a38407e",
   "metadata": {},
   "source": [
    "Great! All that remains is to download the files. You can do this by passing the entire product table to the `download_products` function."
   ]
  },
  {
   "cell_type": "code",
   "execution_count": null,
   "id": "9d937b9a",
   "metadata": {},
   "outputs": [],
   "source": [
    "manifest_nodust = Observations.download_products(filtered_products_nodust)"
   ]
  },
  {
   "cell_type": "markdown",
   "id": "60372b3d",
   "metadata": {},
   "source": [
    "### Rinse and Repeat for Target Two\n",
    "Now, let's repeat this process for our second, dusty target. We'll condense the code into one cell for convenience."
   ]
  },
  {
   "cell_type": "code",
   "execution_count": null,
   "id": "6ae75172",
   "metadata": {},
   "outputs": [],
   "source": [
    "obs_table_dusty = Observations.query_criteria(obs_collection=\"IUE\",\n",
    "                                            objectname=target_dusty,\n",
    "                                            radius = \"0m\",\n",
    "                                            proposal_pi=\"Prevot\") # We specify the PI since this search returns more results\n",
    "\n",
    "\n",
    "data_products_dusty = Observations.get_product_list(obs_table_dusty)\n",
    "\n",
    "# Note that you can skip the 'filter products' step\n",
    "# Instead, you can pass the filters directly to 'download_products'\n",
    "manifest_dusty = Observations.download_products(data_products_dusty,\n",
    "                                             productType='SCIENCE',\n",
    "                                             extension = \".fits\")"
   ]
  },
  {
   "cell_type": "markdown",
   "id": "73889127",
   "metadata": {},
   "source": [
    "## Exploring the Downloaded Data Files"
   ]
  },
  {
   "cell_type": "markdown",
   "id": "7705ab97",
   "metadata": {},
   "source": [
    "Now, let's explore the FITS files we just downloaded. The filepaths were saved in our `manifest` variable when we used `download_products`."
   ]
  },
  {
   "cell_type": "code",
   "execution_count": null,
   "id": "8082e4df",
   "metadata": {},
   "outputs": [],
   "source": [
    "# Pull the filepaths from the manifests\n",
    "filenames_dusty = manifest_dusty['Local Path']\n",
    "filenames_nodust = manifest_nodust['Local Path']\n",
    "\n",
    "# The first path in the list is for the 'long wavelength' data\n",
    "lw_dusty = filenames_dusty[0]\n",
    "\n",
    "# We'll create the other files now, for convenience\n",
    "sw_dusty = filenames_dusty[1]\n",
    "lw_nodust = filenames_nodust[0]\n",
    "sw_nodust = filenames_nodust[1]\n",
    "\n",
    "# Print the information from the first file only\n",
    "fits.info(lw_dusty)"
   ]
  },
  {
   "cell_type": "markdown",
   "id": "aab81955",
   "metadata": {},
   "source": [
    "- **No. 0 (PRIMARY)**: This HDU contains metadata related to the entire file.\n",
    "- **No. 1 (Spectral Container)**: This HDU contains the spectral profile of the target as a function of wavelength.\n",
    "\n",
    "The header of the file contains additional information about the data. \n",
    "\n",
    "Let's take a look at some of the columns that are more relevant to us: "
   ]
  },
  {
   "cell_type": "code",
   "execution_count": null,
   "id": "897a2252",
   "metadata": {
    "scrolled": true
   },
   "outputs": [],
   "source": [
    "with fits.open(lw_dusty) as hdulist: \n",
    "    header_lw_dusty = hdulist[1].header\n",
    "\n",
    "# Remove to the [9:15] index to see the entire header\n",
    "print(repr(header_lw_dusty[9:15]))"
   ]
  },
  {
   "cell_type": "markdown",
   "id": "75052360",
   "metadata": {},
   "source": [
    "This tell us that first column corresponds to the wavelengths, and the second column to the fluxes. We can also see the units:"
   ]
  },
  {
   "cell_type": "code",
   "execution_count": null,
   "id": "4a724d13",
   "metadata": {},
   "outputs": [],
   "source": [
    "print(repr(header_lw_dusty[23:28]))"
   ]
  },
  {
   "cell_type": "markdown",
   "id": "e8ba6bed",
   "metadata": {},
   "source": [
    "## Data Access and Validation"
   ]
  },
  {
   "cell_type": "markdown",
   "id": "1195669c",
   "metadata": {},
   "source": [
    "The data contained in this fits file can be accessed using `io.fits` and the `.data` attribute. This can be tedious to do more than once, so let's create a helper function to do it for us."
   ]
  },
  {
   "cell_type": "code",
   "execution_count": null,
   "id": "98153b6c",
   "metadata": {},
   "outputs": [],
   "source": [
    "# This helper function will take a filename and return the wavelength/flux data\n",
    "def extractData(filename):\n",
    "    # Open the file and read the data\n",
    "    with fits.open(filename) as hdulist:\n",
    "        spectrum = hdulist[1].data\n",
    "        \n",
    "    # Extract our desired data from the corresponding columns\n",
    "    wav = spectrum[0][0]   # wavelength, angstrom, A\n",
    "    flux = spectrum [0][1] # flux, ergs/cm2/sec/A\n",
    "\n",
    "    return wav, flux"
   ]
  },
  {
   "cell_type": "markdown",
   "id": "b6a81ebe",
   "metadata": {},
   "source": [
    "Let's make sure we get a sensible result when we extract the data. We can make a quick plot to see if anything is wrong with the results."
   ]
  },
  {
   "cell_type": "code",
   "execution_count": null,
   "id": "781f9315",
   "metadata": {
    "scrolled": true
   },
   "outputs": [],
   "source": [
    "# Let's run our helper function on our data\n",
    "wav_lw_dusty, flux_lw_dusty = extractData(lw_dusty)\n",
    "wav_sw_dusty, flux_sw_dusty = extractData(sw_dusty)\n",
    "wav_lw_nodust, flux_lw_nodust = extractData(lw_nodust)\n",
    "wav_sw_nodust, flux_sw_nodust = extractData(sw_nodust)\n",
    "\n",
    "# Let's also make a rough plot of our data, just so we can see what we're working with\n",
    "plt.plot(wav_lw_nodust, np.log10(flux_lw_nodust))\n",
    "plt.plot(wav_lw_dusty, np.log10(flux_lw_dusty))"
   ]
  },
  {
   "cell_type": "markdown",
   "id": "03162906-2d68-4d49-8f21-dc36b52513a9",
   "metadata": {},
   "source": [
    "This looks good on inspection, but we should check that both targets have consistent data. We'd like to compare one star to another and our later analysis requires that corresponding datasets have the same number of points."
   ]
  },
  {
   "cell_type": "code",
   "execution_count": null,
   "id": "32f33565-e9fb-42cb-93ad-8d8fe6a62585",
   "metadata": {},
   "outputs": [],
   "source": [
    "# Inspect the lengths by eye\n",
    "print(len(wav_lw_nodust), len(flux_lw_nodust), len(wav_lw_dusty), len(flux_lw_dusty)) # check long wavelength data\n",
    "print(len(wav_sw_nodust), len(flux_sw_nodust), len(wav_sw_dusty), len(flux_sw_dusty)) # check short"
   ]
  },
  {
   "cell_type": "markdown",
   "id": "c623001e-8671-4709-844e-9a421f1a6c94",
   "metadata": {},
   "source": [
    "Whoops! Looks like the the long wavelength data is not consistent. Let's adjust and check again."
   ]
  },
  {
   "cell_type": "code",
   "execution_count": null,
   "id": "e72149a5-bd51-48d9-b22d-cb6ca5fa51ed",
   "metadata": {},
   "outputs": [],
   "source": [
    "# Shorten the lw_nodust data so it matches the dusty data\n",
    "# This may not work for your targets! Always check your data\n",
    "wav_lw_nodust = wav_lw_nodust[:len(wav_lw_dusty)]\n",
    "flux_lw_nodust = flux_lw_nodust[:len(flux_lw_dusty)]\n",
    "    \n",
    "print(len(wav_lw_nodust), len(flux_lw_nodust), len(wav_lw_dusty), len(flux_lw_dusty))\n",
    "print(len(wav_sw_nodust), len(flux_sw_nodust), len(wav_sw_dusty), len(flux_sw_dusty))"
   ]
  },
  {
   "cell_type": "markdown",
   "id": "f0f623a0",
   "metadata": {},
   "source": [
    "## Data Plotting\n",
    "\n",
    "After searching for, downloading, and cleaning our data, we're finally ready to display the plot. We'll plot the flux against the inverse wavelength; this is customary for this type of study and follows the example in [Gordon et al. (2003)](https://ui.adsabs.harvard.edu/abs/2003ApJ...594..279G/abstract)."
   ]
  },
  {
   "cell_type": "code",
   "execution_count": null,
   "id": "55d2e044",
   "metadata": {},
   "outputs": [],
   "source": [
    "# Set up the plot size, labels, units\n",
    "fig = plt.figure()\n",
    "ax = plt.subplot(111)\n",
    "ax.set_xlabel('1/$\\lambda$ ($\\mu m^{-1}$)')\n",
    "ax.set_ylabel(r'log(Flux (ergs $cm^{-2}$ $s^{-1}$ $\\AA^{-1}$))')\n",
    "ax.set_xlim([3,8])\n",
    "ax.set_ylim([-13.6, -11.5])\n",
    "\n",
    "# Create a helper function to plot the data. We want to plot inverse wavelength against log of flux\n",
    "def Plot(wav, flux, style, lbl):\n",
    "    plt.plot(10**4/wav, np.log10(flux), style, label=lbl)\n",
    "\n",
    "# Call the helper function four times: for long/short wavelengths of both targets\n",
    "Plot(wav_lw_dusty, flux_lw_dusty, 'r:', 'lw_dusty')\n",
    "Plot(wav_sw_dusty, flux_sw_dusty, 'r', 'sw_dusty')\n",
    "Plot(wav_lw_nodust, flux_lw_nodust, 'b:', 'lw_nodust')\n",
    "Plot(wav_sw_nodust, flux_sw_nodust, 'b', 'sw_nodust')\n",
    "\n",
    "# Add some labels to our plot to clarify which spectrum is which\n",
    "plt.text(6.7, -13.4, target_dusty, fontsize = 11, color='r')\n",
    "plt.text(6.1, -12.6, target_nodust, fontsize = 11, color='b')\n",
    "\n",
    "# Create the legend and show our plot\n",
    "plt.legend(loc='best',frameon=False)\n",
    "plt.show()"
   ]
  },
  {
   "cell_type": "markdown",
   "id": "4e41ad3f",
   "metadata": {},
   "source": [
    "What a wonderful example of extinction! Both stars have the same spectral features, but we can see a significant dimming of AzV456, especially in the shorter, bluer wavelengths; it is safe to say this star is reddened."
   ]
  },
  {
   "cell_type": "markdown",
   "id": "e79340ad",
   "metadata": {},
   "source": [
    "## Extinction Curve\n",
    "\n",
    "Let's now use the <a href=\"http://simbad.cds.unistra.fr/simbad/\">SIMBAD</a> database to look for the fluxes in the B and V bands for both stars. We can do a simple query using the identifier of both stars. The magnitudes can be found under the 8th subgroup presented below the name of the stars, called 'Fluxes', since SIMBAD can provide you with either the flux or the magnitude of the star in those bands.\n"
   ]
  },
  {
   "cell_type": "code",
   "execution_count": null,
   "id": "e87502c1",
   "metadata": {},
   "outputs": [],
   "source": [
    "# Request the B and V magnitudes\n",
    "Simbad.add_votable_fields('flux(B)','flux(V)')\n",
    "\n",
    "# Query for dusty star, in our case AvZ 456\n",
    "table_dusty = Simbad.query_object(target_dusty)"
   ]
  },
  {
   "cell_type": "code",
   "execution_count": null,
   "id": "14a5df9a",
   "metadata": {},
   "outputs": [],
   "source": [
    "# Examine the data, if you want\n",
    "table_dusty.show_in_notebook()"
   ]
  },
  {
   "cell_type": "markdown",
   "id": "4272f7a3",
   "metadata": {},
   "source": [
    "Great. Let's get the data for AzV70 as well."
   ]
  },
  {
   "cell_type": "code",
   "execution_count": null,
   "id": "c408f301",
   "metadata": {},
   "outputs": [],
   "source": [
    "table_nodust = Simbad.query_object(target_nodust)"
   ]
  },
  {
   "cell_type": "markdown",
   "id": "83e2e45c",
   "metadata": {},
   "source": [
    "From these values we can directly calculate $E(B-V) = (B-V)-(B-V)_o$. We can do this since AvZ 70 is essentially an unreddened version of AvZ 456."
   ]
  },
  {
   "cell_type": "code",
   "execution_count": null,
   "id": "4a268bd1",
   "metadata": {},
   "outputs": [],
   "source": [
    "# Extract these values from the table\n",
    "V_dusty = table_dusty['FLUX_V'][0]\n",
    "B_dusty = table_dusty['FLUX_B'][0]\n",
    "\n",
    "V_nodust = table_nodust['FLUX_V'][0]\n",
    "B_nodust = table_nodust['FLUX_B'][0]\n",
    "\n",
    "# Plug into the formula\n",
    "EBV = (B_dusty-V_dusty)-(B_nodust-V_nodust)\n",
    "print(f\"The value of E(B-V) is equal to {EBV:.3f}\")"
   ]
  },
  {
   "cell_type": "markdown",
   "id": "22fc6fc9",
   "metadata": {},
   "source": [
    "Now we can fully plot the extinction curve! Recall the equation from the start of this Notebook.\n",
    "\n",
    "$$k(\\lambda-V) = \\frac{m(\\lambda-V)-m(\\lambda-V)_o}{(B-V)-(B-V)_o} = \\frac{A(\\lambda)-A(V)}{E(B-V)} $$\n",
    "\n",
    "Let's expand this out and be explicit: which values do we need to use to calculate extinction?\n",
    "\n",
    "$$\\frac{A(\\lambda)-A(V)}{E(B-V)}=\\frac{log(V\\_ratio)-log(flux\\_ratio)}{E(B-V)} = \\frac{log (V\\_ratio \\div flux\\_ratio)}{E(B-V)}$$"
   ]
  },
  {
   "cell_type": "code",
   "execution_count": null,
   "id": "9f274a5c",
   "metadata": {},
   "outputs": [],
   "source": [
    "V_rat = V_dusty/V_nodust\n",
    "\n",
    "# Another helper function to create our plots, and save the output data for further analysis\n",
    "def Extinction(wav, flux1, flux2):\n",
    "    flux_rat = flux1/flux2\n",
    "    # Calcuating extinction from the formula \n",
    "    ext = np.log(V_rat/flux_rat)/EBV\n",
    "    inv_wav= 10**4/wav\n",
    "    plt.plot(inv_wav, ext, 'o', markersize=2)\n",
    "    return inv_wav, ext \n",
    "\n",
    "# Create the figure, then use the helper function to create the plots and save the data\n",
    "plt.figure()\n",
    "s_inv_wav, s_ext = Extinction(wav_sw_dusty, flux_sw_dusty, flux_sw_nodust)\n",
    "l_inv_wav, l_ext = Extinction(wav_lw_dusty, flux_lw_dusty, flux_lw_nodust)\n",
    "\n",
    "# Add a title, axes labels, and a legend\n",
    "plt.legend(['short wavelength', 'long wavelength'])\n",
    "plt.xlabel(r'$1/\\lambda$ $[\\mu m^{-1}]$')\n",
    "plt.ylabel(r'$E(\\lambda-V)/E(B-V)$')\n",
    "plt.title(target_dusty)\n",
    "plt.show()"
   ]
  },
  {
   "cell_type": "markdown",
   "id": "ca6d0f76-d8f4-4e34-a6a8-82d4260fd175",
   "metadata": {},
   "source": [
    "The values at the edge of the detectors don't look quite right. Particularly the right edge of the short wavelength; would we really expect the reddened star to be brighter in the short wavelengths region Let's excise the data from the edges and try again."
   ]
  },
  {
   "cell_type": "code",
   "execution_count": null,
   "id": "7b3e2d01-d523-4d34-881d-006d977889cb",
   "metadata": {},
   "outputs": [],
   "source": [
    "# How many points do we want to remove from either end of the data?\n",
    "s_crop = 50\n",
    "l_crop = -50\n",
    "\n",
    "# Use helper function with cropped data\n",
    "plt.figure()\n",
    "s_inv_wav, s_ext = Extinction(wav_sw_dusty[s_crop:], flux_sw_dusty[s_crop:], flux_sw_nodust[s_crop:])\n",
    "l_inv_wav, l_ext = Extinction(wav_lw_dusty[:l_crop], flux_lw_dusty[:l_crop], flux_lw_nodust[:l_crop])\n",
    "\n",
    "# Add a title, axes labels, and a legend\n",
    "plt.legend(['short wavelength', 'long wavelength'])\n",
    "plt.xlabel(r'$1/\\lambda$ $[\\mu m^{-1}]$')\n",
    "plt.ylabel(r'$E(\\lambda-V)/E(B-V)$')\n",
    "plt.title(target_dusty)\n",
    "plt.show()"
   ]
  },
  {
   "cell_type": "markdown",
   "id": "f4ec7c55-cc67-4e57-86e3-bc1c97baebfb",
   "metadata": {},
   "source": [
    "Much better.\n",
    "\n",
    "This is the typical shape encountered for extinction curves corresponding to the Small Magellanic Cloud (SMC), as can be seen in [Gordon et al. (2003)](https://ui.adsabs.harvard.edu/abs/2003ApJ...594..279G/abstract). Note in particular the \"bump\" at the transition between long and short wavelengths. This is the mysterious 2175 $\\mathring A$ bump; we don't fully understand its physical origin!"
   ]
  },
  {
   "cell_type": "markdown",
   "id": "33e3ecb0",
   "metadata": {},
   "source": [
    "## Exercises"
   ]
  },
  {
   "cell_type": "markdown",
   "id": "e4d71df9",
   "metadata": {},
   "source": [
    "If you're interested in exploring further, go back to the beginning of this Notebook and select a new pair of stars (Gordon et al. have some examples!). Can you find a star that doesn't have the 2175 $\\mathring A$ bump?\n",
    "\n",
    "For convenience, you might want to add a more sophisticated method of error checking. Recall that above, we printed out the lengths of the data to ensure they matched. Can you think of a way to check for this automatically and adjust as needed?"
   ]
  },
  {
   "cell_type": "markdown",
   "id": "2e48757b",
   "metadata": {},
   "source": [
    "## Additional Resources"
   ]
  },
  {
   "cell_type": "markdown",
   "id": "5516ade8",
   "metadata": {},
   "source": [
    "For more information about the MAST archive and details about mission data: \n",
    "\n",
    "* <a href=\"https://mast.stsci.edu/api/v0/index.html\">MAST API</a> <br>\n",
    "* <a href=\"https://archive.stsci.edu/iue/\">International Ultraviolet Explorer Page (MAST)</a> <br>\n",
    "* <a href=\"https://archive.stsci.edu/iue/mdr_help.html\">IUE Data Retrieval Help Page</a> \n",
    "\n",
    "For more information about extinction curves and their parametrization:\n",
    "\n",
    "\n",
    "* <a href=\"https://ui.adsabs.harvard.edu/abs/2003ApJ...594..279G/abstract\">A quantitative comparison of SMC, LMC and Milky Way UV to NIR extinction curves</a> <br>\n",
    "* <a href=\"https://adsabs.harvard.edu/pdf/1990ApJS...72..163F\">An analysis of the shapes of the ultraviolet extinction curves. III. An atlas of ultraviolet extinction curves</a> \n",
    "\n"
   ]
  },
  {
   "cell_type": "markdown",
   "id": "db295f01",
   "metadata": {},
   "source": [
    "## About this Notebook\n",
    "\n",
    "**Authors**: Clara Puerto Sánchez, Claire Murray, Thomas Dutkiewicz <br>\n",
    "**Keyword(s)**: UV, reddening, extinction-curve <br>\n",
    "**Last Updated**: Apr 2023 <br>\n",
    "\n",
    "For support, please contact the Archive HelpDesk at archive@stsci.edu.\n",
    "***\n",
    "[Top of Page](#top)\n",
    "<img style=\"float: right;\" src=\"https://raw.githubusercontent.com/spacetelescope/notebooks/master/assets/stsci_pri_combo_mark_horizonal_white_bkgd.png\" alt=\"Space Telescope Logo\" width=\"200px\"/>"
   ]
  }
 ],
 "metadata": {
  "kernelspec": {
   "display_name": "Python 3 (ipykernel)",
   "language": "python",
   "name": "python3"
  },
  "language_info": {
   "codemirror_mode": {
    "name": "ipython",
    "version": 3
   },
   "file_extension": ".py",
   "mimetype": "text/x-python",
   "name": "python",
   "nbconvert_exporter": "python",
   "pygments_lexer": "ipython3",
   "version": "3.8.8"
  }
 },
 "nbformat": 4,
 "nbformat_minor": 5
}
