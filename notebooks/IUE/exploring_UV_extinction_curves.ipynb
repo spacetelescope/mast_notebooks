{
 "cells": [
  {
   "cell_type": "markdown",
   "id": "929b4d77",
   "metadata": {},
   "source": [
    "<a id=\"top\"></a>\n",
    "# Exploring UV Extinction Curves\n",
    "***\n",
    "## Learning Goals\n",
    "\n",
    "By the end of this tutorial, you will be able to:\n",
    "\n",
    "- Perform data queries on the MAST archives using astroquery\n",
    "- Narrow down query results to the desired spectrum\n",
    "- Clean, analyze, and plot spectral data\n",
    "- Fit extinction curves to a parameterized model"
   ]
  },
  {
   "cell_type": "markdown",
   "id": "fbc2060f",
   "metadata": {},
   "source": [
    "## Introduction\n",
    "\n",
    "In this tutorial, you will learn how to download IUE data using the [MAST Archive API](https://astroquery.readthedocs.io/en/latest/mast/mast.html). We'll obtain the spectra of two stars, one reddened and one not. We will use these spectra to construct and plot UV extinction curves, then model this extinction.\n",
    "\n",
    "**Extinction curve background**: An extinction curve demonstrates the wavelength dependence of dust extinction. It compares the dust-free Spectral Energy Distribution (SED) of a star to the observed SED affected by dust extinction. Normally these curves are created by plotting $k(\\lambda-V)$ versus $1/\\lambda$, with $\\lambda$ being the wavelength (see 'Useful Equations' below).\n",
    "\n",
    "Extinction is relevant in a diverse range of scenarios. Sometimes, dust is found very near the observed object, like in stars with disks or proto-stellar clouds. However, the target does not need to be intrinsically \"dusty\"; dust in a galaxy that is light-years from a target star might still block the line-of-sight view and impact the observation.\n",
    "\n",
    "\n",
    "**International Ultraviolet Explorer (IUE)**: From 1978 until 1996, [the IUE](https://archive.stsci.edu/iue/) performed spectrophotometry in the wavelength range from 1150 Å to 3200 Å. The MAST Archive hosts these observations, which include more than 100,000 spectra.\n",
    "\n",
    "**Magellanic Clouds**: Irregular dwarf galaxies that orbit the Milky Way galaxy and are located in the southern celestial hemisphere. Two distinct groups can be differentiated: the Large Magellanic Cloud (LMC) and the Small Magellanic Cloud (SMC).\n",
    "\n",
    "**Defining some terms**:\n",
    "\n",
    "- **Color index**: difference between magnitude of a star in two different passbands, typically B and V. Symbol: $(B-V)$. \n",
    "- **Extinction**: absoption and scattering of light by dust and gas between an object and the observer. It is a measure of the interstellar reddening quantified by the difference between the magnitude of the band when observed through dust versus a dust-free environment. Symbol: $A(\\lambda)$.  \n",
    "\n",
    "- **Spectral type**: stellar classification from hotter (O stars) to cooler (M stars). Temperature defines a star's \"color\" and surface brightness.\n",
    "\n",
    "\n",
    "**Useful equations**\n",
    "- $k(\\lambda-V) = \\frac{m(\\lambda-V)-m(\\lambda-V)_o}{(B-V)-(B-V)_o} = \\frac{A(\\lambda)-A(V)}{A(B)-A(V)}$ \n",
    "\n",
    "_**Note**: the $x_o$ terms refer to the star that is nearly unaffected by dust, i.e. $(B-V)$ corresponds to the observed color index and $(B-V)_o$ to the color index if there were no extinction due to dust. The stars should have the same spectral type in order to perform this comparison._\n",
    "\n",
    "<!-- - The [Fitzpatrick and Massa (1990) parametrization](https://ui.adsabs.harvard.edu/abs/1990ApJS...72..163F/abstract): this will be the parametrization that will be followed in this tutorial for extinction curves. This parametrization is a combination of three elements; a linear \"background term\"; a Lorentsian-like \"Drude\" profile for the 2175 Å bump, $D(x; \\gamma, x_o)$; finally, a far-UV curvature term, $F(x)$. The $x$ in the equation corresponds to $x = \\lambda^{-1}$. \n",
    "\n",
    "$$\\begin{equation}\n",
    " k(x-V) = c_1 + c_2x + c_3D(x; \\gamma, x_o)+c_4F(x)\n",
    "\\end{equation}$$\n",
    "\n",
    "$$\\begin{equation}\n",
    " D(x; \\gamma, x_o) = \\frac{x^2}{(x^2-x_o^2)^2+x^2\\gamma^2}\n",
    "\\end{equation}$$\n",
    "\n",
    "$$\\begin{equation}\n",
    " F(x) = \\begin{cases}\n",
    "    0.5392(x-5.9)^2+0.05644(x-5.9)^3, & \\text{for $x \\geq 5.9 \\mu m^{-1}$}.\\\\\n",
    "    0, & \\text{otherwise}.\n",
    "  \\end{cases}\n",
    "\\end{equation}$$ -->\n",
    "    \n",
    "## Table of Contents\n",
    "* [Imports](#Imports)\n",
    "* [Searching by Target Name and Downloading Spectra](#Searching-the-MAST-archive-by-target-name-and-downloading-spectra)\n",
    "* [Exploring the downloaded data files](#Exploring-the-downloaded-data-files)\n",
    "* [Data access and manipulation](#Data-access-and-manipulation)\n",
    "* [Saving values into your local computer](#Saving-values-into-your-local-computer)\n",
    "* [Exercises](#Exercises)\n",
    "* [Additional Resources](#Additional-Resources)"
   ]
  },
  {
   "cell_type": "markdown",
   "id": "5920e02e",
   "metadata": {},
   "source": [
    "## Imports "
   ]
  },
  {
   "cell_type": "markdown",
   "id": "36f71271",
   "metadata": {},
   "source": [
    "The first step will be to import the libraries we will be using throughout this tutorial: \n",
    "\n",
    "- `Observations` from [astroquery.mast](https://astroquery.readthedocs.io/en/latest/mast/mast.html) to query the MAST Archive.\n",
    "- `fits` from _astropy.io_ for accessing FITS files\n",
    "- `numpy` for array manipulations"
   ]
  },
  {
   "cell_type": "code",
   "execution_count": 1,
   "id": "5fa17d07",
   "metadata": {},
   "outputs": [],
   "source": [
    "from astroquery.mast import Observations\n",
    "from astropy.io import fits\n",
    "import numpy as np\n",
    "from astroquery.simbad import Simbad\n",
    "from scipy.optimize import curve_fit\n",
    "\n",
    "import matplotlib.pyplot as plt"
   ]
  },
  {
   "cell_type": "markdown",
   "id": "6afd250c",
   "metadata": {},
   "source": [
    "_**Warning**: If you have not installed the astroquery package on your computer, you will need to. Information about astroquery can be found [on the readthedocs](https://astroquery.readthedocs.io/en/latest/)._"
   ]
  },
  {
   "cell_type": "markdown",
   "id": "7a11267b",
   "metadata": {},
   "source": [
    "## Background and Targets"
   ]
  },
  {
   "cell_type": "markdown",
   "id": "d3c60d39",
   "metadata": {},
   "source": [
    "The first step is to find the data files we want to use. We will using the `Observations` Class from `astroquery.mast` both to search for and download UV data from the IUE.\n",
    "\n",
    "We'll be targeting two stars: AzV 456 and AzV 380. This former is reddened by dust, while the latter is not. This particular example is from [Gordon et al. (2003)](https://ui.adsabs.harvard.edu/abs/2003ApJ...594..279G/abstract), but you can use any pair of reddened and unreddened stars with the same spectral type and luminosity class. Gordon et al. (2003) makes a good example because we want to explore the differences in extinction curves from stars belonging to the LMC and the SMC; more details on this are forthcoming in Part 2. \n",
    "\n",
    "## Searching and Downloading in astroquery.mast\n",
    "\n",
    "The `query_criteria` function allows you to filter by mission, as well as object name. For a full list of fields you can query, as well as their associated metadata names, see the [CAOM fields description](https://mast.stsci.edu/api/v0/_c_a_o_mfields.html) page.\n",
    "\n",
    "Again, our first target is AzV 456 and we want data from the IUE. Let's create a query to find matching results.\n",
    "\n",
    "**Note: We'll use a radius of zero to exactly match our target; depending on your particular query, this may result in some missing observations. Use with caution!**"
   ]
  },
  {
   "cell_type": "code",
   "execution_count": 167,
   "id": "daa7d030",
   "metadata": {},
   "outputs": [],
   "source": [
    "target_dusty = \"Azv456\"\n",
    "target_nodust = \"Azv70\""
   ]
  },
  {
   "cell_type": "code",
   "execution_count": 168,
   "id": "fc1e4e13",
   "metadata": {
    "scrolled": true
   },
   "outputs": [
    {
     "data": {
      "text/plain": [
       "2"
      ]
     },
     "execution_count": 168,
     "metadata": {},
     "output_type": "execute_result"
    }
   ],
   "source": [
    "# We use a radius of zero to find exact matches\n",
    "obs_table_dusty = Observations.query_criteria(obs_collection=\"IUE\",\n",
    "                                           objectname=target_dusty,\n",
    "                                           radius = \"0m\",\n",
    "                                           obs_title='A Far UV Study of Interstellar Matter in the Small Magellanic Cloud')\n",
    "len(obs_table_dusty)"
   ]
  },
  {
   "cell_type": "code",
   "execution_count": 169,
   "id": "b13bca65",
   "metadata": {},
   "outputs": [
    {
     "data": {
      "text/html": [
       "<i>Table length=2</i>\n",
       "<table id=\"table140487184668800-430690\" class=\"table-striped table-bordered table-condensed\">\n",
       "<thead><tr><th>idx</th><th>dataproduct_type</th><th>calib_level</th><th>obs_collection</th><th>obs_id</th><th>target_name</th><th>s_ra</th><th>s_dec</th><th>t_min</th><th>t_max</th><th>t_exptime</th><th>wavelength_region</th><th>filters</th><th>em_min</th><th>em_max</th><th>target_classification</th><th>obs_title</th><th>t_obs_release</th><th>instrument_name</th><th>proposal_pi</th><th>proposal_id</th><th>proposal_type</th><th>project</th><th>sequence_number</th><th>provenance_name</th><th>s_region</th><th>jpegURL</th><th>dataURL</th><th>dataRights</th><th>mtFlag</th><th>srcDen</th><th>intentType</th><th>obsid</th><th>objID</th><th>objID1</th><th>distance</th></tr></thead>\n",
       "<tr><td>0</td><td>spectrum</td><td>2</td><td>IUE</td><td>lwr12347</td><td>SK143</td><td>17.731021553599987</td><td>-72.7178483056</td><td>44985.95799</td><td>44985.99965</td><td>3599.848</td><td>UV</td><td>LOW DISP</td><td>185142000000.0</td><td>334867000000.0</td><td>--</td><td>A Far UV Study of Interstellar Matter in the Small Magellanic Cloud</td><td>nan</td><td>LWR</td><td>Prevot</td><td>LP572</td><td>--</td><td>--</td><td>--</td><td>--</td><td>CIRCLE ICRS 17.7310215536 -72.7178483056 0.00300694444444</td><td>http://archive.stsci.edu/browse/previews/iue/mx/lwr/12000/gif/lwr12347.gif</td><td>http://archive.stsci.edu/pub/vospectra/iue2/lwr12347mxlo_vo.fits</td><td>PUBLIC</td><td>--</td><td>5885.0</td><td>science</td><td>302141</td><td>529019</td><td>529019</td><td>0.0</td></tr>\n",
       "<tr><td>1</td><td>spectrum</td><td>2</td><td>IUE</td><td>swp16051</td><td>SK143</td><td>17.731021553599987</td><td>-72.7178483056</td><td>44986.00185</td><td>44986.07823</td><td>6599.755</td><td>UV</td><td>LOW DISP</td><td>115058000000.0</td><td>197869000000.0</td><td>--</td><td>A Far UV Study of Interstellar Matter in the Small Magellanic Cloud</td><td>nan</td><td>SWP</td><td>Prevot</td><td>LP572</td><td>--</td><td>--</td><td>--</td><td>--</td><td>CIRCLE ICRS 17.7310215536 -72.7178483056 0.00300694444444</td><td>http://archive.stsci.edu/browse/previews/iue/mx/swp/16000/gif/swp16051.gif</td><td>http://archive.stsci.edu/pub/vospectra/iue2/swp16051mxlo_vo.fits</td><td>PUBLIC</td><td>--</td><td>5885.0</td><td>science</td><td>314039</td><td>540917</td><td>540917</td><td>0.0</td></tr>\n",
       "</table><style>table.dataTable {clear: both; width: auto !important; margin: 0 !important;}\n",
       ".dataTables_info, .dataTables_length, .dataTables_filter, .dataTables_paginate{\n",
       "display: inline-block; margin-right: 1em; }\n",
       ".paginate_button { margin-right: 5px; }\n",
       "</style>\n",
       "<script>\n",
       "\n",
       "var astropy_sort_num = function(a, b) {\n",
       "    var a_num = parseFloat(a);\n",
       "    var b_num = parseFloat(b);\n",
       "\n",
       "    if (isNaN(a_num) && isNaN(b_num))\n",
       "        return ((a < b) ? -1 : ((a > b) ? 1 : 0));\n",
       "    else if (!isNaN(a_num) && !isNaN(b_num))\n",
       "        return ((a_num < b_num) ? -1 : ((a_num > b_num) ? 1 : 0));\n",
       "    else\n",
       "        return isNaN(a_num) ? -1 : 1;\n",
       "}\n",
       "\n",
       "require.config({paths: {\n",
       "    datatables: 'https://cdn.datatables.net/1.10.12/js/jquery.dataTables.min'\n",
       "}});\n",
       "require([\"datatables\"], function(){\n",
       "    console.log(\"$('#table140487184668800-430690').dataTable()\");\n",
       "    \n",
       "jQuery.extend( jQuery.fn.dataTableExt.oSort, {\n",
       "    \"optionalnum-asc\": astropy_sort_num,\n",
       "    \"optionalnum-desc\": function (a,b) { return -astropy_sort_num(a, b); }\n",
       "});\n",
       "\n",
       "    $('#table140487184668800-430690').dataTable({\n",
       "        order: [],\n",
       "        pageLength: 50,\n",
       "        lengthMenu: [[10, 25, 50, 100, 500, 1000, -1], [10, 25, 50, 100, 500, 1000, 'All']],\n",
       "        pagingType: \"full_numbers\",\n",
       "        columnDefs: [{targets: [0, 2, 6, 7, 8, 9, 10, 13, 14, 17, 23, 30, 35], type: \"optionalnum\"}]\n",
       "    });\n",
       "});\n",
       "</script>\n"
      ],
      "text/plain": [
       "<IPython.core.display.HTML object>"
      ]
     },
     "execution_count": 169,
     "metadata": {},
     "output_type": "execute_result"
    }
   ],
   "source": [
    "# Display the matching observations, if you want\n",
    "obs_table_dusty.show_in_notebook()"
   ]
  },
  {
   "cell_type": "markdown",
   "id": "f98b2aed",
   "metadata": {},
   "source": [
    "There are two matching observations. The first covers a short wavelength domain and the second covers the long domain (short and long are relative: both are UV observations). Let's use both so that we'll have a more complete picture of the extinction behavior over different wavelengths.\n",
    "\n",
    "Let's find the data products associated with these observations. We'll use the `get_products` function to do that."
   ]
  },
  {
   "cell_type": "code",
   "execution_count": 170,
   "id": "fb2d61e4",
   "metadata": {},
   "outputs": [],
   "source": [
    "data_products_dusty = Observations.get_product_list(obs_table_dusty)"
   ]
  },
  {
   "cell_type": "code",
   "execution_count": 171,
   "id": "40d92a0d",
   "metadata": {},
   "outputs": [
    {
     "data": {
      "text/html": [
       "<i>Table length=20</i>\n",
       "<table id=\"table140487314055024-491152\" class=\"table-striped table-bordered table-condensed\">\n",
       "<thead><tr><th>idx</th><th>obsID</th><th>obs_collection</th><th>dataproduct_type</th><th>obs_id</th><th>description</th><th>type</th><th>dataURI</th><th>productType</th><th>productGroupDescription</th><th>productSubGroupDescription</th><th>productDocumentationURL</th><th>project</th><th>prvversion</th><th>proposal_id</th><th>productFilename</th><th>size</th><th>parent_obsid</th><th>dataRights</th><th>calib_level</th></tr></thead>\n",
       "<tr><td>0</td><td>302141</td><td>IUE</td><td>spectrum</td><td>lwr12347</td><td>ELBLL</td><td>S</td><td>mast:IUE/url/pub/iue/data/lwr/12000/lwr12347.elbll.gz</td><td>AUXILIARY</td><td>--</td><td>--</td><td>--</td><td>--</td><td>--</td><td>LP572</td><td>lwr12347.elbll.gz</td><td>92557</td><td>302141</td><td>PUBLIC</td><td>2</td></tr>\n",
       "<tr><td>1</td><td>302141</td><td>IUE</td><td>spectrum</td><td>lwr12347</td><td>LILO</td><td>S</td><td>mast:IUE/url/pub/iue/data/lwr/12000/lwr12347.lilo.gz</td><td>AUXILIARY</td><td>--</td><td>--</td><td>--</td><td>--</td><td>--</td><td>LP572</td><td>lwr12347.lilo.gz</td><td>472881</td><td>302141</td><td>PUBLIC</td><td>2</td></tr>\n",
       "<tr><td>2</td><td>302141</td><td>IUE</td><td>spectrum</td><td>lwr12347</td><td>MELOL</td><td>S</td><td>mast:IUE/url/pub/iue/data/lwr/12000/lwr12347.melol.gz</td><td>AUXILIARY</td><td>--</td><td>--</td><td>--</td><td>--</td><td>--</td><td>LP572</td><td>lwr12347.melol.gz</td><td>11884</td><td>302141</td><td>PUBLIC</td><td>2</td></tr>\n",
       "<tr><td>3</td><td>302141</td><td>IUE</td><td>spectrum</td><td>lwr12347</td><td>RAW</td><td>S</td><td>mast:IUE/url/pub/iue/data/lwr/12000/lwr12347.raw.gz</td><td>AUXILIARY</td><td>--</td><td>--</td><td>--</td><td>--</td><td>--</td><td>LP572</td><td>lwr12347.raw.gz</td><td>302980</td><td>302141</td><td>PUBLIC</td><td>2</td></tr>\n",
       "<tr><td>4</td><td>302141</td><td>IUE</td><td>spectrum</td><td>lwr12347</td><td>RILO</td><td>S</td><td>mast:IUE/url/pub/iue/data/lwr/12000/lwr12347.rilo.gz</td><td>AUXILIARY</td><td>--</td><td>--</td><td>--</td><td>--</td><td>--</td><td>LP572</td><td>lwr12347.rilo.gz</td><td>308459</td><td>302141</td><td>PUBLIC</td><td>2</td></tr>\n",
       "<tr><td>5</td><td>302141</td><td>IUE</td><td>spectrum</td><td>lwr12347</td><td>SILO</td><td>S</td><td>mast:IUE/url/pub/iue/data/lwr/12000/lwr12347.silo.gz</td><td>AUXILIARY</td><td>--</td><td>--</td><td>--</td><td>--</td><td>--</td><td>LP572</td><td>lwr12347.silo.gz</td><td>91136</td><td>302141</td><td>PUBLIC</td><td>2</td></tr>\n",
       "<tr><td>6</td><td>302141</td><td>IUE</td><td>spectrum</td><td>lwr12347</td><td>Preview-Full</td><td>S</td><td>mast:IUE/url/browse/previews/iue/mx/lwr/12000/gif/lwr12347.gif</td><td>PREVIEW</td><td>--</td><td>--</td><td>--</td><td>--</td><td>--</td><td>LP572</td><td>lwr12347.gif</td><td>7767</td><td>302141</td><td>PUBLIC</td><td>2</td></tr>\n",
       "<tr><td>7</td><td>302141</td><td>IUE</td><td>spectrum</td><td>lwr12347</td><td>MXLO</td><td>S</td><td>mast:IUE/url/pub/iue/data/lwr/12000/lwr12347.mxlo.gz</td><td>SCIENCE</td><td>Minimum Recommended Products</td><td>--</td><td>--</td><td>--</td><td>--</td><td>LP572</td><td>lwr12347.mxlo.gz</td><td>17796</td><td>302141</td><td>PUBLIC</td><td>2</td></tr>\n",
       "<tr><td>8</td><td>302141</td><td>IUE</td><td>spectrum</td><td>lwr12347</td><td>(extracted spectra/vo spectral container/SSAP) fits file</td><td>S</td><td>mast:IUE/url/pub/vospectra/iue2/lwr12347mxlo_vo.fits</td><td>SCIENCE</td><td>Minimum Recommended Products</td><td>(extracted spectra/vo spectral container/SSAP) fits file</td><td>--</td><td>--</td><td>--</td><td>LP572</td><td>lwr12347mxlo_vo.fits</td><td>48960</td><td>302141</td><td>PUBLIC</td><td>2</td></tr>\n",
       "<tr><td>9</td><td>314039</td><td>IUE</td><td>spectrum</td><td>swp16051</td><td>ELBLL</td><td>S</td><td>mast:IUE/url/pub/iue/data/swp/16000/swp16051.elbll.gz</td><td>AUXILIARY</td><td>--</td><td>--</td><td>--</td><td>--</td><td>--</td><td>LP572</td><td>swp16051.elbll.gz</td><td>85202</td><td>314039</td><td>PUBLIC</td><td>2</td></tr>\n",
       "<tr><td>10</td><td>314039</td><td>IUE</td><td>spectrum</td><td>swp16051</td><td>ELBLS</td><td>S</td><td>mast:IUE/url/pub/iue/data/swp/16000/swp16051.elbls.gz</td><td>AUXILIARY</td><td>--</td><td>--</td><td>--</td><td>--</td><td>--</td><td>LP572</td><td>swp16051.elbls.gz</td><td>86183</td><td>314039</td><td>PUBLIC</td><td>2</td></tr>\n",
       "<tr><td>11</td><td>314039</td><td>IUE</td><td>spectrum</td><td>swp16051</td><td>LILO</td><td>S</td><td>mast:IUE/url/pub/iue/data/swp/16000/swp16051.lilo.gz</td><td>AUXILIARY</td><td>--</td><td>--</td><td>--</td><td>--</td><td>--</td><td>LP572</td><td>swp16051.lilo.gz</td><td>505088</td><td>314039</td><td>PUBLIC</td><td>2</td></tr>\n",
       "<tr><td>12</td><td>314039</td><td>IUE</td><td>spectrum</td><td>swp16051</td><td>MELOL</td><td>S</td><td>mast:IUE/url/pub/iue/data/swp/16000/swp16051.melol.gz</td><td>AUXILIARY</td><td>--</td><td>--</td><td>--</td><td>--</td><td>--</td><td>LP572</td><td>swp16051.melol.gz</td><td>10847</td><td>314039</td><td>PUBLIC</td><td>2</td></tr>\n",
       "<tr><td>13</td><td>314039</td><td>IUE</td><td>spectrum</td><td>swp16051</td><td>MELOS</td><td>S</td><td>mast:IUE/url/pub/iue/data/swp/16000/swp16051.melos.gz</td><td>AUXILIARY</td><td>--</td><td>--</td><td>--</td><td>--</td><td>--</td><td>LP572</td><td>swp16051.melos.gz</td><td>11073</td><td>314039</td><td>PUBLIC</td><td>2</td></tr>\n",
       "<tr><td>14</td><td>314039</td><td>IUE</td><td>spectrum</td><td>swp16051</td><td>RAW</td><td>S</td><td>mast:IUE/url/pub/iue/data/swp/16000/swp16051.raw.gz</td><td>AUXILIARY</td><td>--</td><td>--</td><td>--</td><td>--</td><td>--</td><td>LP572</td><td>swp16051.raw.gz</td><td>336446</td><td>314039</td><td>PUBLIC</td><td>2</td></tr>\n",
       "<tr><td>15</td><td>314039</td><td>IUE</td><td>spectrum</td><td>swp16051</td><td>RILO</td><td>S</td><td>mast:IUE/url/pub/iue/data/swp/16000/swp16051.rilo.gz</td><td>AUXILIARY</td><td>--</td><td>--</td><td>--</td><td>--</td><td>--</td><td>LP572</td><td>swp16051.rilo.gz</td><td>341518</td><td>314039</td><td>PUBLIC</td><td>2</td></tr>\n",
       "<tr><td>16</td><td>314039</td><td>IUE</td><td>spectrum</td><td>swp16051</td><td>SILO</td><td>S</td><td>mast:IUE/url/pub/iue/data/swp/16000/swp16051.silo.gz</td><td>AUXILIARY</td><td>--</td><td>--</td><td>--</td><td>--</td><td>--</td><td>LP572</td><td>swp16051.silo.gz</td><td>81762</td><td>314039</td><td>PUBLIC</td><td>2</td></tr>\n",
       "<tr><td>17</td><td>314039</td><td>IUE</td><td>spectrum</td><td>swp16051</td><td>Preview-Full</td><td>S</td><td>mast:IUE/url/browse/previews/iue/mx/swp/16000/gif/swp16051.gif</td><td>PREVIEW</td><td>--</td><td>--</td><td>--</td><td>--</td><td>--</td><td>LP572</td><td>swp16051.gif</td><td>7293</td><td>314039</td><td>PUBLIC</td><td>2</td></tr>\n",
       "<tr><td>18</td><td>314039</td><td>IUE</td><td>spectrum</td><td>swp16051</td><td>MXLO</td><td>S</td><td>mast:IUE/url/pub/iue/data/swp/16000/swp16051.mxlo.gz</td><td>SCIENCE</td><td>Minimum Recommended Products</td><td>--</td><td>--</td><td>--</td><td>--</td><td>LP572</td><td>swp16051.mxlo.gz</td><td>16532</td><td>314039</td><td>PUBLIC</td><td>2</td></tr>\n",
       "<tr><td>19</td><td>314039</td><td>IUE</td><td>spectrum</td><td>swp16051</td><td>(extracted spectra/vo spectral container/SSAP) fits file</td><td>S</td><td>mast:IUE/url/pub/vospectra/iue2/swp16051mxlo_vo.fits</td><td>SCIENCE</td><td>Minimum Recommended Products</td><td>(extracted spectra/vo spectral container/SSAP) fits file</td><td>--</td><td>--</td><td>--</td><td>LP572</td><td>swp16051mxlo_vo.fits</td><td>48960</td><td>314039</td><td>PUBLIC</td><td>2</td></tr>\n",
       "</table><style>table.dataTable {clear: both; width: auto !important; margin: 0 !important;}\n",
       ".dataTables_info, .dataTables_length, .dataTables_filter, .dataTables_paginate{\n",
       "display: inline-block; margin-right: 1em; }\n",
       ".paginate_button { margin-right: 5px; }\n",
       "</style>\n",
       "<script>\n",
       "\n",
       "var astropy_sort_num = function(a, b) {\n",
       "    var a_num = parseFloat(a);\n",
       "    var b_num = parseFloat(b);\n",
       "\n",
       "    if (isNaN(a_num) && isNaN(b_num))\n",
       "        return ((a < b) ? -1 : ((a > b) ? 1 : 0));\n",
       "    else if (!isNaN(a_num) && !isNaN(b_num))\n",
       "        return ((a_num < b_num) ? -1 : ((a_num > b_num) ? 1 : 0));\n",
       "    else\n",
       "        return isNaN(a_num) ? -1 : 1;\n",
       "}\n",
       "\n",
       "require.config({paths: {\n",
       "    datatables: 'https://cdn.datatables.net/1.10.12/js/jquery.dataTables.min'\n",
       "}});\n",
       "require([\"datatables\"], function(){\n",
       "    console.log(\"$('#table140487314055024-491152').dataTable()\");\n",
       "    \n",
       "jQuery.extend( jQuery.fn.dataTableExt.oSort, {\n",
       "    \"optionalnum-asc\": astropy_sort_num,\n",
       "    \"optionalnum-desc\": function (a,b) { return -astropy_sort_num(a, b); }\n",
       "});\n",
       "\n",
       "    $('#table140487314055024-491152').dataTable({\n",
       "        order: [],\n",
       "        pageLength: 50,\n",
       "        lengthMenu: [[10, 25, 50, 100, 500, 1000, -1], [10, 25, 50, 100, 500, 1000, 'All']],\n",
       "        pagingType: \"full_numbers\",\n",
       "        columnDefs: [{targets: [0, 16, 19], type: \"optionalnum\"}]\n",
       "    });\n",
       "});\n",
       "</script>\n"
      ],
      "text/plain": [
       "<IPython.core.display.HTML object>"
      ]
     },
     "execution_count": 171,
     "metadata": {},
     "output_type": "execute_result"
    }
   ],
   "source": [
    "# Display the products, if you want\n",
    "data_products_dusty.show_in_notebook()"
   ]
  },
  {
   "cell_type": "markdown",
   "id": "83cbce39",
   "metadata": {},
   "source": [
    "This looks good, but a fair number of these results are 'AUXILIARY'; they were orginially intended for calibration or engineering purposes. We want only the the products marked 'SCIENCE'; more specifically, we're looking for extracted spectra in `.fits` files. Let's add some filters to match those results."
   ]
  },
  {
   "cell_type": "code",
   "execution_count": 172,
   "id": "f66f8cc4",
   "metadata": {},
   "outputs": [
    {
     "data": {
      "text/plain": [
       "2"
      ]
     },
     "execution_count": 172,
     "metadata": {},
     "output_type": "execute_result"
    }
   ],
   "source": [
    "filtered_products_dusty = Observations.filter_products(data_products_dusty,\n",
    "                                                     productType='SCIENCE',\n",
    "                                                     extension = '.fits')\n",
    "len(filtered_products_dusty)"
   ]
  },
  {
   "cell_type": "code",
   "execution_count": 173,
   "id": "18b6da95",
   "metadata": {},
   "outputs": [
    {
     "data": {
      "text/html": [
       "<i>Table length=2</i>\n",
       "<table id=\"table140486640666128-834186\" class=\"table-striped table-bordered table-condensed\">\n",
       "<thead><tr><th>idx</th><th>obsID</th><th>obs_collection</th><th>dataproduct_type</th><th>obs_id</th><th>description</th><th>type</th><th>dataURI</th><th>productType</th><th>productGroupDescription</th><th>productSubGroupDescription</th><th>productDocumentationURL</th><th>project</th><th>prvversion</th><th>proposal_id</th><th>productFilename</th><th>size</th><th>parent_obsid</th><th>dataRights</th><th>calib_level</th></tr></thead>\n",
       "<tr><td>0</td><td>302141</td><td>IUE</td><td>spectrum</td><td>lwr12347</td><td>(extracted spectra/vo spectral container/SSAP) fits file</td><td>S</td><td>mast:IUE/url/pub/vospectra/iue2/lwr12347mxlo_vo.fits</td><td>SCIENCE</td><td>Minimum Recommended Products</td><td>(extracted spectra/vo spectral container/SSAP) fits file</td><td>--</td><td>--</td><td>--</td><td>LP572</td><td>lwr12347mxlo_vo.fits</td><td>48960</td><td>302141</td><td>PUBLIC</td><td>2</td></tr>\n",
       "<tr><td>1</td><td>314039</td><td>IUE</td><td>spectrum</td><td>swp16051</td><td>(extracted spectra/vo spectral container/SSAP) fits file</td><td>S</td><td>mast:IUE/url/pub/vospectra/iue2/swp16051mxlo_vo.fits</td><td>SCIENCE</td><td>Minimum Recommended Products</td><td>(extracted spectra/vo spectral container/SSAP) fits file</td><td>--</td><td>--</td><td>--</td><td>LP572</td><td>swp16051mxlo_vo.fits</td><td>48960</td><td>314039</td><td>PUBLIC</td><td>2</td></tr>\n",
       "</table><style>table.dataTable {clear: both; width: auto !important; margin: 0 !important;}\n",
       ".dataTables_info, .dataTables_length, .dataTables_filter, .dataTables_paginate{\n",
       "display: inline-block; margin-right: 1em; }\n",
       ".paginate_button { margin-right: 5px; }\n",
       "</style>\n",
       "<script>\n",
       "\n",
       "var astropy_sort_num = function(a, b) {\n",
       "    var a_num = parseFloat(a);\n",
       "    var b_num = parseFloat(b);\n",
       "\n",
       "    if (isNaN(a_num) && isNaN(b_num))\n",
       "        return ((a < b) ? -1 : ((a > b) ? 1 : 0));\n",
       "    else if (!isNaN(a_num) && !isNaN(b_num))\n",
       "        return ((a_num < b_num) ? -1 : ((a_num > b_num) ? 1 : 0));\n",
       "    else\n",
       "        return isNaN(a_num) ? -1 : 1;\n",
       "}\n",
       "\n",
       "require.config({paths: {\n",
       "    datatables: 'https://cdn.datatables.net/1.10.12/js/jquery.dataTables.min'\n",
       "}});\n",
       "require([\"datatables\"], function(){\n",
       "    console.log(\"$('#table140486640666128-834186').dataTable()\");\n",
       "    \n",
       "jQuery.extend( jQuery.fn.dataTableExt.oSort, {\n",
       "    \"optionalnum-asc\": astropy_sort_num,\n",
       "    \"optionalnum-desc\": function (a,b) { return -astropy_sort_num(a, b); }\n",
       "});\n",
       "\n",
       "    $('#table140486640666128-834186').dataTable({\n",
       "        order: [],\n",
       "        pageLength: 10,\n",
       "        lengthMenu: [[10, 25, 50, 100, 500, 1000, -1], [10, 25, 50, 100, 500, 1000, 'All']],\n",
       "        pagingType: \"full_numbers\",\n",
       "        columnDefs: [{targets: [0, 16, 19], type: \"optionalnum\"}]\n",
       "    });\n",
       "});\n",
       "</script>\n"
      ],
      "text/plain": [
       "<IPython.core.display.HTML object>"
      ]
     },
     "execution_count": 173,
     "metadata": {},
     "output_type": "execute_result"
    }
   ],
   "source": [
    "# Display the results, if you want\n",
    "filtered_products_dusty.show_in_notebook(display_length=10)"
   ]
  },
  {
   "cell_type": "markdown",
   "id": "2a38407e",
   "metadata": {},
   "source": [
    "Great! All that remains is to download the files. You can do this by passing the entire product table to the `download_products` function."
   ]
  },
  {
   "cell_type": "code",
   "execution_count": 174,
   "id": "9d937b9a",
   "metadata": {},
   "outputs": [
    {
     "name": "stdout",
     "output_type": "stream",
     "text": [
      "INFO: Found cached file ./mastDownload/IUE/lwr12347/lwr12347mxlo_vo.fits with expected size 48960. [astroquery.query]\n",
      "INFO: Found cached file ./mastDownload/IUE/swp16051/swp16051mxlo_vo.fits with expected size 48960. [astroquery.query]\n"
     ]
    }
   ],
   "source": [
    "manifest_dusty = Observations.download_products(filtered_products_dusty)"
   ]
  },
  {
   "cell_type": "markdown",
   "id": "60372b3d",
   "metadata": {},
   "source": [
    "Now, let's repeat this process for our second target: AzV 380. We'll condense the code into one cell for convenience."
   ]
  },
  {
   "cell_type": "code",
   "execution_count": 175,
   "id": "6ae75172",
   "metadata": {},
   "outputs": [
    {
     "name": "stdout",
     "output_type": "stream",
     "text": [
      "INFO: Found cached file ./mastDownload/IUE/lwp12387/lwp12387mxlo_vo.fits with expected size 51840. [astroquery.query]\n",
      "INFO: Found cached file ./mastDownload/IUE/swp18830/swp18830mxlo_vo.fits with expected size 51840. [astroquery.query]\n"
     ]
    }
   ],
   "source": [
    "obs_table_nodust = Observations.query_criteria(obs_collection=\"IUE\",\n",
    "                                            objectname=target_nodust,\n",
    "                                            radius = \"0m\")\n",
    "\n",
    "data_products_nodust = Observations.get_product_list(obs_table_nodust)\n",
    "\n",
    "# Note that you can skip the 'filter products' step\n",
    "# Instead, you can pass the filters directly to 'download_products'\n",
    "manifest_nodust = Observations.download_products(data_products_nodust,\n",
    "                                             productType='SCIENCE',\n",
    "                                             extension = \".fits\")"
   ]
  },
  {
   "cell_type": "markdown",
   "id": "73889127",
   "metadata": {},
   "source": [
    "## Exploring the Downloaded Data Files"
   ]
  },
  {
   "cell_type": "markdown",
   "id": "7705ab97",
   "metadata": {},
   "source": [
    "Now, let's explore the FITS file that we got for the reddened star. The filepaths were saved in our `manifest` variable when we used `download_products`."
   ]
  },
  {
   "cell_type": "code",
   "execution_count": 176,
   "id": "8082e4df",
   "metadata": {},
   "outputs": [
    {
     "name": "stdout",
     "output_type": "stream",
     "text": [
      "Filename: ./mastDownload/IUE/lwr12347/lwr12347mxlo_vo.fits\n",
      "No.    Name      Ver    Type      Cards   Dimensions   Format\n",
      "  0  PRIMARY       1 PrimaryHDU     359   ()      \n",
      "  1  Spectral Container    1 BinTableHDU    141   1R x 4C   [562E, 562E, 562E, 562I]   \n"
     ]
    }
   ],
   "source": [
    "# Pull the filepaths from the manifests\n",
    "filenames_dusty = manifest_dusty['Local Path']\n",
    "filenames_nodust = manifest_nodust['Local Path']\n",
    "\n",
    "# The first path in the list is for the 'long wavelength' data\n",
    "lw_dusty = filenames_dusty[0]\n",
    "\n",
    "# We'll create the other files now, for convenience\n",
    "sw_dusty = filenames_dusty[1]\n",
    "lw_nodust = filenames_nodust[0]\n",
    "sw_nodust = filenames_nodust[1]\n",
    "\n",
    "# Print the information from the first file only\n",
    "fits.info(lw_dusty)"
   ]
  },
  {
   "cell_type": "markdown",
   "id": "aab81955",
   "metadata": {},
   "source": [
    "- **No. 0 (PRIMARY)**: This HDU contains meta-data related to the entire file.\n",
    "- **No. 1 (Spectral Container)**: This HDU contains the spectral profile of the target as a function of wavelength.\n",
    "\n",
    "The header of the file contains additional information about the data. \n",
    "\n",
    "Let's take a look at some of the columns that are more relevant to us: "
   ]
  },
  {
   "cell_type": "code",
   "execution_count": 177,
   "id": "897a2252",
   "metadata": {
    "scrolled": true
   },
   "outputs": [
    {
     "name": "stdout",
     "output_type": "stream",
     "text": [
      "COMMENT  *** Column names ***                                                   \n",
      "COMMENT                                                                         \n",
      "TTYPE1  = 'WAVE    '           /                                                \n",
      "TTYPE2  = 'FLUX    '           /                                                \n",
      "TTYPE3  = 'SIGMA   '           /                                                \n",
      "TTYPE4  = 'QUALITY '           /                                                \n"
     ]
    }
   ],
   "source": [
    "with fits.open(lw_dusty) as hdulist: \n",
    "    header_lw_dusty = hdulist[1].header\n",
    "\n",
    "# Remove to the [9:15] index to see the entire header\n",
    "print(repr(header_lw_dusty[9:15]))"
   ]
  },
  {
   "cell_type": "markdown",
   "id": "75052360",
   "metadata": {},
   "source": [
    "This tell us that first column corresponds to the wavelengths, and the second column to the fluxes. We can also see the units:"
   ]
  },
  {
   "cell_type": "code",
   "execution_count": 178,
   "id": "4a724d13",
   "metadata": {},
   "outputs": [
    {
     "name": "stdout",
     "output_type": "stream",
     "text": [
      "COMMENT   *** Column units ***                                                  \n",
      "COMMENT                                                                         \n",
      "TUNIT1  = 'angstrom'           / wavelength unit is Angstrom                    \n",
      "TUNIT2  = 'erg/cm**2/s/angstrom' / flux unit is ergs/cm2/sec/A                  \n",
      "TUNIT3  = 'erg/cm**2/s/angstrom' / sigma unit is ergs/cm2/sec/A                 \n"
     ]
    }
   ],
   "source": [
    "print(repr(header_lw_dusty[23:28]))"
   ]
  },
  {
   "cell_type": "markdown",
   "id": "e8ba6bed",
   "metadata": {},
   "source": [
    "## Data Access and Validation"
   ]
  },
  {
   "cell_type": "markdown",
   "id": "1195669c",
   "metadata": {},
   "source": [
    "The data contained in this fits file can be accessed using `io.fits` and the `.data` attribute. This can be tedious to do more than once, so let's create a helper function to do it for us."
   ]
  },
  {
   "cell_type": "code",
   "execution_count": 179,
   "id": "98153b6c",
   "metadata": {},
   "outputs": [],
   "source": [
    "# This helper function will take a filename and return the wavelength/flux data\n",
    "def extractData(filename):\n",
    "    # Open the file and read the data\n",
    "    with fits.open(filename) as hdulist:\n",
    "        spectrum = hdulist[1].data\n",
    "        \n",
    "    # Extract our desired data from the corresponding columns\n",
    "    wav = spectrum[0][0]   # wavelength, angstrom, A\n",
    "    flux = spectrum [0][1] # flux, ergs/cm2/sec/A\n",
    "\n",
    "    return wav, flux"
   ]
  },
  {
   "cell_type": "markdown",
   "id": "b6a81ebe",
   "metadata": {},
   "source": [
    "Let's make sure we get a sensible result when we extract the data. We can make a plot to quickly see if anything is wrong with the results."
   ]
  },
  {
   "cell_type": "code",
   "execution_count": 180,
   "id": "781f9315",
   "metadata": {
    "scrolled": true
   },
   "outputs": [
    {
     "data": {
      "text/plain": [
       "[<matplotlib.lines.Line2D at 0x7fc588afe8b0>]"
      ]
     },
     "execution_count": 180,
     "metadata": {},
     "output_type": "execute_result"
    },
    {
     "data": {
      "image/png": "[encoded data removed]",
      "text/plain": [
       "<Figure size 432x288 with 1 Axes>"
      ]
     },
     "metadata": {
      "needs_background": "light"
     },
     "output_type": "display_data"
    }
   ],
   "source": [
    "# Let's run our helper function on our data\n",
    "wav_lw_dusty, flux_lw_dusty = extractData(lw_dusty)\n",
    "wav_sw_dusty, flux_sw_dusty = extractData(sw_dusty)\n",
    "wav_lw_nodust, flux_lw_nodust = extractData(lw_nodust)\n",
    "wav_sw_nodust, flux_sw_nodust = extractData(sw_nodust)\n",
    "\n",
    "# Let's also make a rough plot of our data, just so we can see what we're working with\n",
    "plt.plot(wav_lw_nodust, np.log10(flux_lw_nodust))\n",
    "plt.plot(wav_lw_dusty, np.log10(flux_lw_dusty))\n"
   ]
  },
  {
   "cell_type": "markdown",
   "id": "03162906-2d68-4d49-8f21-dc36b52513a9",
   "metadata": {},
   "source": [
    "## THOMAS: explain why we're looking for consistent lengths"
   ]
  },
  {
   "cell_type": "code",
   "execution_count": 181,
   "id": "32f33565-e9fb-42cb-93ad-8d8fe6a62585",
   "metadata": {},
   "outputs": [
    {
     "name": "stdout",
     "output_type": "stream",
     "text": [
      "563 563 562 562\n",
      "495 495 495 495\n",
      "562 562 562 562\n",
      "495 495 495 495\n"
     ]
    }
   ],
   "source": [
    "# TBD: explain that we're checking for consistent data lengths\n",
    "\n",
    "print(len(wav_lw_nodust), len(flux_lw_nodust), len(wav_lw_dusty), len(flux_lw_dusty))\n",
    "print(len(wav_sw_nodust), len(flux_sw_nodust), len(wav_sw_dusty), len(flux_sw_dusty))\n",
    "if len(wav_lw_nodust)!=len(wav_lw_dusty):\n",
    "    wav_lw_nodust = wav_lw_nodust[:len(wav_lw_dusty)]\n",
    "    flux_lw_nodust = flux_lw_nodust[:len(flux_lw_dusty)]\n",
    "    \n",
    "print(len(wav_lw_nodust), len(flux_lw_nodust), len(wav_lw_dusty), len(flux_lw_dusty))\n",
    "print(len(wav_sw_nodust), len(flux_sw_nodust), len(wav_sw_dusty), len(flux_sw_dusty))"
   ]
  },
  {
   "cell_type": "markdown",
   "id": "f0f623a0",
   "metadata": {},
   "source": [
    "## Data Plotting\n",
    "\n",
    "After searching for, downloading, and cleaning our data, we're finally ready to display the plot. We'll plot the flux against the inverse wavelength; this is customary for this type of study and follows the example in Gordon et al."
   ]
  },
  {
   "cell_type": "code",
   "execution_count": 184,
   "id": "55d2e044",
   "metadata": {},
   "outputs": [
    {
     "data": {
      "image/png": "[encoded data removed]",
      "text/plain": [
       "<Figure size 432x288 with 1 Axes>"
      ]
     },
     "metadata": {
      "needs_background": "light"
     },
     "output_type": "display_data"
    }
   ],
   "source": [
    "# Set up the plot size, labels, units\n",
    "fig = plt.figure()\n",
    "ax = plt.subplot(111)\n",
    "ax.set_xlabel('1/$\\lambda$ ($\\mu m^{-1}$)')\n",
    "ax.set_ylabel(r'log(Flux (ergs $cm^{-2}$ $s^{-1}$ $\\AA^{-1}$))')\n",
    "ax.set_xlim([3,8])\n",
    "ax.set_ylim([-13.6, -11.5])\n",
    "\n",
    "# Create a helper function to plot the data. We want to plot inverse wavelength against log of flux\n",
    "def Plot(wav, flux, style, lbl):\n",
    "    plt.plot(10**4/wav, np.log10(flux), style, label=lbl)\n",
    "\n",
    "# Call the helper function four times: for long/short wavelengths of both 456 and 380\n",
    "Plot(wav_lw_dusty, flux_lw_dusty, 'r:', 'lw_dusty')\n",
    "Plot(wav_sw_dusty, flux_sw_dusty, 'r', 'sw_dusty')\n",
    "Plot(wav_lw_nodust, flux_lw_nodust, 'b:', 'lw_nodust')\n",
    "Plot(wav_sw_nodust, flux_sw_nodust, 'b', 'sw_nodust')\n",
    "\n",
    "# Add some labels to our plot to clarify which spectrum is which\n",
    "plt.text(6.7, -13.4, target_dusty, fontsize = 11, color='r')\n",
    "plt.text(6.1, -12.6, target_nodust, fontsize = 11, color='b')\n",
    "\n",
    "# Create the legend and show our plot\n",
    "plt.legend(loc='best',frameon=False)\n",
    "plt.show()"
   ]
  },
  {
   "cell_type": "markdown",
   "id": "4e41ad3f",
   "metadata": {},
   "source": [
    "What a wonderful example of extinction! Both stars have the same spectral features, but we can see an enormous dimming of AzV456 in the shorter (bluer) wavelengths. Note that shorter wavelengths correspond to a larger value of $1/\\lambda$; this region is plotted with solid lines in the figure."
   ]
  },
  {
   "cell_type": "markdown",
   "id": "e79340ad",
   "metadata": {},
   "source": [
    "## Extinction Curve\n",
    "\n",
    "Let's now use the <a href=\"http://simbad.cds.unistra.fr/simbad/\">SIMBAD</a> database to look for the fluxes in the B and V bands for both stars. We can do a simple query using the identifier of both stars. The magnitudes can be found under the 8th subgroup presented below the name of the stars, called 'Fluxes', since SIMBAD can provide you with either the flux or the magnitude of the star in those bands.\n"
   ]
  },
  {
   "cell_type": "code",
   "execution_count": 185,
   "id": "e87502c1",
   "metadata": {},
   "outputs": [],
   "source": [
    "# Request the B and V magnitudes\n",
    "Simbad.add_votable_fields('flux(B)','flux(V)')\n",
    "\n",
    "# Query for AvZ 456\n",
    "table_dusty = Simbad.query_object(target_dusty)\n"
   ]
  },
  {
   "cell_type": "code",
   "execution_count": 186,
   "id": "14a5df9a",
   "metadata": {},
   "outputs": [
    {
     "data": {
      "text/html": [
       "<i>Table length=1</i>\n",
       "<table id=\"table140486912957696-787297\" class=\"table-striped table-bordered table-condensed\">\n",
       "<thead><tr><th>idx</th><th>MAIN_ID</th><th>RA</th><th>DEC</th><th>RA_PREC</th><th>DEC_PREC</th><th>COO_ERR_MAJA</th><th>COO_ERR_MINA</th><th>COO_ERR_ANGLE</th><th>COO_QUAL</th><th>COO_WAVELENGTH</th><th>COO_BIBCODE</th><th>FLUX_B</th><th>FLUX_V</th><th>FLUX_B_1</th><th>FLUX_V_1</th><th>FLUX_B_2</th><th>FLUX_V_2</th><th>FLUX_B_3</th><th>FLUX_V_3</th><th>FLUX_B_4</th><th>FLUX_V_4</th><th>FLUX_B_5</th><th>FLUX_V_5</th><th>FLUX_B_6</th><th>FLUX_V_6</th><th>SCRIPT_NUMBER_ID</th></tr></thead>\n",
       "<thead><tr><th></th><th></th><th>&quot;h:m:s&quot;</th><th>&quot;d:m:s&quot;</th><th></th><th></th><th>mas</th><th>mas</th><th>deg</th><th></th><th></th><th></th><th>mag</th><th>mag</th><th>mag</th><th>mag</th><th>mag</th><th>mag</th><th>mag</th><th>mag</th><th>mag</th><th>mag</th><th>mag</th><th>mag</th><th>mag</th><th>mag</th><th></th></tr></thead>\n",
       "<tr><td>0</td><td>SK  143</td><td>01 10 55.7567</td><td>-72 42 56.223</td><td>14</td><td>14</td><td>0.439</td><td>0.425</td><td>90</td><td>A</td><td>O</td><td>2020yCat.1350....0G</td><td>12.98</td><td>12.89</td><td>12.98</td><td>12.89</td><td>12.98</td><td>12.89</td><td>12.98</td><td>12.89</td><td>12.98</td><td>12.89</td><td>12.98</td><td>12.89</td><td>12.98</td><td>12.89</td><td>1</td></tr>\n",
       "</table><style>table.dataTable {clear: both; width: auto !important; margin: 0 !important;}\n",
       ".dataTables_info, .dataTables_length, .dataTables_filter, .dataTables_paginate{\n",
       "display: inline-block; margin-right: 1em; }\n",
       ".paginate_button { margin-right: 5px; }\n",
       "</style>\n",
       "<script>\n",
       "\n",
       "var astropy_sort_num = function(a, b) {\n",
       "    var a_num = parseFloat(a);\n",
       "    var b_num = parseFloat(b);\n",
       "\n",
       "    if (isNaN(a_num) && isNaN(b_num))\n",
       "        return ((a < b) ? -1 : ((a > b) ? 1 : 0));\n",
       "    else if (!isNaN(a_num) && !isNaN(b_num))\n",
       "        return ((a_num < b_num) ? -1 : ((a_num > b_num) ? 1 : 0));\n",
       "    else\n",
       "        return isNaN(a_num) ? -1 : 1;\n",
       "}\n",
       "\n",
       "require.config({paths: {\n",
       "    datatables: 'https://cdn.datatables.net/1.10.12/js/jquery.dataTables.min'\n",
       "}});\n",
       "require([\"datatables\"], function(){\n",
       "    console.log(\"$('#table140486912957696-787297').dataTable()\");\n",
       "    \n",
       "jQuery.extend( jQuery.fn.dataTableExt.oSort, {\n",
       "    \"optionalnum-asc\": astropy_sort_num,\n",
       "    \"optionalnum-desc\": function (a,b) { return -astropy_sort_num(a, b); }\n",
       "});\n",
       "\n",
       "    $('#table140486912957696-787297').dataTable({\n",
       "        order: [],\n",
       "        pageLength: 50,\n",
       "        lengthMenu: [[10, 25, 50, 100, 500, 1000, -1], [10, 25, 50, 100, 500, 1000, 'All']],\n",
       "        pagingType: \"full_numbers\",\n",
       "        columnDefs: [{targets: [0, 4, 5, 6, 7, 8, 12, 13, 14, 15, 16, 17, 18, 19, 20, 21, 22, 23, 24, 25, 26], type: \"optionalnum\"}]\n",
       "    });\n",
       "});\n",
       "</script>\n"
      ],
      "text/plain": [
       "<IPython.core.display.HTML object>"
      ]
     },
     "execution_count": 186,
     "metadata": {},
     "output_type": "execute_result"
    }
   ],
   "source": [
    "# Examine the data, if you want\n",
    "table_dusty.show_in_notebook()"
   ]
  },
  {
   "cell_type": "markdown",
   "id": "4272f7a3",
   "metadata": {},
   "source": [
    "Great. Let's get the data for AzV380 as well."
   ]
  },
  {
   "cell_type": "code",
   "execution_count": 187,
   "id": "c408f301",
   "metadata": {},
   "outputs": [],
   "source": [
    "table_nodust = Simbad.query_object(target_nodust)"
   ]
  },
  {
   "cell_type": "markdown",
   "id": "83e2e45c",
   "metadata": {},
   "source": [
    "From these values we can directly calculate $E(B-V) = (B-V)-(B-V)_o$. We can do this since AvZ 380 is essentially an unreddened version of AvZ 456."
   ]
  },
  {
   "cell_type": "code",
   "execution_count": 188,
   "id": "4a268bd1",
   "metadata": {},
   "outputs": [
    {
     "name": "stdout",
     "output_type": "stream",
     "text": [
      "The value of E(B-V) is equal to 1.530\n"
     ]
    }
   ],
   "source": [
    "# Extract these values from the table\n",
    "V_dusty = table_dusty['FLUX_V'][0]\n",
    "B_dusty = table_dusty['FLUX_B'][0]\n",
    "\n",
    "V_nodust = table_nodust['FLUX_V'][0]\n",
    "B_nodust = table_nodust['FLUX_B'][0]\n",
    "\n",
    "# Plug into the formula\n",
    "EBV = (B_dusty-V_dusty)-(B_nodust-V_nodust)\n",
    "print(f\"The value of E(B-V) is equal to {EBV:.3f}\")"
   ]
  },
  {
   "cell_type": "markdown",
   "id": "22fc6fc9",
   "metadata": {},
   "source": [
    "Now we can fully plot the extinction curve!\n",
    "\n",
    "$k(\\lambda-V) = \\frac{m(\\lambda-V)-m(\\lambda-V)_o}{(B-V)-(B-V)_o} = \\frac{A(\\lambda)-A(V)}{A(B)-A(V)}$\n",
    "\n",
    "# EXPLAIN EQUATION HERE\n",
    "\n",
    "## CLAIRE: advice from expert. do we eliminate the data points at the end of each wavelength band? is that due to detector effects?\n",
    "\n",
    "Yes! I think this is fine -- in the original paper that published this data (https://ui.adsabs.harvard.edu/abs/1998ApJ...500..816G/abstract) they did this, and also binned the spectra, but I don't think you need to do that. "
   ]
  },
  {
   "cell_type": "code",
   "execution_count": 189,
   "id": "9f274a5c",
   "metadata": {},
   "outputs": [
    {
     "data": {
      "image/png": "[encoded data removed]",
      "text/plain": [
       "<Figure size 432x288 with 1 Axes>"
      ]
     },
     "metadata": {
      "needs_background": "light"
     },
     "output_type": "display_data"
    }
   ],
   "source": [
    "V_rat = V_dusty/V_nodust\n",
    "\n",
    "# Another helper function to create our plots, and save the output data for further analysis\n",
    "def Extinction(wav, flux1, flux2):\n",
    "    flux_rat = flux1/flux2\n",
    "    # Calcuating extinction from the formula \n",
    "    ext = np.log(V_rat/flux_rat)/EBV\n",
    "    inv_wav= 10**4/wav\n",
    "    plt.plot(inv_wav, ext, 'o', markersize=2)\n",
    "    return inv_wav, ext \n",
    "\n",
    "# Create the figure, then use the helper function to create the plots and save the data\n",
    "plt.figure()\n",
    "s_inv_wav, s_ext = Extinction(wav_sw_dusty, flux_sw_dusty, flux_sw_nodust)\n",
    "l_inv_wav, l_ext = Extinction(wav_lw_dusty, flux_lw_dusty, flux_lw_nodust)\n",
    "\n",
    "# Add a title, axes labels, and a legend\n",
    "plt.legend(['short wavelength', 'long wavelength'])\n",
    "plt.xlabel(r'$1/\\lambda$ $[\\mu m^{-1}]$')\n",
    "plt.ylabel(r'$E(\\lambda-V)/E(B-V)$')\n",
    "plt.title(target_dusty)\n",
    "plt.show()"
   ]
  },
  {
   "cell_type": "markdown",
   "id": "ca6d0f76-d8f4-4e34-a6a8-82d4260fd175",
   "metadata": {},
   "source": [
    "The values at the edge of the detectors don't look quite right. Particularly the right edge of the short wavelength; would we really expect the reddened star to be 20 orders of magnitude brighter in shorter wavelengths? Let's excise the data from the edges and try again."
   ]
  },
  {
   "cell_type": "code",
   "execution_count": 191,
   "id": "7b3e2d01-d523-4d34-881d-006d977889cb",
   "metadata": {},
   "outputs": [
    {
     "data": {
      "image/png": "[encoded data removed]",
      "text/plain": [
       "<Figure size 432x288 with 1 Axes>"
      ]
     },
     "metadata": {
      "needs_background": "light"
     },
     "output_type": "display_data"
    }
   ],
   "source": [
    "# How many points do we want to remove from either end of the data?\n",
    "s_crop = 50\n",
    "l_crop = -50\n",
    "\n",
    "# Use helper function with cropped data\n",
    "plt.figure()\n",
    "s_inv_wav, s_ext = Extinction(wav_sw_dusty[s_crop:], flux_sw_dusty[s_crop:], flux_sw_nodust[s_crop:])\n",
    "l_inv_wav, l_ext = Extinction(wav_lw_dusty[:l_crop], flux_lw_dusty[:l_crop], flux_lw_nodust[:l_crop])\n",
    "\n",
    "# Add a title, axes labels, and a legend\n",
    "plt.legend(['short wavelength', 'long wavelength'])\n",
    "plt.xlabel(r'$1/\\lambda$ $[\\mu m^{-1}]$')\n",
    "plt.ylabel(r'$E(\\lambda-V)/E(B-V)$')\n",
    "plt.title(target_dusty)\n",
    "plt.show()"
   ]
  },
  {
   "cell_type": "markdown",
   "id": "f4ec7c55-cc67-4e57-86e3-bc1c97baebfb",
   "metadata": {},
   "source": [
    "This is the typical shape encountered for extinction curves corresponding to the Small Magellanic Cloud (SMC), as can be seen in [Gordon et al. (2003)](https://ui.adsabs.harvard.edu/abs/2003ApJ...594..279G/abstract)."
   ]
  },
  {
   "cell_type": "markdown",
   "id": "33e3ecb0",
   "metadata": {},
   "source": [
    "## Exercises"
   ]
  },
  {
   "cell_type": "markdown",
   "id": "e4d71df9",
   "metadata": {},
   "source": [
    "Now you can try to do it yourself! Try to obtain the spectra necessary to create an extinction curve of a star belonging to the Large Magellanic Cloud (LMC) following the steps presented for the SMC one.\n",
    "\n",
    "### 1. Load the data\n",
    "\n",
    "The targets for this exercise will be:\n",
    "\n",
    "- Sk -69 206 (Observation IDs: swp36552, lwp15751) (reddened star)\n",
    "- Sk -67 5 (Observation IDs: swp04827, lwr04170) (unreddened star)\n",
    "\n",
    "First, do the database search for the reddened star:"
   ]
  },
  {
   "cell_type": "code",
   "execution_count": null,
   "id": "0df02bac",
   "metadata": {},
   "outputs": [],
   "source": [
    "# You can copy, paste and modify the code corresponding to this part that we used for the SMC cloud here\n",
    "# You can also use any function that was defined before\n"
   ]
  },
  {
   "cell_type": "markdown",
   "id": "e4894cb1",
   "metadata": {},
   "source": [
    "Narrow down the possibilities to the desired observation, observation ID: \"swp36552\":"
   ]
  },
  {
   "cell_type": "code",
   "execution_count": null,
   "id": "63902b4f",
   "metadata": {},
   "outputs": [],
   "source": [
    "# You can copy, paste and modify the code corresponding to this part that we used for the SMC cloud here\n",
    "# You can also use any function that was defined before\n"
   ]
  },
  {
   "cell_type": "markdown",
   "id": "7aedb721",
   "metadata": {},
   "source": [
    "Now, download the data as before:"
   ]
  },
  {
   "cell_type": "code",
   "execution_count": null,
   "id": "85cf856d",
   "metadata": {},
   "outputs": [],
   "source": [
    "# You can copy, paste and modify the code corresponding to this part that we used for the SMC cloud here\n",
    "# You can also use any function that was defined before\n"
   ]
  },
  {
   "cell_type": "markdown",
   "id": "1a9e18ee",
   "metadata": {},
   "source": [
    "And again, in order to cover a wider wavelength range, let's also download the other part of the spectra using the second observation ID provided, observation ID: \"lwp15751\":"
   ]
  },
  {
   "cell_type": "code",
   "execution_count": null,
   "id": "80ed0693",
   "metadata": {},
   "outputs": [],
   "source": [
    "# You can copy, paste and modify the code corresponding to this part that we used for the SMC cloud here\n",
    "# You can also use any function that was defined before\n"
   ]
  },
  {
   "cell_type": "markdown",
   "id": "fd0fbf61",
   "metadata": {},
   "source": [
    "Now, let's do the same for the unreddened star:"
   ]
  },
  {
   "cell_type": "code",
   "execution_count": null,
   "id": "506772da",
   "metadata": {},
   "outputs": [],
   "source": [
    "# You can copy, paste and modify the code corresponding to this part that we used for the SMC cloud here\n",
    "# You can also use any function that was defined before\n"
   ]
  },
  {
   "cell_type": "markdown",
   "id": "c4bff8af",
   "metadata": {},
   "source": [
    "- Observation ID: \"swp04827\":"
   ]
  },
  {
   "cell_type": "code",
   "execution_count": null,
   "id": "e94e32df",
   "metadata": {},
   "outputs": [],
   "source": [
    "# You can copy, paste and modify the code corresponding to this part that we used for the SMC cloud here\n",
    "# You can also use any function that was defined before\n"
   ]
  },
  {
   "cell_type": "code",
   "execution_count": null,
   "id": "2fe4d8ea",
   "metadata": {
    "scrolled": true
   },
   "outputs": [],
   "source": [
    "# You can copy, paste and modify the code corresponding to this part that we used for the SMC cloud here\n",
    "# You can also use any function that was defined before\n"
   ]
  },
  {
   "cell_type": "markdown",
   "id": "7b0c8065",
   "metadata": {},
   "source": [
    "- Observation ID: \"lwr04170\""
   ]
  },
  {
   "cell_type": "code",
   "execution_count": null,
   "id": "311c43c9",
   "metadata": {},
   "outputs": [],
   "source": [
    "# You can copy, paste and modify the code corresponding to this part that we used for the SMC cloud here\n",
    "# You can also use any function that was defined before\n"
   ]
  },
  {
   "cell_type": "code",
   "execution_count": null,
   "id": "b786b210",
   "metadata": {},
   "outputs": [],
   "source": [
    "# You can copy, paste and modify the code corresponding to this part that we used for the SMC cloud here\n",
    "# You can also use any function that was defined before\n"
   ]
  },
  {
   "cell_type": "markdown",
   "id": "aff61e44",
   "metadata": {},
   "source": [
    "### 2. Open the fits file and explore it"
   ]
  },
  {
   "cell_type": "code",
   "execution_count": null,
   "id": "c4f8f628",
   "metadata": {},
   "outputs": [],
   "source": [
    "# You can copy, paste and modify the code corresponding to this part that we used for the SMC cloud here\n",
    "# You can also use any function that was defined before\n"
   ]
  },
  {
   "cell_type": "markdown",
   "id": "4f1a1043",
   "metadata": {},
   "source": [
    "### 3. Save the data to your local computer"
   ]
  },
  {
   "cell_type": "code",
   "execution_count": null,
   "id": "3406fc64",
   "metadata": {},
   "outputs": [],
   "source": [
    "# You can copy, paste and modify the code corresponding to this part that we used for the SMC cloud here\n",
    "# You can also use any function that was defined before\n"
   ]
  },
  {
   "cell_type": "markdown",
   "id": "2e48757b",
   "metadata": {},
   "source": [
    "## Additional Resources"
   ]
  },
  {
   "cell_type": "markdown",
   "id": "5516ade8",
   "metadata": {},
   "source": [
    "For more information about the MAST archive and details about mission data: \n",
    "\n",
    "* <a href=\"https://mast.stsci.edu/api/v0/index.html\">MAST API</a> <br>\n",
    "* <a href=\"https://archive.stsci.edu/iue/\">International Ultraviolet Explorer Page (MAST)</a> <br>\n",
    "* <a href=\"https://archive.stsci.edu/iue/mdr_help.html\">IUE Data Retrieval Help Page</a> \n",
    "\n",
    "For more information about extinction curves and their parametrization:\n",
    "\n",
    "\n",
    "* <a href=\"https://ui.adsabs.harvard.edu/abs/2003ApJ...594..279G/abstract\">A quantitative comparison of SMC, LMC and Milky Way UV to NIR extinction curves</a> <br>\n",
    "* <a href=\"https://adsabs.harvard.edu/pdf/1990ApJS...72..163F\">An analysis of the shapes of the ultraviolet extinction curves. III. An atlas of ultraviolet extinction curves</a> \n",
    "\n"
   ]
  },
  {
   "cell_type": "markdown",
   "id": "62412d55",
   "metadata": {},
   "source": [
    "As we can see from the obtained table, there are many different observations available for our target in the database. We specifically want to focus on sciences products, to know whether an observation is one we need to look at the _productType_ column, science products have the label 'SCIENCE'. Additionally, we will be using extracted spectra via the [Virtual Observatory (VO)](https://ivoa.net) using the [Simple Spectral Access Protocol (SSAP)](https://www.ivoa.net/documents/SSA/). The SSAP is the recommended way by VO to remotely access one dimensional spectra. In order to ensure this, the _description_ column should contain '(extracted spectra/vo spectral container/SSAP) fits file.'\n",
    "\n",
    "Two different observations, \"swp22372\" for the short wavelength domain and \"lwr17263\" for the long wave domain, have been chosen in order to provide a more complete understanding of the extinction behaviour over different wavelengths. For this tutorial we have chosen these specific observations, but the reader is welcome to use any other of the IDs displayed on the table above, as long as they fulfill the conditions desribed in the previous paragraph.  It should be taken into account that some of the data may need some prior calibration before using it."
   ]
  },
  {
   "cell_type": "markdown",
   "id": "db295f01",
   "metadata": {},
   "source": [
    "## About this Notebook\n",
    "\n",
    "**Author**: Clara Puerto Sánchez <br>\n",
    "**Keyword(s)**: UV, reddening, extinction-curve <br>\n",
    "**Last Updated**: Sep 2022 <br>\n",
    "**Next review**: Apr 2023\n",
    "\n",
    "For support, please contact the Archive HelpDesk at archive@stsci.edu.\n",
    "***\n",
    "[Top of Page](#top)\n",
    "<img style=\"float: right;\" src=\"https://raw.githubusercontent.com/spacetelescope/notebooks/master/assets/stsci_pri_combo_mark_horizonal_white_bkgd.png\" alt=\"Space Telescope Logo\" width=\"200px\"/>"
   ]
  }
 ],
 "metadata": {
  "kernelspec": {
   "display_name": "Python 3 (ipykernel)",
   "language": "python",
   "name": "python3"
  },
  "language_info": {
   "codemirror_mode": {
    "name": "ipython",
    "version": 3
   },
   "file_extension": ".py",
   "mimetype": "text/x-python",
   "name": "python",
   "nbconvert_exporter": "python",
   "pygments_lexer": "ipython3",
   "version": "3.8.8"
  }
 },
 "nbformat": 4,
 "nbformat_minor": 5
}
