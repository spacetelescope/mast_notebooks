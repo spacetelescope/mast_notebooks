{
 "cells": [
  {
   "cell_type": "markdown",
   "metadata": {},
   "source": [
    "<a id=\"top\"></a>\n",
    "# Generating Cubes and Cutouts from TESS FFIs\n",
    "***\n",
    "## Learning Goals\n",
    "\n",
    "By the end of this tutorial, you will:\n",
    "\n",
    "- Learn about the two TESS full frame image (FFI) types: SPOC and TICA.\n",
    "- Learn the structure of a TICA FFI.\n",
    "- Learn how to retrieve and download TESS FFIs using `astroquery.mast.Observations`.\n",
    "- Learn how to generate cubes from TESS FFIs with astrocut's `CubeFactory` and `TicaCubeFactory`.\n",
    "- Learn how to generate cutouts from TESS cubes with astrocut's `CutoutFactory`.\n",
    "- Learn the structure of a TESS target pixel file (TPF), and therefore an astrocut cutouts file, and how to retrieve and plot the data stored within."
   ]
  },
  {
   "cell_type": "markdown",
   "metadata": {
    "slideshow": {
     "slide_type": "slide"
    }
   },
   "source": [
    "## Introduction\n",
    "\n",
    "In this tutorial, you will learn the basic functionality of [astrocut](https://github.com/spacetelescope/astrocut)'s `CubeFactory`, `TicaCubeFactory`, and `CutoutFactory`. These 3 tools allow users to generate cubes and cutouts of TESS images. TESS image cubes are stacks of TESS full frame images (TESS FFIs) which are formatted to allow users to make cutouts with `CutoutFactory`. These cutouts are sub-images that will only contain your region of interest, to make analysis easier.\n",
    "\n",
    "The process of generating cubes, and making cutouts from them, mimicks the web-based [TESSCut](https://mast.stsci.edu/tesscut/) service. This tutorial will teach you to make cubes and cutouts that are customized for your specific use-cases, while also giving insight to how TESSCut calls upon astrocut to create cutouts.\n",
    "\n",
    "As in the TESSCut service, there are _two_ different TESS FFI product types you can work with in this notebook. These two product types are the TESS mission-provided, [Science Processing Operations Center (SPOC) FFIs](https://archive.stsci.edu/missions-and-data/tess), and the [TESS Image CAlibrator (TICA) FFIs](https://archive.stsci.edu/hlsp/tica). Both are available via `astroquery.mast.Observations`, and both have different use-cases. The TICA products offer the latest sector observations due to their faster delivery cadence, and can be available up to 3 times sooner than their SPOC counterparts. As such, for those who are working with time-sensitive observations, TICA may be the best option for generating your cutouts. Note that the SPOC and TICA products are processed through different pipelines and thus have different pixel values and WCS solutions. Please refer to the [SPOC pipeline paper](https://ui.adsabs.harvard.edu/abs/2016SPIE.9913E..3EJ/abstract) and the [TICA pipeline paper](https://iopscience.iop.org/article/10.3847/2515-5172/abd63a) for more information on the differences and similarities between the SPOC and TICA products.\n",
    "\n",
    "![TICA and SPOC ingest](./tica-spoc-ingest.png)\n",
    "\n",
    "The workflow for this notebook consists of:\n",
    "* [Retrieving and Downloading the FFIs](#Retrieving-and-Downloading-the-FFIs)\n",
    "    * [Retrieving the FFIs](#Retrieving-the-FFIs)\n",
    "    * [Downloading the FFIs](#Downloading-the-FFIs)\n",
    "    * [Inspecting the FFIs](#Inspecting-the-FFIs)\n",
    "* [Creating a Cube](#Creating-a-Cube)\n",
    "* [Creating the Cutouts](#Creating-the-Cutouts)\n",
    "* [Exercise: Generate Cutouts for TIC 2527981 Sector 27 SPOC Products](#Exercise:-Generate-Cutouts-for-TIC-2527981-Sector-27-SPOC-Products)\n",
    "* [Resources](#Resources)"
   ]
  },
  {
   "cell_type": "markdown",
   "metadata": {
    "slideshow": {
     "slide_type": "slide"
    }
   },
   "source": [
    "## Imports\n",
    "Below is a list of the packages used throughout this notebook, and their use-cases. Please ensure you have the recommended version of these packages installed on the environment this notebook has been launched in. See the `requirements.txt` file for recommended package versions.\n",
    "\n",
    "- *astropy.units* for unit conversion\n",
    "- *matplotlib.pyplot* for plotting data\n",
    "- *numpy* to handle array functions\n",
    "- *astrocut CubeFactory* for generating cubes out of TESS-SPOC FFIs\n",
    "- *astrocut TicaCubeFactory* for generating cubes out of TICA FFIs\n",
    "- *astrocut CutoutFactory* for generating cutouts out of astrocut cubes\n",
    "- *astropy.coordinates SkyCoord* for creating sky coordinate objects\n",
    "- *astropy.io fits* for accessing FITS files\n",
    "- *astroquery.mast Observations* for retrieving and downloading the TESS FFIs\n",
    "- *matplotlib.path Path* to generate a drawing path for plotting purposes\n",
    "- *matplotlib.patches PathPatch* to generate a patch that represents the CCD footprint for plotting purposes "
   ]
  },
  {
   "cell_type": "code",
   "execution_count": null,
   "metadata": {
    "slideshow": {
     "slide_type": "fragment"
    }
   },
   "outputs": [],
   "source": [
    "%matplotlib inline\n",
    "\n",
    "import astropy.units as u\n",
    "import matplotlib.pyplot as plt\n",
    "import numpy as np\n",
    "\n",
    "from astrocut import CubeFactory, TicaCubeFactory, CutoutFactory\n",
    "from astropy.coordinates import SkyCoord\n",
    "from astropy.io import fits\n",
    "from astroquery.mast import Observations\n",
    "from matplotlib.path import Path\n",
    "from matplotlib.patches import PathPatch"
   ]
  },
  {
   "cell_type": "markdown",
   "metadata": {},
   "source": [
    "Below are the helper functions we will call for plotting purposes later in the notebook."
   ]
  },
  {
   "cell_type": "code",
   "execution_count": null,
   "metadata": {},
   "outputs": [],
   "source": [
    "def convert_coords(ra, dec):\n",
    "    \"\"\" Wrap the input coordinates `ra` and `dec` around the upper limit of 180\n",
    "    degrees and convert to radians so that they may be plotted on the Aitoff canvas.\n",
    "    \n",
    "    Parameter(s)\n",
    "    -----------\n",
    "    ra : str, int, or float\n",
    "        The Right Ascension your target lands on, in degrees. May be any object type that \n",
    "        can be converted to a float, such as a string, or integer.\n",
    "    dec : str, int, or float\n",
    "        The Declination your target lands on, in degrees. May be any object type that \n",
    "        can be converted to a float, such as a string, or integer.\n",
    "        \n",
    "    Returns\n",
    "    -------\n",
    "    ra_rad : float\n",
    "        The Right Ascension of your target in radians.\n",
    "    dec_rad : float\n",
    "        The Declination of your target in radians.\n",
    "    \"\"\"\n",
    "\n",
    "    # Make a SkyCoord object out of the RA, Dec\n",
    "    c = SkyCoord(ra=float(ra)*u.degree, dec=float(dec)*u.degree, frame='icrs')\n",
    "\n",
    "    # The plotting only works when the coordinates are in radians.\n",
    "    # And because it's an aitoff projection, we can't \n",
    "    # go beyond 180 degrees, so let's wrap the RA vals around that upper limit.\n",
    "    ra_rad = c.ra.wrap_at(180 * u.deg).radian\n",
    "    dec_rad = c.dec.radian\n",
    "\n",
    "    return ra_rad, dec_rad\n",
    "\n",
    "def plot_footprint(coords):\n",
    "    \"\"\" Plots a polygon of 4 vertices onto an aitoff projection on a matplotlib canvas.\n",
    "    \n",
    "    Parameter(s)\n",
    "    -----------\n",
    "    coords : list or array of tuples\n",
    "        An iterable object (can be a list or array) of 5 tuples, each tuple containing the \n",
    "        RA and Dec (float objects) of a vertice of your footprint. There MUST be 5: 1 for each\n",
    "        vertice, and 1 to return to the starting point, as PathPatch works with a set of drawing \n",
    "        instructions, rather than a predetermined shape.\n",
    "        \n",
    "    Returns\n",
    "    -------\n",
    "    ax : Matplotlib.pyplot figure object subplot\n",
    "        The subplot that contains the aitoff projection and footprint drawing.\n",
    "    \"\"\"\n",
    "    \n",
    "    assert len(coords) == 5, 'We need 5 sets of coordinates. 1 for each vertice + 1 to return to the starting point.'\n",
    "    instructions = [Path.MOVETO, Path.LINETO, Path.LINETO, Path.LINETO, Path.CLOSEPOLY]\n",
    "    \n",
    "    # Create the path patch using the `coords` list of tuples and the\n",
    "    # instructions from above\n",
    "    c = np.array(coords)\n",
    "    path = Path(c, instructions)\n",
    "    ppatch = PathPatch(path, edgecolor='k', facecolor='salmon')\n",
    "\n",
    "    # Create a matplotlib canvas\n",
    "    fig = plt.figure(figsize=(12,12))\n",
    "    \n",
    "    # We will be using the `aitoff` projection for a globe canvas\n",
    "    ax = plt.subplot(111, projection='aitoff')\n",
    "    \n",
    "    # Need grids!\n",
    "    ax.grid()\n",
    "    \n",
    "    # Add the patch to your canvas\n",
    "    ax.add_patch(ppatch)\n",
    "    \n",
    "    return ax"
   ]
  },
  {
   "cell_type": "markdown",
   "metadata": {},
   "source": [
    "***"
   ]
  },
  {
   "cell_type": "markdown",
   "metadata": {
    "slideshow": {
     "slide_type": "slide"
    }
   },
   "source": [
    "## Retrieving and Downloading the FFIs\n",
    "\n",
    "Before we begin generating cubes and cutouts from TESS FFIs, we must first acquire these FFIs. To do this, we will request and download the FFIs locally using [astroquery.mast](https://astroquery.readthedocs.io/en/latest/mast/mast.html), or more specifically, the `astroquery.mast.Observations` tool, which will grant us access to the database that houses the TESS products. This is also how the TESSCut API generates its cutouts."
   ]
  },
  {
   "cell_type": "markdown",
   "metadata": {},
   "source": [
    "### Retrieving the FFIs"
   ]
  },
  {
   "cell_type": "markdown",
   "metadata": {},
   "source": [
    "You can download FFIs for any sector, camera, and CCD type. This notebook will generate cutouts for target TIC 2527981 using TICA FFIs in sector 27, but feel free to substitute a favorite target of your own. To find our target, we will filter with the database criteria: `coordinates`, `target_name`, `dataproduct_type`, and `sequence_number`.\n",
    "\n",
    "The `coordinates` criteria will filter for the coordinates of our target, while the `target_name` will filter for TICA FFIs and exclude all SPOC FFIs. `dataproduct_type` ensures we get image observations, and the `sequence_number` will be used to filter for only sector 27 observations. With this information, let's compile our query..."
   ]
  },
  {
   "cell_type": "code",
   "execution_count": null,
   "metadata": {
    "scrolled": true
   },
   "outputs": [],
   "source": [
    "# We will pass in the coordinates as a Sky Coord object\n",
    "coordinates = SkyCoord(289.0979, -29.3370, unit=\"deg\")\n",
    "\n",
    "obs = Observations.query_criteria(coordinates=coordinates,\n",
    "                                  target_name='TICA FFI',\n",
    "                                  dataproduct_type='image',\n",
    "                                  sequence_number=27)\n",
    "\n",
    "obs"
   ]
  },
  {
   "cell_type": "markdown",
   "metadata": {},
   "source": [
    "This is the sector 27 FFI that contains TIC2527981. Note that the `s_ra` and `s_dec` listed above are the center of the CCD that contains the target, not the coordinates of the target itself. \n",
    "\n",
    "To demonstrate this, let's plot the `s_region` metadata, the `s_ra` and `s_dec` coordinates, and the input coordinates of our target to see where it lands relative to sector 27, camera 1, CCD 4."
   ]
  },
  {
   "cell_type": "code",
   "execution_count": null,
   "metadata": {},
   "outputs": [],
   "source": [
    "# Extract the polygon vertices, then store them in separate lists\n",
    "polygon = obs['s_region'][0]\n",
    "split = polygon.split(' ')\n",
    "# Removing the \"POLYGON\" string\n",
    "split.pop(0)\n",
    "# Storing the RAs and Decs separately\n",
    "ras, decs = split[::2], split[1::2]\n",
    "\n",
    "# Now we convert our RAs/Decs into radians and wrap them around 180 degrees\n",
    "coords = []\n",
    "for ra, dec in zip(ras, decs):\n",
    "    ra_rad, dec_rad = convert_coords(ra, dec)\n",
    "    coords.append((ra_rad, dec_rad))\n",
    "\n",
    "# We use Matplotlib's Path and PathPatch to plot the footprint of sector 27, camera 1, CCD 4\n",
    "ax = plot_footprint(coords)\n",
    "\n",
    "# Now let's plot our input target's RA, Dec on top of the footprint to see its relative position\n",
    "target_ra, target_dec = coordinates.ra.degree, coordinates.dec.degree\n",
    "target_coords = convert_coords(target_ra, target_dec)\n",
    "ax.scatter(target_coords[0], target_coords[1], color='k', label='target coords')\n",
    "\n",
    "# And lastly, let's plot the s_ra and s_dec coordinates to see what they represent\n",
    "s_coords = convert_coords(obs['s_ra'][0], obs['s_dec'][0])\n",
    "ax.scatter(s_coords[0], s_coords[1], color='grey', label='s_ra, s_dec')\n",
    "\n",
    "ax.set_title('Sector 27, Camera 1, CCD 4 Footprint' + '\\n' + ' ')\n",
    "plt.legend()\n",
    "plt.show()"
   ]
  },
  {
   "cell_type": "markdown",
   "metadata": {},
   "source": [
    "The plot above shows the positioning of TIC 2527981 relative to sector 27, camera 1, CCD 4. You can see that it is more or less on the edge of this CCD, and not the center. Note also that the `s_ra` and `s_dec` fall exactly in the center of the CCD. \n",
    "\n",
    "From this observation we can now retrieve the corresponding TICA products (FFIs). Let's use the `get_product_list` method to retrieve these FFIs.\n",
    "\n",
    "<div class=\"alert alert-block alert-info\"><b>Note:</b> If you do not know which sectors contain your target, you should query for your target without the `sequence_number` filter to see what is available. However, the cutout functionality does not currently support making cross-sector cutouts, so FFI products from different sectors cannot be stacked into the same cube. Keep this in mind when retrieving the FFI products intended for your cube.</div>"
   ]
  },
  {
   "cell_type": "code",
   "execution_count": null,
   "metadata": {
    "scrolled": true
   },
   "outputs": [],
   "source": [
    "products = Observations.get_product_list(obs)\n",
    "products"
   ]
  },
  {
   "cell_type": "markdown",
   "metadata": {},
   "source": [
    "### Downloading the FFIs"
   ]
  },
  {
   "cell_type": "markdown",
   "metadata": {},
   "source": [
    "Now we are ready to download the products. Use the `download_products` call to download these locally to your machine. \n",
    "\n",
    "<div class=\"alert alert-block alert-info\"><b>Note:</b> If you have many files, or a large download size, you should set the `curl_flag` option to `True`. This will generate a bash script that will download the products (via cURL) when executed. </div>\n",
    "\n",
    "To save space in this example, we will only download the first 5 TICA FFIs."
   ]
  },
  {
   "cell_type": "code",
   "execution_count": null,
   "metadata": {},
   "outputs": [],
   "source": [
    "manifest = Observations.download_products(products[:5], curl_flag=False)\n",
    "manifest"
   ]
  },
  {
   "cell_type": "markdown",
   "metadata": {},
   "source": [
    "### Inspecting the FFIs"
   ]
  },
  {
   "cell_type": "markdown",
   "metadata": {},
   "source": [
    "Now that we have the TICA FFIs stored locally, let's do some quick plotting and inspection. We can use the `manifest` output from our download call above to get the list of our downloaded FFIs in their respective locations. Let's open up one of them and do some plotting and header inspection."
   ]
  },
  {
   "cell_type": "code",
   "execution_count": null,
   "metadata": {},
   "outputs": [],
   "source": [
    "ffi = manifest['Local Path'][0]\n",
    "print('FFI')\n",
    "print(ffi)\n",
    "print(' ')\n",
    "print('HDU List')\n",
    "print(fits.info(ffi))"
   ]
  },
  {
   "cell_type": "markdown",
   "metadata": {},
   "source": [
    "Unlike the SPOC FFIs, the TICA FFIs have the science data stored in the Primary HDU of the FITS file. The BinTable HDU contains the list of all the reference sources used to derive the WCS solutions for the data. More information on this is available in the [TICA pipeline paper](https://ui.adsabs.harvard.edu/abs/2020RNAAS...4..251F/abstract), but let's move forward and retrieve the header information from the Primary HDU."
   ]
  },
  {
   "cell_type": "code",
   "execution_count": null,
   "metadata": {},
   "outputs": [],
   "source": [
    "header = fits.getheader(ffi, 0)\n",
    "header"
   ]
  },
  {
   "cell_type": "markdown",
   "metadata": {},
   "source": [
    "The header information above contains important metadata like the CD matrix elements used for the WCS transformations, exposure time of the observation, size of the image, and so on. Now let's retrieve the science data from this Primary HDU and plot the sector 27 camera 1 CCD 4 field."
   ]
  },
  {
   "cell_type": "code",
   "execution_count": null,
   "metadata": {},
   "outputs": [],
   "source": [
    "# Retrieve the data and some header metadata for labeling\n",
    "data = fits.getdata(ffi, 0)\n",
    "cam, ccd = header['CAMNUM'], header['CCDNUM']\n",
    "\n",
    "# Plotting\n",
    "plt.imshow(data, vmin=0, vmax=1000000)\n",
    "\n",
    "# Labeling\n",
    "plt.title(f'Sector 27, Cam {cam}, CCD {ccd}', fontsize=20)\n",
    "plt.xlabel('COLUMNS (X)', fontsize=15)\n",
    "plt.ylabel('ROWS (Y)', fontsize=15)\n",
    "plt.tick_params(axis='both', which='major', labelsize=15)\n",
    "\n",
    "plt.show()"
   ]
  },
  {
   "cell_type": "markdown",
   "metadata": {},
   "source": [
    "## Creating a Cube"
   ]
  },
  {
   "cell_type": "markdown",
   "metadata": {},
   "source": [
    "Now that we have retrieved, downloaded, and inspected our TICA FFIs, it's time to make a cube out of them. To do this, we will call on astrocut's `TicaCubeFactory` class which contains all the functionality to stack the TICA FFIs into a cube as efficiently as possible and store all the FFIs' metadata in a binary table."
   ]
  },
  {
   "cell_type": "code",
   "execution_count": null,
   "metadata": {},
   "outputs": [],
   "source": [
    "tica_cube_maker = TicaCubeFactory()"
   ]
  },
  {
   "cell_type": "markdown",
   "metadata": {},
   "source": [
    "We will utilize the `manifest` output from our `download_products` call in the previous section to feed `TicaCubeFactory.make_cube` the batch of 5 TICA FFIs for the cube-making process. The `verbose` argument is set to `True` by default, which will print updates about the call, but you may change `verbose` to `False` if you so choose."
   ]
  },
  {
   "cell_type": "code",
   "execution_count": null,
   "metadata": {
    "scrolled": true
   },
   "outputs": [],
   "source": [
    "cube = tica_cube_maker.make_cube(manifest['Local Path'])"
   ]
  },
  {
   "cell_type": "markdown",
   "metadata": {},
   "source": [
    "The cube file is stored in your current working directory with the default name `img-cube.fits` if none is specified. Let's inspect the contents of the cube file:"
   ]
  },
  {
   "cell_type": "code",
   "execution_count": null,
   "metadata": {},
   "outputs": [],
   "source": [
    "fits.info(cube)"
   ]
  },
  {
   "cell_type": "markdown",
   "metadata": {},
   "source": [
    "The structure for each cube file is the same for both TICA and SPOC. It consists of:\n",
    "\n",
    "* **The Primary HDU**, which contains header information derived from the first FFI in the cube stack, as well as WCS information derived from the FFI in the middle of the cube stack.\n",
    "* **The Image HDU**, which is the cube itself. The dimensions of the cube for this example is `(2, 5, 2136, 2078)` and can be explained as follows:\n",
    "    * The 0th axis represents the science and error \"layers\", with the science arrays in index=0 and the error arrays in index=1. Because the TICA pipeline does not propagate errors, the error layer is empty for all the FFIs and should be ignored. \n",
    "    * The 1st axis represents the number of FFIs that went into the cube. For this example it is 5. Indexing this will pull out the 2D array of science data for a given FFI.\n",
    "    * The 2nd axis represents the number of rows each FFI consists of.\n",
    "    * The 3rd axis represents the number of columns each FFI consists of.\n",
    "* **The BinTable HDU**, which contains the image header information for every FFI that went into the stack in the form of a table. Each column in the table is an image header keyword (for TICA it's the primary header keyword, since the TICA image lives in the primary HDU), and each row in the column is the corresponding value for that keyword for an FFI. \n",
    "\n",
    "For more information on the cube file structure, see the [cube file format section](https://astrocut.readthedocs.io/en/latest/astrocut/file_formats.html#cube-files) of the Astrocut documentation."
   ]
  },
  {
   "cell_type": "markdown",
   "metadata": {},
   "source": [
    "Before we move onto generating the cutouts, it's important to note that `CubeFactory` is distinct from `TicaCubeFactory`. Both classes are used to generate cubes, but `TicaCubeFactory` is specifically designed to generate TICA cubes, and `CubeFactory` is specifically designed to generate SPOC cubes. Any attempt at generating TICA cubes with `CubeFactory` or vice versa will be unsuccessful. See below for an example:"
   ]
  },
  {
   "cell_type": "code",
   "execution_count": null,
   "metadata": {},
   "outputs": [],
   "source": [
    "# This cell will give an error if you uncomment the lines below!\n",
    "\n",
    "#spoc_cube_maker = CubeFactory()\n",
    "#spoc_cube_maker.make_cube(manifest['Local Path'])"
   ]
  },
  {
   "cell_type": "markdown",
   "metadata": {},
   "source": [
    "## Creating the Cutouts"
   ]
  },
  {
   "cell_type": "markdown",
   "metadata": {},
   "source": [
    "Now that we have our cube we are able to generate cutouts of our region of interest. Unlike in the cube-making process, we have a single class for generating the cutouts from both SPOC or TICA cubes, `CutoutFactory`. To make the cutouts, we will call upon `CutoutFactory`'s  `cube_cut` and feed it the cube we just made, the coordinates for the center of our region of interest, which in this case is our object TIC 2527981, the cutout size for our region (in pixels), and lastly, the product type that was used for making our cube.\n",
    "\n",
    "<div class=\"alert alert-block alert-info\"><b>Note:</b> The call below may generate a \"VerifyWarning: Card is too long, comment will be truncated.\" warning message, which can safely be ignored. </div>"
   ]
  },
  {
   "cell_type": "code",
   "execution_count": null,
   "metadata": {},
   "outputs": [],
   "source": [
    "cutout_maker = CutoutFactory()\n",
    "\n",
    "cutout_file = cutout_maker.cube_cut(cube, coordinates=coordinates, cutout_size=25, product='TICA')\n",
    "cutout_file"
   ]
  },
  {
   "cell_type": "markdown",
   "metadata": {},
   "source": [
    "Our cutout file is saved to our current working directory with the default name structured as follows:\n",
    "`img_[RA]_[Dec]_[rows]x[cols]_astrocut.fits`\n",
    "\n",
    "Let's inspect the HDU list of this file..."
   ]
  },
  {
   "cell_type": "code",
   "execution_count": null,
   "metadata": {},
   "outputs": [],
   "source": [
    "fits.info(cutout_file)"
   ]
  },
  {
   "cell_type": "markdown",
   "metadata": {},
   "source": [
    "The structure for each cutout file is the same for both TICA and SPOC. It consists of: \n",
    "* **The Primary HDU**, which contains header information derived from the first FFI in the cube stack, as well as WCS information derived from the FFI in the middle of the cube stack.\n",
    "* **The BinTable HDU**, which is a FITS table that stores the actual cutouts under the `FLUX` column, with each row being occupied by a single FFI cutout of the requested size.\n",
    "* **The Image HDU**, which contains the aperture, or field of view, of the cutouts. This image is only useful for the moving targets feature on TESSCut, and should be blank if your target has a set of coordinates assigned to it.\n",
    "\n",
    "For more information on the cutout file structure, see the [target pixel file format section](https://astrocut.readthedocs.io/en/latest/astrocut/file_formats.html#target-pixel-files) of the Astrocut documentation. For now let's take a closer look at the Primary HDU header:"
   ]
  },
  {
   "cell_type": "code",
   "execution_count": null,
   "metadata": {
    "scrolled": true
   },
   "outputs": [],
   "source": [
    "cutout_header = fits.getheader(cutout_file, 0)\n",
    "cutout_header"
   ]
  },
  {
   "cell_type": "markdown",
   "metadata": {},
   "source": [
    "As mentioned previously, the cutout files will have header information that is inherited from the first FFI and the middle FFI in the cube stack (just like the cube files), so most of these keywords should look familiar. However, there are some new header keywords in the cutout files that are added after processing:"
   ]
  },
  {
   "cell_type": "code",
   "execution_count": null,
   "metadata": {},
   "outputs": [],
   "source": [
    "print(cutout_header.cards['FFI_TYPE'])\n",
    "print(cutout_header.cards['PROCVER'])"
   ]
  },
  {
   "cell_type": "markdown",
   "metadata": {},
   "source": [
    "These keywords are intentionally added so that the cutout is formatted like a TESS target pixel file (TPF). Conveniently, this means you can use existing scripts on these cutout files without having to readapt them. Let's go ahead and plot one of the cutouts in our file:"
   ]
  },
  {
   "cell_type": "code",
   "execution_count": null,
   "metadata": {},
   "outputs": [],
   "source": [
    "# Extracting the cutouts science data from the BinTable HDU\n",
    "cutouts = fits.getdata(cutout_file)['FLUX']\n",
    "\n",
    "# Plotting an arbitrary cutout from the FLUX column\n",
    "plt.imshow(cutouts[3])\n",
    "\n",
    "# Labeling\n",
    "plt.xlabel('COLUMNS (X)', fontsize=15)\n",
    "plt.ylabel('ROWS (Y)', fontsize=15)\n",
    "plt.tick_params(axis='both', which='major', labelsize=15)\n",
    "\n",
    "plt.show()"
   ]
  },
  {
   "cell_type": "markdown",
   "metadata": {},
   "source": [
    "## Exercise: Generate Cutouts for TIC 2527981 Sector 27 SPOC Products"
   ]
  },
  {
   "cell_type": "markdown",
   "metadata": {},
   "source": [
    "Let's now generate cutouts of our target from the SPOC products of the same observation, and use this as an opportunity to compare the FFI file structure differences between SPOC and TICA.\n",
    "\n",
    "Perform the same `astroquery.mast.Observations` query, inspect the FFIs, generate the cube (remember that there are two cube-generating classes, `CubeFactory` and `TicaCubeFactory`), and generate the cutouts from the cube, in the cells below."
   ]
  },
  {
   "cell_type": "code",
   "execution_count": null,
   "metadata": {},
   "outputs": [],
   "source": [
    "# Make a query for the correct observation using `astroquery.mast.Observations.query_criteria`\n",
    "\n",
    "# Retrieve the products corresponding to this observations using `astroquery.mast.Observations.download_products`\n",
    "\n",
    "# Inspect one of the FFIs with `matplotlib.pyplot`. Compare the HDU List between the SPOC FFI and one of the TICA FFIs\n",
    "# and note the structural differences."
   ]
  },
  {
   "cell_type": "code",
   "execution_count": null,
   "metadata": {},
   "outputs": [],
   "source": [
    "# Generate a cube with the SPOC FFIs.\n",
    "# If you've stored the output from the `astroquery.mast.Observations.download_products` call above, \n",
    "# it's helpful to use the Local Path column as the CubeFactory input."
   ]
  },
  {
   "cell_type": "code",
   "execution_count": null,
   "metadata": {},
   "outputs": [],
   "source": [
    "# Inspect the cube as you wish. Make a note of the cube size and ensure that the dimensions are as you expect."
   ]
  },
  {
   "cell_type": "code",
   "execution_count": null,
   "metadata": {},
   "outputs": [],
   "source": [
    "# Generate the cutouts with the SPOC cube from above."
   ]
  },
  {
   "cell_type": "code",
   "execution_count": null,
   "metadata": {},
   "outputs": [],
   "source": [
    "# Inspect the cutouts as you wish."
   ]
  },
  {
   "cell_type": "markdown",
   "metadata": {},
   "source": [
    "## Resources\n",
    "\n",
    "The following is a list of resources that were referenced throughout the tutorial, as well as some additional references that you may find useful:\n",
    "\n",
    "- [astrocut](https://astrocut.readthedocs.io/en/latest/astrocut/index.html) Documentation\n",
    "- [astrocut](https://github.com/spacetelescope/astrocut) GitHub repository\n",
    "- [astroquery.mast](https://astroquery.readthedocs.io/en/latest/mast/mast.html) Documentation\n",
    "- The [TESSCut Service](https://mast.stsci.edu/tesscut/)\n",
    "- The [TESSCut API Documentation](https://mast.stsci.edu/tesscut/docs/index.html)\n",
    "- More information on the [TESS mission](https://archive.stsci.edu/missions-and-data/tess)\n",
    "- More information on the [TICA HLSP](https://archive.stsci.edu/hlsp/tica)\n",
    "- Publication on the [SPOC Pipeline](https://ui.adsabs.harvard.edu/abs/2016SPIE.9913E..3EJ/abstract)\n",
    "- Publication on the [TICA Quicklook Pipeline](https://iopscience.iop.org/article/10.3847/2515-5172/abd63a)"
   ]
  },
  {
   "cell_type": "markdown",
   "metadata": {},
   "source": [
    "## Citations\n",
    "\n",
    "If you use any of astroquery's tools or astrocut for published research, please cite the\n",
    "authors. Follow these links for more information about citing astroquery and astrocut:\n",
    "\n",
    "* [Citing `astroquery`](https://github.com/astropy/astroquery/blob/main/astroquery/CITATION)\n",
    "* [Citing `astrocut`](https://ui.adsabs.harvard.edu/abs/2019ascl.soft05007B/abstract)"
   ]
  },
  {
   "cell_type": "markdown",
   "metadata": {
    "slideshow": {
     "slide_type": "slide"
    }
   },
   "source": [
    "## About this Notebook\n",
    "If you have comments or questions on this notebook, please contact us through the Archive Help Desk e-mail at `archive@stsci.edu`.\n",
    "\n",
    "**Author(s):** Jenny V. Medina <br>\n",
    "**Keyword(s):** Tutorial, TESS, TICA, SPOC, astroquery, astrocut, cutouts, ffi, tpf, tesscut <br>\n",
    "**Last Updated:** Mar 2023 <br>\n",
    "***\n",
    "[Top of Page](#top)\n",
    "<img style=\"float: right;\" src=\"https://raw.githubusercontent.com/spacetelescope/notebooks/master/assets/stsci_pri_combo_mark_horizonal_white_bkgd.png\" alt=\"Space Telescope Logo\" width=\"200px\"/> "
   ]
  }
 ],
 "metadata": {
  "kernelspec": {
   "display_name": "Python 3 (ipykernel)",
   "language": "python",
   "name": "python3"
  },
  "language_info": {
   "codemirror_mode": {
    "name": "ipython",
    "version": 3
   },
   "file_extension": ".py",
   "mimetype": "text/x-python",
   "name": "python",
   "nbconvert_exporter": "python",
   "pygments_lexer": "ipython3",
   "version": "3.11.0"
  }
 },
 "nbformat": 4,
 "nbformat_minor": 4
}
