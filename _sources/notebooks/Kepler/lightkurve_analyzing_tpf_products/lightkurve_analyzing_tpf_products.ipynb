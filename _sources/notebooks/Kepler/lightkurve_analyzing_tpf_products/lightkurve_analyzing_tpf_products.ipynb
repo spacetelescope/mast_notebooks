{
 "cells": [
  {
   "cell_type": "markdown",
   "metadata": {
    "colab_type": "text",
    "id": "zmyJVTgDegLW"
   },
   "source": [
    "# Using *Kepler* Target Pixel File Products with Lightkurve"
   ]
  },
  {
   "cell_type": "markdown",
   "metadata": {
    "colab_type": "text",
    "id": "px3Cl_ZzY4m6"
   },
   "source": [
    "## Learning Goals\n",
    "\n",
    "By the end of this tutorial, you will:\n",
    "\n",
    "- Be able to download and plot target pixel files from the data archive using [Lightkurve](https://docs.lightkurve.org).\n",
    "- Be able to access target pixel file metadata.\n",
    "- Understand where to find more details about *Kepler* target pixel files.\n"
   ]
  },
  {
   "cell_type": "markdown",
   "metadata": {
    "colab_type": "text",
    "id": "zNk1NmIcfkMC"
   },
   "source": [
    "## Introduction"
   ]
  },
  {
   "cell_type": "markdown",
   "metadata": {
    "colab_type": "text",
    "id": "fpDuPWW6hzh_"
   },
   "source": [
    "The [*Kepler*](https://www.nasa.gov/mission_pages/kepler/main/index.html), [*K2*](https://www.nasa.gov/mission_pages/kepler/main/index.html), and [*TESS*](https://tess.mit.edu/) telescopes observe stars for long periods of time, from just under a month to four years. By doing so they observe how the brightnesses of stars change over time.\n",
    "\n",
    "*Kepler* selected certain pixels around targeted stars to be downloaded from the spacecraft. These were stored as *target pixel files* that contain data for each observed cadence. In this tutorial, we will learn how to use Lightkurve to download these raw data, plot them, and understand their properties and units.\n",
    "\n",
    "It is recommended that you first read the tutorial on how to use *Kepler* light curve products with Lightkurve. That tutorial will introduce you to some specifics of how *Kepler*, *K2*, and *TESS* make observations, and how these are displayed as light curves. It also introduces some important terms and concepts that are referred to in this tutorial.\n",
    "\n",
    "*Kepler* observed a single field in the sky, although not all stars in this field were recorded. Instead, pixels were selected around certain targeted stars. This series of cutouts were downloaded and stored as an array of images in target pixel files, or TPFs. By summing up the amount of light (the *flux*) captured by the pixels in which the star appears, you can make a measurement of the brightness of a star over time.\n",
    "\n",
    "TPFs are an important resource when studying an astronomical object with *Kepler*, *K2*, or *TESS*. The files allow us to understand the original images that were collected, and identify potential sources of noise or instrument-induced trends which may be less obvious in derived light curves. In this tutorial, we will use the *Kepler* mission as the main example, but these tools equally work for *TESS* and *K2*."
   ]
  },
  {
   "cell_type": "markdown",
   "metadata": {
    "colab_type": "text",
    "id": "PPvxoxn5fNRG"
   },
   "source": [
    "## Imports\n",
    "\n",
    "This tutorial requires **[Lightkurve](https://docs.lightkurve.org)**, which in turn uses `matplotlib` for plotting."
   ]
  },
  {
   "cell_type": "code",
   "execution_count": 1,
   "metadata": {
    "colab": {},
    "colab_type": "code",
    "execution": {
     "iopub.execute_input": "2025-09-11T15:16:02.551485Z",
     "iopub.status.busy": "2025-09-11T15:16:02.551342Z",
     "iopub.status.idle": "2025-09-11T15:16:04.104263Z",
     "shell.execute_reply": "2025-09-11T15:16:04.103656Z"
    },
    "id": "1dH7Te6hfkvx"
   },
   "outputs": [
    {
     "name": "stderr",
     "output_type": "stream",
     "text": [
      "/home/runner/micromamba/envs/ci-env/lib/python3.11/site-packages/lightkurve/prf/__init__.py:7: UserWarning: Warning: the tpfmodel submodule is not available without oktopus installed, which requires a current version of autograd. See #1452 for details.\n",
      "  warnings.warn(\n"
     ]
    }
   ],
   "source": [
    "import lightkurve as lk\n",
    "%matplotlib inline "
   ]
  },
  {
   "cell_type": "markdown",
   "metadata": {
    "colab_type": "text",
    "id": "TIf0mdYqnhiZ"
   },
   "source": [
    "## 1. What is a Target Pixel File?\n",
    "\n",
    "The target pixel file (TPF) of a star contains an image for each observing cadence, either a 30-minute Long Cadence or one-minute Short Cadence exposure in the case of *Kepler*. The files also include metadata detailing how the observation was made, as well as post-processing information such as the estimated intensity of the astronomical background in each image. (Read the [*Kepler* Archive Manual](https://archive.stsci.edu/files/live/sites/mast/files/home/missions-and-data/kepler/_documents/archive_manual.pdf), Section 2.3.2 for more information.)\n",
    "\n",
    "TPFs are stored in a [FITS file format](https://fits.gsfc.nasa.gov/fits_primer.html). The Lightkurve package allows us to work with these binary files without having to worry about the details of the file structure. For examples on how to work with FITS files directly, read this tutorial on [Plotting Images from *Kepler* Target Pixel Files](https://github.com/spacetelescope/notebooks/blob/master/notebooks/MAST/Kepler/Kepler_TPF/kepler_tpf.ipynb)."
   ]
  },
  {
   "cell_type": "markdown",
   "metadata": {
    "colab_type": "text",
    "id": "41HrZlzqi1U5"
   },
   "source": [
    "## 2. Downloading a Target Pixel File"
   ]
  },
  {
   "cell_type": "markdown",
   "metadata": {
    "colab_type": "text",
    "id": "-WFvehoMkIDa"
   },
   "source": [
    "The TPFs of stars observed by the *Kepler* mission are stored on the [Mikulksi Archive for Space Telescopes](https://archive.stsci.edu/kepler/) (MAST) archive, along with metadata about the observations, such as which charge-coupled device (CCD) was used at each time."
   ]
  },
  {
   "cell_type": "markdown",
   "metadata": {
    "colab_type": "text",
    "id": "_vVu6JugHj6O"
   },
   "source": [
    "Lightkurve's built-in tools allow us to search and download TPFs from the archive. As we did in the accompanying tutorial on light curves, we will start by downloading one quarter (a *Kepler* observing period approximately 90 days in duration) of *Kepler* data for the star named [Kepler-8](http://www.openexoplanetcatalogue.com/planet/Kepler-8%20b/), a star somewhat larger than the Sun, and the host of a [hot Jupiter planet](https://en.wikipedia.org/wiki/Hot_Jupiter)."
   ]
  },
  {
   "cell_type": "markdown",
   "metadata": {
    "colab_type": "text",
    "id": "EuIqyV0YIWND"
   },
   "source": [
    "Using the [`search_targetpixelfile`](https://docs.lightkurve.org/api/lightkurve.search.search_targetpixelfile.html) function, we can find an itemized list of different TPFs available for Kepler-8."
   ]
  },
  {
   "cell_type": "code",
   "execution_count": 2,
   "metadata": {
    "colab": {
     "base_uri": "https://localhost:8080/",
     "height": 442
    },
    "colab_type": "code",
    "execution": {
     "iopub.execute_input": "2025-09-11T15:16:04.131103Z",
     "iopub.status.busy": "2025-09-11T15:16:04.130787Z",
     "iopub.status.idle": "2025-09-11T15:16:05.247793Z",
     "shell.execute_reply": "2025-09-11T15:16:05.247205Z"
    },
    "executionInfo": {
     "elapsed": 14762,
     "status": "ok",
     "timestamp": 1598458625383,
     "user": {
      "displayName": "Geert Barentsen",
      "photoUrl": "https://lh3.googleusercontent.com/a-/AOh14Gj8sjdnDeqdejfe7OoouYPIclAQV0KSTpsU469Jyeo=s64",
      "userId": "05704237875861987058"
     },
     "user_tz": 420
    },
    "id": "hcpStCZ7IJct",
    "outputId": "37bdbbdd-59eb-4ee1-d4f8-2e85f8f180b2"
   },
   "outputs": [
    {
     "data": {
      "text/html": [
       "SearchResult containing 49 data products.\n",
       "\n",
       "<table id=\"table139844819965712\">\n",
       "<thead><tr><th>#</th><th>mission</th><th>year</th><th>author</th><th>exptime</th><th>target_name</th><th>distance</th></tr></thead>\n",
       "<thead><tr><th></th><th></th><th></th><th></th><th>s</th><th></th><th>arcsec</th></tr></thead>\n",
       "<tr><td>0</td><td>Kepler Quarter 02</td><td>2009</td><td><a href='https://archive.stsci.edu/kepler/data_products.html'>Kepler</a></td><td>60</td><td>kplr006922244</td><td>0.0</td></tr>\n",
       "<tr><td>1</td><td>Kepler Quarter 02</td><td>2009</td><td><a href='https://archive.stsci.edu/kepler/data_products.html'>Kepler</a></td><td>60</td><td>kplr006922244</td><td>0.0</td></tr>\n",
       "<tr><td>2</td><td>Kepler Quarter 02</td><td>2009</td><td><a href='https://archive.stsci.edu/kepler/data_products.html'>Kepler</a></td><td>60</td><td>kplr006922244</td><td>0.0</td></tr>\n",
       "<tr><td>3</td><td>Kepler Quarter 03</td><td>2009</td><td><a href='https://archive.stsci.edu/kepler/data_products.html'>Kepler</a></td><td>60</td><td>kplr006922244</td><td>0.0</td></tr>\n",
       "<tr><td>4</td><td>Kepler Quarter 03</td><td>2009</td><td><a href='https://archive.stsci.edu/kepler/data_products.html'>Kepler</a></td><td>60</td><td>kplr006922244</td><td>0.0</td></tr>\n",
       "<tr><td>5</td><td>Kepler Quarter 03</td><td>2009</td><td><a href='https://archive.stsci.edu/kepler/data_products.html'>Kepler</a></td><td>60</td><td>kplr006922244</td><td>0.0</td></tr>\n",
       "<tr><td>6</td><td>Kepler Quarter 00</td><td>2009</td><td><a href='https://archive.stsci.edu/kepler/data_products.html'>Kepler</a></td><td>1800</td><td>kplr006922244</td><td>0.0</td></tr>\n",
       "<tr><td>7</td><td>Kepler Quarter 01</td><td>2009</td><td><a href='https://archive.stsci.edu/kepler/data_products.html'>Kepler</a></td><td>1800</td><td>kplr006922244</td><td>0.0</td></tr>\n",
       "<tr><td>8</td><td>Kepler Quarter 02</td><td>2009</td><td><a href='https://archive.stsci.edu/kepler/data_products.html'>Kepler</a></td><td>1800</td><td>kplr006922244</td><td>0.0</td></tr>\n",
       "<tr><td>9</td><td>Kepler Quarter 03</td><td>2009</td><td><a href='https://archive.stsci.edu/kepler/data_products.html'>Kepler</a></td><td>1800</td><td>kplr006922244</td><td>0.0</td></tr>\n",
       "<tr><td>10</td><td>Kepler Quarter 07</td><td>2010</td><td><a href='https://archive.stsci.edu/kepler/data_products.html'>Kepler</a></td><td>60</td><td>kplr006922244</td><td>0.0</td></tr>\n",
       "<tr><td>11</td><td>Kepler Quarter 06</td><td>2010</td><td><a href='https://archive.stsci.edu/kepler/data_products.html'>Kepler</a></td><td>60</td><td>kplr006922244</td><td>0.0</td></tr>\n",
       "<tr><td>12</td><td>Kepler Quarter 06</td><td>2010</td><td><a href='https://archive.stsci.edu/kepler/data_products.html'>Kepler</a></td><td>60</td><td>kplr006922244</td><td>0.0</td></tr>\n",
       "<tr><td>13</td><td>Kepler Quarter 06</td><td>2010</td><td><a href='https://archive.stsci.edu/kepler/data_products.html'>Kepler</a></td><td>60</td><td>kplr006922244</td><td>0.0</td></tr>\n",
       "<tr><td>14</td><td>Kepler Quarter 05</td><td>2010</td><td><a href='https://archive.stsci.edu/kepler/data_products.html'>Kepler</a></td><td>60</td><td>kplr006922244</td><td>0.0</td></tr>\n",
       "<tr><td>15</td><td>Kepler Quarter 05</td><td>2010</td><td><a href='https://archive.stsci.edu/kepler/data_products.html'>Kepler</a></td><td>60</td><td>kplr006922244</td><td>0.0</td></tr>\n",
       "<tr><td>16</td><td>Kepler Quarter 05</td><td>2010</td><td><a href='https://archive.stsci.edu/kepler/data_products.html'>Kepler</a></td><td>60</td><td>kplr006922244</td><td>0.0</td></tr>\n",
       "<tr><td>17</td><td>Kepler Quarter 04</td><td>2010</td><td><a href='https://archive.stsci.edu/kepler/data_products.html'>Kepler</a></td><td>60</td><td>kplr006922244</td><td>0.0</td></tr>\n",
       "<tr><td>18</td><td>Kepler Quarter 04</td><td>2010</td><td><a href='https://archive.stsci.edu/kepler/data_products.html'>Kepler</a></td><td>60</td><td>kplr006922244</td><td>0.0</td></tr>\n",
       "<tr><td>19</td><td>Kepler Quarter 04</td><td>2010</td><td><a href='https://archive.stsci.edu/kepler/data_products.html'>Kepler</a></td><td>60</td><td>kplr006922244</td><td>0.0</td></tr>\n",
       "<tr><td>20</td><td>Kepler Quarter 05</td><td>2010</td><td><a href='https://archive.stsci.edu/kepler/data_products.html'>Kepler</a></td><td>1800</td><td>kplr006922244</td><td>0.0</td></tr>\n",
       "<tr><td>21</td><td>Kepler Quarter 04</td><td>2010</td><td><a href='https://archive.stsci.edu/kepler/data_products.html'>Kepler</a></td><td>1800</td><td>kplr006922244</td><td>0.0</td></tr>\n",
       "<tr><td>22</td><td>Kepler Quarter 06</td><td>2010</td><td><a href='https://archive.stsci.edu/kepler/data_products.html'>Kepler</a></td><td>1800</td><td>kplr006922244</td><td>0.0</td></tr>\n",
       "<tr><td>23</td><td>Kepler Quarter 07</td><td>2010</td><td><a href='https://archive.stsci.edu/kepler/data_products.html'>Kepler</a></td><td>1800</td><td>kplr006922244</td><td>0.0</td></tr>\n",
       "<tr><td>24</td><td>Kepler Quarter 11</td><td>2011</td><td><a href='https://archive.stsci.edu/kepler/data_products.html'>Kepler</a></td><td>60</td><td>kplr006922244</td><td>0.0</td></tr>\n",
       "<tr><td>25</td><td>Kepler Quarter 09</td><td>2011</td><td><a href='https://archive.stsci.edu/kepler/data_products.html'>Kepler</a></td><td>60</td><td>kplr006922244</td><td>0.0</td></tr>\n",
       "<tr><td>26</td><td>Kepler Quarter 09</td><td>2011</td><td><a href='https://archive.stsci.edu/kepler/data_products.html'>Kepler</a></td><td>60</td><td>kplr006922244</td><td>0.0</td></tr>\n",
       "<tr><td>27</td><td>Kepler Quarter 11</td><td>2011</td><td><a href='https://archive.stsci.edu/kepler/data_products.html'>Kepler</a></td><td>60</td><td>kplr006922244</td><td>0.0</td></tr>\n",
       "<tr><td>28</td><td>Kepler Quarter 09</td><td>2011</td><td><a href='https://archive.stsci.edu/kepler/data_products.html'>Kepler</a></td><td>60</td><td>kplr006922244</td><td>0.0</td></tr>\n",
       "<tr><td>29</td><td>Kepler Quarter 10</td><td>2011</td><td><a href='https://archive.stsci.edu/kepler/data_products.html'>Kepler</a></td><td>60</td><td>kplr006922244</td><td>0.0</td></tr>\n",
       "<tr><td>30</td><td>Kepler Quarter 10</td><td>2011</td><td><a href='https://archive.stsci.edu/kepler/data_products.html'>Kepler</a></td><td>60</td><td>kplr006922244</td><td>0.0</td></tr>\n",
       "<tr><td>31</td><td>Kepler Quarter 10</td><td>2011</td><td><a href='https://archive.stsci.edu/kepler/data_products.html'>Kepler</a></td><td>60</td><td>kplr006922244</td><td>0.0</td></tr>\n",
       "<tr><td>32</td><td>Kepler Quarter 08</td><td>2011</td><td><a href='https://archive.stsci.edu/kepler/data_products.html'>Kepler</a></td><td>1800</td><td>kplr006922244</td><td>0.0</td></tr>\n",
       "<tr><td>33</td><td>Kepler Quarter 09</td><td>2011</td><td><a href='https://archive.stsci.edu/kepler/data_products.html'>Kepler</a></td><td>1800</td><td>kplr006922244</td><td>0.0</td></tr>\n",
       "<tr><td>34</td><td>Kepler Quarter 10</td><td>2011</td><td><a href='https://archive.stsci.edu/kepler/data_products.html'>Kepler</a></td><td>1800</td><td>kplr006922244</td><td>0.0</td></tr>\n",
       "<tr><td>35</td><td>Kepler Quarter 11</td><td>2012</td><td><a href='https://archive.stsci.edu/kepler/data_products.html'>Kepler</a></td><td>60</td><td>kplr006922244</td><td>0.0</td></tr>\n",
       "<tr><td>36</td><td>Kepler Quarter 12</td><td>2012</td><td><a href='https://archive.stsci.edu/kepler/data_products.html'>Kepler</a></td><td>60</td><td>kplr006922244</td><td>0.0</td></tr>\n",
       "<tr><td>37</td><td>Kepler Quarter 12</td><td>2012</td><td><a href='https://archive.stsci.edu/kepler/data_products.html'>Kepler</a></td><td>60</td><td>kplr006922244</td><td>0.0</td></tr>\n",
       "<tr><td>38</td><td>Kepler Quarter 12</td><td>2012</td><td><a href='https://archive.stsci.edu/kepler/data_products.html'>Kepler</a></td><td>60</td><td>kplr006922244</td><td>0.0</td></tr>\n",
       "<tr><td>39</td><td>Kepler Quarter 13</td><td>2012</td><td><a href='https://archive.stsci.edu/kepler/data_products.html'>Kepler</a></td><td>60</td><td>kplr006922244</td><td>0.0</td></tr>\n",
       "<tr><td>40</td><td>Kepler Quarter 13</td><td>2012</td><td><a href='https://archive.stsci.edu/kepler/data_products.html'>Kepler</a></td><td>60</td><td>kplr006922244</td><td>0.0</td></tr>\n",
       "<tr><td>41</td><td>Kepler Quarter 13</td><td>2012</td><td><a href='https://archive.stsci.edu/kepler/data_products.html'>Kepler</a></td><td>60</td><td>kplr006922244</td><td>0.0</td></tr>\n",
       "<tr><td>42</td><td>Kepler Quarter 11</td><td>2012</td><td><a href='https://archive.stsci.edu/kepler/data_products.html'>Kepler</a></td><td>1800</td><td>kplr006922244</td><td>0.0</td></tr>\n",
       "<tr><td>43</td><td>Kepler Quarter 12</td><td>2012</td><td><a href='https://archive.stsci.edu/kepler/data_products.html'>Kepler</a></td><td>1800</td><td>kplr006922244</td><td>0.0</td></tr>\n",
       "<tr><td>44</td><td>Kepler Quarter 13</td><td>2012</td><td><a href='https://archive.stsci.edu/kepler/data_products.html'>Kepler</a></td><td>1800</td><td>kplr006922244</td><td>0.0</td></tr>\n",
       "<tr><td>45</td><td>Kepler Quarter 14</td><td>2012</td><td><a href='https://archive.stsci.edu/kepler/data_products.html'>Kepler</a></td><td>1800</td><td>kplr006922244</td><td>0.0</td></tr>\n",
       "<tr><td>46</td><td>Kepler Quarter 16</td><td>2013</td><td><a href='https://archive.stsci.edu/kepler/data_products.html'>Kepler</a></td><td>1800</td><td>kplr006922244</td><td>0.0</td></tr>\n",
       "<tr><td>47</td><td>Kepler Quarter 15</td><td>2013</td><td><a href='https://archive.stsci.edu/kepler/data_products.html'>Kepler</a></td><td>1800</td><td>kplr006922244</td><td>0.0</td></tr>\n",
       "<tr><td>48</td><td>Kepler Quarter 17</td><td>2013</td><td><a href='https://archive.stsci.edu/kepler/data_products.html'>Kepler</a></td><td>1800</td><td>kplr006922244</td><td>0.0</td></tr>\n",
       "</table>"
      ],
      "text/plain": [
       "SearchResult containing 49 data products.\n",
       "\n",
       " #       mission      year author exptime  target_name  distance\n",
       "                                     s                   arcsec \n",
       "--- ----------------- ---- ------ ------- ------------- --------\n",
       "  0 Kepler Quarter 02 2009 Kepler      60 kplr006922244      0.0\n",
       "  1 Kepler Quarter 02 2009 Kepler      60 kplr006922244      0.0\n",
       "  2 Kepler Quarter 02 2009 Kepler      60 kplr006922244      0.0\n",
       "  3 Kepler Quarter 03 2009 Kepler      60 kplr006922244      0.0\n",
       "  4 Kepler Quarter 03 2009 Kepler      60 kplr006922244      0.0\n",
       "  5 Kepler Quarter 03 2009 Kepler      60 kplr006922244      0.0\n",
       "  6 Kepler Quarter 00 2009 Kepler    1800 kplr006922244      0.0\n",
       "  7 Kepler Quarter 01 2009 Kepler    1800 kplr006922244      0.0\n",
       "  8 Kepler Quarter 02 2009 Kepler    1800 kplr006922244      0.0\n",
       "  9 Kepler Quarter 03 2009 Kepler    1800 kplr006922244      0.0\n",
       " 10 Kepler Quarter 07 2010 Kepler      60 kplr006922244      0.0\n",
       " 11 Kepler Quarter 06 2010 Kepler      60 kplr006922244      0.0\n",
       " 12 Kepler Quarter 06 2010 Kepler      60 kplr006922244      0.0\n",
       " 13 Kepler Quarter 06 2010 Kepler      60 kplr006922244      0.0\n",
       " 14 Kepler Quarter 05 2010 Kepler      60 kplr006922244      0.0\n",
       " 15 Kepler Quarter 05 2010 Kepler      60 kplr006922244      0.0\n",
       " 16 Kepler Quarter 05 2010 Kepler      60 kplr006922244      0.0\n",
       " 17 Kepler Quarter 04 2010 Kepler      60 kplr006922244      0.0\n",
       " 18 Kepler Quarter 04 2010 Kepler      60 kplr006922244      0.0\n",
       " 19 Kepler Quarter 04 2010 Kepler      60 kplr006922244      0.0\n",
       " 20 Kepler Quarter 05 2010 Kepler    1800 kplr006922244      0.0\n",
       " 21 Kepler Quarter 04 2010 Kepler    1800 kplr006922244      0.0\n",
       " 22 Kepler Quarter 06 2010 Kepler    1800 kplr006922244      0.0\n",
       " 23 Kepler Quarter 07 2010 Kepler    1800 kplr006922244      0.0\n",
       " 24 Kepler Quarter 11 2011 Kepler      60 kplr006922244      0.0\n",
       " 25 Kepler Quarter 09 2011 Kepler      60 kplr006922244      0.0\n",
       " 26 Kepler Quarter 09 2011 Kepler      60 kplr006922244      0.0\n",
       " 27 Kepler Quarter 11 2011 Kepler      60 kplr006922244      0.0\n",
       " 28 Kepler Quarter 09 2011 Kepler      60 kplr006922244      0.0\n",
       " 29 Kepler Quarter 10 2011 Kepler      60 kplr006922244      0.0\n",
       " 30 Kepler Quarter 10 2011 Kepler      60 kplr006922244      0.0\n",
       " 31 Kepler Quarter 10 2011 Kepler      60 kplr006922244      0.0\n",
       " 32 Kepler Quarter 08 2011 Kepler    1800 kplr006922244      0.0\n",
       " 33 Kepler Quarter 09 2011 Kepler    1800 kplr006922244      0.0\n",
       " 34 Kepler Quarter 10 2011 Kepler    1800 kplr006922244      0.0\n",
       " 35 Kepler Quarter 11 2012 Kepler      60 kplr006922244      0.0\n",
       " 36 Kepler Quarter 12 2012 Kepler      60 kplr006922244      0.0\n",
       " 37 Kepler Quarter 12 2012 Kepler      60 kplr006922244      0.0\n",
       " 38 Kepler Quarter 12 2012 Kepler      60 kplr006922244      0.0\n",
       " 39 Kepler Quarter 13 2012 Kepler      60 kplr006922244      0.0\n",
       " 40 Kepler Quarter 13 2012 Kepler      60 kplr006922244      0.0\n",
       " 41 Kepler Quarter 13 2012 Kepler      60 kplr006922244      0.0\n",
       " 42 Kepler Quarter 11 2012 Kepler    1800 kplr006922244      0.0\n",
       " 43 Kepler Quarter 12 2012 Kepler    1800 kplr006922244      0.0\n",
       " 44 Kepler Quarter 13 2012 Kepler    1800 kplr006922244      0.0\n",
       " 45 Kepler Quarter 14 2012 Kepler    1800 kplr006922244      0.0\n",
       " 46 Kepler Quarter 16 2013 Kepler    1800 kplr006922244      0.0\n",
       " 47 Kepler Quarter 15 2013 Kepler    1800 kplr006922244      0.0\n",
       " 48 Kepler Quarter 17 2013 Kepler    1800 kplr006922244      0.0"
      ]
     },
     "execution_count": 2,
     "metadata": {},
     "output_type": "execute_result"
    }
   ],
   "source": [
    "search_result = lk.search_targetpixelfile(\"Kepler-8\", mission=\"Kepler\")\n",
    "search_result"
   ]
  },
  {
   "cell_type": "markdown",
   "metadata": {
    "colab_type": "text",
    "id": "vEqLXQSDoUco"
   },
   "source": [
    "In this list, each row represents a different observing period. We find that *Kepler* recorded 18 quarters of data for this target across four years. The `search_targetpixelfile()` function takes several additional arguments, such as the `quarter` number or the `mission` name. You can find examples of its use in the [online documentation](http://docs.lightkurve.org/api/lightkurve.search.search_targetpixelfile.html) for this function.\n",
    "\n",
    "The search function returns a [`SearchResult`](https://docs.lightkurve.org/api/lightkurve.search.SearchResult.html) object which has several convenient operations. For example, we can select the fourth data product in the list as follows:"
   ]
  },
  {
   "cell_type": "code",
   "execution_count": 3,
   "metadata": {
    "colab": {
     "base_uri": "https://localhost:8080/",
     "height": 79
    },
    "colab_type": "code",
    "execution": {
     "iopub.execute_input": "2025-09-11T15:16:05.249388Z",
     "iopub.status.busy": "2025-09-11T15:16:05.249233Z",
     "iopub.status.idle": "2025-09-11T15:16:05.284060Z",
     "shell.execute_reply": "2025-09-11T15:16:05.283537Z"
    },
    "executionInfo": {
     "elapsed": 14757,
     "status": "ok",
     "timestamp": 1598458625386,
     "user": {
      "displayName": "Geert Barentsen",
      "photoUrl": "https://lh3.googleusercontent.com/a-/AOh14Gj8sjdnDeqdejfe7OoouYPIclAQV0KSTpsU469Jyeo=s64",
      "userId": "05704237875861987058"
     },
     "user_tz": 420
    },
    "id": "QOEovJgkofIf",
    "outputId": "9d04b6ee-196f-4133-bb19-b1f75832aeee"
   },
   "outputs": [
    {
     "data": {
      "text/html": [
       "SearchResult containing 1 data products.\n",
       "\n",
       "<table id=\"table139843806720144\">\n",
       "<thead><tr><th>#</th><th>mission</th><th>year</th><th>author</th><th>exptime</th><th>target_name</th><th>distance</th></tr></thead>\n",
       "<thead><tr><th></th><th></th><th></th><th></th><th>s</th><th></th><th>arcsec</th></tr></thead>\n",
       "<tr><td>0</td><td>Kepler Quarter 03</td><td>2009</td><td><a href='https://archive.stsci.edu/kepler/data_products.html'>Kepler</a></td><td>60</td><td>kplr006922244</td><td>0.0</td></tr>\n",
       "</table>"
      ],
      "text/plain": [
       "SearchResult containing 1 data products.\n",
       "\n",
       " #       mission      year author exptime  target_name  distance\n",
       "                                     s                   arcsec \n",
       "--- ----------------- ---- ------ ------- ------------- --------\n",
       "  0 Kepler Quarter 03 2009 Kepler      60 kplr006922244      0.0"
      ]
     },
     "execution_count": 3,
     "metadata": {},
     "output_type": "execute_result"
    }
   ],
   "source": [
    "search_result[4]"
   ]
  },
  {
   "cell_type": "markdown",
   "metadata": {
    "colab_type": "text",
    "id": "0BY-cimHotti"
   },
   "source": [
    "We can download this data product using the `download()` method."
   ]
  },
  {
   "cell_type": "code",
   "execution_count": 4,
   "metadata": {
    "colab": {},
    "colab_type": "code",
    "execution": {
     "iopub.execute_input": "2025-09-11T15:16:05.285565Z",
     "iopub.status.busy": "2025-09-11T15:16:05.285421Z",
     "iopub.status.idle": "2025-09-11T15:16:05.804626Z",
     "shell.execute_reply": "2025-09-11T15:16:05.804093Z"
    },
    "id": "LrGKm1J_I06X"
   },
   "outputs": [],
   "source": [
    "tpf = search_result[4].download()"
   ]
  },
  {
   "cell_type": "markdown",
   "metadata": {
    "colab_type": "text",
    "id": "FxKwOG3Go8TT"
   },
   "source": [
    "This instruction is identical to the following line:"
   ]
  },
  {
   "cell_type": "code",
   "execution_count": 5,
   "metadata": {
    "colab": {},
    "colab_type": "code",
    "execution": {
     "iopub.execute_input": "2025-09-11T15:16:05.806604Z",
     "iopub.status.busy": "2025-09-11T15:16:05.806424Z",
     "iopub.status.idle": "2025-09-11T15:16:07.479416Z",
     "shell.execute_reply": "2025-09-11T15:16:07.478842Z"
    },
    "id": "WY9N8ou-pAB0"
   },
   "outputs": [
    {
     "name": "stderr",
     "output_type": "stream",
     "text": [
      "/home/runner/micromamba/envs/ci-env/lib/python3.11/site-packages/lightkurve/search.py:420: LightkurveWarning: Warning: 4 files available to download. Only the first file has been downloaded. Please use `download_all()` or specify additional criteria (e.g. quarter, campaign, or sector) to limit your search.\n",
      "  warnings.warn(\n"
     ]
    }
   ],
   "source": [
    "tpf = lk.search_targetpixelfile(\"Kepler-8\", mission=\"Kepler\", quarter=4).download()"
   ]
  },
  {
   "cell_type": "markdown",
   "metadata": {
    "colab_type": "text",
    "id": "flbTGIWOpQyV"
   },
   "source": [
    "The `tpf_file` variable we have obtained in this way is a [`KeplerTargetPixelFile`](https://docs.lightkurve.org/api/lightkurve.targetpixelfile.KeplerTargetPixelFile.html) object."
   ]
  },
  {
   "cell_type": "code",
   "execution_count": 6,
   "metadata": {
    "colab": {
     "base_uri": "https://localhost:8080/",
     "height": 34
    },
    "colab_type": "code",
    "execution": {
     "iopub.execute_input": "2025-09-11T15:16:07.481312Z",
     "iopub.status.busy": "2025-09-11T15:16:07.481143Z",
     "iopub.status.idle": "2025-09-11T15:16:07.484335Z",
     "shell.execute_reply": "2025-09-11T15:16:07.483939Z"
    },
    "executionInfo": {
     "elapsed": 16314,
     "status": "ok",
     "timestamp": 1598458626964,
     "user": {
      "displayName": "Geert Barentsen",
      "photoUrl": "https://lh3.googleusercontent.com/a-/AOh14Gj8sjdnDeqdejfe7OoouYPIclAQV0KSTpsU469Jyeo=s64",
      "userId": "05704237875861987058"
     },
     "user_tz": 420
    },
    "id": "98HbSjCdpcYm",
    "outputId": "40e19a9c-be82-400f-cd9c-3ec1335cd2b9"
   },
   "outputs": [
    {
     "data": {
      "text/plain": [
       "KeplerTargetPixelFile Object (ID: 6922244)"
      ]
     },
     "execution_count": 6,
     "metadata": {},
     "output_type": "execute_result"
    }
   ],
   "source": [
    "tpf"
   ]
  },
  {
   "cell_type": "markdown",
   "metadata": {
    "colab_type": "text",
    "id": "s163SxRnpdYf"
   },
   "source": [
    "This file object provides a convenient way to interact with the data file that has been returned by the archive, which contains both the TPF as well as metadata about the observations.\n",
    "\n",
    "Before diving into the properties of the `KeplerTargetPixelFile`, we can plot the data, also using Lightkurve."
   ]
  },
  {
   "cell_type": "code",
   "execution_count": 7,
   "metadata": {
    "colab": {
     "base_uri": "https://localhost:8080/",
     "height": 420
    },
    "colab_type": "code",
    "execution": {
     "iopub.execute_input": "2025-09-11T15:16:07.485744Z",
     "iopub.status.busy": "2025-09-11T15:16:07.485603Z",
     "iopub.status.idle": "2025-09-11T15:16:07.876492Z",
     "shell.execute_reply": "2025-09-11T15:16:07.875995Z"
    },
    "executionInfo": {
     "elapsed": 17241,
     "status": "ok",
     "timestamp": 1598458627899,
     "user": {
      "displayName": "Geert Barentsen",
      "photoUrl": "https://lh3.googleusercontent.com/a-/AOh14Gj8sjdnDeqdejfe7OoouYPIclAQV0KSTpsU469Jyeo=s64",
      "userId": "05704237875861987058"
     },
     "user_tz": 420
    },
    "id": "Y_jFU5OGpd6o",
    "outputId": "07529c4e-9d5d-47a4-ba11-16ca727eb523"
   },
   "outputs": [
    {
     "data": {
      "image/png": "[encoded data removed]",
      "text/plain": [
       "<Figure size 848.5x400 with 2 Axes>"
      ]
     },
     "metadata": {},
     "output_type": "display_data"
    }
   ],
   "source": [
    "%matplotlib inline\n",
    "tpf.plot();"
   ]
  },
  {
   "cell_type": "markdown",
   "metadata": {
    "colab_type": "text",
    "id": "NvOge8Rppw1K"
   },
   "source": [
    "What you are seeing in this figure are pixels on the CCD camera, with which Kepler-8 was observed. The color indicates the amount of flux in each pixel, in electrons per second. The y-axis shows the pixel row, and the x-axis shows the pixel column. The title tells us the *Kepler* Input Catalogue (KIC) identification number of the target, and the observing cadence of this image. By default, `plot()` shows the first observation cadence in the quarter, but this can be changed by passing optional keyword arguments. You can type `help(tpf.plot)` to see a full list of those options."
   ]
  },
  {
   "cell_type": "markdown",
   "metadata": {
    "colab_type": "text",
    "id": "J7fgNwrIqOKu"
   },
   "source": [
    "### Note\n",
    "\n",
    "You can also download TPF FITS files from the archive by hand, store them on your local disk, and open them using the `lk.read(<filename>)` function. This function will return a [`KeplerTargetPixelFile`](https://docs.lightkurve.org/api/lightkurve.targetpixelfile.KeplerTargetPixelFile.html) object just as in the above example. You can find out where Lightkurve stored a given TPF by typing `tpf.path`:"
   ]
  },
  {
   "cell_type": "code",
   "execution_count": 8,
   "metadata": {
    "colab": {
     "base_uri": "https://localhost:8080/",
     "height": 35
    },
    "colab_type": "code",
    "execution": {
     "iopub.execute_input": "2025-09-11T15:16:07.878119Z",
     "iopub.status.busy": "2025-09-11T15:16:07.877928Z",
     "iopub.status.idle": "2025-09-11T15:16:07.881153Z",
     "shell.execute_reply": "2025-09-11T15:16:07.880738Z"
    },
    "executionInfo": {
     "elapsed": 17233,
     "status": "ok",
     "timestamp": 1598458627901,
     "user": {
      "displayName": "Geert Barentsen",
      "photoUrl": "https://lh3.googleusercontent.com/a-/AOh14Gj8sjdnDeqdejfe7OoouYPIclAQV0KSTpsU469Jyeo=s64",
      "userId": "05704237875861987058"
     },
     "user_tz": 420
    },
    "id": "ZQsNGZGndxGG",
    "outputId": "d4ff8da2-bf32-4551-aced-0bc9750ee573"
   },
   "outputs": [
    {
     "data": {
      "text/plain": [
       "'/home/runner/.lightkurve/cache/mastDownload/Kepler/kplr006922244_sc_Q003333310333330000/kplr006922244-2010019161129_spd-targ.fits.gz'"
      ]
     },
     "execution_count": 8,
     "metadata": {},
     "output_type": "execute_result"
    }
   ],
   "source": [
    "tpf.path"
   ]
  },
  {
   "cell_type": "markdown",
   "metadata": {
    "colab_type": "text",
    "id": "RnYPeb8bPJcO"
   },
   "source": [
    "## 3. Accessing the Metadata"
   ]
  },
  {
   "cell_type": "markdown",
   "metadata": {
    "colab_type": "text",
    "id": "VYPAC5XrP-AQ"
   },
   "source": [
    "Our [`KeplerTargetPixelFile`](https://docs.lightkurve.org/api/lightkurve.targetpixelfile.KeplerTargetPixelFile.html) includes the observation's metadata, loaded from the header of the TPF files downloaded from MAST. Many of these are similar to the metadata stored in the [`KeplerLightCurve`](http://docs.lightkurve.org/api/lightkurve.lightcurve.KeplerLightCurve.html), which are discussed in the accompanying tutorial."
   ]
  },
  {
   "cell_type": "markdown",
   "metadata": {
    "colab_type": "text",
    "id": "Tt3GXT4LrKNn"
   },
   "source": [
    "The headers containing the metadata can be accessed from the [`KeplerTargetPixelFile`](https://docs.lightkurve.org/api/lightkurve.targetpixelfile.KeplerTargetPixelFile.html) through the `get_header()` method.\n",
    "\n",
    "For example, the first extension (\"extension 0\") of the file provides metadata related to the star, such as its magnitude in different passbands, its movement and position on the sky, and its location on *Kepler*'s CCD detector:"
   ]
  },
  {
   "cell_type": "code",
   "execution_count": 9,
   "metadata": {
    "colab": {
     "base_uri": "https://localhost:8080/",
     "height": 1000
    },
    "colab_type": "code",
    "execution": {
     "iopub.execute_input": "2025-09-11T15:16:07.882672Z",
     "iopub.status.busy": "2025-09-11T15:16:07.882526Z",
     "iopub.status.idle": "2025-09-11T15:16:07.886667Z",
     "shell.execute_reply": "2025-09-11T15:16:07.886148Z"
    },
    "executionInfo": {
     "elapsed": 17229,
     "status": "ok",
     "timestamp": 1598458627903,
     "user": {
      "displayName": "Geert Barentsen",
      "photoUrl": "https://lh3.googleusercontent.com/a-/AOh14Gj8sjdnDeqdejfe7OoouYPIclAQV0KSTpsU469Jyeo=s64",
      "userId": "05704237875861987058"
     },
     "user_tz": 420
    },
    "id": "CbMck1dqraXf",
    "outputId": "5fda30df-f09c-4fe7-bc94-4da872f9ae87"
   },
   "outputs": [
    {
     "data": {
      "text/plain": [
       "SIMPLE  =                    T / conforms to FITS standards                     \n",
       "BITPIX  =                    8 / array data type                                \n",
       "NAXIS   =                    0 / number of array dimensions                     \n",
       "EXTEND  =                    T / file contains extensions                       \n",
       "NEXTEND =                    2 / number of standard extensions                  \n",
       "EXTNAME = 'PRIMARY '           / name of extension                              \n",
       "EXTVER  =                    1 / extension version number (not format version)  \n",
       "ORIGIN  = 'NASA/Ames'          / institution responsible for creating this file \n",
       "DATE    = '2016-05-26'         / file creation date.                            \n",
       "CREATOR = '1200109 TargetPixelExporterPipelineModule' / pipeline job and program\n",
       "PROCVER = 'svn+ssh://murzim/repo/soc/tags/release/9.3.47 r61408' / SW version   \n",
       "FILEVER = '6.1     '           / file format version                            \n",
       "TIMVERSN= 'OGIP/93-003'        / OGIP memo number for file format               \n",
       "TELESCOP= 'Kepler  '           / telescope                                      \n",
       "INSTRUME= 'Kepler Photometer'  / detector type                                  \n",
       "OBJECT  = 'KIC 6922244'        / string version of target id                    \n",
       "KEPLERID=              6922244 / unique Kepler target identifier                \n",
       "CHANNEL =                   31 / CCD channel                                    \n",
       "SKYGROUP=                   31 / roll-independent location of channel           \n",
       "MODULE  =                   10 / CCD module                                     \n",
       "OUTPUT  =                    3 / CCD output                                     \n",
       "QUARTER =                    4 / Observing quarter                              \n",
       "SEASON  =                    2 / mission season during which data was collected \n",
       "DATA_REL=                   25 / data release version number                    \n",
       "OBSMODE = 'short cadence'      / observing mode                                 \n",
       "MISSION = 'Kepler  '           / Mission name                                   \n",
       "TTABLEID=                   29 / target table id                                \n",
       "RADESYS = 'ICRS    '           / reference frame of celestial coordinates       \n",
       "RA_OBJ  =           281.288120 / [deg] right ascension                          \n",
       "DEC_OBJ =            42.451080 / [deg] declination                              \n",
       "EQUINOX =               2000.0 / equinox of celestial coordinate system         \n",
       "PMRA    =               0.0000 / [arcsec/yr] RA proper motion                   \n",
       "PMDEC   =               0.0000 / [arcsec/yr] Dec proper motion                  \n",
       "PMTOTAL =               0.0000 / [arcsec/yr] total proper motion                \n",
       "PARALLAX=                      / [arcsec] parallax                              \n",
       "GLON    =            71.658900 / [deg] galactic longitude                       \n",
       "GLAT    =            19.012749 / [deg] galactic latitude                        \n",
       "GMAG    =               13.886 / [mag] SDSS g band magnitude                    \n",
       "RMAG    =               13.511 / [mag] SDSS r band magnitude                    \n",
       "IMAG    =               13.424 / [mag] SDSS i band magnitude                    \n",
       "ZMAG    =               13.413 / [mag] SDSS z band magnitude                    \n",
       "D51MAG  =               13.700 / [mag] D51 magnitude,                           \n",
       "JMAG    =               12.576 / [mag] J band magnitude from 2MASS              \n",
       "HMAG    =               12.323 / [mag] H band magnitude from 2MASS              \n",
       "KMAG    =               12.292 / [mag] K band magnitude from 2MASS              \n",
       "KEPMAG  =               13.563 / [mag] Kepler magnitude (Kp)                    \n",
       "GRCOLOR =                0.375 / [mag] (g-r) color, SDSS bands                  \n",
       "JKCOLOR =                0.284 / [mag] (J-K) color, 2MASS bands                 \n",
       "GKCOLOR =                1.594 / [mag] (g-K) color, SDSS g - 2MASS K            \n",
       "TEFF    =                 6225 / [K] Effective temperature                      \n",
       "LOGG    =                4.169 / [cm/s2] log10 surface gravity                  \n",
       "FEH     =               -0.040 / [log10([Fe/H])]  metallicity                   \n",
       "EBMINUSV=                0.096 / [mag] E(B-V) reddening                         \n",
       "AV      =                0.297 / [mag] A_v extinction                           \n",
       "RADIUS  =                1.451 / [solar radii] stellar radius                   \n",
       "TMINDEX =            262064792 / unique 2MASS catalog ID                        \n",
       "SCPID   =            262064792 / unique SCP processing ID                       \n",
       "CHECKSUM= 'Z4BPi39NZ3ANf37N'   / HDU checksum updated 2016-05-26T23:26:21Z      "
      ]
     },
     "execution_count": 9,
     "metadata": {},
     "output_type": "execute_result"
    }
   ],
   "source": [
    "tpf.get_header(ext=0)"
   ]
  },
  {
   "cell_type": "markdown",
   "metadata": {
    "colab_type": "text",
    "id": "xxaE-9qSutKT"
   },
   "source": [
    "This is an Astropy [`astropy.io.fits.Header`](https://docs.astropy.org/en/stable/io/fits/api/headers.html) object, which has many convenient features. For example, you can retrieve the value of an individual keyword as follows:"
   ]
  },
  {
   "cell_type": "code",
   "execution_count": 10,
   "metadata": {
    "colab": {
     "base_uri": "https://localhost:8080/",
     "height": 34
    },
    "colab_type": "code",
    "execution": {
     "iopub.execute_input": "2025-09-11T15:16:07.888156Z",
     "iopub.status.busy": "2025-09-11T15:16:07.888005Z",
     "iopub.status.idle": "2025-09-11T15:16:07.891255Z",
     "shell.execute_reply": "2025-09-11T15:16:07.890739Z"
    },
    "executionInfo": {
     "elapsed": 17221,
     "status": "ok",
     "timestamp": 1598458627904,
     "user": {
      "displayName": "Geert Barentsen",
      "photoUrl": "https://lh3.googleusercontent.com/a-/AOh14Gj8sjdnDeqdejfe7OoouYPIclAQV0KSTpsU469Jyeo=s64",
      "userId": "05704237875861987058"
     },
     "user_tz": 420
    },
    "id": "I-OdcLDKutWR",
    "outputId": "b7dcefdd-51be-43ca-88b3-4a712ba4fbee"
   },
   "outputs": [
    {
     "data": {
      "text/plain": [
       "4"
      ]
     },
     "execution_count": 10,
     "metadata": {},
     "output_type": "execute_result"
    }
   ],
   "source": [
    "tpf.get_header(ext=0).get('QUARTER')"
   ]
  },
  {
   "cell_type": "markdown",
   "metadata": {
    "colab_type": "text",
    "id": "KG6rOB66utpH"
   },
   "source": [
    "When constructing a [`KeplerTargetPixelFile`](https://docs.lightkurve.org/api/lightkurve.targetpixelfile.KeplerTargetPixelFile.html) from a FITS file, Lightkurve carries a subset of the metadata through into user-friendly object properties for convenience, which are available through shorthands (for example, `tpf.quarter`). You can view these properties with the the [`show_properties()`](https://docs.lightkurve.org/api/lightkurve.targetpixelfile.KeplerTargetPixelFile.html#lightkurve.targetpixelfile.KeplerTargetPixelFile.show_properties) method:"
   ]
  },
  {
   "cell_type": "code",
   "execution_count": 11,
   "metadata": {
    "colab": {
     "base_uri": "https://localhost:8080/",
     "height": 575
    },
    "colab_type": "code",
    "execution": {
     "iopub.execute_input": "2025-09-11T15:16:07.892679Z",
     "iopub.status.busy": "2025-09-11T15:16:07.892532Z",
     "iopub.status.idle": "2025-09-11T15:16:08.064579Z",
     "shell.execute_reply": "2025-09-11T15:16:08.064111Z"
    },
    "executionInfo": {
     "elapsed": 17214,
     "status": "ok",
     "timestamp": 1598458627906,
     "user": {
      "displayName": "Geert Barentsen",
      "photoUrl": "https://lh3.googleusercontent.com/a-/AOh14Gj8sjdnDeqdejfe7OoouYPIclAQV0KSTpsU469Jyeo=s64",
      "userId": "05704237875861987058"
     },
     "user_tz": 420
    },
    "id": "Z7dqJy7twKqB",
    "outputId": "b2621461-08c1-4339-d9e9-e3939d7e106a"
   },
   "outputs": [
    {
     "name": "stdout",
     "output_type": "stream",
     "text": [
      "   Attribute                                                                Description                                                             \n",
      "--------------- ------------------------------------------------------------------------------------------------------------------------------------\n",
      "        channel                                                                                                                                   31\n",
      "         column                                                                                                                                  680\n",
      "         module                                                                                                                                   10\n",
      "         output                                                                                                                                    3\n",
      "        quarter                                                                                                                                    4\n",
      "            row                                                                                                                                  188\n",
      "       targetid                                                                                                                              6922244\n",
      "        mission                                                                                                                               Kepler\n",
      "        obsmode                                                                                                                        short cadence\n",
      "           path /home/runner/.lightkurve/cache/mastDownload/Kepler/kplr006922244_sc_Q003333310333330000/kplr006922244-2010019161129_spd-targ.fits.gz\n",
      "quality_bitmask                                                                                                                              default\n",
      "            hdu                                                                                                      PRIMARY, TARGETTABLES, APERTURE\n",
      "      cadenceno                                                                                                                       array (45453,)\n",
      "           flux                                                                                                                  array (45453, 5, 5)\n",
      "       flux_bkg                                                                                                                  array (45453, 5, 5)\n",
      "   flux_bkg_err                                                                                                                  array (45453, 5, 5)\n",
      "       flux_err                                                                                                                  array (45453, 5, 5)\n",
      "  nan_time_mask                                                                                                                       array (45453,)\n",
      "  pipeline_mask                                                                                                                         array (5, 5)\n",
      "      pos_corr1                                                                                                                       array (45453,)\n",
      "      pos_corr2                                                                                                                       array (45453,)\n",
      "        quality                                                                                                                       array (45453,)\n",
      "   quality_mask                                                                                                                       array (45600,)\n",
      "       campaign                                                                                                                   <class 'NoneType'>\n",
      "            dec                                                                                                                      <class 'float'>\n",
      "           meta                                                                                <class 'lightkurve.targetpixelfile.HduToMetaMapping'>\n",
      "             ra                                                                                                                      <class 'float'>\n",
      "          shape                                                                                                                      <class 'tuple'>\n",
      "           time                                                                                                     <class 'astropy.time.core.Time'>\n",
      "            wcs                                                                                                                  astropy.wcs.wcs.WCS\n"
     ]
    }
   ],
   "source": [
    "tpf.show_properties()"
   ]
  },
  {
   "cell_type": "markdown",
   "metadata": {
    "colab_type": "text",
    "id": "_A-Rx5LN1hd8"
   },
   "source": [
    "A new piece of metadata not included in the [`KeplerLightCurve`](http://docs.lightkurve.org/api/lightkurve.lightcurvefile.KeplerLightCurve.html) objects is the [World Coordinate System](https://fits.gsfc.nasa.gov/fits_wcs.html) (WCS). The WCS contains information about how pixel positions map to celestial sky coordinates. This is important when comparing a TPF from a *Kepler*, *K2*, or *TESS* observation to an observation of the same star with a different telescope.\n",
    "\n",
    "You can access the WCS using `tpf.wcs`, which is an Astropy WCS object:"
   ]
  },
  {
   "cell_type": "code",
   "execution_count": 12,
   "metadata": {
    "colab": {
     "base_uri": "https://localhost:8080/",
     "height": 34
    },
    "colab_type": "code",
    "execution": {
     "iopub.execute_input": "2025-09-11T15:16:08.066115Z",
     "iopub.status.busy": "2025-09-11T15:16:08.065913Z",
     "iopub.status.idle": "2025-09-11T15:16:08.071149Z",
     "shell.execute_reply": "2025-09-11T15:16:08.070717Z"
    },
    "executionInfo": {
     "elapsed": 17208,
     "status": "ok",
     "timestamp": 1598458627908,
     "user": {
      "displayName": "Geert Barentsen",
      "photoUrl": "https://lh3.googleusercontent.com/a-/AOh14Gj8sjdnDeqdejfe7OoouYPIclAQV0KSTpsU469Jyeo=s64",
      "userId": "05704237875861987058"
     },
     "user_tz": 420
    },
    "id": "RNSQdygirs84",
    "outputId": "9f90d545-365a-403b-d35d-b913d0e2d6c2"
   },
   "outputs": [
    {
     "data": {
      "text/plain": [
       "astropy.wcs.wcs.WCS"
      ]
     },
     "execution_count": 12,
     "metadata": {},
     "output_type": "execute_result"
    }
   ],
   "source": [
    "type(tpf.wcs)"
   ]
  },
  {
   "cell_type": "markdown",
   "metadata": {
    "colab_type": "text",
    "id": "hXXEiUrEf1-X"
   },
   "source": [
    "For example, you can obtain the sky coordinates for the bottom left corner of the TPF as follows:"
   ]
  },
  {
   "cell_type": "code",
   "execution_count": 13,
   "metadata": {
    "colab": {
     "base_uri": "https://localhost:8080/",
     "height": 52
    },
    "colab_type": "code",
    "execution": {
     "iopub.execute_input": "2025-09-11T15:16:08.072621Z",
     "iopub.status.busy": "2025-09-11T15:16:08.072478Z",
     "iopub.status.idle": "2025-09-11T15:16:08.079338Z",
     "shell.execute_reply": "2025-09-11T15:16:08.078937Z"
    },
    "executionInfo": {
     "elapsed": 17204,
     "status": "ok",
     "timestamp": 1598458627909,
     "user": {
      "displayName": "Geert Barentsen",
      "photoUrl": "https://lh3.googleusercontent.com/a-/AOh14Gj8sjdnDeqdejfe7OoouYPIclAQV0KSTpsU469Jyeo=s64",
      "userId": "05704237875861987058"
     },
     "user_tz": 420
    },
    "id": "TQ605X9RfSZx",
    "outputId": "79d92100-16c3-491a-8019-f54e054b0405"
   },
   "outputs": [
    {
     "data": {
      "text/plain": [
       "<SkyCoord (ICRS): (ra, dec) in deg\n",
       "    (281.2877627, 42.44724476)>"
      ]
     },
     "execution_count": 13,
     "metadata": {},
     "output_type": "execute_result"
    }
   ],
   "source": [
    "tpf.wcs.pixel_to_world(0, 0)"
   ]
  },
  {
   "cell_type": "markdown",
   "metadata": {
    "colab_type": "text",
    "id": "fTPgSmPCOeym"
   },
   "source": [
    "Altogether, the metadata contains a lot of information, and you will rarely use it all, but it is important to know that it is available if you need it. For more details and a better overview of all of the metadata stored in a TPF, read the [*Kepler* Archive Manual](http://archive.stsci.edu/files/live/sites/mast/files/home/missions-and-data/kepler/_documents/archive_manual.pdf), specifically:\n",
    "  - Section 2.3.2 Target Pixel Data\n",
    "  - Appendix A.1: Target Pixel File Headers"
   ]
  },
  {
   "cell_type": "markdown",
   "metadata": {
    "colab_type": "text",
    "id": "MbgP7U-9rs9M"
   },
   "source": [
    "##4. Time, Flux, and Background"
   ]
  },
  {
   "cell_type": "markdown",
   "metadata": {
    "colab_type": "text",
    "id": "rXQrHyPukS1B"
   },
   "source": [
    "Finally, we have the most important properties of the TPF: the time and flux information. Just like a `KeplerLightCurve` object, we can access the time information as an Astropy `Time` object as follows:"
   ]
  },
  {
   "cell_type": "code",
   "execution_count": 14,
   "metadata": {
    "colab": {
     "base_uri": "https://localhost:8080/",
     "height": 52
    },
    "colab_type": "code",
    "execution": {
     "iopub.execute_input": "2025-09-11T15:16:08.080881Z",
     "iopub.status.busy": "2025-09-11T15:16:08.080736Z",
     "iopub.status.idle": "2025-09-11T15:16:08.085862Z",
     "shell.execute_reply": "2025-09-11T15:16:08.085463Z"
    },
    "executionInfo": {
     "elapsed": 393,
     "status": "ok",
     "timestamp": 1598458810955,
     "user": {
      "displayName": "Geert Barentsen",
      "photoUrl": "https://lh3.googleusercontent.com/a-/AOh14Gj8sjdnDeqdejfe7OoouYPIclAQV0KSTpsU469Jyeo=s64",
      "userId": "05704237875861987058"
     },
     "user_tz": 420
    },
    "id": "ajuuDHv4kTyF",
    "outputId": "521da14a-2ba7-4a70-c50d-181b5f76a1a2"
   },
   "outputs": [
    {
     "data": {
      "text/plain": [
       "<Time object: scale='tdb' format='bkjd' value=[352.36644886 352.36712985 352.36781104 ... 383.42321606 383.42389716\n",
       " 383.42457836]>"
      ]
     },
     "execution_count": 14,
     "metadata": {},
     "output_type": "execute_result"
    }
   ],
   "source": [
    "tpf.time"
   ]
  },
  {
   "cell_type": "markdown",
   "metadata": {
    "colab_type": "text",
    "id": "aQ7iv-Fwkmx9"
   },
   "source": [
    "The pixel brightness data is available as an Astropy `Quantity` object named `tpf.flux`:"
   ]
  },
  {
   "cell_type": "code",
   "execution_count": 15,
   "metadata": {
    "colab": {
     "base_uri": "https://localhost:8080/",
     "height": 60
    },
    "colab_type": "code",
    "execution": {
     "iopub.execute_input": "2025-09-11T15:16:08.087233Z",
     "iopub.status.busy": "2025-09-11T15:16:08.087096Z",
     "iopub.status.idle": "2025-09-11T15:16:08.095466Z",
     "shell.execute_reply": "2025-09-11T15:16:08.094971Z"
    },
    "executionInfo": {
     "elapsed": 500,
     "status": "ok",
     "timestamp": 1598459014943,
     "user": {
      "displayName": "Geert Barentsen",
      "photoUrl": "https://lh3.googleusercontent.com/a-/AOh14Gj8sjdnDeqdejfe7OoouYPIclAQV0KSTpsU469Jyeo=s64",
      "userId": "05704237875861987058"
     },
     "user_tz": 420
    },
    "id": "5IfhFBTUkkil",
    "outputId": "f0b60528-edc0-42b4-e9e2-f9b8854f523f"
   },
   "outputs": [
    {
     "data": {
      "text/latex": [
       "$[[[{\\rm NaN},~8.0390711,~48.509899,~80.933449,~37.914341],~\n",
       "  [49.503891,~73.099373,~1129.402,~3242.1128,~460.83792],~\n",
       "  [23.193569,~219.91617,~9372.5166,~23602.078,~1213.2692],~\n",
       "  [31.846043,~892.15948,~1703.8822,~2624.7312,~719.24988],~\n",
       "  [153.39867,~833.42633,~510.965,~1159.3601,~174.46196]],~\n",
       "\n",
       " [[{\\rm NaN},~9.2187738,~50.246441,~78.645706,~21.409729],~\n",
       "  [49.968575,~69.388664,~1131.1167,~3237.4475,~446.69821],~\n",
       "  [38.243187,~216.14751,~9337.7998,~23587.406,~1198.8284],~\n",
       "  [52.038555,~888.50934,~1700.7366,~2620.0574,~724.65277],~\n",
       "  [156.37003,~834.63757,~507.69263,~1152.0886,~189.88081]],~\n",
       "\n",
       " [[{\\rm NaN},~2.4421179,~55.98457,~75.091576,~36.298214],~\n",
       "  [38.19899,~82.178314,~1131.897,~3221.8352,~451.87534],~\n",
       "  [24.024801,~231.75333,~9374.9941,~23586.387,~1228.9484],~\n",
       "  [44.997749,~903.73022,~1711.1895,~2626.2844,~700.37891],~\n",
       "  [149.28247,~835.1701,~503.42889,~1160.9066,~185.26564]],~\n",
       "\n",
       " \\dots,~\n",
       "\n",
       " [[{\\rm NaN},~19.621168,~38.646904,~44.709297,~25.876413],~\n",
       "  [47.28941,~50.153313,~832.58044,~1934.9481,~311.76328],~\n",
       "  [26.834848,~282.53635,~11589.739,~21260.182,~830.58459],~\n",
       "  [51.953953,~975.21808,~2349.7029,~3535.4851,~862.76367],~\n",
       "  [174.99953,~901.81152,~451.0145,~1095.6648,~155.06113]],~\n",
       "\n",
       " [[{\\rm NaN},~-0.42827752,~45.577076,~50.596378,~18.026659],~\n",
       "  [26.726322,~44.703861,~832.05835,~1938.2916,~323.35406],~\n",
       "  [30.515184,~294.59793,~11516.533,~21344.93,~820.2146],~\n",
       "  [26.136087,~959.98395,~2363.6814,~3555.8074,~891.78656],~\n",
       "  [168.82539,~891.47003,~460.54691,~1094.1451,~159.44005]],~\n",
       "\n",
       " [[{\\rm NaN},~-4.5136657,~43.791656,~54.902508,~11.35603],~\n",
       "  [46.581718,~48.010975,~825.37323,~1923.1105,~311.74121],~\n",
       "  [28.555607,~280.34921,~11599.616,~21240.707,~815.6781],~\n",
       "  [51.237385,~973.07965,~2340.2271,~3526.0762,~867.67297],~\n",
       "  [176.7923,~924.26355,~453.80658,~1098.4874,~165.04802]]] \\; \\mathrm{\\frac{e^{-}}{s}}$"
      ],
      "text/plain": [
       "<Quantity [[[           nan,  8.0390711e+00,  4.8509899e+01,\n",
       "              8.0933449e+01,  3.7914341e+01],\n",
       "            [ 4.9503891e+01,  7.3099373e+01,  1.1294020e+03,\n",
       "              3.2421128e+03,  4.6083792e+02],\n",
       "            [ 2.3193569e+01,  2.1991617e+02,  9.3725166e+03,\n",
       "              2.3602078e+04,  1.2132692e+03],\n",
       "            [ 3.1846043e+01,  8.9215948e+02,  1.7038822e+03,\n",
       "              2.6247312e+03,  7.1924988e+02],\n",
       "            [ 1.5339867e+02,  8.3342633e+02,  5.1096500e+02,\n",
       "              1.1593601e+03,  1.7446196e+02]],\n",
       "\n",
       "           [[           nan,  9.2187738e+00,  5.0246441e+01,\n",
       "              7.8645706e+01,  2.1409729e+01],\n",
       "            [ 4.9968575e+01,  6.9388664e+01,  1.1311167e+03,\n",
       "              3.2374475e+03,  4.4669821e+02],\n",
       "            [ 3.8243187e+01,  2.1614751e+02,  9.3377998e+03,\n",
       "              2.3587406e+04,  1.1988284e+03],\n",
       "            [ 5.2038555e+01,  8.8850934e+02,  1.7007366e+03,\n",
       "              2.6200574e+03,  7.2465277e+02],\n",
       "            [ 1.5637003e+02,  8.3463757e+02,  5.0769263e+02,\n",
       "              1.1520886e+03,  1.8988081e+02]],\n",
       "\n",
       "           [[           nan,  2.4421179e+00,  5.5984570e+01,\n",
       "              7.5091576e+01,  3.6298214e+01],\n",
       "            [ 3.8198990e+01,  8.2178314e+01,  1.1318970e+03,\n",
       "              3.2218352e+03,  4.5187534e+02],\n",
       "            [ 2.4024801e+01,  2.3175333e+02,  9.3749941e+03,\n",
       "              2.3586387e+04,  1.2289484e+03],\n",
       "            [ 4.4997749e+01,  9.0373022e+02,  1.7111895e+03,\n",
       "              2.6262844e+03,  7.0037891e+02],\n",
       "            [ 1.4928247e+02,  8.3517010e+02,  5.0342889e+02,\n",
       "              1.1609066e+03,  1.8526564e+02]],\n",
       "\n",
       "           ...,\n",
       "\n",
       "           [[           nan,  1.9621168e+01,  3.8646904e+01,\n",
       "              4.4709297e+01,  2.5876413e+01],\n",
       "            [ 4.7289410e+01,  5.0153313e+01,  8.3258044e+02,\n",
       "              1.9349481e+03,  3.1176328e+02],\n",
       "            [ 2.6834848e+01,  2.8253635e+02,  1.1589739e+04,\n",
       "              2.1260182e+04,  8.3058459e+02],\n",
       "            [ 5.1953953e+01,  9.7521808e+02,  2.3497029e+03,\n",
       "              3.5354851e+03,  8.6276367e+02],\n",
       "            [ 1.7499953e+02,  9.0181152e+02,  4.5101450e+02,\n",
       "              1.0956648e+03,  1.5506113e+02]],\n",
       "\n",
       "           [[           nan, -4.2827752e-01,  4.5577076e+01,\n",
       "              5.0596378e+01,  1.8026659e+01],\n",
       "            [ 2.6726322e+01,  4.4703861e+01,  8.3205835e+02,\n",
       "              1.9382916e+03,  3.2335406e+02],\n",
       "            [ 3.0515184e+01,  2.9459793e+02,  1.1516533e+04,\n",
       "              2.1344930e+04,  8.2021460e+02],\n",
       "            [ 2.6136087e+01,  9.5998395e+02,  2.3636814e+03,\n",
       "              3.5558074e+03,  8.9178656e+02],\n",
       "            [ 1.6882539e+02,  8.9147003e+02,  4.6054691e+02,\n",
       "              1.0941451e+03,  1.5944005e+02]],\n",
       "\n",
       "           [[           nan, -4.5136657e+00,  4.3791656e+01,\n",
       "              5.4902508e+01,  1.1356030e+01],\n",
       "            [ 4.6581718e+01,  4.8010975e+01,  8.2537323e+02,\n",
       "              1.9231105e+03,  3.1174121e+02],\n",
       "            [ 2.8555607e+01,  2.8034921e+02,  1.1599616e+04,\n",
       "              2.1240707e+04,  8.1567810e+02],\n",
       "            [ 5.1237385e+01,  9.7307965e+02,  2.3402271e+03,\n",
       "              3.5260762e+03,  8.6767297e+02],\n",
       "            [ 1.7679230e+02,  9.2426355e+02,  4.5380658e+02,\n",
       "              1.0984874e+03,  1.6504802e+02]]] electron / s>"
      ]
     },
     "execution_count": 15,
     "metadata": {},
     "output_type": "execute_result"
    }
   ],
   "source": [
    "tpf.flux"
   ]
  },
  {
   "cell_type": "markdown",
   "metadata": {
    "colab_type": "text",
    "id": "mXjVM2VHlL87"
   },
   "source": [
    "This object is a three-dimensional array, where each entry in the array represents one observing cadence. In our example, the flux array is composed of 4116 images, which are 5x5 pixels in size each:"
   ]
  },
  {
   "cell_type": "code",
   "execution_count": 16,
   "metadata": {
    "colab": {
     "base_uri": "https://localhost:8080/",
     "height": 34
    },
    "colab_type": "code",
    "execution": {
     "iopub.execute_input": "2025-09-11T15:16:08.096874Z",
     "iopub.status.busy": "2025-09-11T15:16:08.096728Z",
     "iopub.status.idle": "2025-09-11T15:16:08.103501Z",
     "shell.execute_reply": "2025-09-11T15:16:08.103006Z"
    },
    "executionInfo": {
     "elapsed": 426,
     "status": "ok",
     "timestamp": 1598459062040,
     "user": {
      "displayName": "Geert Barentsen",
      "photoUrl": "https://lh3.googleusercontent.com/a-/AOh14Gj8sjdnDeqdejfe7OoouYPIclAQV0KSTpsU469Jyeo=s64",
      "userId": "05704237875861987058"
     },
     "user_tz": 420
    },
    "id": "GqKnx3gglJPv",
    "outputId": "97856074-a038-4586-8ff2-da757fcb6626"
   },
   "outputs": [
    {
     "data": {
      "text/plain": [
       "(45453, 5, 5)"
      ]
     },
     "execution_count": 16,
     "metadata": {},
     "output_type": "execute_result"
    }
   ],
   "source": [
    "tpf.flux.shape"
   ]
  },
  {
   "cell_type": "markdown",
   "metadata": {
    "colab_type": "text",
    "id": "TLR6pKTthowD"
   },
   "source": [
    "We can access the values of the first 5x5 pixel image as a NumPy array as follows:"
   ]
  },
  {
   "cell_type": "code",
   "execution_count": 17,
   "metadata": {
    "colab": {
     "base_uri": "https://localhost:8080/",
     "height": 191
    },
    "colab_type": "code",
    "execution": {
     "iopub.execute_input": "2025-09-11T15:16:08.104890Z",
     "iopub.status.busy": "2025-09-11T15:16:08.104738Z",
     "iopub.status.idle": "2025-09-11T15:16:08.111576Z",
     "shell.execute_reply": "2025-09-11T15:16:08.111092Z"
    },
    "executionInfo": {
     "elapsed": 17197,
     "status": "ok",
     "timestamp": 1598458627913,
     "user": {
      "displayName": "Geert Barentsen",
      "photoUrl": "https://lh3.googleusercontent.com/a-/AOh14Gj8sjdnDeqdejfe7OoouYPIclAQV0KSTpsU469Jyeo=s64",
      "userId": "05704237875861987058"
     },
     "user_tz": 420
    },
    "id": "YorUZ0eYWvsp",
    "outputId": "417c1d84-97d7-439a-9a75-92ba917c9cd6"
   },
   "outputs": [
    {
     "data": {
      "text/plain": [
       "array([[          nan, 8.0390711e+00, 4.8509899e+01, 8.0933449e+01,\n",
       "        3.7914341e+01],\n",
       "       [4.9503891e+01, 7.3099373e+01, 1.1294020e+03, 3.2421128e+03,\n",
       "        4.6083792e+02],\n",
       "       [2.3193569e+01, 2.1991617e+02, 9.3725166e+03, 2.3602078e+04,\n",
       "        1.2132692e+03],\n",
       "       [3.1846043e+01, 8.9215948e+02, 1.7038822e+03, 2.6247312e+03,\n",
       "        7.1924988e+02],\n",
       "       [1.5339867e+02, 8.3342633e+02, 5.1096500e+02, 1.1593601e+03,\n",
       "        1.7446196e+02]], dtype='>f4')"
      ]
     },
     "execution_count": 17,
     "metadata": {},
     "output_type": "execute_result"
    }
   ],
   "source": [
    "tpf.flux[0].value"
   ]
  },
  {
   "cell_type": "markdown",
   "metadata": {
    "colab_type": "text",
    "id": "Fj8cJvbars9N"
   },
   "source": [
    "At each cadence the TPF has four different flux-related data properties:\n",
    "\n",
    "- `tpf.flux`: the stellar brightness after the background is removed.\n",
    "- `tpf.flux_err`: the statistical uncertainty on the stellar flux after background removal.\n",
    "- `tpf.flux_bkg`: the astronomical background brightness of the image.\n",
    "- `tpf.flux_bkg_err`: the statistical uncertainty on the background flux.\n",
    "\n",
    "All four of these data arrays are in units of electrons per second.\n",
    "\n",
    "**Note**: for *Kepler*, the flux background isn't a measurement made using the local TPF data. Instead, at each cadence, the *Kepler* pipeline fits a model to thousands of empty pixels across each CCD in order to estimate a continuum background across the the CCD. For more details read the [*Kepler* Instrument Handbook](https://archive.stsci.edu/files/live/sites/mast/files/home/missions-and-data/kepler/_documents/KSCI-19033-002-instrument-hb.pdf), Section 2.6.2.4. In the case of *TESS*, local background pixels contained within a TPF are used instead."
   ]
  },
  {
   "cell_type": "markdown",
   "metadata": {
    "colab_type": "text",
    "id": "WKB9TBNGTO86"
   },
   "source": [
    "**Note**: The `tpf.flux` values seen above have been quality-masked. This means that cadences of observations that violated the `quality_bitmask` parameter are removed, and so `tpf.flux` represents the data that you probably want to use to do your science. The `quality_bitmask` can also be accessed as a property of a [`KeplerTargetPixelFile`](https://docs.lightkurve.org/api/lightkurve.targetpixelfile.KeplerTargetPixelFile.html). For specific details on the `quality` flags, read the [*Kepler* Archive Manual](https://archive.stsci.edu/files/live/sites/mast/files/home/missions-and-data/k2/_documents/MAST_Kepler_Archive_Manual_2020.pdf), Section 2.3.1.1.\n",
    "\n",
    "If you want to access flux and background flux measurements that *have not* been quality masked, you can pass a custom `quality_bitmask` parameter to the `download()` or `read()` method as follows:"
   ]
  },
  {
   "cell_type": "code",
   "execution_count": 18,
   "metadata": {
    "colab": {},
    "colab_type": "code",
    "execution": {
     "iopub.execute_input": "2025-09-11T15:16:08.113063Z",
     "iopub.status.busy": "2025-09-11T15:16:08.112893Z",
     "iopub.status.idle": "2025-09-11T15:16:08.548605Z",
     "shell.execute_reply": "2025-09-11T15:16:08.548101Z"
    },
    "id": "XjsKGtPxiOse"
   },
   "outputs": [
    {
     "name": "stderr",
     "output_type": "stream",
     "text": [
      "/home/runner/micromamba/envs/ci-env/lib/python3.11/site-packages/lightkurve/search.py:420: LightkurveWarning: Warning: 4 files available to download. Only the first file has been downloaded. Please use `download_all()` or specify additional criteria (e.g. quarter, campaign, or sector) to limit your search.\n",
      "  warnings.warn(\n"
     ]
    }
   ],
   "source": [
    "search = lk.search_targetpixelfile(\"Kepler-8\", mission=\"Kepler\", quarter=4)\n",
    "tpf = search.download(quality_bitmask=0)"
   ]
  },
  {
   "cell_type": "markdown",
   "metadata": {
    "colab_type": "text",
    "id": "pI4q-I8PjC99"
   },
   "source": [
    "You can see that the flux array of this object now has more cadences (4397) than the original one above (4116):"
   ]
  },
  {
   "cell_type": "code",
   "execution_count": 19,
   "metadata": {
    "colab": {
     "base_uri": "https://localhost:8080/",
     "height": 34
    },
    "colab_type": "code",
    "execution": {
     "iopub.execute_input": "2025-09-11T15:16:08.550295Z",
     "iopub.status.busy": "2025-09-11T15:16:08.550135Z",
     "iopub.status.idle": "2025-09-11T15:16:08.556561Z",
     "shell.execute_reply": "2025-09-11T15:16:08.556138Z"
    },
    "executionInfo": {
     "elapsed": 439,
     "status": "ok",
     "timestamp": 1598459193421,
     "user": {
      "displayName": "Geert Barentsen",
      "photoUrl": "https://lh3.googleusercontent.com/a-/AOh14Gj8sjdnDeqdejfe7OoouYPIclAQV0KSTpsU469Jyeo=s64",
      "userId": "05704237875861987058"
     },
     "user_tz": 420
    },
    "id": "75mYnCyXjAim",
    "outputId": "54aa42d4-78a5-4641-9f8e-87409aa9e7b5"
   },
   "outputs": [
    {
     "data": {
      "text/plain": [
       "(45600, 5, 5)"
      ]
     },
     "execution_count": 19,
     "metadata": {},
     "output_type": "execute_result"
    }
   ],
   "source": [
    "tpf.flux.shape"
   ]
  },
  {
   "cell_type": "markdown",
   "metadata": {
    "colab_type": "text",
    "id": "gnmgbYhdifRc"
   },
   "source": [
    "Alternatively, we can access the unmasked contents of the original TPF FITS file at any time using the `hdu` property:"
   ]
  },
  {
   "cell_type": "code",
   "execution_count": 20,
   "metadata": {
    "colab": {
     "base_uri": "https://localhost:8080/",
     "height": 34
    },
    "colab_type": "code",
    "execution": {
     "iopub.execute_input": "2025-09-11T15:16:08.557993Z",
     "iopub.status.busy": "2025-09-11T15:16:08.557826Z",
     "iopub.status.idle": "2025-09-11T15:16:08.561212Z",
     "shell.execute_reply": "2025-09-11T15:16:08.560729Z"
    },
    "executionInfo": {
     "elapsed": 358,
     "status": "ok",
     "timestamp": 1598459224249,
     "user": {
      "displayName": "Geert Barentsen",
      "photoUrl": "https://lh3.googleusercontent.com/a-/AOh14Gj8sjdnDeqdejfe7OoouYPIclAQV0KSTpsU469Jyeo=s64",
      "userId": "05704237875861987058"
     },
     "user_tz": 420
    },
    "id": "DMgWz2g7X8LH",
    "outputId": "e5d8396f-e436-4860-9733-6b43b07b37ae"
   },
   "outputs": [
    {
     "data": {
      "text/plain": [
       "(45600, 5, 5)"
      ]
     },
     "execution_count": 20,
     "metadata": {},
     "output_type": "execute_result"
    }
   ],
   "source": [
    "tpf.hdu[1].data['FLUX'].shape"
   ]
  },
  {
   "cell_type": "markdown",
   "metadata": {
    "colab_type": "text",
    "id": "lhbv9ZKRPmMY"
   },
   "source": [
    "## About this Notebook"
   ]
  },
  {
   "cell_type": "markdown",
   "metadata": {
    "colab_type": "text",
    "id": "nU-5JtvpPmMZ"
   },
   "source": [
    "**Authors:** Oliver Hall (oliver.hall@esa.int), Geert Barentsen\n",
    "\n",
    "**Updated On**: 2020-09-15"
   ]
  },
  {
   "cell_type": "markdown",
   "metadata": {
    "colab_type": "text",
    "id": "ZANsIso_B_si"
   },
   "source": [
    "# Citing Lightkurve and Astropy\n",
    "\n",
    "If you use `lightkurve` or `astropy` for published research, please cite the authors. Click the buttons below to copy BibTeX entries to your clipboard. \n",
    "\n"
   ]
  },
  {
   "cell_type": "code",
   "execution_count": 21,
   "metadata": {
    "colab": {
     "base_uri": "https://localhost:8080/",
     "height": 85
    },
    "colab_type": "code",
    "execution": {
     "iopub.execute_input": "2025-09-11T15:16:08.562740Z",
     "iopub.status.busy": "2025-09-11T15:16:08.562596Z",
     "iopub.status.idle": "2025-09-11T15:16:08.565939Z",
     "shell.execute_reply": "2025-09-11T15:16:08.565556Z"
    },
    "executionInfo": {
     "elapsed": 20255,
     "status": "ok",
     "timestamp": 1598458630991,
     "user": {
      "displayName": "Geert Barentsen",
      "photoUrl": "https://lh3.googleusercontent.com/a-/AOh14Gj8sjdnDeqdejfe7OoouYPIclAQV0KSTpsU469Jyeo=s64",
      "userId": "05704237875861987058"
     },
     "user_tz": 420
    },
    "id": "7vUtrWVjnlY7",
    "outputId": "0fac20b7-14f2-4413-862e-d472fc0b3726"
   },
   "outputs": [
    {
     "data": {
      "text/html": [
       "<head>\n",
       "<link rel=\"stylesheet\" href=\"https://stackpath.bootstrapcdn.com/font-awesome/4.7.0/css/font-awesome.min.css\" integrity=\"sha384-wvfXpqpZZVQGK6TAh5PVlGOfQNHSoD2xbE+QkPxCAFlNEevoEH3Sl0sibVcOQVnN\" crossorigin=\"anonymous\">\n",
       "\n",
       "<style>\n",
       "    button {\n",
       "        border: 1px solid;\n",
       "        padding: 0.2em;\n",
       "        text-align: center;\n",
       "        text-decoration: none;\n",
       "        display: inline-block;\n",
       "        font-size: 0.8em;\n",
       "        margin: 0.2em;\n",
       "        cursor: pointer;\n",
       "    }\n",
       "\n",
       "    .citation-button-1 {background-color: #4CAF50;} /* Green */\n",
       "    .citation-button-2 {background-color: #008CBA;} /* Blue */\n",
       "</style>\n",
       "\n",
       "<script type=\"text/javascript\">\n",
       "    function copyBibtex(package) {\n",
       "        var copyText = document.getElementById(package + \"Text\");\n",
       "        copyText.select();\n",
       "        document.execCommand(\"copy\");\n",
       "        alert(\"BibTex has been copied to your clipboard\")\n",
       "    }\n",
       "</script>\n",
       "</head>\n",
       "\n",
       "<body>\n",
       "    <textarea id=\"lightkurveText\" style=\"position: absolute; left: -9999px; z-index: -9999;\">\n",
       "@MISC{2018ascl.soft12013L,\n",
       "    author = {{Lightkurve Collaboration} and {Cardoso}, J.~V.~d.~M. and\n",
       "                {Hedges}, C. and {Gully-Santiago}, M. and {Saunders}, N. and\n",
       "                {Cody}, A.~M. and {Barclay}, T. and {Hall}, O. and\n",
       "                {Sagear}, S. and {Turtelboom}, E. and {Zhang}, J. and\n",
       "                {Tzanidakis}, A. and {Mighell}, K. and {Coughlin}, J. and\n",
       "                {Bell}, K. and {Berta-Thompson}, Z. and {Williams}, P. and\n",
       "                {Dotson}, J. and {Barentsen}, G.},\n",
       "    title = \"{Lightkurve: Kepler and TESS time series analysis in Python}\",\n",
       "    keywords = {Software, NASA},\n",
       "howpublished = {Astrophysics Source Code Library},\n",
       "        year = 2018,\n",
       "    month = dec,\n",
       "archivePrefix = \"ascl\",\n",
       "    eprint = {1812.013},\n",
       "    adsurl = {http://adsabs.harvard.edu/abs/2018ascl.soft12013L},\n",
       "}\n",
       "    </textarea>\n",
       "    <textarea id=\"astropyText\" style=\"position: absolute; left: -9999px; z-index: -9999;\">\n",
       "@ARTICLE{astropy:2022,\n",
       "       author = {{Astropy Collaboration} and {Price-Whelan}, Adrian M. and {Lim}, Pey\n",
       "       Lian and {Earl}, Nicholas and {Starkman}, Nathaniel and {Bradley}, Larry and\n",
       "       {Shupe}, David L. and {Patil}, Aarya A. and {Corrales}, Lia and {Brasseur}, C.~E.\n",
       "       and {N{\\\"o}the}, Maximilian and {Donath}, Axel and {Tollerud}, Erik and {Morris},\n",
       "       Brett M. and {Ginsburg}, Adam and {Vaher}, Eero and {Weaver}, Benjamin A. and\n",
       "       {Tocknell}, James and {Jamieson}, William and {van Kerkwijk}, Marten H. and\n",
       "       {Robitaille}, Thomas P. and {Merry}, Bruce and {Bachetti}, Matteo and\n",
       "       {G{\\\"u}nther}, H. Moritz and {Aldcroft}, Thomas L. and {Alvarado-Montes}, Jaime\n",
       "       A. and {Archibald}, Anne M. and {B{\\'o}di}, Attila and {Bapat}, Shreyas and\n",
       "       {Barentsen}, Geert and {Baz{\\'a}n}, Juanjo and {Biswas}, Manish and {Boquien},\n",
       "       M{\\'e}d{\\'e}ric and {Burke}, D.~J. and {Cara}, Daria and {Cara}, Mihai and\n",
       "       {Conroy}, Kyle E. and {Conseil}, Simon and {Craig}, Matthew W. and {Cross},\n",
       "       Robert M. and {Cruz}, Kelle L. and {D'Eugenio}, Francesco and {Dencheva}, Nadia\n",
       "       and {Devillepoix}, Hadrien A.~R. and {Dietrich}, J{\\\"o}rg P. and {Eigenbrot},\n",
       "       Arthur Davis and {Erben}, Thomas and {Ferreira}, Leonardo and {Foreman-Mackey},\n",
       "       Daniel and {Fox}, Ryan and {Freij}, Nabil and {Garg}, Suyog and {Geda}, Robel and\n",
       "       {Glattly}, Lauren and {Gondhalekar}, Yash and {Gordon}, Karl D. and {Grant},\n",
       "       David and {Greenfield}, Perry and {Groener}, Austen M. and {Guest}, Steve and\n",
       "       {Gurovich}, Sebastian and {Handberg}, Rasmus and {Hart}, Akeem and\n",
       "       {Hatfield-Dodds}, Zac and {Homeier}, Derek and {Hosseinzadeh}, Griffin and\n",
       "       {Jenness}, Tim and {Jones}, Craig K. and {Joseph}, Prajwel and {Kalmbach}, J.\n",
       "       Bryce and {Karamehmetoglu}, Emir and {Ka{\\l}uszy{\\'n}ski}, Miko{\\l}aj and\n",
       "       {Kelley}, Michael S.~P. and {Kern}, Nicholas and {Kerzendorf}, Wolfgang E. and\n",
       "       {Koch}, Eric W. and {Kulumani}, Shankar and {Lee}, Antony and {Ly}, Chun and\n",
       "       {Ma}, Zhiyuan and {MacBride}, Conor and {Maljaars}, Jakob M. and {Muna}, Demitri\n",
       "       and {Murphy}, N.~A. and {Norman}, Henrik and {O'Steen}, Richard and {Oman}, Kyle\n",
       "       A. and {Pacifici}, Camilla and {Pascual}, Sergio and {Pascual-Granado}, J. and\n",
       "       {Patil}, Rohit R. and {Perren}, Gabriel I. and {Pickering}, Timothy E. and\n",
       "       {Rastogi}, Tanuj and {Roulston}, Benjamin R. and {Ryan}, Daniel F. and {Rykoff},\n",
       "       Eli S. and {Sabater}, Jose and {Sakurikar}, Parikshit and {Salgado}, Jes{\\'u}s\n",
       "       and {Sanghi}, Aniket and {Saunders}, Nicholas and {Savchenko}, Volodymyr and\n",
       "       {Schwardt}, Ludwig and {Seifert-Eckert}, Michael and {Shih}, Albert Y. and\n",
       "       {Jain}, Anany Shrey and {Shukla}, Gyanendra and {Sick}, Jonathan and {Simpson},\n",
       "       Chris and {Singanamalla}, Sudheesh and {Singer}, Leo P. and {Singhal}, Jaladh and\n",
       "       {Sinha}, Manodeep and {Sip{\\H{o}}cz}, Brigitta M. and {Spitler}, Lee R. and\n",
       "       {Stansby}, David and {Streicher}, Ole and {{\\v{S}}umak}, Jani and {Swinbank},\n",
       "       John D. and {Taranu}, Dan S. and {Tewary}, Nikita and {Tremblay}, Grant R. and\n",
       "       {Val-Borro}, Miguel de and {Van Kooten}, Samuel J. and {Vasovi{\\'c}}, Zlatan and\n",
       "       {Verma}, Shresth and {de Miranda Cardoso}, Jos{\\'e} Vin{\\'\\i}cius and {Williams},\n",
       "       Peter K.~G. and {Wilson}, Tom J. and {Winkel}, Benjamin and {Wood-Vasey}, W.~M.\n",
       "       and {Xue}, Rui and {Yoachim}, Peter and {Zhang}, Chen and {Zonca}, Andrea and\n",
       "       {Astropy Project Contributors}}, title = \"{The Astropy Project: Sustaining and\n",
       "       Growing a Community-oriented Open-source Project and the Latest Major Release\n",
       "       (v5.0) of the Core Package}\",\n",
       "      journal = {\\apj},\n",
       "     keywords = {Astronomy software, Open source software, Astronomy data analysis, 1855, 1866, 1858, Astrophysics - Instrumentation and Methods for Astrophysics},\n",
       "         year = 2022,\n",
       "        month = aug,\n",
       "       volume = {935},\n",
       "       number = {2},\n",
       "          eid = {167},\n",
       "        pages = {167},\n",
       "          doi = {10.3847/1538-4357/ac7c74},\n",
       "archivePrefix = {arXiv},\n",
       "       eprint = {2206.14220},\n",
       " primaryClass = {astro-ph.IM},\n",
       "       adsurl = {https://ui.adsabs.harvard.edu/abs/2022ApJ...935..167A},\n",
       "      adsnote = {Provided by the SAO/NASA Astrophysics Data System}\n",
       "}\n",
       "\n",
       "\n",
       "    </textarea>\n",
       "    <textarea id=\"astroqueryText\" style=\"position: absolute; left: -9999px; z-index: -9999;\">\n",
       "@ARTICLE{2019AJ....157...98G,\n",
       "   author = {{Ginsburg}, A. and {Sip{\\H o}cz}, B.~M. and {Brasseur}, C.~E. and\n",
       "\t{Cowperthwaite}, P.~S. and {Craig}, M.~W. and {Deil}, C. and\n",
       "\t{Guillochon}, J. and {Guzman}, G. and {Liedtke}, S. and {Lian Lim}, P. and\n",
       "\t{Lockhart}, K.~E. and {Mommert}, M. and {Morris}, B.~M. and\n",
       "\t{Norman}, H. and {Parikh}, M. and {Persson}, M.~V. and {Robitaille}, T.~P. and\n",
       "\t{Segovia}, J.-C. and {Singer}, L.~P. and {Tollerud}, E.~J. and\n",
       "\t{de Val-Borro}, M. and {Valtchanov}, I. and {Woillez}, J. and\n",
       "\t{The Astroquery collaboration} and {a subset of the astropy collaboration}\n",
       "\t},\n",
       "    title = \"{astroquery: An Astronomical Web-querying Package in Python}\",\n",
       "  journal = {\\aj},\n",
       "archivePrefix = \"arXiv\",\n",
       "   eprint = {1901.04520},\n",
       " primaryClass = \"astro-ph.IM\",\n",
       " keywords = {astronomical databases: miscellaneous, virtual observatory tools},\n",
       "     year = 2019,\n",
       "    month = mar,\n",
       "   volume = 157,\n",
       "      eid = {98},\n",
       "    pages = {98},\n",
       "      doi = {10.3847/1538-3881/aafc33},\n",
       "   adsurl = {https://adsabs.harvard.edu/abs/2019AJ....157...98G},\n",
       "  adsnote = {Provided by the SAO/NASA Astrophysics Data System}\n",
       "}\n",
       "\n",
       "    </textarea>\n",
       "    <textarea id=\"tesscutText\" style=\"position: absolute; left: -9999px; z-index: -9999;\">\n",
       "@MISC{2019ascl.soft05007B,\n",
       "        author = {{Brasseur}, C.~E. and {Phillip}, Carlita and {Fleming}, Scott W. and\n",
       "          {Mullally}, S.~E. and {White}, Richard L.},\n",
       "         title = \"{Astrocut: Tools for creating cutouts of TESS images}\",\n",
       "      keywords = {Software},\n",
       "          year = 2019,\n",
       "         month = may,\n",
       "           eid = {ascl:1905.007},\n",
       "         pages = {ascl:1905.007},\n",
       " archivePrefix = {ascl},\n",
       "        eprint = {1905.007},\n",
       "        adsurl = {https://ui.adsabs.harvard.edu/abs/2019ascl.soft05007B},\n",
       "       adsnote = {Provided by the SAO/NASA Astrophysics Data System}\n",
       " }\n",
       "    </textarea>\n",
       "\n",
       "    <p>\n",
       "        When using Lightkurve, we kindly request that you cite the following packages:\n",
       "        <ul>\n",
       "            <li>\n",
       "                <a href=\"https://docs.lightkurve.org\">lightkurve</a>\n",
       "                <button onclick=\"copyBibtex('lightkurve')\"><i class=\"fas fa-clipboard\"></i> Copy BibTeX</button>\n",
       "            </li>\n",
       "            <li>\n",
       "                <a href=\"https://astropy.org\">astropy</a>\n",
       "                <button onclick=\"copyBibtex('astropy')\"><i class=\"fas fa-clipboard\"></i> Copy BibTeX</button>\n",
       "            </li>\n",
       "            <li>\n",
       "                <a href=\"https://astroquery.readthedocs.io\">astroquery</a>\n",
       "                <button onclick=\"copyBibtex('astroquery')\"><i class=\"fas fa-clipboard\"></i> Copy BibTeX</button>\n",
       "                —  if you are using <i>search_lightcurve()</i> or <i>search_targetpixelfile()</i>.\n",
       "            </li>\n",
       "            <li>\n",
       "                <a href=\"https://mast.stsci.edu/tesscut/\">tesscut</a>\n",
       "                <button onclick=\"copyBibtex('tesscut')\"><i class=\"fas fa-clipboard\"></i> Copy BibTeX</button>\n",
       "                — if you are using <i>search_tesscut()</i>.\n",
       "            </li>\n",
       "        </ul>\n",
       "    </p>\n",
       "</body>\n"
      ],
      "text/plain": [
       "<IPython.core.display.HTML object>"
      ]
     },
     "execution_count": 21,
     "metadata": {},
     "output_type": "execute_result"
    }
   ],
   "source": [
    "lk.show_citation_instructions()"
   ]
  },
  {
   "cell_type": "markdown",
   "metadata": {
    "colab_type": "text",
    "id": "zlFMVwBqCPXc"
   },
   "source": [
    "<img style=\"float: right;\" src=\"https://raw.githubusercontent.com/spacetelescope/notebooks/master/assets/stsci_pri_combo_mark_horizonal_white_bkgd.png\" alt=\"Space Telescope Logo\" width=\"200px\"/>\n"
   ]
  }
 ],
 "metadata": {
  "colab": {
   "collapsed_sections": [],
   "name": "Using_Target_Pixel_File_Products_with_Lightkurve.ipynb",
   "provenance": []
  },
  "kernelspec": {
   "display_name": "Python 3",
   "language": "python",
   "name": "python3"
  },
  "language_info": {
   "codemirror_mode": {
    "name": "ipython",
    "version": 3
   },
   "file_extension": ".py",
   "mimetype": "text/x-python",
   "name": "python",
   "nbconvert_exporter": "python",
   "pygments_lexer": "ipython3",
   "version": "3.11.13"
  }
 },
 "nbformat": 4,
 "nbformat_minor": 4
}
