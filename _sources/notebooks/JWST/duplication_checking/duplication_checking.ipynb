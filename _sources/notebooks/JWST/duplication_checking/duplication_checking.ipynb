{
 "cells": [
  {
   "cell_type": "markdown",
   "metadata": {},
   "source": [
    "# JWST Duplication Checking"
   ]
  },
  {
   "cell_type": "markdown",
   "metadata": {},
   "source": [
    "## Introduction\n",
    "\n",
    "As with _HST, JWST_ observations that duplicate existing, planned, or approved observations will be allowed only if investigators provide a scientific justification in their proposal and that request is approved. Consult the [JWST Duplicate Observations Policy](https://jwst-docs.stsci.edu/jwst-opportunities-and-policies/jwst-general-science-policies/jwst-duplicate-observations-policy) for details. Broadly speaking, observations you are considering might duplicate observations in the current or prior cycles if \n",
    "your target is of the same astrophysical source, or there is significant spatial overlap of fields, **and** the following apply:\n",
    "\n",
    "  * Similar imaging passband, or overlapping spectral range\n",
    "  * Similar (spectral) resolution\n",
    "  * Similar exposure depth\n",
    "\n",
    "Observations with a different scientific instrument than one you are considering *might* still duplicate if the observing configuration and capabilities are similar (e.g., NIRCam and NIRISS imaging, or NIRCam and NIRSpec spectroscopy).\n",
    "\n",
    "This notebook illustrates how to use the python package [astroquery.mast](https://astroquery.readthedocs.io/en/latest/mast/mast.html) to search the Mikulski Archive for Space Telescopes (MAST) for potential duplicate observations. \n",
    "\n",
    "If you prefer an interface to code, MAST has recently created a web application specifically to aid with this task: [JWST Duplicate Observation Search](https://mast.stsci.edu/duplication/). It is also possible to perform these searches with the [JWST Search](https://mast.stsci.edu/search/ui/#/jwst) or [MAST Portal](https://mast.stsci.edu/portal/Mashup/Clients/Mast/Portal.html), but it is typically less efficient."
   ]
  },
  {
   "cell_type": "markdown",
   "metadata": {},
   "source": [
    "### Special Disclaimer\n",
    "<a id=\"Disclaimer\"></a>\n",
    "\n",
    "<div class=\"alert alert-block alert-warning\">\n",
    "\n",
    "<span style=\"color:black\">\n",
    "The complete footprint of approved (but not executed) mosaicked or parallel observations is only approximate. That is, while the primary location is reported for an observation, the exact orientation. of the aperture is not known until the observation is scheduled for execution. Moreover metadata in MAST about planned/approved observations may not suffice to determine whether your intended observation is a genuine duplication, particularly for slit or MOS spectroscopy. You are responsible for evaluating the details of the planned observations by using the accepted program's APT file (and/or the Aladin display in APT, as appropriate) to determine if the potential duplications are genuine.\n",
    "</span>\n",
    "</div>\n"
   ]
  },
  {
   "cell_type": "markdown",
   "metadata": {},
   "source": [
    "### Table of contents\n",
    "\n",
    "<ul>\n",
    "    <li><a href=\"#Strategy\">Strategy</a></li>\n",
    "    <li><a href=\"#Setup\">Setup</a></li>\n",
    "    <ul>\n",
    "        <li><a href=\"#Utility Routines\">Utility Routines</a></li>\n",
    "    </ul>\n",
    "    <li><a href=\"#Target/Position Queries\">Queries by Target/Position</a></li>\n",
    "    <ul>\n",
    "        <li><a href=\"#Target Search\">Search by Target Name</a></li>\n",
    "        <li><a href=\"#Moving-Target\">Single Moving Target</a></li>\n",
    "    </ul>\n",
    "    <li><a href=\"#Target-List\">Checking a List of Targets</a></li>\n",
    "    <ul>\n",
    "        <li><a href=\"#Target-CSV\">Loading Targets from CSV</a></li>\n",
    "    </ul>\n",
    "    <li><a href=\"#Evaluate-Dups\">Evaluating Potential Duplications</a></li>\n",
    "    <ul>\n",
    "        <li><a href=\"#Trappist-1\">Trappist-1</a></li>\n",
    "        <li><a href=\"#V-XX-Cha\">V* XX Cha</a></li>\n",
    "        <li><a href=\"#M-57\">M 57</a></li>\n",
    "    </ul>\n",
    "    <li><a href=\"#Appendix\">Appendix: Caveats</a></li>\n",
    "    <ul>\n",
    "        <li><a href=\"#Source\">Source Name</a></li>\n",
    "        <li><a href=\"#Search\">Cone Search vs. Area Search</a></li>\n",
    "    </ul>\n",
    "    <li><a href=\"#Resources\">Additional Resources</a></li>\n",
    "</ul>"
   ]
  },
  {
   "cell_type": "markdown",
   "metadata": {},
   "source": [
    "<a id=\"Strategy\"></a>\n",
    "## Strategy\n",
    "\n",
    "The following strategy, applied to each target or field, will identify potentially duplicative observations. \n",
    "\n",
    "  1. Search for common targets or fields. If no existing or planned observation coincides with your intended target, you are done.\n",
    "  2. If there is a spatial overlap, determine if the instrument(s) and observing configurations you plan to use are the same or similar to the existing observations. If there is no commonality, you are done.\n",
    "  3. If there is spatial overlap and common instruments/configuration, determine in detail the overlap in passband/spectral coverage, and exposure depth.\n",
    "  4. If there is a likely duplication for an intended target, do one of the following:\n",
    "     - Include in your proposal a scientific case for the duplicating observation(s)\n",
    "     - Alter your intended observation(s) in a way that does not duplicate\n",
    "     - Choose a different target"
   ]
  },
  {
   "cell_type": "markdown",
   "metadata": {},
   "source": [
    "<a id=\"Setup\"></a>\n",
    "## Setup\n",
    "\n",
    "Begin by importing some essential python packages: general utilities in [astropy](https://www.astropy.org/), and query services in [astroquery.mast](https://astroquery.readthedocs.io/en/latest/mast/mast.html). "
   ]
  },
  {
   "cell_type": "code",
   "execution_count": 1,
   "metadata": {
    "execution": {
     "iopub.execute_input": "2025-09-10T18:59:06.660668Z",
     "iopub.status.busy": "2025-09-10T18:59:06.660405Z",
     "iopub.status.idle": "2025-09-10T18:59:06.668578Z",
     "shell.execute_reply": "2025-09-10T18:59:06.668000Z"
    }
   },
   "outputs": [
    {
     "data": {
      "text/html": [
       "<style>.container { width:99% !important; }</style>"
      ],
      "text/plain": [
       "<IPython.core.display.HTML object>"
      ]
     },
     "metadata": {},
     "output_type": "display_data"
    }
   ],
   "source": [
    "# Give the notebook cells more of the available width\n",
    "from IPython.display import display, HTML\n",
    "display(HTML(\"<style>.container { width:99% !important; }</style>\"))"
   ]
  },
  {
   "cell_type": "code",
   "execution_count": 2,
   "metadata": {
    "execution": {
     "iopub.execute_input": "2025-09-10T18:59:06.700360Z",
     "iopub.status.busy": "2025-09-10T18:59:06.700143Z",
     "iopub.status.idle": "2025-09-10T18:59:07.189626Z",
     "shell.execute_reply": "2025-09-10T18:59:07.189057Z"
    }
   },
   "outputs": [],
   "source": [
    "from astropy.table import Table, unique\n",
    "from astropy.coordinates import Angle\n",
    "from astroquery.mast import Mast\n",
    "from astroquery.mast import Observations"
   ]
  },
  {
   "cell_type": "markdown",
   "metadata": {},
   "source": [
    "<a id=\"Utility Routines\"></a>\n",
    "### Utility Routines\n",
    "\n",
    "The following utility routine will create URLs to the parent programs of matching observations. "
   ]
  },
  {
   "cell_type": "code",
   "execution_count": 3,
   "metadata": {
    "execution": {
     "iopub.execute_input": "2025-09-10T18:59:07.191565Z",
     "iopub.status.busy": "2025-09-10T18:59:07.191386Z",
     "iopub.status.idle": "2025-09-10T18:59:07.194223Z",
     "shell.execute_reply": "2025-09-10T18:59:07.193787Z"
    }
   },
   "outputs": [],
   "source": [
    "APT_LINK = '(http://www.stsci.edu/cgi-bin/get-proposal-info?id={}&observatory=JWST)'\n",
    "\n",
    "\n",
    "def get_program_URL(program_id):\n",
    "    '''\n",
    "    Generate the URL for program status information, given a program ID. \n",
    "    '''\n",
    "    return APT_LINK.format(program_id)"
   ]
  },
  {
   "cell_type": "markdown",
   "metadata": {},
   "source": [
    "<a id=\"Target/Position Queries\"></a>\n",
    "## Queries by Target/Postion\n",
    "\n",
    "All of the queries below search for JWST observations, using a search radius larger than fields of view (FoV) of JWST apertures, to allow for the possibility that the FoV may be rotated when approved-but-unexecuted observations are actually scheduled. Your queries will typically be more efficient if you restrict your search to JWST data by including the parameter: `obs_collection = \"JWST\"`. "
   ]
  },
  {
   "cell_type": "markdown",
   "metadata": {},
   "source": [
    "<div class=\"alert alert-block alert-warning\">\n",
    "\n",
    "<span style=\"color:black\">\n",
    "<b>Searching for source names is not recommended</b> when checking for potential duplications with fixed targets because the matches are not reliable, consistent, or complete. <i>The exception would be for matching Object names of well known solar system bodies.</i>\n",
    "\n",
    "The best approach is to use an independent source for the coordinates of your desired target, including existing JWST or HST images if any exist. Failing that, the <b>Mast.resolve_object()</b> method will return coordinates in the ICRS reference frame, which you can use to verify whether a target name resolves to the coordinates you intend. See the <a href=\"#Source\">Appendix</a> for details.\n",
    "</span>\n",
    "</div>"
   ]
  },
  {
   "cell_type": "markdown",
   "metadata": {},
   "source": [
    "<a id=\"Target Search\"></a>\n",
    "### Search by Target Name\n",
    "\n",
    "This example shows how to query for a single target with a standard name, **HD 104237** which is a T-Tauri star. We first resolve the name and verify that the coordinates are correct, using the `Mast` class and the `resolve_object()` method. "
   ]
  },
  {
   "cell_type": "code",
   "execution_count": 4,
   "metadata": {
    "execution": {
     "iopub.execute_input": "2025-09-10T18:59:07.195852Z",
     "iopub.status.busy": "2025-09-10T18:59:07.195686Z",
     "iopub.status.idle": "2025-09-10T18:59:08.498445Z",
     "shell.execute_reply": "2025-09-10T18:59:08.497930Z"
    }
   },
   "outputs": [
    {
     "name": "stdout",
     "output_type": "stream",
     "text": [
      "<SkyCoord (ICRS): (ra, dec) in deg\n",
      "    (180.02119525, -78.19293492)>\n"
     ]
    }
   ],
   "source": [
    "# Resolve the coordinates if necessary\n",
    "coords = Mast.resolve_object('HD 104237')\n",
    "print(coords)"
   ]
  },
  {
   "cell_type": "markdown",
   "metadata": {},
   "source": [
    "In this case the resolved coordinates agree with those in [Simbad](https://simbad.u-strasbg.fr/simbad/sim-basic?Ident=HD+104237&submit=SIMBAD+search), so it is safe to execute a simple **cone search** (a search within a specified radius of a place on the sky) to find JWST existing or planned observations. \n",
    "The [astroquery.mast](https://astroquery.readthedocs.io/en/latest/mast/mast.html) package provides the method **Observations.query_criteria()** to specify the parameters for the search; provide them as `key=value` pairs. The full set of query parameters for this method may be found on [CAOM Field Descriptions](https://mast.stsci.edu/api/v0/_c_a_o_mfields.html). "
   ]
  },
  {
   "cell_type": "code",
   "execution_count": 5,
   "metadata": {
    "execution": {
     "iopub.execute_input": "2025-09-10T18:59:08.500280Z",
     "iopub.status.busy": "2025-09-10T18:59:08.500104Z",
     "iopub.status.idle": "2025-09-10T18:59:44.639936Z",
     "shell.execute_reply": "2025-09-10T18:59:44.639329Z"
    }
   },
   "outputs": [
    {
     "name": "stdout",
     "output_type": "stream",
     "text": [
      "Number of matching observations: 0\n"
     ]
    },
    {
     "name": "stderr",
     "output_type": "stream",
     "text": [
      "WARNING: NoResultsWarning: Query returned no results. [astroquery.mast.discovery_portal]\n"
     ]
    }
   ],
   "source": [
    "# If the coordinates are ok\n",
    "obs = Observations.query_criteria(\n",
    "        obs_collection='JWST',\n",
    "        objectname='HD 104237',\n",
    "        radius='30s'\n",
    "        )\n",
    "print('Number of matching observations: {}'.format(len(obs)))"
   ]
  },
  {
   "cell_type": "markdown",
   "metadata": {},
   "source": [
    "<div class=\"alert alert-block alert-info\">\n",
    "\n",
    "<span style=\"color:black\">\n",
    "    If the number of matches is zero, there are no potential JWST duplications with this target.\n",
    "</span>\n",
    "</div>"
   ]
  },
  {
   "cell_type": "markdown",
   "metadata": {},
   "source": [
    "<a id=\"Moving-Target\"></a>\n",
    "### Single Moving Target\n",
    "\n",
    "Moving targets, by definition, do not lend themselves to searches by position. This kind of search in MAST is limited to a modest set of solar system bodies with recognized names. Note the use of a wildcard character (*) to trigger a match, even when the target name includes other text."
   ]
  },
  {
   "cell_type": "code",
   "execution_count": 6,
   "metadata": {
    "execution": {
     "iopub.execute_input": "2025-09-10T18:59:44.641789Z",
     "iopub.status.busy": "2025-09-10T18:59:44.641629Z",
     "iopub.status.idle": "2025-09-10T18:59:45.113830Z",
     "shell.execute_reply": "2025-09-10T18:59:45.113214Z"
    }
   },
   "outputs": [
    {
     "name": "stdout",
     "output_type": "stream",
     "text": [
      "Number of matching observations: 76\n"
     ]
    }
   ],
   "source": [
    "obs = Observations.query_criteria(\n",
    "        obs_collection=\"JWST\",\n",
    "        target_name=\"Io*\")\n",
    "    \n",
    "print(f'Number of matching observations: {len(obs)}')"
   ]
  },
  {
   "cell_type": "markdown",
   "metadata": {},
   "source": [
    "There are several JWST observations of **Io**, including some that are planned but have not executed as of the beginning of Cy-2 (i.e., `calib_level = -1`). The details are in the returned table of results, the most essential of which can be viewed below."
   ]
  },
  {
   "cell_type": "code",
   "execution_count": 7,
   "metadata": {
    "execution": {
     "iopub.execute_input": "2025-09-10T18:59:45.115559Z",
     "iopub.status.busy": "2025-09-10T18:59:45.115380Z",
     "iopub.status.idle": "2025-09-10T18:59:45.124134Z",
     "shell.execute_reply": "2025-09-10T18:59:45.123680Z"
    }
   },
   "outputs": [
    {
     "data": {
      "text/html": [
       "<div><i>Table length=76</i>\n",
       "<table id=\"table139784020359568\" class=\"table-striped table-bordered table-condensed\">\n",
       "<thead><tr><th>target_name</th><th>instrument_name</th><th>filters</th><th>calib_level</th><th>t_exptime</th><th>proposal_id</th></tr></thead>\n",
       "<thead><tr><th>str2</th><th>str11</th><th>str12</th><th>int64</th><th>float64</th><th>str4</th></tr></thead>\n",
       "<tr><td>IO</td><td>NIRSPEC/IFU</td><td>F100LP;G140H</td><td>-1</td><td>583.556</td><td>8857</td></tr>\n",
       "<tr><td>IO</td><td>NIRSPEC/IFU</td><td>F100LP;G140H</td><td>-1</td><td>583.556</td><td>8857</td></tr>\n",
       "<tr><td>IO</td><td>NIRSPEC/IFU</td><td>F100LP;G140H</td><td>-1</td><td>583.556</td><td>8857</td></tr>\n",
       "<tr><td>IO</td><td>NIRSPEC/IFU</td><td>F100LP;G140H</td><td>-1</td><td>583.556</td><td>8857</td></tr>\n",
       "<tr><td>IO</td><td>NIRSPEC/IFU</td><td>F100LP;G140H</td><td>-1</td><td>729.444</td><td>8857</td></tr>\n",
       "<tr><td>IO</td><td>NIRSPEC/IFU</td><td>F100LP;G140H</td><td>-1</td><td>729.444</td><td>8857</td></tr>\n",
       "<tr><td>IO</td><td>NIRSPEC/IFU</td><td>F100LP;G140H</td><td>-1</td><td>729.444</td><td>8857</td></tr>\n",
       "<tr><td>IO</td><td>NIRSPEC/IFU</td><td>F100LP;G140H</td><td>-1</td><td>729.444</td><td>8857</td></tr>\n",
       "<tr><td>IO</td><td>NIRSPEC/IFU</td><td>F100LP;G140H</td><td>-1</td><td>729.444</td><td>8857</td></tr>\n",
       "<tr><td>...</td><td>...</td><td>...</td><td>...</td><td>...</td><td>...</td></tr>\n",
       "<tr><td>IO</td><td>MIRI/IFU</td><td>CH2-MEDIUM</td><td>3</td><td>1054.516</td><td>4565</td></tr>\n",
       "<tr><td>IO</td><td>MIRI/IFU</td><td>CH4-MEDIUM</td><td>3</td><td>1054.516</td><td>4565</td></tr>\n",
       "<tr><td>IO</td><td>MIRI/IFU</td><td>CH2-SHORT</td><td>3</td><td>1054.516</td><td>4565</td></tr>\n",
       "<tr><td>IO</td><td>MIRI/IFU</td><td>CH1-MEDIUM</td><td>3</td><td>1054.516</td><td>4565</td></tr>\n",
       "<tr><td>IO</td><td>MIRI/IFU</td><td>CH12-LONG</td><td>2</td><td>3194.071</td><td>4078</td></tr>\n",
       "<tr><td>IO</td><td>MIRI/IFU</td><td>CH12-LONG</td><td>2</td><td>3194.071</td><td>4078</td></tr>\n",
       "<tr><td>IO</td><td>MIRI/IFU</td><td>CH12-LONG</td><td>2</td><td>3194.071</td><td>4078</td></tr>\n",
       "<tr><td>IO</td><td>MIRI/IFU</td><td>CH34-LONG</td><td>2</td><td>3194.071</td><td>4078</td></tr>\n",
       "<tr><td>IO</td><td>MIRI/IFU</td><td>CH34-LONG</td><td>2</td><td>3194.071</td><td>4078</td></tr>\n",
       "<tr><td>IO</td><td>MIRI/IFU</td><td>CH34-LONG</td><td>2</td><td>3194.071</td><td>4078</td></tr>\n",
       "</table></div>"
      ],
      "text/plain": [
       "<Table length=76>\n",
       "target_name instrument_name   filters    calib_level t_exptime proposal_id\n",
       "    str2         str11         str12        int64     float64      str4   \n",
       "----------- --------------- ------------ ----------- --------- -----------\n",
       "         IO     NIRSPEC/IFU F100LP;G140H          -1   583.556        8857\n",
       "         IO     NIRSPEC/IFU F100LP;G140H          -1   583.556        8857\n",
       "         IO     NIRSPEC/IFU F100LP;G140H          -1   583.556        8857\n",
       "         IO     NIRSPEC/IFU F100LP;G140H          -1   583.556        8857\n",
       "         IO     NIRSPEC/IFU F100LP;G140H          -1   729.444        8857\n",
       "         IO     NIRSPEC/IFU F100LP;G140H          -1   729.444        8857\n",
       "         IO     NIRSPEC/IFU F100LP;G140H          -1   729.444        8857\n",
       "         IO     NIRSPEC/IFU F100LP;G140H          -1   729.444        8857\n",
       "         IO     NIRSPEC/IFU F100LP;G140H          -1   729.444        8857\n",
       "        ...             ...          ...         ...       ...         ...\n",
       "         IO        MIRI/IFU   CH2-MEDIUM           3  1054.516        4565\n",
       "         IO        MIRI/IFU   CH4-MEDIUM           3  1054.516        4565\n",
       "         IO        MIRI/IFU    CH2-SHORT           3  1054.516        4565\n",
       "         IO        MIRI/IFU   CH1-MEDIUM           3  1054.516        4565\n",
       "         IO        MIRI/IFU    CH12-LONG           2  3194.071        4078\n",
       "         IO        MIRI/IFU    CH12-LONG           2  3194.071        4078\n",
       "         IO        MIRI/IFU    CH12-LONG           2  3194.071        4078\n",
       "         IO        MIRI/IFU    CH34-LONG           2  3194.071        4078\n",
       "         IO        MIRI/IFU    CH34-LONG           2  3194.071        4078\n",
       "         IO        MIRI/IFU    CH34-LONG           2  3194.071        4078"
      ]
     },
     "execution_count": 7,
     "metadata": {},
     "output_type": "execute_result"
    }
   ],
   "source": [
    "out_cols = ['target_name', 'instrument_name', 'filters', 'calib_level', 't_exptime', 'proposal_id']\n",
    "obs[out_cols]"
   ]
  },
  {
   "cell_type": "markdown",
   "metadata": {},
   "source": [
    "You may need to examine the specifics of the programs that obtained the observations to know whether your intended observations would duplicate. Here extend the results table with the unique Program Titles and URLs for the program status pages, which may offer clues:"
   ]
  },
  {
   "cell_type": "code",
   "execution_count": 8,
   "metadata": {
    "execution": {
     "iopub.execute_input": "2025-09-10T18:59:45.125722Z",
     "iopub.status.busy": "2025-09-10T18:59:45.125550Z",
     "iopub.status.idle": "2025-09-10T18:59:45.139052Z",
     "shell.execute_reply": "2025-09-10T18:59:45.138459Z"
    }
   },
   "outputs": [
    {
     "name": "stdout",
     "output_type": "stream",
     "text": [
      "proposal_id                                      title                                      \n",
      "----------- --------------------------------------------------------------------------------\n",
      "       1373 ERS observations of the Jovian System as a demonstration of JWST capabilities fo\n",
      "       4078 Mass-loss from Ios volcanic atmosphere: A unique synergy with the Juno Io fly-by\n",
      "       4565              HST-Juno Io Campaign: Connecting Volcanos to the Plasma Environment\n",
      "       8857 Ios Auroral Emissions as a Tool to Investigate Atmosphere-Plasma Torus Interacti\n",
      "proposal_id                                proposal_URL                              \n",
      "----------- -------------------------------------------------------------------------\n",
      "       1373 (http://www.stsci.edu/cgi-bin/get-proposal-info?id=1373&observatory=JWST)\n",
      "       4078 (http://www.stsci.edu/cgi-bin/get-proposal-info?id=4078&observatory=JWST)\n",
      "       4565 (http://www.stsci.edu/cgi-bin/get-proposal-info?id=4565&observatory=JWST)\n",
      "       8857 (http://www.stsci.edu/cgi-bin/get-proposal-info?id=8857&observatory=JWST)\n"
     ]
    }
   ],
   "source": [
    "obs['title'] = [x[:80] for x in obs['obs_title']]\n",
    "unique(obs['proposal_id', 'title']).pprint(max_width=-1)\n",
    "obs['proposal_URL'] = [get_program_URL(x) for x in obs['proposal_id']]\n",
    "unique(obs['proposal_id', 'proposal_URL']).pprint(max_width=-1)"
   ]
  },
  {
   "cell_type": "markdown",
   "metadata": {},
   "source": [
    "<div class=\"alert alert-block alert-warning\">\n",
    "\n",
    "<span style=\"color:black\">\n",
    "    There are images, spectra, coronagraphic, and IFU observations of this target that could conflict with your intended proposal. Proposed images in passbands that overlap the IFU data would have to be examined closely for duplication. \n",
    "</span>\n",
    "</div>"
   ]
  },
  {
   "cell_type": "markdown",
   "metadata": {},
   "source": [
    "<a id=\"Target-List\"></a>\n",
    "## Checking a List of Targets\n",
    "\n",
    "It is often useful to search for individual targets with the [MAST Portal](https://mast.stsci.edu/portal/Mashup/Clients/Mast/Portal.html) because the results are easily visualized. But it is more efficient to search over a large number of targets using astroquery.mast. "
   ]
  },
  {
   "cell_type": "markdown",
   "metadata": {},
   "source": [
    "<a id=\"Target-CSV\"></a>\n",
    "### Loading Targets from CSV\n",
    "For efficiency, make a CSV (comma-separated variable) list of your targets, one per row. The list can alternatively be read from a local file: just substitute the file name for `targ_table` in the first argument of the `Table.read()` method. The list can contain many fields, but at a minimum must contain the target name and the equitorial coordinates. \n",
    "\n",
    "<div class=\"alert alert-block alert-info\">\n",
    "\n",
    "<span style=\"color:black\">\n",
    "For stellar targets, it is best to use a large enough radius to make your search robust against position uncertainties and proper motion between J2000 and the current epoch.\n",
    "</span>\n",
    "</div>"
   ]
  },
  {
   "cell_type": "markdown",
   "metadata": {},
   "source": [
    "The *first row of the file* will be interpreted as a column name in the table. <b>This is important.</b> "
   ]
  },
  {
   "cell_type": "code",
   "execution_count": 9,
   "metadata": {
    "execution": {
     "iopub.execute_input": "2025-09-10T18:59:45.140796Z",
     "iopub.status.busy": "2025-09-10T18:59:45.140636Z",
     "iopub.status.idle": "2025-09-10T18:59:45.144791Z",
     "shell.execute_reply": "2025-09-10T18:59:45.144227Z"
    }
   },
   "outputs": [],
   "source": [
    "targ_table = '''\n",
    "target_name, RA, DEC, Radius, Description\n",
    "Trappist-1, 23:06:29.3684948589, -05:02:29.037301866, 30s, Exoplanet host star\n",
    "V* XX Cha, 11:11:39.559, -76:20:15.04, 30s, Variable star with debris disk\n",
    "M 31, 00:42:44.330, +41:16:07.50, 12.0m, Andromeda Galaxy\n",
    "M 57, 18:53:35.0967659112, +33:01:44.883287544, 2m, Planetary nebula\n",
    "'''\n",
    "targets = Table.read(targ_table, format='ascii.csv')"
   ]
  },
  {
   "cell_type": "markdown",
   "metadata": {},
   "source": [
    "Next, make new columns to hold the coordinates and ranges in units of degrees. "
   ]
  },
  {
   "cell_type": "code",
   "execution_count": 10,
   "metadata": {
    "execution": {
     "iopub.execute_input": "2025-09-10T18:59:45.146289Z",
     "iopub.status.busy": "2025-09-10T18:59:45.146130Z",
     "iopub.status.idle": "2025-09-10T18:59:45.154037Z",
     "shell.execute_reply": "2025-09-10T18:59:45.153447Z"
    }
   },
   "outputs": [
    {
     "data": {
      "text/html": [
       "<div><i>Table length=4</i>\n",
       "<table id=\"table139784022187280\" class=\"table-striped table-bordered table-condensed\">\n",
       "<thead><tr><th>target_name</th><th>RA</th><th>DEC</th><th>Radius</th><th>Description</th><th>ra_deg</th><th>dec_deg</th><th>radius_deg</th><th>N_obs</th></tr></thead>\n",
       "<thead><tr><th>str10</th><th>str19</th><th>str19</th><th>str5</th><th>str30</th><th>float64</th><th>float64</th><th>float64</th><th>int64</th></tr></thead>\n",
       "<tr><td>Trappist-1</td><td>23:06:29.3684948589</td><td>-05:02:29.037301866</td><td>30s</td><td>Exoplanet host star</td><td>346.62236872857875</td><td>-5.041399250518333</td><td>0.008333333333333333</td><td>0</td></tr>\n",
       "<tr><td>V* XX Cha</td><td>11:11:39.559</td><td>-76:20:15.04</td><td>30s</td><td>Variable star with debris disk</td><td>167.91482916666666</td><td>-76.33751111111111</td><td>0.008333333333333333</td><td>0</td></tr>\n",
       "<tr><td>M 31</td><td>00:42:44.330</td><td>+41:16:07.50</td><td>12.0m</td><td>Andromeda Galaxy</td><td>10.684708333333331</td><td>41.26875</td><td>0.2</td><td>0</td></tr>\n",
       "<tr><td>M 57</td><td>18:53:35.0967659112</td><td>+33:01:44.883287544</td><td>2m</td><td>Planetary nebula</td><td>283.39623652462996</td><td>33.029134246539996</td><td>0.03333333333333333</td><td>0</td></tr>\n",
       "</table></div>"
      ],
      "text/plain": [
       "<Table length=4>\n",
       "target_name          RA         ...      radius_deg      N_obs\n",
       "   str10           str19        ...       float64        int64\n",
       "----------- ------------------- ... -------------------- -----\n",
       " Trappist-1 23:06:29.3684948589 ... 0.008333333333333333     0\n",
       "  V* XX Cha        11:11:39.559 ... 0.008333333333333333     0\n",
       "       M 31        00:42:44.330 ...                  0.2     0\n",
       "       M 57 18:53:35.0967659112 ...  0.03333333333333333     0"
      ]
     },
     "execution_count": 10,
     "metadata": {},
     "output_type": "execute_result"
    }
   ],
   "source": [
    "targets['ra_deg'] = [Angle(x+' hours').degree for x in targets['RA']]\n",
    "targets['dec_deg'] = [Angle(x+' degree').degree for x in targets['DEC']]\n",
    "targets['radius_deg'] = [Angle(x).degree for x in targets['Radius']]\n",
    "targets['N_obs'] = 0  # field to hold the count of matched observations \n",
    "targets"
   ]
  },
  {
   "cell_type": "markdown",
   "metadata": {},
   "source": [
    "It can save some effort to determine the number of JWST Observations that match each of your targets using the <b><code>query_criteria_count()</code></b> method. Note that the coordinate parameters must be specified as lower and upper bounds of a range (i.e., a python list), so use the `coord_ranges()` utility function.\n",
    "\n",
    "<div class=\"alert alert-block alert-info\">\n",
    "\n",
    "<span style=\"color:black\">\n",
    "It is good practice to first check the number of matching observations before fetching the results themselves, in case the number of results is very large. This is more important when querying MAST missions with a very large number of observations, such as <i>HST</i>. This type of search is typically fairly fast.\n",
    "    \n",
    "</span>\n",
    "</div>"
   ]
  },
  {
   "cell_type": "code",
   "execution_count": 11,
   "metadata": {
    "execution": {
     "iopub.execute_input": "2025-09-10T18:59:45.155534Z",
     "iopub.status.busy": "2025-09-10T18:59:45.155356Z",
     "iopub.status.idle": "2025-09-10T19:01:06.856927Z",
     "shell.execute_reply": "2025-09-10T19:01:06.856354Z"
    }
   },
   "outputs": [
    {
     "name": "stderr",
     "output_type": "stream",
     "text": [
      "WARNING: InputWarning: Coordinate string is being interpreted as an ICRS coordinate provided in degrees. [astroquery.utils.commons]\n"
     ]
    },
    {
     "data": {
      "text/html": [
       "<div><i>Table length=4</i>\n",
       "<table id=\"table139784479780624\" class=\"table-striped table-bordered table-condensed\">\n",
       "<thead><tr><th>target_name</th><th>N_obs</th></tr></thead>\n",
       "<thead><tr><th>str10</th><th>int64</th></tr></thead>\n",
       "<tr><td>Trappist-1</td><td>362</td></tr>\n",
       "<tr><td>V* XX Cha</td><td>22</td></tr>\n",
       "<tr><td>M 31</td><td>0</td></tr>\n",
       "<tr><td>M 57</td><td>543</td></tr>\n",
       "</table></div>"
      ],
      "text/plain": [
       "<Table length=4>\n",
       "target_name N_obs\n",
       "   str10    int64\n",
       "----------- -----\n",
       " Trappist-1   362\n",
       "  V* XX Cha    22\n",
       "       M 31     0\n",
       "       M 57   543"
      ]
     },
     "execution_count": 11,
     "metadata": {},
     "output_type": "execute_result"
    }
   ],
   "source": [
    "# get the counts of each target\n",
    "for t in targets: \n",
    "    t['N_obs'] = Observations.query_criteria_count(\n",
    "        obs_collection='JWST',\n",
    "        coordinates=f\"{t['ra_deg']} {t['dec_deg']}\",\n",
    "        radius=t['radius_deg']\n",
    "        )\n",
    "targets['target_name', 'N_obs']"
   ]
  },
  {
   "cell_type": "markdown",
   "metadata": {},
   "source": [
    "<div class=\"alert alert-block alert-info\">\n",
    "\n",
    "<span style=\"color:black\">\n",
    "For targets where no JWST Observations exist, there is no potential for duplication. \n",
    "</span>\n",
    "</div>"
   ]
  },
  {
   "cell_type": "markdown",
   "metadata": {},
   "source": [
    "<a id=\"Evaluate-Dups\"></a>\n",
    "## Evaluating Potential Duplications\n",
    "\n",
    "To examine the matching Observations for the other targets in more detail, use the <b><code>query_criteria()</code></b> method. Also, use a **cone search** (i.e., specify a coordinate pair and a radius), rather than an area search over a region in RA and Dec; see the <a href=\"#Search\">Appendix</a> for details. Note that a new column called \"obs\" is first added to the table to contain the results of the Observation search. "
   ]
  },
  {
   "cell_type": "code",
   "execution_count": 12,
   "metadata": {
    "execution": {
     "iopub.execute_input": "2025-09-10T19:01:06.858742Z",
     "iopub.status.busy": "2025-09-10T19:01:06.858584Z",
     "iopub.status.idle": "2025-09-10T19:02:24.693778Z",
     "shell.execute_reply": "2025-09-10T19:02:24.693265Z"
    }
   },
   "outputs": [
    {
     "name": "stderr",
     "output_type": "stream",
     "text": [
      "WARNING: NoResultsWarning: Query returned no results. [astroquery.mast.discovery_portal]\n"
     ]
    }
   ],
   "source": [
    "targets['obs'] = None\n",
    "for t in targets: \n",
    "    t['obs'] = Observations.query_criteria(\n",
    "        obs_collection='JWST',\n",
    "        coordinates=f\"{t['ra_deg']} {t['dec_deg']}\",\n",
    "        radius=t['radius_deg']\n",
    "        )"
   ]
  },
  {
   "cell_type": "markdown",
   "metadata": {},
   "source": [
    "Targets with matching JWST Observations are examined in the following sub-sections."
   ]
  },
  {
   "cell_type": "markdown",
   "metadata": {},
   "source": [
    "<a id=\"Trappist-1\"></a>\n",
    "### Trappist-1\n",
    "\n",
    "Trappist-1 is a well known exo-planet host star. If the intended observations are timeseries spectroscopy, the search would naturally be limited to a small area of sky. There are a several *unique* JWST observations of this target, so it is important to examine the relevant details. "
   ]
  },
  {
   "cell_type": "code",
   "execution_count": 13,
   "metadata": {
    "execution": {
     "iopub.execute_input": "2025-09-10T19:02:24.695728Z",
     "iopub.status.busy": "2025-09-10T19:02:24.695567Z",
     "iopub.status.idle": "2025-09-10T19:02:24.708968Z",
     "shell.execute_reply": "2025-09-10T19:02:24.708391Z"
    }
   },
   "outputs": [
    {
     "data": {
      "text/html": [
       "<div><i>Table length=37</i>\n",
       "<table id=\"table139784022104272\" class=\"table-striped table-bordered table-condensed\">\n",
       "<thead><tr><th>target_name</th><th>instrument_name</th><th>filters</th><th>t_exptime</th><th>proposal_id</th></tr></thead>\n",
       "<thead><tr><th>str11</th><th>str12</th><th>str13</th><th>float64</th><th>str4</th></tr></thead>\n",
       "<tr><td>TRAPPIST-1</td><td>MIRI/IMAGE</td><td>F1280W</td><td>8727.713</td><td>5191</td></tr>\n",
       "<tr><td>TRAPPIST-1</td><td>MIRI/IMAGE</td><td>F1280W</td><td>11092.723</td><td>5191</td></tr>\n",
       "<tr><td>TRAPPIST-1</td><td>MIRI/IMAGE</td><td>F1280W</td><td>13823.747</td><td>5191</td></tr>\n",
       "<tr><td>TRAPPIST-1</td><td>MIRI/IMAGE</td><td>F1280W</td><td>15625.659</td><td>5191</td></tr>\n",
       "<tr><td>TRAPPIST-1</td><td>MIRI/IMAGE</td><td>F1500W</td><td>11535.841</td><td>2304</td></tr>\n",
       "<tr><td>TRAPPIST-1</td><td>MIRI/IMAGE</td><td>F1500W</td><td>11574.692</td><td>2304</td></tr>\n",
       "<tr><td>TRAPPIST-1</td><td>MIRI/IMAGE</td><td>F1500W</td><td>74151.9</td><td>3077</td></tr>\n",
       "<tr><td>TRAPPIST-1</td><td>MIRI/IMAGE</td><td>F1500W</td><td>138234.537</td><td>3077</td></tr>\n",
       "<tr><td>TRAPPIST-1</td><td>NIRISS/SOSS</td><td>CLEAR;GR700XD</td><td>988.92</td><td>2589</td></tr>\n",
       "<tr><td>...</td><td>...</td><td>...</td><td>...</td><td>...</td></tr>\n",
       "<tr><td>TRAPPIST-1</td><td>NIRSPEC/SLIT</td><td>CLEAR;PRISM</td><td>21225.116</td><td>9256</td></tr>\n",
       "<tr><td>TRAPPIST-1</td><td>NIRSPEC/SLIT</td><td>CLEAR;PRISM</td><td>24956.756</td><td>6456</td></tr>\n",
       "<tr><td>TRAPPIST-1</td><td>NIRSPEC/SLIT</td><td>CLEAR;PRISM</td><td>25250.764</td><td>9256</td></tr>\n",
       "<tr><td>TRAPPIST-1</td><td>NIRSPEC/SLIT</td><td>CLEAR;PRISM</td><td>25273.38</td><td>9256</td></tr>\n",
       "<tr><td>TRAPPIST-1</td><td>NIRSPEC/SLIT</td><td>CLEAR;PRISM</td><td>26356.686</td><td>9256</td></tr>\n",
       "<tr><td>TRAPPIST-1</td><td>NIRSPEC/SLIT</td><td>CLEAR;PRISM</td><td>26426.796</td><td>6456</td></tr>\n",
       "<tr><td>TRAPPIST-1</td><td>NIRSPEC/SLIT</td><td>CLEAR;PRISM</td><td>36366.528</td><td>9256</td></tr>\n",
       "<tr><td>TRAPPIST-1B</td><td>MIRI/IMAGE</td><td>F1280W</td><td>13983.427</td><td>1279</td></tr>\n",
       "<tr><td>TRAPPIST-1B</td><td>MIRI/IMAGE</td><td>F1500W</td><td>15690.076</td><td>1177</td></tr>\n",
       "<tr><td>UNKNOWN</td><td>NIRSPEC/SLIT</td><td>OPAQUE;MIRROR</td><td>0.03</td><td>2742</td></tr>\n",
       "</table></div>"
      ],
      "text/plain": [
       "<Table length=37>\n",
       "target_name instrument_name    filters    t_exptime  proposal_id\n",
       "   str11         str12          str13      float64       str4   \n",
       "----------- --------------- ------------- ---------- -----------\n",
       " TRAPPIST-1      MIRI/IMAGE        F1280W   8727.713        5191\n",
       " TRAPPIST-1      MIRI/IMAGE        F1280W  11092.723        5191\n",
       " TRAPPIST-1      MIRI/IMAGE        F1280W  13823.747        5191\n",
       " TRAPPIST-1      MIRI/IMAGE        F1280W  15625.659        5191\n",
       " TRAPPIST-1      MIRI/IMAGE        F1500W  11535.841        2304\n",
       " TRAPPIST-1      MIRI/IMAGE        F1500W  11574.692        2304\n",
       " TRAPPIST-1      MIRI/IMAGE        F1500W    74151.9        3077\n",
       " TRAPPIST-1      MIRI/IMAGE        F1500W 138234.537        3077\n",
       " TRAPPIST-1     NIRISS/SOSS CLEAR;GR700XD     988.92        2589\n",
       "        ...             ...           ...        ...         ...\n",
       " TRAPPIST-1    NIRSPEC/SLIT   CLEAR;PRISM  21225.116        9256\n",
       " TRAPPIST-1    NIRSPEC/SLIT   CLEAR;PRISM  24956.756        6456\n",
       " TRAPPIST-1    NIRSPEC/SLIT   CLEAR;PRISM  25250.764        9256\n",
       " TRAPPIST-1    NIRSPEC/SLIT   CLEAR;PRISM   25273.38        9256\n",
       " TRAPPIST-1    NIRSPEC/SLIT   CLEAR;PRISM  26356.686        9256\n",
       " TRAPPIST-1    NIRSPEC/SLIT   CLEAR;PRISM  26426.796        6456\n",
       " TRAPPIST-1    NIRSPEC/SLIT   CLEAR;PRISM  36366.528        9256\n",
       "TRAPPIST-1B      MIRI/IMAGE        F1280W  13983.427        1279\n",
       "TRAPPIST-1B      MIRI/IMAGE        F1500W  15690.076        1177\n",
       "    UNKNOWN    NIRSPEC/SLIT OPAQUE;MIRROR       0.03        2742"
      ]
     },
     "execution_count": 13,
     "metadata": {},
     "output_type": "execute_result"
    }
   ],
   "source": [
    "out_cols = ['target_name', 'instrument_name', 'filters', 't_exptime', 'proposal_id']\n",
    "obs = targets[0]['obs']\n",
    "unique(obs[out_cols])"
   ]
  },
  {
   "cell_type": "markdown",
   "metadata": {},
   "source": [
    "You will need to examine the specifics of the programs that obtained the observations to know for certain which of the 7 known exoplanets was being observed, and therefore whether your intended observations would duplicate. Here are the unique Program Titles, which may offer clues:"
   ]
  },
  {
   "cell_type": "code",
   "execution_count": 14,
   "metadata": {
    "execution": {
     "iopub.execute_input": "2025-09-10T19:02:24.710660Z",
     "iopub.status.busy": "2025-09-10T19:02:24.710475Z",
     "iopub.status.idle": "2025-09-10T19:02:24.722839Z",
     "shell.execute_reply": "2025-09-10T19:02:24.722380Z"
    }
   },
   "outputs": [
    {
     "data": {
      "text/html": [
       "<div><i>Table length=13</i>\n",
       "<table id=\"table139784020328528\" class=\"table-striped table-bordered table-condensed\">\n",
       "<thead><tr><th>proposal_id</th><th>title</th></tr></thead>\n",
       "<thead><tr><th>str4</th><th>str80</th></tr></thead>\n",
       "<tr><td>1177</td><td>MIRI observations of transiting exoplanets</td></tr>\n",
       "<tr><td>1201</td><td>NIRISS Exploration of the Atmospheric diversity of Transiting exoplanets (NEAT)</td></tr>\n",
       "<tr><td>1279</td><td>Thermal emission from Trappist-1 b</td></tr>\n",
       "<tr><td>1331</td><td>Transit Spectroscopy of TRAPPIST-1e</td></tr>\n",
       "<tr><td>1981</td><td>Tell Me How Im Supposed To Breathe With No Air: Measuring the Prevalence and Div</td></tr>\n",
       "<tr><td>2304</td><td>Hot Take on a Cool World:  Does Trappist-1c Have an Atmosphere?</td></tr>\n",
       "<tr><td>2420</td><td>Probing the Terrestrial Planet TRAPPIST-1c for the Presence of an Atmosphere</td></tr>\n",
       "<tr><td>2589</td><td>Atmospheric reconnaissance of the TRAPPIST-1 planets</td></tr>\n",
       "<tr><td>2742</td><td>NIRSpec darks for detector reconfiguration</td></tr>\n",
       "<tr><td>3077</td><td>TRAPPIST-1 Planets: Atmospheres Or Not?</td></tr>\n",
       "<tr><td>5191</td><td>Bare rocks are not supposed to do that</td></tr>\n",
       "<tr><td>6456</td><td>Using stellar contamination proxy TRAPPIST-1 b to search for an atmosphere on TR</td></tr>\n",
       "<tr><td>9256</td><td>Using stellar contamination proxy TRAPPIST-1 b to search for an atmosphere on TR</td></tr>\n",
       "</table></div>"
      ],
      "text/plain": [
       "<Table length=13>\n",
       "proposal_id ...\n",
       "    str4    ...\n",
       "----------- ...\n",
       "       1177 ...\n",
       "       1201 ...\n",
       "       1279 ...\n",
       "       1331 ...\n",
       "       1981 ...\n",
       "       2304 ...\n",
       "       2420 ...\n",
       "       2589 ...\n",
       "       2742 ...\n",
       "       3077 ...\n",
       "       5191 ...\n",
       "       6456 ...\n",
       "       9256 ..."
      ]
     },
     "execution_count": 14,
     "metadata": {},
     "output_type": "execute_result"
    }
   ],
   "source": [
    "obs['title'] = [x[:80] for x in obs['obs_title']]\n",
    "unique(obs['proposal_id', 'title'])"
   ]
  },
  {
   "cell_type": "markdown",
   "metadata": {},
   "source": [
    "The Program Status Pages offer the complete specifications for each existing program:"
   ]
  },
  {
   "cell_type": "code",
   "execution_count": 15,
   "metadata": {
    "execution": {
     "iopub.execute_input": "2025-09-10T19:02:24.724344Z",
     "iopub.status.busy": "2025-09-10T19:02:24.724190Z",
     "iopub.status.idle": "2025-09-10T19:02:24.737388Z",
     "shell.execute_reply": "2025-09-10T19:02:24.736943Z"
    }
   },
   "outputs": [
    {
     "data": {
      "text/html": [
       "<div><i>Table length=13</i>\n",
       "<table id=\"table139784020653520\" class=\"table-striped table-bordered table-condensed\">\n",
       "<thead><tr><th>proposal_id</th><th>proposal_URL</th></tr></thead>\n",
       "<thead><tr><th>str4</th><th>str73</th></tr></thead>\n",
       "<tr><td>1177</td><td>(http://www.stsci.edu/cgi-bin/get-proposal-info?id=1177&amp;observatory=JWST)</td></tr>\n",
       "<tr><td>1201</td><td>(http://www.stsci.edu/cgi-bin/get-proposal-info?id=1201&amp;observatory=JWST)</td></tr>\n",
       "<tr><td>1279</td><td>(http://www.stsci.edu/cgi-bin/get-proposal-info?id=1279&amp;observatory=JWST)</td></tr>\n",
       "<tr><td>1331</td><td>(http://www.stsci.edu/cgi-bin/get-proposal-info?id=1331&amp;observatory=JWST)</td></tr>\n",
       "<tr><td>1981</td><td>(http://www.stsci.edu/cgi-bin/get-proposal-info?id=1981&amp;observatory=JWST)</td></tr>\n",
       "<tr><td>2304</td><td>(http://www.stsci.edu/cgi-bin/get-proposal-info?id=2304&amp;observatory=JWST)</td></tr>\n",
       "<tr><td>2420</td><td>(http://www.stsci.edu/cgi-bin/get-proposal-info?id=2420&amp;observatory=JWST)</td></tr>\n",
       "<tr><td>2589</td><td>(http://www.stsci.edu/cgi-bin/get-proposal-info?id=2589&amp;observatory=JWST)</td></tr>\n",
       "<tr><td>2742</td><td>(http://www.stsci.edu/cgi-bin/get-proposal-info?id=2742&amp;observatory=JWST)</td></tr>\n",
       "<tr><td>3077</td><td>(http://www.stsci.edu/cgi-bin/get-proposal-info?id=3077&amp;observatory=JWST)</td></tr>\n",
       "<tr><td>5191</td><td>(http://www.stsci.edu/cgi-bin/get-proposal-info?id=5191&amp;observatory=JWST)</td></tr>\n",
       "<tr><td>6456</td><td>(http://www.stsci.edu/cgi-bin/get-proposal-info?id=6456&amp;observatory=JWST)</td></tr>\n",
       "<tr><td>9256</td><td>(http://www.stsci.edu/cgi-bin/get-proposal-info?id=9256&amp;observatory=JWST)</td></tr>\n",
       "</table></div>"
      ],
      "text/plain": [
       "<Table length=13>\n",
       "proposal_id ...\n",
       "    str4    ...\n",
       "----------- ...\n",
       "       1177 ...\n",
       "       1201 ...\n",
       "       1279 ...\n",
       "       1331 ...\n",
       "       1981 ...\n",
       "       2304 ...\n",
       "       2420 ...\n",
       "       2589 ...\n",
       "       2742 ...\n",
       "       3077 ...\n",
       "       5191 ...\n",
       "       6456 ...\n",
       "       9256 ..."
      ]
     },
     "execution_count": 15,
     "metadata": {},
     "output_type": "execute_result"
    }
   ],
   "source": [
    "obs['proposal_URL'] = [get_program_URL(x) for x in obs['proposal_id']]\n",
    "unique(obs['proposal_id', 'proposal_URL'])"
   ]
  },
  {
   "cell_type": "markdown",
   "metadata": {},
   "source": [
    "<div class=\"alert alert-block alert-warning\">\n",
    "\n",
    "<span style=\"color:black\">\n",
    "    There are MIRI imaging observations (likely Time-series) in multiple bands, and both NIRISS and NIRSpec spectroscopic observations of this target that could conflict with your intended proposal. \n",
    "</span>\n",
    "</div>"
   ]
  },
  {
   "cell_type": "markdown",
   "metadata": {},
   "source": [
    "<a id=\"V-XX-Cha\"></a>\n",
    "### V* XX Cha\n",
    "\n",
    "This pre-main-sequence star has a debris disk, and might be worth a coronagraphic observation. The search area is small (20 arcsec radius) to exclude nearby targets."
   ]
  },
  {
   "cell_type": "code",
   "execution_count": 16,
   "metadata": {
    "execution": {
     "iopub.execute_input": "2025-09-10T19:02:24.739182Z",
     "iopub.status.busy": "2025-09-10T19:02:24.738984Z",
     "iopub.status.idle": "2025-09-10T19:02:24.752916Z",
     "shell.execute_reply": "2025-09-10T19:02:24.752342Z"
    }
   },
   "outputs": [
    {
     "data": {
      "text/html": [
       "<div><i>Table length=15</i>\n",
       "<table id=\"table139784020684432\" class=\"table-striped table-bordered table-condensed\">\n",
       "<thead><tr><th>target_name</th><th>instrument_name</th><th>filters</th><th>t_exptime</th><th>calib_level</th><th>proposal_id</th></tr></thead>\n",
       "<thead><tr><th>str10</th><th>str11</th><th>str12</th><th>float64</th><th>int64</th><th>str4</th></tr></thead>\n",
       "<tr><td>V-XX-CHA-2</td><td>MIRI/IFU</td><td>CH1-LONG</td><td>1232.116</td><td>3</td><td>1282</td></tr>\n",
       "<tr><td>V-XX-CHA-2</td><td>MIRI/IFU</td><td>CH1-MEDIUM</td><td>1232.116</td><td>3</td><td>1282</td></tr>\n",
       "<tr><td>V-XX-CHA-2</td><td>MIRI/IFU</td><td>CH1-SHORT</td><td>1232.116</td><td>3</td><td>1282</td></tr>\n",
       "<tr><td>V-XX-CHA-2</td><td>MIRI/IFU</td><td>CH2-LONG</td><td>1232.116</td><td>3</td><td>1282</td></tr>\n",
       "<tr><td>V-XX-CHA-2</td><td>MIRI/IFU</td><td>CH2-MEDIUM</td><td>1232.116</td><td>3</td><td>1282</td></tr>\n",
       "<tr><td>V-XX-CHA-2</td><td>MIRI/IFU</td><td>CH2-SHORT</td><td>1232.116</td><td>3</td><td>1282</td></tr>\n",
       "<tr><td>V-XX-CHA-2</td><td>MIRI/IFU</td><td>CH3-LONG</td><td>1232.116</td><td>3</td><td>1282</td></tr>\n",
       "<tr><td>V-XX-CHA-2</td><td>MIRI/IFU</td><td>CH3-MEDIUM</td><td>1232.116</td><td>3</td><td>1282</td></tr>\n",
       "<tr><td>V-XX-CHA-2</td><td>MIRI/IFU</td><td>CH3-SHORT</td><td>1232.116</td><td>3</td><td>1282</td></tr>\n",
       "<tr><td>V-XX-CHA-2</td><td>MIRI/IFU</td><td>CH4-LONG</td><td>1232.116</td><td>3</td><td>1282</td></tr>\n",
       "<tr><td>V-XX-CHA-2</td><td>MIRI/IFU</td><td>CH4-MEDIUM</td><td>1232.116</td><td>3</td><td>1282</td></tr>\n",
       "<tr><td>V-XX-CHA-2</td><td>MIRI/IFU</td><td>CH4-SHORT</td><td>1232.116</td><td>3</td><td>1282</td></tr>\n",
       "<tr><td>V-XX-CHA-2</td><td>MIRI/IMAGE</td><td>F1280W</td><td>3696.348</td><td>3</td><td>1282</td></tr>\n",
       "<tr><td>V-XX-CHA-2</td><td>NIRSPEC/IFU</td><td>F290LP;G395H</td><td>32.21</td><td>2</td><td>1282</td></tr>\n",
       "<tr><td>V-XX-CHA-2</td><td>NIRSPEC/IFU</td><td>F290LP;G395H</td><td>1288.416</td><td>3</td><td>1282</td></tr>\n",
       "</table></div>"
      ],
      "text/plain": [
       "<Table length=15>\n",
       "target_name instrument_name   filters    t_exptime calib_level proposal_id\n",
       "   str10         str11         str12      float64     int64        str4   \n",
       "----------- --------------- ------------ --------- ----------- -----------\n",
       " V-XX-CHA-2        MIRI/IFU     CH1-LONG  1232.116           3        1282\n",
       " V-XX-CHA-2        MIRI/IFU   CH1-MEDIUM  1232.116           3        1282\n",
       " V-XX-CHA-2        MIRI/IFU    CH1-SHORT  1232.116           3        1282\n",
       " V-XX-CHA-2        MIRI/IFU     CH2-LONG  1232.116           3        1282\n",
       " V-XX-CHA-2        MIRI/IFU   CH2-MEDIUM  1232.116           3        1282\n",
       " V-XX-CHA-2        MIRI/IFU    CH2-SHORT  1232.116           3        1282\n",
       " V-XX-CHA-2        MIRI/IFU     CH3-LONG  1232.116           3        1282\n",
       " V-XX-CHA-2        MIRI/IFU   CH3-MEDIUM  1232.116           3        1282\n",
       " V-XX-CHA-2        MIRI/IFU    CH3-SHORT  1232.116           3        1282\n",
       " V-XX-CHA-2        MIRI/IFU     CH4-LONG  1232.116           3        1282\n",
       " V-XX-CHA-2        MIRI/IFU   CH4-MEDIUM  1232.116           3        1282\n",
       " V-XX-CHA-2        MIRI/IFU    CH4-SHORT  1232.116           3        1282\n",
       " V-XX-CHA-2      MIRI/IMAGE       F1280W  3696.348           3        1282\n",
       " V-XX-CHA-2     NIRSPEC/IFU F290LP;G395H     32.21           2        1282\n",
       " V-XX-CHA-2     NIRSPEC/IFU F290LP;G395H  1288.416           3        1282"
      ]
     },
     "execution_count": 16,
     "metadata": {},
     "output_type": "execute_result"
    }
   ],
   "source": [
    "out_cols = ['target_name', 'instrument_name', 'filters', 't_exptime', 'calib_level', 'proposal_id']\n",
    "obs = targets[1]['obs']\n",
    "unique(obs[out_cols])"
   ]
  },
  {
   "cell_type": "markdown",
   "metadata": {},
   "source": [
    "<div class=\"alert alert-block alert-info\">\n",
    "\n",
    "<span style=\"color:black\">\n",
    "While JWST spectra from MIRI and NIRSpec exist, there is no potential for duplication with a coronagraphic observation. \n",
    "</span>\n",
    "</div>"
   ]
  },
  {
   "cell_type": "markdown",
   "metadata": {},
   "source": [
    "<a id=\"M-57\"></a>\n",
    "### M 57\n",
    "\n",
    "The Ring Nebula (NGC 6720) is well observed, particularly with HST and, recently, with JWST. We searched a 4-arcmin region around the source to include potential spectral Observations in the nebular periphery. The following table shows the unique combinations of instrument configurations. "
   ]
  },
  {
   "cell_type": "code",
   "execution_count": 17,
   "metadata": {
    "execution": {
     "iopub.execute_input": "2025-09-10T19:02:24.754651Z",
     "iopub.status.busy": "2025-09-10T19:02:24.754471Z",
     "iopub.status.idle": "2025-09-10T19:02:24.768950Z",
     "shell.execute_reply": "2025-09-10T19:02:24.768370Z"
    }
   },
   "outputs": [
    {
     "data": {
      "text/html": [
       "<div><i>Table length=79</i>\n",
       "<table id=\"table139784019348304\" class=\"table-striped table-bordered table-condensed\">\n",
       "<thead><tr><th>target_name</th><th>instrument_name</th><th>filters</th><th>t_exptime</th><th>proposal_id</th></tr></thead>\n",
       "<thead><tr><th>str26</th><th>str12</th><th>str12</th><th>float64</th><th>str4</th></tr></thead>\n",
       "<tr><td>NGC6720</td><td>MIRI/IMAGE</td><td>F1000W</td><td>444.0079999999999</td><td>1558</td></tr>\n",
       "<tr><td>NGC6720</td><td>MIRI/IMAGE</td><td>F1130W</td><td>444.0079999999999</td><td>1558</td></tr>\n",
       "<tr><td>NGC6720</td><td>MIRI/IMAGE</td><td>F1280W</td><td>444.0079999999999</td><td>1558</td></tr>\n",
       "<tr><td>NGC6720</td><td>MIRI/IMAGE</td><td>F1500W</td><td>444.0079999999999</td><td>1558</td></tr>\n",
       "<tr><td>NGC6720</td><td>MIRI/IMAGE</td><td>F1800W</td><td>444.0079999999999</td><td>1558</td></tr>\n",
       "<tr><td>NGC6720</td><td>MIRI/IMAGE</td><td>F2100W</td><td>444.0079999999999</td><td>1558</td></tr>\n",
       "<tr><td>NGC6720</td><td>MIRI/IMAGE</td><td>F2550W</td><td>444.0079999999999</td><td>1558</td></tr>\n",
       "<tr><td>NGC6720</td><td>MIRI/IMAGE</td><td>F560W</td><td>444.0079999999999</td><td>1558</td></tr>\n",
       "<tr><td>NGC6720</td><td>MIRI/IMAGE</td><td>F770W</td><td>444.0079999999999</td><td>1558</td></tr>\n",
       "<tr><td>...</td><td>...</td><td>...</td><td>...</td><td>...</td></tr>\n",
       "<tr><td>NGC6720-NIRSPEC-POSITION-2</td><td>NIRSPEC/IFU</td><td>F290LP;G395H</td><td>437.667</td><td>6640</td></tr>\n",
       "<tr><td>NGC6720-NIRSPEC-POSITION-2</td><td>NIRSPEC/IFU</td><td>F290LP;G395H</td><td>7878.006</td><td>6640</td></tr>\n",
       "<tr><td>NGC6720-NIRSPEC-POSITION-2</td><td>NIRSPEC/IFU</td><td>F290LP;G395M</td><td>145.889</td><td>1558</td></tr>\n",
       "<tr><td>NGC6720-NIRSPEC-POSITION-2</td><td>NIRSPEC/IFU</td><td>F290LP;G395M</td><td>145.889</td><td>6640</td></tr>\n",
       "<tr><td>NGC6720-NIRSPEC-POSITION-2</td><td>NIRSPEC/IFU</td><td>F290LP;G395M</td><td>583.556</td><td>1558</td></tr>\n",
       "<tr><td>NGC6720-NIRSPEC-POSITION-2</td><td>NIRSPEC/IFU</td><td>F290LP;G395M</td><td>1313.0010000000002</td><td>6640</td></tr>\n",
       "<tr><td>NGC6720-NIRSPEC-POSITION-2</td><td>NIRSPEC/IFU</td><td>OPAQUE;G140M</td><td>58.356</td><td>6640</td></tr>\n",
       "<tr><td>NGC6720-NIRSPEC-POSITION-2</td><td>NIRSPEC/IFU</td><td>OPAQUE;G235M</td><td>58.356</td><td>6640</td></tr>\n",
       "<tr><td>NGC6720-NIRSPEC-POSITION-2</td><td>NIRSPEC/IFU</td><td>OPAQUE;G395M</td><td>58.356</td><td>6640</td></tr>\n",
       "<tr><td>NGC6720-NIRSPEC-POSITION-2</td><td>NIRSPEC/IFU</td><td>OPAQUE;PRISM</td><td>58.356</td><td>6640</td></tr>\n",
       "</table></div>"
      ],
      "text/plain": [
       "<Table length=79>\n",
       "       target_name         instrument_name ...     t_exptime      proposal_id\n",
       "          str26                 str12      ...      float64           str4   \n",
       "-------------------------- --------------- ... ------------------ -----------\n",
       "                   NGC6720      MIRI/IMAGE ...  444.0079999999999        1558\n",
       "                   NGC6720      MIRI/IMAGE ...  444.0079999999999        1558\n",
       "                   NGC6720      MIRI/IMAGE ...  444.0079999999999        1558\n",
       "                   NGC6720      MIRI/IMAGE ...  444.0079999999999        1558\n",
       "                   NGC6720      MIRI/IMAGE ...  444.0079999999999        1558\n",
       "                   NGC6720      MIRI/IMAGE ...  444.0079999999999        1558\n",
       "                   NGC6720      MIRI/IMAGE ...  444.0079999999999        1558\n",
       "                   NGC6720      MIRI/IMAGE ...  444.0079999999999        1558\n",
       "                   NGC6720      MIRI/IMAGE ...  444.0079999999999        1558\n",
       "                       ...             ... ...                ...         ...\n",
       "NGC6720-NIRSPEC-POSITION-2     NIRSPEC/IFU ...            437.667        6640\n",
       "NGC6720-NIRSPEC-POSITION-2     NIRSPEC/IFU ...           7878.006        6640\n",
       "NGC6720-NIRSPEC-POSITION-2     NIRSPEC/IFU ...            145.889        1558\n",
       "NGC6720-NIRSPEC-POSITION-2     NIRSPEC/IFU ...            145.889        6640\n",
       "NGC6720-NIRSPEC-POSITION-2     NIRSPEC/IFU ...            583.556        1558\n",
       "NGC6720-NIRSPEC-POSITION-2     NIRSPEC/IFU ... 1313.0010000000002        6640\n",
       "NGC6720-NIRSPEC-POSITION-2     NIRSPEC/IFU ...             58.356        6640\n",
       "NGC6720-NIRSPEC-POSITION-2     NIRSPEC/IFU ...             58.356        6640\n",
       "NGC6720-NIRSPEC-POSITION-2     NIRSPEC/IFU ...             58.356        6640\n",
       "NGC6720-NIRSPEC-POSITION-2     NIRSPEC/IFU ...             58.356        6640"
      ]
     },
     "execution_count": 17,
     "metadata": {},
     "output_type": "execute_result"
    }
   ],
   "source": [
    "out_cols = ['target_name', 'instrument_name', 'filters', 't_exptime', 'proposal_id']\n",
    "obs = targets[3]['obs']\n",
    "unique(obs[out_cols])"
   ]
  },
  {
   "cell_type": "markdown",
   "metadata": {},
   "source": [
    "<div class=\"alert alert-block alert-warning\">\n",
    "\n",
    "<span style=\"color:black\">\n",
    "    There are both MIRI and NIRCam images in many passbands, and MIRI and NIRSpec spectroscopic IFU Observations of this target that could conflict with the intended proposal. \n",
    "</span>\n",
    "</div>"
   ]
  },
  {
   "cell_type": "markdown",
   "metadata": {},
   "source": [
    "To retain this target it would be necessary to obtain spectra in a different location, or to use a different instrument/configuration/data-taking mode (e.g., time-series of the central star). It may be helpful to see the [footprints of these Observations](https://mast.stsci.edu/portal/Mashup/Clients/Mast/Portal.html?searchQuery=%7B%22service%22%3A%22CAOMFILTERED%22%2C%22inputText%22%3A%5B%7B%22paramName%22%3A%22obs_collection%22%2C%22niceName%22%3A%22obs_collection%22%2C%22values%22%3A%5B%22JWST%22%5D%2C%22valString%22%3A%22JWST%22%2C%22isDate%22%3Afalse%2C%22separator%22%3A%22%3B%22%2C%22facetType%22%3A%22discrete%22%2C%22displayString%22%3A%22JWST%22%7D%5D%2C%22position%22%3A%22283.39623652463%2C%2033.02913424654%2C%200.066667%22%2C%22paramsService%22%3A%22Mast.Caom.Filtered.Position%22%2C%22title%22%3A%22MAST%3A%20%20Advanced%20Search%201%22%2C%22tooltip%22%3A%22JWST%3B%20%20m%2057%20r%3D4m%3B%22%2C%22ra%22%3A283.39623652463%2C%22dec%22%3A33.02913424654%2C%22radius%22%3A0.066667%2C%22columns%22%3A%22*%22%2C%22columnsConfig%22%3A%22Mast.Caom.Cone%22%7D) in the MAST Portal, or to view the observation specifications in Program [GO-1558](https://www.stsci.edu/cgi-bin/get-proposal-info?id=1558&observatory=JWST)."
   ]
  },
  {
   "cell_type": "markdown",
   "metadata": {},
   "source": [
    "<a id=\"Appendix\"></a>\n",
    "## Appendix: Caveats\n",
    "<a id=\"Source\"></a>\n",
    "### Source Name"
   ]
  },
  {
   "cell_type": "markdown",
   "metadata": {},
   "source": [
    "It is possible to search MAST for individual sources by name, in one of two ways: *Object Name* or by *Target Name*. \n",
    "\n",
    "- **Object Name:** MAST invokes an astrophysical name resolver (e.g., [NED](https://ned.ipac.caltech.edu/byname) or [Simbad](https://simbad.u-strasbg.fr/simbad/sim-fid)) to look up source coordinates. Not all object names are recognized by resolvers. Also, different resolvers sometimes return substantially different coordinates; MAST will pick one of them (but not tell you which one). Sometimes the coordinates returned by the resolvers differ by substantial amounts, often because they refer to different sources.\n",
    "  - A classic case is the bright star &mu; Eri from the Bayer Greek letter system, and the star MU Eri in the general catalog of variable stars. in MAST,\n",
    "    - Searching for `* mu. eri` (or just plain `mu eri` matches **&mu; Eri** (RA = 4:45:30.15, Dec = -3:15:16.777)\n",
    "    - Searching for `V* mu eri` matches **MU Eri** (RA = 2:48:10.566, Dec = -15:18:04.03)\n",
    "- **Target Name:** This search matches to target names specified by Investigators in observing proposals to refer to sources. These are not guaranteed to match standard names for astrophysical sources, and often do not."
   ]
  },
  {
   "cell_type": "markdown",
   "metadata": {},
   "source": [
    "<div class=\"alert alert-block alert-warning\">\n",
    "\n",
    "<span style=\"color:black\">\n",
    "<b>Searching by source names is not recommended</b> when checking for potential duplications with fixed targets because the matches are not reliable, consistent, or complete. <i>The exception would be for matching Object names of well known solar system bodies.</i>\n",
    "\n",
    "The best approach is to use an independent source for the coordinates of your desired target. Failing that, the <b>Mast.resolve_object()</b> method will return coordinates in the ICRS reference frame, which you can use to verify whether a target name resolves to the coordinates you intend. \n",
    "</span>\n",
    "</div>"
   ]
  },
  {
   "cell_type": "markdown",
   "metadata": {},
   "source": [
    "<a id=\"Search\"></a>\n",
    "### Cone Search vs Area Search\n",
    "\n",
    "MAST offers two basic kinds of spatial search: \n",
    " - **cone**: a region of sky defined by a pair of coordinates and a search radius (it is a \"cone\" in the sense that the area of the search expands as the source distance increases). \n",
    " - **area**: a region of sky bounded by ranges in each of the equitorial coordinates, RA and Dec.\n",
    "\n",
    "These searches use different methods to identify overlaps with Observations in MAST. The **cone search** matches if *any part* of the observation aperture intersects any part of the cone. The **area search** matches only if *the center of the observation aperture* lies within the search region. "
   ]
  },
  {
   "cell_type": "markdown",
   "metadata": {},
   "source": [
    "<div class=\"alert alert-block alert-warning\">\n",
    "\n",
    "<span style=\"color:black\">\n",
    "<b>Searching by area is not recommended</b> when checking for potential duplications with fixed targets because the matches may not include genuine overlaps of existing or planned observations.\n",
    "\n",
    "The best approach is to use a <b>cone search</b> centered on the coordinates of your desired target.\n",
    "</span>\n",
    "</div>"
   ]
  },
  {
   "cell_type": "markdown",
   "metadata": {},
   "source": [
    "<a id=\"Resources\"></a>\n",
    "## Additional Resources\n",
    "\n",
    "* [astropy](https://docs.astropy.org/en/stable/index.html) documentation\n",
    "* [astroquery](https://astroquery.readthedocs.io/en/latest/mast/mast.html) documentation for querying MAST\n",
    "* [Queryable fields](https://mast.stsci.edu/api/v0/_c_a_o_mfields.html) in the MAST/CAOM database\n",
    "* The [MAST Portal](https://mast.stsci.edu/portal/Mashup/Clients/Mast/Portal.html) web interface"
   ]
  },
  {
   "cell_type": "markdown",
   "metadata": {},
   "source": [
    "## About this notebook\n",
    "\n",
    "This notebook was developed by Archive Sciences Branch staff. For support, please direct questions to the Archive HelpDesk at archive@stsci.edu, or through the [JWST HelpDesk Portal](https://jwsthelp.stsci.edu). \n",
    "<img style=\"float: right;\" src=\"https://raw.githubusercontent.com/spacetelescope/notebooks/master/assets/stsci_pri_combo_mark_horizonal_white_bkgd.png\" alt=\"Space Telescope Logo\" width=\"200px\"/>\n",
    "\n",
    "**Last update:** 2024 Jan"
   ]
  }
 ],
 "metadata": {
  "kernelspec": {
   "display_name": "Python 3 (ipykernel)",
   "language": "python",
   "name": "python3"
  },
  "language_info": {
   "codemirror_mode": {
    "name": "ipython",
    "version": 3
   },
   "file_extension": ".py",
   "mimetype": "text/x-python",
   "name": "python",
   "nbconvert_exporter": "python",
   "pygments_lexer": "ipython3",
   "version": "3.11.13"
  }
 },
 "nbformat": 4,
 "nbformat_minor": 4
}
