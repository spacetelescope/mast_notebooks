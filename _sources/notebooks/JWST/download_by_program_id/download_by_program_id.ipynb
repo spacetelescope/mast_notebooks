{
 "cells": [
  {
   "cell_type": "markdown",
   "metadata": {
    "slideshow": {
     "slide_type": "slide"
    }
   },
   "source": [
    "<a id=\"top\"></a>\n",
    "# Accessing JWST Proposal Data in astroquery.mast\n",
    "## Learning Goals\n",
    "This tutorial is aimed at researchers of any level looking for _specific_ observations from a particular program ID. It will cover the basics of authentication, data search, and data downloads.\n",
    "\n",
    "By the end of this tutorial, you will:\n",
    "\n",
    "* Know to how to login/logout to access data in astroquery.\n",
    "* Be able to search for data based on proposal ID.\n",
    "* Download filtered data products from the MAST Archive.\n",
    "***\n",
    "## Table of Contents\n",
    "\n",
    "The workflow for this notebook consists of:\n",
    "* [Logging in/out](#Logging-in-and-out)\n",
    "* [Searching for Data by ID](#Searching-for-Data-by-ID)\n",
    "* [Data Products](#Data-Products)\n",
    "* [Filtering and Downloading Data](#Filtering-and-Downloading-Data)\n",
    "    * [Filtering](#Filtering)\n",
    "    * [Downloading Directly](#Downloading-Data-Directly)\n",
    "    * [Downloading via Curl Script](#Downloading-via-Curl-Script)\n",
    "* [Additional Resources](#Additional-Resources)\n",
    "\n",
    "## Imports\n",
    "We need to import `Observations` from astroquery.mast to access the MAST Archive:"
   ]
  },
  {
   "cell_type": "code",
   "execution_count": 1,
   "metadata": {
    "execution": {
     "iopub.execute_input": "2025-09-11T15:16:09.647325Z",
     "iopub.status.busy": "2025-09-11T15:16:09.647092Z",
     "iopub.status.idle": "2025-09-11T15:16:10.058876Z",
     "shell.execute_reply": "2025-09-11T15:16:10.058232Z"
    }
   },
   "outputs": [],
   "source": [
    "from astroquery.mast import Observations"
   ]
  },
  {
   "cell_type": "markdown",
   "metadata": {},
   "source": [
    "***\n",
    "## Logging in and out\n",
    "Most data in the MAST Archive is public, and can be accessed without logging in. However, some data is restricted during its 'exclusive access period' (EAP), during which time it is only available to the PI team. During this period, your team will need to sign in to access the data.\n",
    "\n",
    "To begin, you should make sure that you have an authorized [MyST Account](https://archive.stsci.edu/registration/index.html). \n",
    "\n",
    "In order to access data programatically we will also need to obtain an API token. To create and view tokens associated with your account, visit https://auth.mast.stsci.edu/tokens.\n",
    "\n",
    "There are several ways to enter your token, including:\n",
    "1. Manual response to prompt from `Observations.login()` (must be done every time)\n",
    "2. Python keyring; either through the `keyring` library or `Observations.login`\n",
    "3. Storing it in the bash environment variable `$MAST_API_TOKEN`\n",
    "\n",
    "This flexiblility can overwhelming at first; let's take a look at some examples of these methods below."
   ]
  },
  {
   "cell_type": "code",
   "execution_count": 2,
   "metadata": {
    "execution": {
     "iopub.execute_input": "2025-09-11T15:16:10.060860Z",
     "iopub.status.busy": "2025-09-11T15:16:10.060702Z",
     "iopub.status.idle": "2025-09-11T15:16:10.063261Z",
     "shell.execute_reply": "2025-09-11T15:16:10.062846Z"
    }
   },
   "outputs": [],
   "source": [
    "# Option 1: Respond to prompt. Uncomment the line below\n",
    "#Observations.login()"
   ]
  },
  {
   "cell_type": "markdown",
   "metadata": {},
   "source": [
    "This works well for infrequent API users, but storing the token is far more convenient for repeated logins. You can store the token using [keyring](https://pypi.org/project/keyring/) or use the built-in `store_token` flag:"
   ]
  },
  {
   "cell_type": "code",
   "execution_count": 3,
   "metadata": {
    "execution": {
     "iopub.execute_input": "2025-09-11T15:16:10.064720Z",
     "iopub.status.busy": "2025-09-11T15:16:10.064575Z",
     "iopub.status.idle": "2025-09-11T15:16:10.066538Z",
     "shell.execute_reply": "2025-09-11T15:16:10.066160Z"
    }
   },
   "outputs": [],
   "source": [
    "# Option 2: Store Token. Uncomment the line below\n",
    "#Observations.login(store_token=True)"
   ]
  },
  {
   "cell_type": "markdown",
   "metadata": {},
   "source": [
    "Using 'store_token' will allow us to automatically log in, without needing to re-enter the token, for as long as the token remains valid. Note that tokens expire after 10 days of inactivity, or 60 days after creation, whichever comes first. Once it expires, you should use `reenter_token=True` to overwrite the old token with the new one.\n",
    "\n",
    "The third option is to store the token as the bash environment variable `$MAST_API_TOKEN`. This method varies from system to system; for more details, you can check out [this guide](https://www3.ntu.edu.sg/home/ehchua/programming/howto/Environment_Variables.html) (links to a non-STScI site).\n",
    "\n",
    "Let's take a minute to verify that our login was successful:"
   ]
  },
  {
   "cell_type": "code",
   "execution_count": 4,
   "metadata": {
    "execution": {
     "iopub.execute_input": "2025-09-11T15:16:10.067958Z",
     "iopub.status.busy": "2025-09-11T15:16:10.067813Z",
     "iopub.status.idle": "2025-09-11T15:16:10.603732Z",
     "shell.execute_reply": "2025-09-11T15:16:10.603270Z"
    }
   },
   "outputs": [
    {
     "name": "stdout",
     "output_type": "stream",
     "text": [
      "eppn: \n",
      "ezid: anonymous\n",
      "anon: True\n",
      "scopes: []\n",
      "session: None\n",
      "token: None\n"
     ]
    }
   ],
   "source": [
    "session_info = Observations.session_info()"
   ]
  },
  {
   "cell_type": "markdown",
   "metadata": {},
   "source": [
    "You should see all of your information above. If not, verify that your token and MyST account are active.\n",
    "\n",
    "And of course, if the need arises, we can logout:"
   ]
  },
  {
   "cell_type": "code",
   "execution_count": 5,
   "metadata": {
    "execution": {
     "iopub.execute_input": "2025-09-11T15:16:10.629996Z",
     "iopub.status.busy": "2025-09-11T15:16:10.629821Z",
     "iopub.status.idle": "2025-09-11T15:16:10.812688Z",
     "shell.execute_reply": "2025-09-11T15:16:10.812195Z"
    }
   },
   "outputs": [
    {
     "name": "stdout",
     "output_type": "stream",
     "text": [
      "eppn: \n",
      "ezid: anonymous\n",
      "anon: True\n",
      "scopes: []\n",
      "session: None\n",
      "token: None\n"
     ]
    }
   ],
   "source": [
    "Observations.logout()\n",
    "session_info = Observations.session_info()"
   ]
  },
  {
   "cell_type": "markdown",
   "metadata": {
    "slideshow": {
     "slide_type": "slide"
    }
   },
   "source": [
    "## Searching for Data by ID"
   ]
  },
  {
   "cell_type": "markdown",
   "metadata": {
    "slideshow": {
     "slide_type": "slide"
    }
   },
   "source": [
    "We can use a program ID to query the MAST Archive for data. In the example below, we'll use 2733 as the ID. This is the program that produced the [stunning images](https://webbtelescope.org/contents/media/images/2022/033/01G709QXZPFH83NZFAFP66WVCZ) of the Southern Ring Nebula!"
   ]
  },
  {
   "cell_type": "code",
   "execution_count": 6,
   "metadata": {
    "execution": {
     "iopub.execute_input": "2025-09-11T15:16:10.814302Z",
     "iopub.status.busy": "2025-09-11T15:16:10.814072Z",
     "iopub.status.idle": "2025-09-11T15:16:11.036469Z",
     "shell.execute_reply": "2025-09-11T15:16:11.035880Z"
    }
   },
   "outputs": [
    {
     "data": {
      "text/html": [
       "<div><i>Table length=12</i>\n",
       "<table id=\"table140602672370192\" class=\"table-striped table-bordered table-condensed\">\n",
       "<thead><tr><th>dataproduct_type</th><th>calib_level</th><th>obs_id</th><th>target_name</th><th>filters</th><th>proposal_pi</th><th>obs_collection</th></tr></thead>\n",
       "<thead><tr><th>str5</th><th>int64</th><th>str36</th><th>str52</th><th>str11</th><th>str21</th><th>str4</th></tr></thead>\n",
       "<tr><td>image</td><td>3</td><td>STSCI_PR_2022-059</td><td>Southern Ring Nebula | NGC 3132</td><td>--</td><td>--</td><td>OPO</td></tr>\n",
       "<tr><td>image</td><td>3</td><td>STSCI_PR_2022-033</td><td>NGC 3132 | Southern Ring Nebula | Eight-Burst Nebula</td><td>--</td><td>--</td><td>OPO</td></tr>\n",
       "<tr><td>image</td><td>3</td><td>jw02733-o002_t001_miri_f1130w</td><td>NGC-3132</td><td>F1130W</td><td>Pontoppidan, Klaus M.</td><td>JWST</td></tr>\n",
       "<tr><td>image</td><td>3</td><td>jw02733-o002_t001_miri_f770w</td><td>NGC-3132</td><td>F770W</td><td>Pontoppidan, Klaus M.</td><td>JWST</td></tr>\n",
       "<tr><td>image</td><td>3</td><td>jw02733-o002_t001_miri_f1800w</td><td>NGC-3132</td><td>F1800W</td><td>Pontoppidan, Klaus M.</td><td>JWST</td></tr>\n",
       "<tr><td>image</td><td>3</td><td>jw02733-o002_t001_miri_f1280w</td><td>NGC-3132</td><td>F1280W</td><td>Pontoppidan, Klaus M.</td><td>JWST</td></tr>\n",
       "<tr><td>image</td><td>3</td><td>jw02733-o001_t001_nircam_clear-f187n</td><td>NGC-3132</td><td>F187N</td><td>Pontoppidan, Klaus M.</td><td>JWST</td></tr>\n",
       "<tr><td>image</td><td>3</td><td>jw02733-o001_t001_nircam_clear-f090w</td><td>NGC-3132</td><td>F090W</td><td>Pontoppidan, Klaus M.</td><td>JWST</td></tr>\n",
       "<tr><td>image</td><td>3</td><td>jw02733-o001_t001_nircam_clear-f356w</td><td>NGC-3132</td><td>F356W</td><td>Pontoppidan, Klaus M.</td><td>JWST</td></tr>\n",
       "<tr><td>image</td><td>3</td><td>jw02733-o001_t001_nircam_clear-f212n</td><td>NGC-3132</td><td>F212N</td><td>Pontoppidan, Klaus M.</td><td>JWST</td></tr>\n",
       "<tr><td>image</td><td>3</td><td>jw02733-o001_t001_nircam_f405n-f444w</td><td>NGC-3132</td><td>F444W;F405N</td><td>Pontoppidan, Klaus M.</td><td>JWST</td></tr>\n",
       "<tr><td>image</td><td>3</td><td>jw02733-o001_t001_nircam_f444w-f470n</td><td>NGC-3132</td><td>F444W;F470N</td><td>Pontoppidan, Klaus M.</td><td>JWST</td></tr>\n",
       "</table></div>"
      ],
      "text/plain": [
       "<Table length=12>\n",
       "dataproduct_type calib_level ...      proposal_pi      obs_collection\n",
       "      str5          int64    ...         str21              str4     \n",
       "---------------- ----------- ... --------------------- --------------\n",
       "           image           3 ...                    --            OPO\n",
       "           image           3 ...                    --            OPO\n",
       "           image           3 ... Pontoppidan, Klaus M.           JWST\n",
       "           image           3 ... Pontoppidan, Klaus M.           JWST\n",
       "           image           3 ... Pontoppidan, Klaus M.           JWST\n",
       "           image           3 ... Pontoppidan, Klaus M.           JWST\n",
       "           image           3 ... Pontoppidan, Klaus M.           JWST\n",
       "           image           3 ... Pontoppidan, Klaus M.           JWST\n",
       "           image           3 ... Pontoppidan, Klaus M.           JWST\n",
       "           image           3 ... Pontoppidan, Klaus M.           JWST\n",
       "           image           3 ... Pontoppidan, Klaus M.           JWST\n",
       "           image           3 ... Pontoppidan, Klaus M.           JWST"
      ]
     },
     "execution_count": 6,
     "metadata": {},
     "output_type": "execute_result"
    }
   ],
   "source": [
    "# Let's get a list of all observations associated with this proposal\n",
    "obs_list = Observations.query_criteria(proposal_id=2733)\n",
    "\n",
    "# We can chooose the columns we want to display in our table\n",
    "disp_col = ['dataproduct_type', 'calib_level', 'obs_id',\n",
    "            'target_name', 'filters', 'proposal_pi', 'obs_collection']\n",
    "obs_list[disp_col]"
   ]
  },
  {
   "cell_type": "markdown",
   "metadata": {},
   "source": [
    "We have limited the display columns in the above table for conciseness. For a complete list of observation fields (the columns in the above table) and their descriptions, read [here](https://mast.stsci.edu/api/v0/_c_a_o_mfields.html). \n",
    "\n",
    "We can verify that we have the right observation by looking at the `'proposal_pi'` column above. The first observation is a press release image from the Webb Science Launch; this is why it is marked as part of the \"Office of Public Outreach\" (OPO) collection."
   ]
  },
  {
   "cell_type": "markdown",
   "metadata": {},
   "source": [
    "## Data Products\n",
    "\n",
    "Level 3 products are the result of combining and processing multiple lower level products. These two categories are distinct; level 3 products are target-based (sometimes called source-based), while levels 2 and 1 are directly associated with an exposure. A great starting point to understand JWST files and the processing pipeline is available on the [Jdox website](https://jwst-docs.stsci.edu/understanding-jwst-data-files).\n",
    "\n",
    "For level 3 observations, it's likely that there are many associated (levels 2 and 1) data products. Let's take a look at how many products are associated with the second observation from our search above."
   ]
  },
  {
   "cell_type": "code",
   "execution_count": 7,
   "metadata": {
    "execution": {
     "iopub.execute_input": "2025-09-11T15:16:11.038010Z",
     "iopub.status.busy": "2025-09-11T15:16:11.037863Z",
     "iopub.status.idle": "2025-09-11T15:16:33.517750Z",
     "shell.execute_reply": "2025-09-11T15:16:33.517279Z"
    }
   },
   "outputs": [
    {
     "name": "stdout",
     "output_type": "stream",
     "text": [
      "3486\n"
     ]
    }
   ],
   "source": [
    "# We explicity get the 2nd observation by name in this cell.\n",
    "\n",
    "mask = (obs_list['obs_id'] == 'jw02733-o002_t001_miri_f1130w')\n",
    "data_products = Observations.get_product_list(obs_list[mask])\n",
    "print(len(data_products))"
   ]
  },
  {
   "cell_type": "markdown",
   "metadata": {},
   "source": [
    "This produces over 3000 data products associated with this observation! This is not uncommon for a JWST level-3 observation. In the next section, we'll take a look at how we can filter down the number of results before we download them."
   ]
  },
  {
   "cell_type": "markdown",
   "metadata": {},
   "source": [
    "## Filtering and Downloading Data\n",
    "\n",
    "### Filtering"
   ]
  },
  {
   "cell_type": "markdown",
   "metadata": {},
   "source": [
    "You can apply filter keyword arguments to download only data products that meet your given criteria. Available filters are “mrp_only” ([minimum recommended products](https://outerspace.stsci.edu/display/MASTDOCS/Minimum+Recommended+Products)), “extension” (file extension), calib_level (calibration level), and all products fields listed [here](https://mast.stsci.edu/api/v0/_productsfields.html).\n",
    "\n",
    "In this example, let's try filtering for only the level 2, calibrated exposures. It is important that we also filter by \"SCIENCE\" type products; otherwise, our results will include guide star acquisition images."
   ]
  },
  {
   "cell_type": "code",
   "execution_count": 8,
   "metadata": {
    "execution": {
     "iopub.execute_input": "2025-09-11T15:16:33.519373Z",
     "iopub.status.busy": "2025-09-11T15:16:33.519218Z",
     "iopub.status.idle": "2025-09-11T15:16:33.527779Z",
     "shell.execute_reply": "2025-09-11T15:16:33.527304Z"
    }
   },
   "outputs": [
    {
     "data": {
      "text/html": [
       "<div><i>Table length=10</i>\n",
       "<table id=\"table140601745674832\" class=\"table-striped table-bordered table-condensed\">\n",
       "<thead><tr><th>obsID</th><th>dataproduct_type</th><th>productFilename</th><th>size</th><th>calib_level</th></tr></thead>\n",
       "<thead><tr><th>str8</th><th>str5</th><th>str50</th><th>int64</th><th>int64</th></tr></thead>\n",
       "<tr><td>87599751</td><td>image</td><td>jw02733002002_02103_00004_mirimage_o002_crf.fits</td><td>29776320</td><td>2</td></tr>\n",
       "<tr><td>87599751</td><td>image</td><td>jw02733002002_02103_00004_mirimage_cal.fits</td><td>29724480</td><td>2</td></tr>\n",
       "<tr><td>87599751</td><td>image</td><td>jw02733002002_02103_00004_mirimage_i2d.fits</td><td>29448000</td><td>2</td></tr>\n",
       "<tr><td>87599751</td><td>image</td><td>jw02733002002_02103_00004_mirimage_rate.fits</td><td>21211200</td><td>2</td></tr>\n",
       "<tr><td>87599751</td><td>image</td><td>jw02733002002_02103_00004_mirimage_rateints.fits</td><td>42338880</td><td>2</td></tr>\n",
       "<tr><td>87599752</td><td>image</td><td>jw02733002002_02103_00005_mirimage_o002_crf.fits</td><td>29776320</td><td>2</td></tr>\n",
       "<tr><td>87599752</td><td>image</td><td>jw02733002002_02103_00005_mirimage_cal.fits</td><td>29724480</td><td>2</td></tr>\n",
       "<tr><td>87599752</td><td>image</td><td>jw02733002002_02103_00005_mirimage_i2d.fits</td><td>29448000</td><td>2</td></tr>\n",
       "<tr><td>87599752</td><td>image</td><td>jw02733002002_02103_00005_mirimage_rate.fits</td><td>21211200</td><td>2</td></tr>\n",
       "<tr><td>87599752</td><td>image</td><td>jw02733002002_02103_00005_mirimage_rateints.fits</td><td>42338880</td><td>2</td></tr>\n",
       "</table></div>"
      ],
      "text/plain": [
       "<Table length=10>\n",
       " obsID   dataproduct_type ...   size   calib_level\n",
       "  str8         str5       ...  int64      int64   \n",
       "-------- ---------------- ... -------- -----------\n",
       "87599751            image ... 29776320           2\n",
       "87599751            image ... 29724480           2\n",
       "87599751            image ... 29448000           2\n",
       "87599751            image ... 21211200           2\n",
       "87599751            image ... 42338880           2\n",
       "87599752            image ... 29776320           2\n",
       "87599752            image ... 29724480           2\n",
       "87599752            image ... 29448000           2\n",
       "87599752            image ... 21211200           2\n",
       "87599752            image ... 42338880           2"
      ]
     },
     "execution_count": 8,
     "metadata": {},
     "output_type": "execute_result"
    }
   ],
   "source": [
    "filtered_prod = Observations.filter_products(data_products, calib_level=[2], productType=\"SCIENCE\")\n",
    "\n",
    "# Again, we choose columns of interest for convenience\n",
    "disp_col = ['obsID', 'dataproduct_type', 'productFilename', 'size', 'calib_level']\n",
    "filtered_prod[disp_col][:10]"
   ]
  },
  {
   "cell_type": "markdown",
   "metadata": {},
   "source": [
    "Well, that was effective! We now have 80 files, instead of over 3000.\n",
    "\n",
    "As a final check before we proceed to the download, let's find the total file size of our results:"
   ]
  },
  {
   "cell_type": "code",
   "execution_count": 9,
   "metadata": {
    "execution": {
     "iopub.execute_input": "2025-09-11T15:16:33.529186Z",
     "iopub.status.busy": "2025-09-11T15:16:33.529024Z",
     "iopub.status.idle": "2025-09-11T15:16:33.532428Z",
     "shell.execute_reply": "2025-09-11T15:16:33.532026Z"
    }
   },
   "outputs": [
    {
     "name": "stdout",
     "output_type": "stream",
     "text": [
      "2.44 GB\n"
     ]
    }
   ],
   "source": [
    "total = sum(filtered_prod['size'])\n",
    "print('{:.2f} GB'.format(total/10**9))"
   ]
  },
  {
   "cell_type": "markdown",
   "metadata": {},
   "source": [
    "For downloads larger than a GB, it is highly recommended that you follow the steps in [Downloading via Curl Script](#Downloading-via-Curl-Script) rather than attempting to download the data directly."
   ]
  },
  {
   "cell_type": "markdown",
   "metadata": {},
   "source": [
    "### Downloading Data Directly\n",
    "\n",
    "We'll use the filtered product list to select our downloads. This method will immediately send a request to the MAST Archive, and download the data to this notebook's folder.\n",
    "\n",
    "**Note**: By default, this will only download the first five files. This reduces download time for the purposes of the tutorial while still demonstrating a successful download."
   ]
  },
  {
   "cell_type": "code",
   "execution_count": 10,
   "metadata": {
    "execution": {
     "iopub.execute_input": "2025-09-11T15:16:33.533807Z",
     "iopub.status.busy": "2025-09-11T15:16:33.533672Z",
     "iopub.status.idle": "2025-09-11T15:16:34.324371Z",
     "shell.execute_reply": "2025-09-11T15:16:34.323952Z"
    }
   },
   "outputs": [
    {
     "name": "stdout",
     "output_type": "stream",
     "text": [
      "INFO: Found cached file ./mastDownload/JWST/jw02733002002_02103_00004_mirimage/jw02733002002_02103_00004_mirimage_o002_crf.fits with expected size 29776320. [astroquery.query]\n"
     ]
    },
    {
     "name": "stdout",
     "output_type": "stream",
     "text": [
      "INFO: Found cached file ./mastDownload/JWST/jw02733002002_02103_00004_mirimage/jw02733002002_02103_00004_mirimage_cal.fits with expected size 29724480. [astroquery.query]\n"
     ]
    },
    {
     "name": "stdout",
     "output_type": "stream",
     "text": [
      "INFO: Found cached file ./mastDownload/JWST/jw02733002002_02103_00004_mirimage/jw02733002002_02103_00004_mirimage_i2d.fits with expected size 29448000. [astroquery.query]\n"
     ]
    },
    {
     "name": "stdout",
     "output_type": "stream",
     "text": [
      "INFO: Found cached file ./mastDownload/JWST/jw02733002002_02103_00004_mirimage/jw02733002002_02103_00004_mirimage_rate.fits with expected size 21211200. [astroquery.query]\n",
      "INFO: Found cached file ./mastDownload/JWST/jw02733002002_02103_00004_mirimage/jw02733002002_02103_00004_mirimage_rateints.fits with expected size 42338880. [astroquery.query]\n",
      " Status \n",
      "--------\n",
      "COMPLETE\n",
      "COMPLETE\n",
      "COMPLETE\n",
      "COMPLETE\n",
      "COMPLETE\n"
     ]
    }
   ],
   "source": [
    "# Don't forget to login, if accessing non-public data! You can un-comment the line below:\n",
    "# Observations.login()\n",
    "\n",
    "# You can download all of the products by removing the '[:5]' from the line below:\n",
    "manifest = Observations.download_products(filtered_prod[:5])\n",
    "print(manifest['Status'])"
   ]
  },
  {
   "cell_type": "markdown",
   "metadata": {},
   "source": [
    "### Downloading via Curl Script\n",
    "Rather than downloading the files directly, we can instead download a curl script. You can run the script at any time to download your data.\n",
    "\n",
    "This method supports larger data volumes (and downloads more quickly!) than a traditional portal download."
   ]
  },
  {
   "cell_type": "code",
   "execution_count": 11,
   "metadata": {
    "execution": {
     "iopub.execute_input": "2025-09-11T15:16:34.325845Z",
     "iopub.status.busy": "2025-09-11T15:16:34.325702Z",
     "iopub.status.idle": "2025-09-11T15:16:35.180383Z",
     "shell.execute_reply": "2025-09-11T15:16:35.179916Z"
    }
   },
   "outputs": [
    {
     "name": "stdout",
     "output_type": "stream",
     "text": [
      "Downloading URL https://mast.stsci.edu/api/v0.1/Download/bundle.sh to ./mastDownload_20250911151634.sh ..."
     ]
    },
    {
     "name": "stdout",
     "output_type": "stream",
     "text": [
      " [Done]\n"
     ]
    }
   ],
   "source": [
    "manifest = Observations.download_products(filtered_prod, curl_flag=True)"
   ]
  },
  {
   "cell_type": "markdown",
   "metadata": {},
   "source": [
    "You can run the script in your terminal by navigating to the desired download location and typing `bash [filename].sh`. For Windows users, this will require [cygwin](https://www.cygwin.com) or other programs that support bash scripts. You may be prompted for your API token."
   ]
  },
  {
   "cell_type": "markdown",
   "metadata": {},
   "source": [
    "## Additional Resources\n",
    "\n",
    "Within the current directory, there is a companion script that unifies all of the code from this notebook. It runs in the terminal with two arguments: the program ID, and whether you should download a curl script.<br> For example, you might run `python3 companion_script.py 2733 True` to download the above data via a curl script.\n",
    "\n",
    "For additional details about astroquery.mast, see the [readthedocs](https://astroquery.readthedocs.io/en/latest/mast/mast.html) page.\n",
    "\n",
    "- [MAST Portal](https://mast.stsci.edu/portal/Mashup/Clients/Mast/Portal.html)\n",
    "- [MAST API](https://mast.stsci.edu/api/v0/index.html)"
   ]
  },
  {
   "cell_type": "markdown",
   "metadata": {
    "slideshow": {
     "slide_type": "slide"
    }
   },
   "source": [
    "## About this Notebook\n",
    "For additonal questions, comments, or feedback, please email `archive@stsci.edu`. \n",
    "\n",
    "**Authors:** Thomas Dutkiewicz, Susan Mullally <br>\n",
    "**Keywords:** JWST, MAST, authentication <br>\n",
    "**Last Updated:** Jul 2022 <br>\n",
    "**Next Review:** Jan 2023"
   ]
  },
  {
   "cell_type": "markdown",
   "metadata": {},
   "source": [
    "## Citations\n",
    "\n",
    "If you use `astroquery` for published research, please [cite](https://github.com/astropy/astroquery/blob/main/astroquery/CITATION) the\n",
    "authors."
   ]
  },
  {
   "cell_type": "markdown",
   "metadata": {},
   "source": [
    "***"
   ]
  },
  {
   "cell_type": "markdown",
   "metadata": {},
   "source": [
    "[Top of Page](#top)\n",
    "<img style=\"float: right;\" src=\"https://raw.githubusercontent.com/spacetelescope/notebooks/master/assets/stsci_pri_combo_mark_horizonal_white_bkgd.png\" alt=\"Space Telescope Logo\" width=\"200px\"/> "
   ]
  }
 ],
 "metadata": {
  "kernelspec": {
   "display_name": "myenv",
   "language": "python",
   "name": "python3"
  },
  "language_info": {
   "codemirror_mode": {
    "name": "ipython",
    "version": 3
   },
   "file_extension": ".py",
   "mimetype": "text/x-python",
   "name": "python",
   "nbconvert_exporter": "python",
   "pygments_lexer": "ipython3",
   "version": "3.11.13"
  }
 },
 "nbformat": 4,
 "nbformat_minor": 4
}
