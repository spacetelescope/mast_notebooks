{
 "cells": [
  {
   "cell_type": "markdown",
   "metadata": {},
   "source": [
    "# **Large downloads in astroquery.mast from AWS to local storage**"
   ]
  },
  {
   "cell_type": "markdown",
   "metadata": {},
   "source": [
    "## Introduction\n",
    "\n",
    "Several MAST datasets are now available from the [Registry of Open Data on AWS](https://registry.opendata.aws/), a cloud data storage service. These datasets [include data from JWST, HST, TESS, Pan-STARRS, GALEX, and Kepler/K2](https://registry.opendata.aws/collab/stsci/). In this notebook, you'll learn how to download data in bulk to your local machine's storage from two large survey missions, GALEX and Pan-STARRS (PS1).\n",
    "\n",
    "To give some more context on the missions we'll be focusing on:\n",
    "* [Galaxy Evolution Explorer (GALEX)](https://archive.stsci.edu/missions-and-data/galex) was a NASA mission led by the California Institute of Technology, whose primary goal was to investigate how star formation in galaxies evolved from the early Universe up to the present. GALEX used microchannel plate detectors to obtain direct images in the near-UV (NUV) and far-UV (FUV), and a grism to disperse light for low resolution spectroscopy. \n",
    "* [Panoramic Survey Telescope and Rapid Response System (Pan-STARRS)](https://outerspace.stsci.edu/display/PANSTARRS/) is a system for wide-field astronomical imaging developed and operated by the Institute for Astronomy at the University of Hawaii. Pan-STARRS1 (PS1) is the first part of Pan-STARRS to be completed.  The PS1 survey used a 1.8 meter telescope and its 1.4 Gigapixel camera to image the sky in five broadband filters (g, r, i, z, y)."
   ]
  },
  {
   "cell_type": "markdown",
   "metadata": {},
   "source": [
    "## Learning Goals\n",
    "In this notebook, you will:\n",
    "* Learn how to download MAST data from our AWS cloud repositories to your local machine's storage.\n",
    "* Make targeted queries to MAST using parameters such as: `right ascension`, `declination`, and more.\n",
    "* Filter the resulting products by using parameters such as: `productType`, `productSubGroupDescription`, `productGroupDescription`, `mrp_only`, and more."
   ]
  },
  {
   "cell_type": "markdown",
   "metadata": {},
   "source": [
    "## Imports\n",
    "\n",
    "We only need one import for this notebook!\n",
    "* `astroquery.mast.Observations` to access the MAST API"
   ]
  },
  {
   "cell_type": "code",
   "execution_count": 1,
   "metadata": {
    "execution": {
     "iopub.execute_input": "2025-09-10T18:59:46.799880Z",
     "iopub.status.busy": "2025-09-10T18:59:46.799707Z",
     "iopub.status.idle": "2025-09-10T18:59:47.307123Z",
     "shell.execute_reply": "2025-09-10T18:59:47.306498Z"
    }
   },
   "outputs": [],
   "source": [
    "from astroquery.mast import Observations"
   ]
  },
  {
   "cell_type": "markdown",
   "metadata": {},
   "source": [
    "## Using astroquery to query MAST's multi-mission database\n",
    "* The `Observations` API from `astroquery.mast` can be used to query MAST's multi-mission database, an instance of the [Common Archive Observation Model](https://www.opencadc.org/caom2/) housing structured metadata from multiple missions in a unified database, from legacy missions to currently operational missions. In this database, individual data products are organized under \"observations\".\n",
    "\n",
    "* Note: for certain missions like JWST and HST, there is also a `MastMissions` API from `astroquery.mast` that can be used to query mission-specific metadata beyond that which can be made to conform to the Common Archive Observation Model. This notebook will not demonstrate the capabilities of the `MastMissions` API. Refer, instead, to [**Searching for Mission-Specific Data with Astroquery**](https://spacetelescope.github.io/mast_notebooks/notebooks/multi_mission/missions_mast_search/missions_mast_search.html)."
   ]
  },
  {
   "cell_type": "markdown",
   "metadata": {},
   "source": [
    "First, let's turn on access to MAST's datasets in the AWS cloud. Downloading from AWS is sometimes faster, and is always preferred to lessen the pressure on MAST's on-premise servers."
   ]
  },
  {
   "cell_type": "code",
   "execution_count": 2,
   "metadata": {
    "execution": {
     "iopub.execute_input": "2025-09-10T18:59:47.309212Z",
     "iopub.status.busy": "2025-09-10T18:59:47.309028Z",
     "iopub.status.idle": "2025-09-10T18:59:47.359407Z",
     "shell.execute_reply": "2025-09-10T18:59:47.358794Z"
    }
   },
   "outputs": [
    {
     "name": "stdout",
     "output_type": "stream",
     "text": [
      "INFO: Using the S3 STScI public dataset [astroquery.mast.cloud]\n"
     ]
    }
   ],
   "source": [
    "Observations.enable_cloud_dataset()"
   ]
  },
  {
   "cell_type": "markdown",
   "metadata": {},
   "source": [
    "# The Four-Step Data Download Process\n",
    "\n",
    "Retrieving MAST data from AWS to your local machine can be performed with the following four-step process:\n",
    "\n",
    "* **Step 1**: Retrieve observation metadata matching your query criteria\n",
    "* **Step 2**: Retrieve metadata for the individual data products that comprise those observations\n",
    "* **Step 3**: (Optional) Filter the data products based on further product-level criteria\n",
    "* **Step 4**: Download the files from AWS to your local machine"
   ]
  },
  {
   "cell_type": "markdown",
   "metadata": {},
   "source": [
    "### Step 1\n",
    "\n",
    "First, let's retrieve observations in a sky coordinate range of interest. One way to search observations by coordinates is by giving `Observations.query_criteria()` a box defining the search area, consisting of two coordinates for the right ascension range and two coordinates for the declination range. You can also supply any number of missions, and various other metadata constraints. In this case, we'll retrieve both GALEX and Pan-STARRS observations. The output is an `astropy` table."
   ]
  },
  {
   "cell_type": "code",
   "execution_count": 3,
   "metadata": {
    "execution": {
     "iopub.execute_input": "2025-09-10T18:59:47.392117Z",
     "iopub.status.busy": "2025-09-10T18:59:47.391917Z",
     "iopub.status.idle": "2025-09-10T18:59:51.315349Z",
     "shell.execute_reply": "2025-09-10T18:59:51.314813Z"
    }
   },
   "outputs": [
    {
     "name": "stdout",
     "output_type": "stream",
     "text": [
      "We retrieved 317 observations.\n"
     ]
    }
   ],
   "source": [
    "obs = Observations.query_criteria(s_ra=[30.2, 31.2], s_dec=[-10.25, -9.25]\n",
    "                                  , obs_collection=[\"GALEX\", \"PS1\"])\n",
    "print(f'We retrieved {len(obs)} observations.')"
   ]
  },
  {
   "cell_type": "markdown",
   "metadata": {},
   "source": [
    "If you would like to filter by other parameters, see the other filter parameters below."
   ]
  },
  {
   "cell_type": "code",
   "execution_count": 4,
   "metadata": {
    "execution": {
     "iopub.execute_input": "2025-09-10T18:59:51.317118Z",
     "iopub.status.busy": "2025-09-10T18:59:51.316955Z",
     "iopub.status.idle": "2025-09-10T18:59:51.357547Z",
     "shell.execute_reply": "2025-09-10T18:59:51.357050Z"
    }
   },
   "outputs": [
    {
     "name": "stdout",
     "output_type": "stream",
     "text": [
      "     Column Name     \n",
      "---------------------\n",
      "           intentType\n",
      "       obs_collection\n",
      "      provenance_name\n",
      "      instrument_name\n",
      "              project\n",
      "              filters\n",
      "    wavelength_region\n",
      "          target_name\n",
      "target_classification\n",
      "               obs_id\n",
      "                 s_ra\n",
      "                s_dec\n",
      "          proposal_id\n",
      "          proposal_pi\n",
      "            obs_title\n",
      "     dataproduct_type\n",
      "          calib_level\n",
      "                t_min\n",
      "                t_max\n",
      "        t_obs_release\n",
      "            t_exptime\n",
      "               em_min\n",
      "               em_max\n",
      "                objID\n",
      "             s_region\n",
      "              jpegURL\n",
      "             distance\n",
      "                obsid\n",
      "           dataRights\n",
      "               mtFlag\n",
      "               srcDen\n",
      "              dataURL\n",
      "        proposal_type\n",
      "      sequence_number\n"
     ]
    }
   ],
   "source": [
    "# NOTE: Use this line if you want to get app the parameters and the details.\n",
    "# Observations.get_metadata(\"observations\").pprint(max_lines=-1, max_width=-1)\n",
    "\n",
    "# NOTE: Use this line just to get the parameters and their names.\n",
    "Observations.get_metadata('observations')['Column Name'].pprint(max_lines=-1)"
   ]
  },
  {
   "cell_type": "markdown",
   "metadata": {},
   "source": [
    "### Step 2\n",
    "\n",
    "Now, we can retrieve the individual data products organized under those observations."
   ]
  },
  {
   "cell_type": "code",
   "execution_count": 5,
   "metadata": {
    "execution": {
     "iopub.execute_input": "2025-09-10T18:59:51.359201Z",
     "iopub.status.busy": "2025-09-10T18:59:51.359045Z",
     "iopub.status.idle": "2025-09-10T19:00:14.548856Z",
     "shell.execute_reply": "2025-09-10T19:00:14.548342Z"
    }
   },
   "outputs": [
    {
     "name": "stdout",
     "output_type": "stream",
     "text": [
      "We retrieved 6149 data products.\n"
     ]
    }
   ],
   "source": [
    "prod = Observations.get_product_list(obs)\n",
    "print(f'We retrieved {len(prod)} data products.')\n",
    "# prod is another astropy table"
   ]
  },
  {
   "cell_type": "markdown",
   "metadata": {},
   "source": [
    "### Step 3\n",
    "\n",
    "Now we can use `Observations.filter_products()` to filter for specific data products. This function can filter on `obs_collection` (mission), `productType`,`productSubGroupDescription`, `productGroupDescription`, and `mrp_only`, among numerous other parameters described on the [product field descriptions page](https://masttest.stsci.edu/api/v0/_productsfields.html). \n",
    "\n",
    "`mrp_only` means to request only data products identified by MAST as the main \"Minimum Recommended\" products in each observation. For example, in Pan-STARRS (PS1), limiting your results to MRP products excludes the individual-epoch warp images, and various other ancillary files.\n",
    "\n",
    "For **GALEX**, the range of possible values for these parameters include:\n",
    "\n",
    "* productType: *AUXILIARY*, *CATALOG*, *INFO*, *PREVIEW*, *SCIENCE*, *THUMBNAIL*\n",
    "* productSubGroupDescription: *Catalog Only*, *Imaging Only*, *Spectra Only*, *Spectral Image Strips Only*, *Whole Field Images Only*\n",
    "* productGroupDescription: *Minimum Recommended Products*\n",
    "* mrp_only: *True*, *False*.\n",
    "\n",
    "For **Pan-STARRS (PS1)**, the range of possible values for these parameters include:\n",
    "\n",
    "* productType: *AUXILIARY*, *CATALOG*, *INFO*, *SCIENCE*\n",
    "* productSubGroupDescription: N/A\n",
    "* productGroupDescription: *Minimum Recommended Products*\n",
    "* mrp_only: *True*, *False*\n",
    "\n",
    "Note that *productSubGroupDescription* and *productGroupDescription* are generally not needed when filtering for Pan-STARRS products."
   ]
  },
  {
   "cell_type": "markdown",
   "metadata": {},
   "source": [
    "Let's start with GALEX:"
   ]
  },
  {
   "cell_type": "code",
   "execution_count": 6,
   "metadata": {
    "execution": {
     "iopub.execute_input": "2025-09-10T19:00:14.550696Z",
     "iopub.status.busy": "2025-09-10T19:00:14.550520Z",
     "iopub.status.idle": "2025-09-10T19:00:14.565065Z",
     "shell.execute_reply": "2025-09-10T19:00:14.564488Z"
    }
   },
   "outputs": [
    {
     "name": "stdout",
     "output_type": "stream",
     "text": [
      "We are left with 7 files.\n"
     ]
    },
    {
     "data": {
      "text/html": [
       "<div><i>Table masked=True length=7</i>\n",
       "<table id=\"table140478387431696\" class=\"table-striped table-bordered table-condensed\">\n",
       "<thead><tr><th>obsID</th><th>obs_collection</th><th>dataproduct_type</th><th>obs_id</th><th>description</th><th>type</th><th>dataURI</th><th>productType</th><th>productGroupDescription</th><th>productSubGroupDescription</th><th>productDocumentationURL</th><th>project</th><th>prvversion</th><th>proposal_id</th><th>productFilename</th><th>size</th><th>parent_obsid</th><th>dataRights</th><th>calib_level</th><th>filters</th></tr></thead>\n",
       "<thead><tr><th>str7</th><th>str5</th><th>str8</th><th>str43</th><th>str139</th><th>str1</th><th>str166</th><th>str9</th><th>str28</th><th>str56</th><th>str1</th><th>str3</th><th>str3</th><th>str3</th><th>str68</th><th>int64</th><th>str7</th><th>str10</th><th>int64</th><th>str3</th></tr></thead>\n",
       "<tr><td>665</td><td>GALEX</td><td>image</td><td>2436590472420917248</td><td>Intensity map (J2000)</td><td>C</td><td>mast:GALEX/url/data/GR6/pipe/01-vsn/03716-MISDR1_18032_0666/d/01-main/0001-img/07-try/MISDR1_18032_0666-fd-int.fits.gz</td><td>SCIENCE</td><td>Minimum Recommended Products</td><td>Imaging Only</td><td>--</td><td>MIS</td><td>--</td><td>--</td><td>MISDR1_18032_0666-fd-int.fits.gz</td><td>9559896</td><td>665</td><td>PUBLIC</td><td>2</td><td>FUV</td></tr>\n",
       "<tr><td>665</td><td>GALEX</td><td>image</td><td>2436590472420917248</td><td>Intensity map (J2000)</td><td>C</td><td>mast:GALEX/url/data/GR6/pipe/01-vsn/03716-MISDR1_18032_0666/d/01-main/0001-img/07-try/MISDR1_18032_0666-nd-int.fits.gz</td><td>SCIENCE</td><td>Minimum Recommended Products</td><td>Imaging Only</td><td>--</td><td>MIS</td><td>--</td><td>--</td><td>MISDR1_18032_0666-nd-int.fits.gz</td><td>17603914</td><td>665</td><td>PUBLIC</td><td>2</td><td>NUV</td></tr>\n",
       "<tr><td>4923</td><td>GALEX</td><td>image</td><td>3209978155506860032</td><td>Intensity map (J2000)</td><td>C</td><td>mast:GALEX/url/data/GR7/pipe/01-vsn/25697-GI5_028097_W1_18085_0274/d/01-main/0007-img/07-try/GI5_028097_W1_18085_0274-nd-int.fits.gz</td><td>SCIENCE</td><td>Minimum Recommended Products</td><td>Imaging Only</td><td>--</td><td>GII</td><td>--</td><td>177</td><td>GI5_028097_W1_18085_0274-nd-int.fits.gz</td><td>17139488</td><td>4923</td><td>PUBLIC</td><td>2</td><td>NUV</td></tr>\n",
       "<tr><td>29153</td><td>GALEX</td><td>image</td><td>6380521092288610304</td><td>Intensity map (J2000)</td><td>C</td><td>mast:GALEX/url/data/GR6/pipe/02-vsn/50273-AIS_273/d/01-main/0001-img/07-try/AIS_273_sg03-fd-int.fits.gz</td><td>SCIENCE</td><td>Minimum Recommended Products</td><td>Imaging Only</td><td>--</td><td>AIS</td><td>--</td><td>--</td><td>AIS_273_sg03-fd-int.fits.gz</td><td>1455226</td><td>29153</td><td>PUBLIC</td><td>2</td><td>FUV</td></tr>\n",
       "<tr><td>29153</td><td>GALEX</td><td>image</td><td>6380521092288610304</td><td>Intensity map (J2000)</td><td>C</td><td>mast:GALEX/url/data/GR6/pipe/02-vsn/50273-AIS_273/d/01-main/0001-img/07-try/AIS_273_sg03-nd-int.fits.gz</td><td>SCIENCE</td><td>Minimum Recommended Products</td><td>Imaging Only</td><td>--</td><td>AIS</td><td>--</td><td>--</td><td>AIS_273_sg03-nd-int.fits.gz</td><td>7683367</td><td>29153</td><td>PUBLIC</td><td>2</td><td>NUV</td></tr>\n",
       "<tr><td>29161</td><td>GALEX</td><td>image</td><td>6380521100878544896</td><td>Intensity map (J2000)</td><td>C</td><td>mast:GALEX/url/data/GR6/pipe/02-vsn/50273-AIS_273/d/01-main/0001-img/07-try/AIS_273_sg11-fd-int.fits.gz</td><td>SCIENCE</td><td>Minimum Recommended Products</td><td>Imaging Only</td><td>--</td><td>AIS</td><td>--</td><td>--</td><td>AIS_273_sg11-fd-int.fits.gz</td><td>1234059</td><td>29161</td><td>PUBLIC</td><td>2</td><td>FUV</td></tr>\n",
       "<tr><td>29161</td><td>GALEX</td><td>image</td><td>6380521100878544896</td><td>Intensity map (J2000)</td><td>C</td><td>mast:GALEX/url/data/GR6/pipe/02-vsn/50273-AIS_273/d/01-main/0001-img/07-try/AIS_273_sg11-nd-int.fits.gz</td><td>SCIENCE</td><td>Minimum Recommended Products</td><td>Imaging Only</td><td>--</td><td>AIS</td><td>--</td><td>--</td><td>AIS_273_sg11-nd-int.fits.gz</td><td>6783917</td><td>29161</td><td>PUBLIC</td><td>2</td><td>NUV</td></tr>\n",
       "</table></div>"
      ],
      "text/plain": [
       "<Table masked=True length=7>\n",
       "obsID obs_collection dataproduct_type ... dataRights calib_level filters\n",
       " str7      str5            str8       ...   str10       int64      str3 \n",
       "----- -------------- ---------------- ... ---------- ----------- -------\n",
       "  665          GALEX            image ...     PUBLIC           2     FUV\n",
       "  665          GALEX            image ...     PUBLIC           2     NUV\n",
       " 4923          GALEX            image ...     PUBLIC           2     NUV\n",
       "29153          GALEX            image ...     PUBLIC           2     FUV\n",
       "29153          GALEX            image ...     PUBLIC           2     NUV\n",
       "29161          GALEX            image ...     PUBLIC           2     FUV\n",
       "29161          GALEX            image ...     PUBLIC           2     NUV"
      ]
     },
     "metadata": {},
     "output_type": "display_data"
    }
   ],
   "source": [
    "filt_prod_galex = Observations.filter_products(\n",
    "    prod,\n",
    "    obs_collection=\"GALEX\",\n",
    "    productType=\"SCIENCE\",\n",
    "    productSubGroupDescription=\"Imaging Only\",\n",
    "    productGroupDescription=\"Minimum Recommended Products\",\n",
    "    mrp_only=True\n",
    ")\n",
    "\n",
    "# Shows how many files are left after applying the filter.\n",
    "print(f'We are left with {len(filt_prod_galex)} files.')\n",
    "\n",
    "# Shows the filtered table of data products.\n",
    "display(filt_prod_galex)"
   ]
  },
  {
   "cell_type": "markdown",
   "metadata": {},
   "source": [
    "And now let's try Pan-STARRS:"
   ]
  },
  {
   "cell_type": "code",
   "execution_count": 7,
   "metadata": {
    "execution": {
     "iopub.execute_input": "2025-09-10T19:00:14.566706Z",
     "iopub.status.busy": "2025-09-10T19:00:14.566548Z",
     "iopub.status.idle": "2025-09-10T19:00:14.577551Z",
     "shell.execute_reply": "2025-09-10T19:00:14.576960Z"
    }
   },
   "outputs": [
    {
     "name": "stdout",
     "output_type": "stream",
     "text": [
      "We are left with 30 files.\n"
     ]
    },
    {
     "data": {
      "text/html": [
       "<div><i>Table masked=True length=3</i>\n",
       "<table id=\"table140478387365328\" class=\"table-striped table-bordered table-condensed\">\n",
       "<thead><tr><th>obsID</th><th>obs_collection</th><th>dataproduct_type</th><th>obs_id</th><th>description</th><th>type</th><th>dataURI</th><th>productType</th><th>productGroupDescription</th><th>productSubGroupDescription</th><th>productDocumentationURL</th><th>project</th><th>prvversion</th><th>proposal_id</th><th>productFilename</th><th>size</th><th>parent_obsid</th><th>dataRights</th><th>calib_level</th><th>filters</th></tr></thead>\n",
       "<thead><tr><th>str7</th><th>str5</th><th>str8</th><th>str43</th><th>str139</th><th>str1</th><th>str166</th><th>str9</th><th>str28</th><th>str56</th><th>str1</th><th>str3</th><th>str3</th><th>str3</th><th>str68</th><th>int64</th><th>str7</th><th>str10</th><th>int64</th><th>str3</th></tr></thead>\n",
       "<tr><td>1972016</td><td>PS1</td><td>image</td><td>rings.v3.skycell.1062.048.stk.g</td><td>stack data image</td><td>C</td><td>mast:PS1/product/rings.v3.skycell.1062.048.stk.g.unconv.fits</td><td>SCIENCE</td><td>Minimum Recommended Products</td><td>STACK</td><td>--</td><td>3PI</td><td>pv3</td><td>--</td><td>rings.v3.skycell.1062.048.stk.g.unconv.fits</td><td>66795840</td><td>1972016</td><td>PUBLIC</td><td>3</td><td>g</td></tr>\n",
       "<tr><td>1972017</td><td>PS1</td><td>image</td><td>rings.v3.skycell.1062.048.stk.i</td><td>stack data image</td><td>C</td><td>mast:PS1/product/rings.v3.skycell.1062.048.stk.i.unconv.fits</td><td>SCIENCE</td><td>Minimum Recommended Products</td><td>STACK</td><td>--</td><td>3PI</td><td>pv3</td><td>--</td><td>rings.v3.skycell.1062.048.stk.i.unconv.fits</td><td>65960640</td><td>1972017</td><td>PUBLIC</td><td>3</td><td>i</td></tr>\n",
       "<tr><td>1972018</td><td>PS1</td><td>image</td><td>rings.v3.skycell.1062.048.stk.r</td><td>stack data image</td><td>C</td><td>mast:PS1/product/rings.v3.skycell.1062.048.stk.r.unconv.fits</td><td>SCIENCE</td><td>Minimum Recommended Products</td><td>STACK</td><td>--</td><td>3PI</td><td>pv3</td><td>--</td><td>rings.v3.skycell.1062.048.stk.r.unconv.fits</td><td>67515840</td><td>1972018</td><td>PUBLIC</td><td>3</td><td>r</td></tr>\n",
       "</table></div>"
      ],
      "text/plain": [
       "<Table masked=True length=3>\n",
       " obsID  obs_collection dataproduct_type ... dataRights calib_level filters\n",
       "  str7       str5            str8       ...   str10       int64      str3 \n",
       "------- -------------- ---------------- ... ---------- ----------- -------\n",
       "1972016            PS1            image ...     PUBLIC           3       g\n",
       "1972017            PS1            image ...     PUBLIC           3       i\n",
       "1972018            PS1            image ...     PUBLIC           3       r"
      ]
     },
     "metadata": {},
     "output_type": "display_data"
    }
   ],
   "source": [
    "filt_prod_ps1 = Observations.filter_products(\n",
    "    prod,\n",
    "    obs_collection=\"PS1\",\n",
    "    mrp_only=True\n",
    ")\n",
    "\n",
    "# Show how many files are left after applying the filter.\n",
    "print(f'We are left with {len(filt_prod_ps1)} files.')\n",
    "\n",
    "# Show the first few rows of the filtered table of data products.\n",
    "display(filt_prod_ps1[0:3])"
   ]
  },
  {
   "cell_type": "markdown",
   "metadata": {},
   "source": [
    "### Step 4\n",
    "\n",
    "Download the files you need to your local computer using `Observations.download_products`! For example, for GALEX:"
   ]
  },
  {
   "cell_type": "code",
   "execution_count": 8,
   "metadata": {
    "execution": {
     "iopub.execute_input": "2025-09-10T19:00:14.579118Z",
     "iopub.status.busy": "2025-09-10T19:00:14.578957Z",
     "iopub.status.idle": "2025-09-10T19:00:20.327362Z",
     "shell.execute_reply": "2025-09-10T19:00:20.326763Z"
    }
   },
   "outputs": [
    {
     "name": "stdout",
     "output_type": "stream",
     "text": [
      "Downloading URL s3://stpubdata/galex/GR6/pipe/01-vsn/03716-MISDR1_18032_0666/d/01-main/0001-img/07-try/MISDR1_18032_0666-fd-int.fits.gz to ./mastDownload/GALEX/2436590472420917248/MISDR1_18032_0666-fd-int.fits.gz ..."
     ]
    },
    {
     "name": "stdout",
     "output_type": "stream",
     "text": [
      " [Done]\n"
     ]
    },
    {
     "name": "stdout",
     "output_type": "stream",
     "text": [
      "Downloading URL s3://stpubdata/galex/GR6/pipe/01-vsn/03716-MISDR1_18032_0666/d/01-main/0001-img/07-try/MISDR1_18032_0666-nd-int.fits.gz to ./mastDownload/GALEX/2436590472420917248/MISDR1_18032_0666-nd-int.fits.gz ..."
     ]
    },
    {
     "name": "stdout",
     "output_type": "stream",
     "text": [
      " [Done]\n"
     ]
    },
    {
     "name": "stdout",
     "output_type": "stream",
     "text": [
      "Downloading URL s3://stpubdata/galex/GR6/pipe/02-vsn/50273-AIS_273/d/01-main/0001-img/07-try/AIS_273_sg03-fd-int.fits.gz to ./mastDownload/GALEX/6380521092288610304/AIS_273_sg03-fd-int.fits.gz ..."
     ]
    },
    {
     "name": "stdout",
     "output_type": "stream",
     "text": [
      " [Done]\n"
     ]
    },
    {
     "name": "stdout",
     "output_type": "stream",
     "text": [
      "Downloading URL s3://stpubdata/galex/GR6/pipe/02-vsn/50273-AIS_273/d/01-main/0001-img/07-try/AIS_273_sg03-nd-int.fits.gz to ./mastDownload/GALEX/6380521092288610304/AIS_273_sg03-nd-int.fits.gz ..."
     ]
    },
    {
     "name": "stdout",
     "output_type": "stream",
     "text": [
      " [Done]\n"
     ]
    },
    {
     "name": "stdout",
     "output_type": "stream",
     "text": [
      "Downloading URL s3://stpubdata/galex/GR6/pipe/02-vsn/50273-AIS_273/d/01-main/0001-img/07-try/AIS_273_sg11-fd-int.fits.gz to ./mastDownload/GALEX/6380521100878544896/AIS_273_sg11-fd-int.fits.gz ..."
     ]
    },
    {
     "name": "stdout",
     "output_type": "stream",
     "text": [
      " [Done]\n"
     ]
    },
    {
     "name": "stdout",
     "output_type": "stream",
     "text": [
      "Downloading URL s3://stpubdata/galex/GR6/pipe/02-vsn/50273-AIS_273/d/01-main/0001-img/07-try/AIS_273_sg11-nd-int.fits.gz to ./mastDownload/GALEX/6380521100878544896/AIS_273_sg11-nd-int.fits.gz ..."
     ]
    },
    {
     "name": "stdout",
     "output_type": "stream",
     "text": [
      " [Done]\n"
     ]
    },
    {
     "name": "stdout",
     "output_type": "stream",
     "text": [
      "Downloading URL s3://stpubdata/galex/GR7/pipe/01-vsn/25697-GI5_028097_W1_18085_0274/d/01-main/0007-img/07-try/GI5_028097_W1_18085_0274-nd-int.fits.gz to ./mastDownload/GALEX/3209978155506860032/GI5_028097_W1_18085_0274-nd-int.fits.gz ..."
     ]
    },
    {
     "name": "stdout",
     "output_type": "stream",
     "text": [
      " [Done]\n"
     ]
    },
    {
     "data": {
      "text/html": [
       "<div><i>Table length=7</i>\n",
       "<table id=\"table140478393523088\" class=\"table-striped table-bordered table-condensed\">\n",
       "<thead><tr><th>Local Path</th><th>Status</th><th>Message</th><th>URL</th></tr></thead>\n",
       "<thead><tr><th>str80</th><th>str8</th><th>object</th><th>object</th></tr></thead>\n",
       "<tr><td>./mastDownload/GALEX/2436590472420917248/MISDR1_18032_0666-fd-int.fits.gz</td><td>COMPLETE</td><td>None</td><td>None</td></tr>\n",
       "<tr><td>./mastDownload/GALEX/2436590472420917248/MISDR1_18032_0666-nd-int.fits.gz</td><td>COMPLETE</td><td>None</td><td>None</td></tr>\n",
       "<tr><td>./mastDownload/GALEX/6380521092288610304/AIS_273_sg03-fd-int.fits.gz</td><td>COMPLETE</td><td>None</td><td>None</td></tr>\n",
       "<tr><td>./mastDownload/GALEX/6380521092288610304/AIS_273_sg03-nd-int.fits.gz</td><td>COMPLETE</td><td>None</td><td>None</td></tr>\n",
       "<tr><td>./mastDownload/GALEX/6380521100878544896/AIS_273_sg11-fd-int.fits.gz</td><td>COMPLETE</td><td>None</td><td>None</td></tr>\n",
       "<tr><td>./mastDownload/GALEX/6380521100878544896/AIS_273_sg11-nd-int.fits.gz</td><td>COMPLETE</td><td>None</td><td>None</td></tr>\n",
       "<tr><td>./mastDownload/GALEX/3209978155506860032/GI5_028097_W1_18085_0274-nd-int.fits.gz</td><td>COMPLETE</td><td>None</td><td>None</td></tr>\n",
       "</table></div>"
      ],
      "text/plain": [
       "<Table length=7>\n",
       "                                   Local Path                                    ...\n",
       "                                     str80                                       ...\n",
       "-------------------------------------------------------------------------------- ...\n",
       "       ./mastDownload/GALEX/2436590472420917248/MISDR1_18032_0666-fd-int.fits.gz ...\n",
       "       ./mastDownload/GALEX/2436590472420917248/MISDR1_18032_0666-nd-int.fits.gz ...\n",
       "            ./mastDownload/GALEX/6380521092288610304/AIS_273_sg03-fd-int.fits.gz ...\n",
       "            ./mastDownload/GALEX/6380521092288610304/AIS_273_sg03-nd-int.fits.gz ...\n",
       "            ./mastDownload/GALEX/6380521100878544896/AIS_273_sg11-fd-int.fits.gz ...\n",
       "            ./mastDownload/GALEX/6380521100878544896/AIS_273_sg11-nd-int.fits.gz ...\n",
       "./mastDownload/GALEX/3209978155506860032/GI5_028097_W1_18085_0274-nd-int.fits.gz ..."
      ]
     },
     "execution_count": 8,
     "metadata": {},
     "output_type": "execute_result"
    }
   ],
   "source": [
    "Observations.download_products(filt_prod_galex, cloud_only=True)"
   ]
  },
  {
   "cell_type": "markdown",
   "metadata": {},
   "source": [
    "Note that, because you turned on `Observations.enable_cloud_dataset` earlier, `download_products` will attempt to download every file from the AWS S3 bucket no matter what you set for `cloud_only`. However, if you leave `cloud_only=False` as per the default, astroquery will download a file from MAST's on-premise server if it can't find the file in AWS. If you turn on `cloud_only=True` as above, astroquery will skip downloading any file that it can't find in AWS."
   ]
  },
  {
   "cell_type": "markdown",
   "metadata": {},
   "source": [
    "## About this Notebook\n",
    "\n",
    "* **Authors**: Yingquan Li, Bernie Shao, Adrian Lucy\n",
    "* **Keywords**: GALEX, Pan-STARRS, Bulk Download, Python, AWS\n",
    "* **Updated On**: 2025-04-23\n",
    "* **References**: [Missions Mast Search](https://github.com/spacetelescope/mast_notebooks/blob/main/notebooks/multi_mission/missions_mast_search/missions_mast_search.ipynb)\n",
    "\n",
    "For support, please contact the Archive HelpDesk at archive@stsci.edu.\n",
    "\n",
    "<img style=\"float: right;\" src=\"https://raw.githubusercontent.com/spacetelescope/style-guides/master/guides/images/stsci-logo.png\" alt=\"Space Telescope Logo\\\" width=\"200px\"/> "
   ]
  }
 ],
 "metadata": {
  "kernelspec": {
   "display_name": "Python 3 (ipykernel)",
   "language": "python",
   "name": "python3"
  },
  "language_info": {
   "codemirror_mode": {
    "name": "ipython",
    "version": 3
   },
   "file_extension": ".py",
   "mimetype": "text/x-python",
   "name": "python",
   "nbconvert_exporter": "python",
   "pygments_lexer": "ipython3",
   "version": "3.11.13"
  }
 },
 "nbformat": 4,
 "nbformat_minor": 4
}
