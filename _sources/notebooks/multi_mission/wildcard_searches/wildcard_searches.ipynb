{
 "cells": [
  {
   "cell_type": "markdown",
   "id": "ba875f5a",
   "metadata": {},
   "source": [
    "# Wildcard Handling with Astroquery.mast"
   ]
  },
  {
   "cell_type": "markdown",
   "id": "82aa07ce",
   "metadata": {},
   "source": [
    "----"
   ]
  },
  {
   "cell_type": "markdown",
   "id": "f663f21e",
   "metadata": {},
   "source": [
    "## Learning Goals"
   ]
  },
  {
   "cell_type": "markdown",
   "id": "683067ea",
   "metadata": {},
   "source": [
    "By the end of this tutorial, you will:\n",
    "\n",
    "* Use the wildcards available for `astroquery.mast.Observations` criteria queries\n",
    "* Broaden and refine `astroquery.mast.Observations` criteria queries\n",
    "* Fully utilize the `instrument_name` criteria, especially for JWST queries\n",
    "* Query for moving targets using target ephemeris and time criteria such as `t_min` and `t_max`"
   ]
  },
  {
   "cell_type": "markdown",
   "id": "299dbd42",
   "metadata": {},
   "source": [
    "## Introduction"
   ]
  },
  {
   "cell_type": "markdown",
   "id": "e3f8b9c2",
   "metadata": {},
   "source": [
    "This Notebook demonstrates the use of wildcards in `astroquery.mast.Observations` criteria queries. The use of wildcards is encouraged for certain criteria types (namely, `string` object types) to ensure your query returns all results. \n",
    "\n",
    "We will demonstrate 3 use-cases for wildcards when doing criteria queries and emphasize certain criteria where wildcard usage is highly encouraged, particularly for JWST queries. We will also use the last example to demonstrate the use of value ranges when working with `float` object criteria types.\n",
    "\n",
    "The workflow for this notebook consists of:\n",
    "\n",
    "* [Wildcard overview with `astroquery.mast.Observations`](#overview)\n",
    "    1. [Wildcard Search with `instrument_name`](#case1)\n",
    "    2. [Wildcard Search with `instrument_name` and `proposal_id`](#case2)\n",
    "    3. [Wildcard Search a Time-sensitive Object with `target_name` and `t_min`](#case3)\n",
    "* Resources"
   ]
  },
  {
   "cell_type": "markdown",
   "id": "081aec44",
   "metadata": {},
   "source": [
    "## Imports"
   ]
  },
  {
   "cell_type": "code",
   "execution_count": 1,
   "id": "e3b0d9a0",
   "metadata": {
    "execution": {
     "iopub.execute_input": "2025-09-10T18:58:15.951923Z",
     "iopub.status.busy": "2025-09-10T18:58:15.951747Z",
     "iopub.status.idle": "2025-09-10T18:58:18.929534Z",
     "shell.execute_reply": "2025-09-10T18:58:18.928912Z"
    }
   },
   "outputs": [],
   "source": [
    "import astropy.units as u\n",
    "import matplotlib.pyplot as plt\n",
    "\n",
    "from astropy.coordinates import SkyCoord\n",
    "from astropy.table import Table, unique, vstack\n",
    "from astropy.time import Time\n",
    "from astroquery.mast import Observations"
   ]
  },
  {
   "cell_type": "markdown",
   "id": "6fa247ec",
   "metadata": {},
   "source": [
    "----"
   ]
  },
  {
   "cell_type": "markdown",
   "id": "9485fb4d",
   "metadata": {},
   "source": [
    "<a id=\"overview\"></a>\n",
    "## Wildcards with `astroquery.mast.Observations`"
   ]
  },
  {
   "cell_type": "markdown",
   "id": "01935242",
   "metadata": {},
   "source": [
    "The use of wildcards when making `astroquery.mast.Observations` queries can help ensure you retrieve all observations without leaving anything out. The available wildcards are `%` and `*`: `%` replaces a single character, while `*` replaces more than one character preceding, following, or in between the existing characters, depending on its placement. See the [Observation Criteria Queries](https://astroquery.readthedocs.io/en/latest/mast/mast.html#observation-criteria-queries) section in the `astroquery.mast` documentation for more information on the wildcards.\n",
    "\n",
    "Wildcards are only available for certain criteria. `string` type objects accept wildcards, but `float`, `integer`, or any other objects do not accept wildcards.\n",
    "\n",
    "Users may call the `get_metadata` method to see the list of query criteria and their data types. The criteria listed as `string` objects under the **Data Type** column are criteria that can be called with wildcards:"
   ]
  },
  {
   "cell_type": "code",
   "execution_count": 2,
   "id": "a892c185",
   "metadata": {
    "execution": {
     "iopub.execute_input": "2025-09-10T18:58:18.931747Z",
     "iopub.status.busy": "2025-09-10T18:58:18.931556Z",
     "iopub.status.idle": "2025-09-10T18:58:19.363761Z",
     "shell.execute_reply": "2025-09-10T18:58:19.363122Z"
    },
    "scrolled": true
   },
   "outputs": [
    {
     "data": {
      "text/html": [
       "<div><i>Table length=34</i>\n",
       "<table id=\"table140162177792656\" class=\"table-striped table-bordered table-condensed\">\n",
       "<thead><tr><th>Column Name</th><th>Column Label</th><th>Data Type</th><th>Units</th><th>Description</th><th>Examples/Valid Values</th></tr></thead>\n",
       "<thead><tr><th>str21</th><th>str25</th><th>str7</th><th>str10</th><th>str72</th><th>str116</th></tr></thead>\n",
       "<tr><td>intentType</td><td>Observation Type</td><td>string</td><td></td><td>Whether observation is for science or calibration.</td><td>Valid values: science, calibration</td></tr>\n",
       "<tr><td>obs_collection</td><td>Mission</td><td>string</td><td></td><td>Collection</td><td>E.g. SWIFT, PS1, HST, IUE</td></tr>\n",
       "<tr><td>provenance_name</td><td>Provenance Name</td><td>string</td><td></td><td>Provenance name, or source of data</td><td>E.g. TASOC, CALSTIS, PS1</td></tr>\n",
       "<tr><td>instrument_name</td><td>Instrument</td><td>string</td><td></td><td>Instrument Name</td><td>E.g. WFPC2/WFC, UVOT, STIS/CCD</td></tr>\n",
       "<tr><td>project</td><td>Project</td><td>string</td><td></td><td>Processing project</td><td>E.g. HST, HLA, EUVE, hlsp_legus</td></tr>\n",
       "<tr><td>filters</td><td>Filters</td><td>string</td><td></td><td>Instrument filters</td><td>F469N, NUV, FUV, LOW DISP, MIRROR</td></tr>\n",
       "<tr><td>wavelength_region</td><td>Waveband</td><td>string</td><td></td><td>Energy Band</td><td>EUV, XRAY, OPTICAL</td></tr>\n",
       "<tr><td>target_name</td><td>Target Name</td><td>string</td><td></td><td>Target Name</td><td>Ex. COMET-67P-CHURYUMOV-GER-UPDATE</td></tr>\n",
       "<tr><td>target_classification</td><td>Target Classification</td><td>string</td><td></td><td>Type of target</td><td>Ex. COMET;COMET BEING ORBITED BY THE ROSETTA SPACECRAFT;SOLAR SYSTEM</td></tr>\n",
       "<tr><td>...</td><td>...</td><td>...</td><td>...</td><td>...</td><td>...</td></tr>\n",
       "<tr><td>s_region</td><td>s_region</td><td>string</td><td>ICRS Shape</td><td>STC/S Footprint</td><td>Will be ICRS circle or polygon. E.g. CIRCLE ICRS 17.71740689 -58.40043015 0.625</td></tr>\n",
       "<tr><td>jpegURL</td><td>jpegURL</td><td>string</td><td></td><td>Preview Image URL</td><td>https://archive.stsci.edu/hst/previews/N4QF/N4QF18090.jpg</td></tr>\n",
       "<tr><td>distance</td><td>Distance (&quot;)</td><td>float</td><td>arcsec</td><td>Angular separation between searched coordinates and center of obsevation</td><td></td></tr>\n",
       "<tr><td>obsid</td><td>Product Group ID</td><td>integer</td><td></td><td>Database identifier for obs_id</td><td>Long integer, e.g. 2007590987</td></tr>\n",
       "<tr><td>dataRights</td><td>Data Rights</td><td>string</td><td></td><td>Data Rights</td><td>valid values: public,exclusive_access,restricted</td></tr>\n",
       "<tr><td>mtFlag</td><td>Moving Target</td><td>boolean</td><td></td><td>Moving Target Flag</td><td>If True, observation contains a moving target, if False or absent observation may or may not contain a moving target</td></tr>\n",
       "<tr><td>srcDen</td><td>Number of Catalog Objects</td><td>float</td><td></td><td>Number of cataloged objects found in observation</td><td></td></tr>\n",
       "<tr><td>dataURL</td><td>Data URL</td><td>string</td><td></td><td>Data URL</td><td></td></tr>\n",
       "<tr><td>proposal_type</td><td>Proposal Type</td><td>string</td><td></td><td>Type of telescope proposal</td><td>Eg. 3PI, GO, GO/DD, HLA, GII, AIS</td></tr>\n",
       "<tr><td>sequence_number</td><td>Sequence Number</td><td>integer</td><td></td><td>Sequence number, e.g. Kepler quarter or TESS sector</td><td></td></tr>\n",
       "</table></div>"
      ],
      "text/plain": [
       "<Table length=34>\n",
       "     Column Name      ...\n",
       "        str21         ...\n",
       "--------------------- ...\n",
       "           intentType ...\n",
       "       obs_collection ...\n",
       "      provenance_name ...\n",
       "      instrument_name ...\n",
       "              project ...\n",
       "              filters ...\n",
       "    wavelength_region ...\n",
       "          target_name ...\n",
       "target_classification ...\n",
       "                  ... ...\n",
       "             s_region ...\n",
       "              jpegURL ...\n",
       "             distance ...\n",
       "                obsid ...\n",
       "           dataRights ...\n",
       "               mtFlag ...\n",
       "               srcDen ...\n",
       "              dataURL ...\n",
       "        proposal_type ...\n",
       "      sequence_number ..."
      ]
     },
     "execution_count": 2,
     "metadata": {},
     "output_type": "execute_result"
    }
   ],
   "source": [
    "Observations.get_metadata(\"observations\")"
   ]
  },
  {
   "cell_type": "markdown",
   "id": "74d0a968",
   "metadata": {},
   "source": [
    "<a id=\"case1\"></a>\n",
    "### Case 1: Wildcard Search with `instrument_name`"
   ]
  },
  {
   "cell_type": "markdown",
   "id": "6b80645c",
   "metadata": {},
   "source": [
    "For our first example we will search for all NIRISS observations taken by a certain proposal/program PI. Our two query criteria are `proposal_pi` and `instrument_name`, which are both `string` object criteria. As such, both can be wildcarded for ease of use. \n",
    "\n",
    "In fact, it is sometimes necessary to use wildcards when searching on `instrument_name`. Both HST and JWST use instrument configurations in this field to allow for more precise advanced searches (e.g. NIRISS/IMAGE and STIS/FUV-MAMA). When performing a \"generic\" search, you must include a wildcard or these more detailed results will be excluded.\n",
    "\n",
    "We will demonstrate this by looking at the results for the query below:"
   ]
  },
  {
   "cell_type": "code",
   "execution_count": 3,
   "id": "c88ef2ed",
   "metadata": {
    "execution": {
     "iopub.execute_input": "2025-09-10T18:58:19.365745Z",
     "iopub.status.busy": "2025-09-10T18:58:19.365557Z",
     "iopub.status.idle": "2025-09-10T18:58:20.097016Z",
     "shell.execute_reply": "2025-09-10T18:58:20.096430Z"
    },
    "scrolled": true
   },
   "outputs": [
    {
     "data": {
      "text/html": [
       "<div><i>Table masked=True length=234</i>\n",
       "<table id=\"table140162178313104\" class=\"table-striped table-bordered table-condensed\">\n",
       "<thead><tr><th>intentType</th><th>obs_collection</th><th>provenance_name</th><th>instrument_name</th><th>project</th><th>filters</th><th>wavelength_region</th><th>target_name</th><th>target_classification</th><th>obs_id</th><th>s_ra</th><th>s_dec</th><th>dataproduct_type</th><th>proposal_pi</th><th>calib_level</th><th>t_min</th><th>t_max</th><th>t_exptime</th><th>em_min</th><th>em_max</th><th>obs_title</th><th>t_obs_release</th><th>proposal_id</th><th>proposal_type</th><th>sequence_number</th><th>s_region</th><th>jpegURL</th><th>dataURL</th><th>dataRights</th><th>mtFlag</th><th>srcDen</th><th>obsid</th><th>objID</th></tr></thead>\n",
       "<thead><tr><th>str7</th><th>str4</th><th>str7</th><th>str12</th><th>str4</th><th>str13</th><th>str8</th><th>str14</th><th>str54</th><th>str50</th><th>float64</th><th>float64</th><th>str10</th><th>str16</th><th>int64</th><th>float64</th><th>float64</th><th>float64</th><th>float64</th><th>float64</th><th>str70</th><th>float64</th><th>str4</th><th>str3</th><th>int64</th><th>str132</th><th>str63</th><th>str81</th><th>str6</th><th>bool</th><th>float64</th><th>str9</th><th>str9</th></tr></thead>\n",
       "<tr><td>science</td><td>JWST</td><td>CALJWST</td><td>NIRISS/IMAGE</td><td>JWST</td><td>CLEAR;GR700XD</td><td>INFRARED</td><td>LAT60-LONG170</td><td>Calibration; Stray light test</td><td>jw06658006003_02103_00001_nis</td><td>209.87083333333334</td><td>55.98163888888889</td><td>image</td><td>Espinoza, Nestor</td><td>2</td><td>60730.86301813657</td><td>60730.86438508102</td><td>107.368</td><td>600.0</td><td>2800.0</td><td>CAL-NIS-307: SOSS background measurements</td><td>60730.88253467</td><td>6658</td><td>CAL</td><td>--</td><td>POLYGON 209.884353009 56.010420829 209.911590978 55.976539549 209.850552771 55.961351186 209.823235887 55.995199858</td><td>mast:JWST/product/jw06658006003_02103_00001_nis_trapsfilled.jpg</td><td>mast:JWST/product/jw06658006003_02103_00001_nis_rateints.fits</td><td>PUBLIC</td><td>False</td><td>nan</td><td>243253919</td><td>848149878</td></tr>\n",
       "<tr><td>science</td><td>JWST</td><td>CALJWST</td><td>NIRISS/IMAGE</td><td>JWST</td><td>CLEAR;GR700XD</td><td>INFRARED</td><td>LAT60-LONG170</td><td>Calibration; Stray light test</td><td>jw06658006001_03101_00001_nis</td><td>209.87083333333334</td><td>55.98163888888889</td><td>image</td><td>Espinoza, Nestor</td><td>2</td><td>60730.04284648148</td><td>60730.04421342593</td><td>107.368</td><td>600.0</td><td>2800.0</td><td>CAL-NIS-307: SOSS background measurements</td><td>60730.17001152</td><td>6658</td><td>CAL</td><td>--</td><td>POLYGON 209.860538216 55.994333641 209.887785953 55.960457671 209.826782557 55.94525742 209.79945601 55.979100775</td><td>mast:JWST/product/jw06658006001_03101_00001_nis_trapsfilled.jpg</td><td>mast:JWST/product/jw06658006001_03101_00001_nis_rateints.fits</td><td>PUBLIC</td><td>False</td><td>nan</td><td>243202118</td><td>848149881</td></tr>\n",
       "<tr><td>science</td><td>JWST</td><td>CALJWST</td><td>NIRISS/IMAGE</td><td>JWST</td><td>CLEAR;GR700XD</td><td>INFRARED</td><td>LAT60-LONG170</td><td>Calibration; Stray light test</td><td>jw06658006001_05101_00001_nis</td><td>209.87083333333334</td><td>55.98163888888889</td><td>image</td><td>Espinoza, Nestor</td><td>2</td><td>60730.04843018518</td><td>60730.04979712963</td><td>107.368</td><td>600.0</td><td>2800.0</td><td>CAL-NIS-307: SOSS background measurements</td><td>60730.16982634</td><td>6658</td><td>CAL</td><td>--</td><td>POLYGON 209.85378515 56.002818453 209.881044559 55.968943916 209.820030345 55.953740453 209.792692106 55.987582367</td><td>mast:JWST/product/jw06658006001_05101_00001_nis_trapsfilled.jpg</td><td>mast:JWST/product/jw06658006001_05101_00001_nis_rateints.fits</td><td>PUBLIC</td><td>False</td><td>nan</td><td>243202122</td><td>848149898</td></tr>\n",
       "<tr><td>science</td><td>JWST</td><td>CALJWST</td><td>NIRISS/IMAGE</td><td>JWST</td><td>CLEAR;GR700XD</td><td>INFRARED</td><td>LAT60-LONG170</td><td>Calibration; Stray light test</td><td>jw06658006003_02101_00001_nis</td><td>209.87083333333334</td><td>55.98163888888889</td><td>image</td><td>Espinoza, Nestor</td><td>2</td><td>60730.8577803588</td><td>60730.85914730324</td><td>107.368</td><td>600.0</td><td>2800.0</td><td>CAL-NIS-307: SOSS background measurements</td><td>60730.88265037</td><td>6658</td><td>CAL</td><td>--</td><td>POLYGON 209.891095521 56.00193274 209.918320257 55.968049636 209.857292187 55.952865364 209.829988552 55.98671587</td><td>mast:JWST/product/jw06658006003_02101_00001_nis_trapsfilled.jpg</td><td>mast:JWST/product/jw06658006003_02101_00001_nis_rateints.fits</td><td>PUBLIC</td><td>False</td><td>nan</td><td>243253920</td><td>848149904</td></tr>\n",
       "<tr><td>science</td><td>JWST</td><td>CALJWST</td><td>NIRISS/IMAGE</td><td>JWST</td><td>CLEAR;GR700XD</td><td>INFRARED</td><td>ECLIPTIC-RA20</td><td>Calibration; External flat field</td><td>jw06658004001_02103_00001_nis</td><td>27.652133333333335</td><td>11.538361111111112</td><td>image</td><td>Espinoza, Nestor</td><td>2</td><td>60528.102236516206</td><td>60528.10360346065</td><td>107.368</td><td>600.0</td><td>2800.0</td><td>CAL-NIS-307: SOSS background measurements</td><td>60528.37671287</td><td>6658</td><td>CAL</td><td>--</td><td>POLYGON 27.643848626 11.560123528 27.657095897 11.525316236 27.621290101 11.512407714 27.608017119 11.547195632</td><td>mast:JWST/product/jw06658004001_02103_00001_nis_trapsfilled.jpg</td><td>mast:JWST/product/jw06658004001_02103_00001_nis_rateints.fits</td><td>PUBLIC</td><td>False</td><td>nan</td><td>226939326</td><td>848176371</td></tr>\n",
       "<tr><td>science</td><td>JWST</td><td>CALJWST</td><td>NIRISS/IMAGE</td><td>JWST</td><td>CLEAR;GR700XD</td><td>INFRARED</td><td>ECLIPTIC-RA20</td><td>Calibration; External flat field</td><td>jw06658004001_02101_00001_nis</td><td>27.652133333333335</td><td>11.538361111111112</td><td>image</td><td>Espinoza, Nestor</td><td>2</td><td>60528.09699799769</td><td>60528.09836494213</td><td>107.368</td><td>600.0</td><td>2800.0</td><td>CAL-NIS-307: SOSS background measurements</td><td>60528.38065966</td><td>6658</td><td>CAL</td><td>--</td><td>POLYGON 27.647121704 11.551407475 27.660368281 11.51660008 27.624563489 11.503691838 27.611291205 11.53847986</td><td>mast:JWST/product/jw06658004001_02101_00001_nis_trapsfilled.jpg</td><td>mast:JWST/product/jw06658004001_02101_00001_nis_rateints.fits</td><td>PUBLIC</td><td>False</td><td>nan</td><td>226939320</td><td>848176390</td></tr>\n",
       "<tr><td>science</td><td>JWST</td><td>CALJWST</td><td>NIRISS/IMAGE</td><td>JWST</td><td>CLEAR;GR700XD</td><td>INFRARED</td><td>LAT-30-LONG320</td><td>Calibration; External flat field</td><td>jw06658009001_02103_00001_nis</td><td>334.82304166666665</td><td>-42.85699999999997</td><td>image</td><td>Espinoza, Nestor</td><td>2</td><td>60596.66193460648</td><td>60596.66330155093</td><td>107.368</td><td>600.0</td><td>2800.0</td><td>CAL-NIS-307: SOSS background measurements</td><td>60597.01754628</td><td>6658</td><td>CAL</td><td>--</td><td>POLYGON 334.841740819 -42.875752608 334.811840907 -42.845758267 334.85313257 -42.82383362 334.883063495 -42.853794315</td><td>mast:JWST/product/jw06658009001_02103_00001_nis_trapsfilled.jpg</td><td>mast:JWST/product/jw06658009001_02103_00001_nis_rateints.fits</td><td>PUBLIC</td><td>False</td><td>nan</td><td>230534643</td><td>848176540</td></tr>\n",
       "<tr><td>science</td><td>JWST</td><td>CALJWST</td><td>NIRISS/IMAGE</td><td>JWST</td><td>CLEAR;GR700XD</td><td>INFRARED</td><td>LAT-30-LONG320</td><td>Calibration; External flat field</td><td>jw06658009001_02101_00001_nis</td><td>334.82304166666665</td><td>-42.85699999999997</td><td>image</td><td>Espinoza, Nestor</td><td>2</td><td>60596.65669609954</td><td>60596.65806304398</td><td>107.368</td><td>600.0</td><td>2800.0</td><td>CAL-NIS-307: SOSS background measurements</td><td>60597.01822911</td><td>6658</td><td>CAL</td><td>--</td><td>POLYGON 334.834306808 -42.868232112 334.804413474 -42.838236197 334.845702259 -42.816313724 334.875626605 -42.846275997</td><td>mast:JWST/product/jw06658009001_02101_00001_nis_trapsfilled.jpg</td><td>mast:JWST/product/jw06658009001_02101_00001_nis_rateints.fits</td><td>PUBLIC</td><td>False</td><td>nan</td><td>230534644</td><td>848176556</td></tr>\n",
       "<tr><td>science</td><td>JWST</td><td>CALJWST</td><td>NIRISS/IMAGE</td><td>JWST</td><td>CLEAR;GR700XD</td><td>INFRARED</td><td>LAT-30-LONG320</td><td>Calibration; External flat field</td><td>jw06658009004_02103_00001_nis</td><td>334.82304166666665</td><td>-42.85699999999997</td><td>image</td><td>Espinoza, Nestor</td><td>2</td><td>60596.695440497686</td><td>60596.69680744213</td><td>107.368</td><td>600.0</td><td>2800.0</td><td>CAL-NIS-307: SOSS background measurements</td><td>60597.02396989</td><td>6658</td><td>CAL</td><td>--</td><td>POLYGON 334.803292901 -42.884682068 334.773407186 -42.854677812 334.814718334 -42.832766862 334.844635109 -42.862737478</td><td>mast:JWST/product/jw06658009004_02103_00001_nis_trapsfilled.jpg</td><td>mast:JWST/product/jw06658009004_02103_00001_nis_rateints.fits</td><td>PUBLIC</td><td>False</td><td>nan</td><td>230535824</td><td>848176616</td></tr>\n",
       "<tr><td>...</td><td>...</td><td>...</td><td>...</td><td>...</td><td>...</td><td>...</td><td>...</td><td>...</td><td>...</td><td>...</td><td>...</td><td>...</td><td>...</td><td>...</td><td>...</td><td>...</td><td>...</td><td>...</td><td>...</td><td>...</td><td>...</td><td>...</td><td>...</td><td>...</td><td>...</td><td>...</td><td>...</td><td>...</td><td>...</td><td>...</td><td>...</td><td>...</td></tr>\n",
       "<tr><td>science</td><td>JWST</td><td>CALJWST</td><td>NIRISS/IMAGE</td><td>JWST</td><td>CLEAR;GR700XD</td><td>INFRARED</td><td>ECLIPTIC-RA80</td><td>Calibration; External flat field</td><td>jw01541005001_0210d_00001_nis</td><td>124.10089166666668</td><td>19.23126111111111</td><td>image</td><td>Espinoza, Nestor</td><td>2</td><td>59688.65134241898</td><td>59688.6549462037</td><td>300.63</td><td>600.0</td><td>2800.0</td><td>NIRISS Sensitivity and Stability for Transiting Exoplanet Observations</td><td>59774.8541666</td><td>1541</td><td>COM</td><td>--</td><td>POLYGON 124.077907696 19.214207662 124.086750759 19.250405679 124.125293793 19.241837815 124.116472001 19.205644639</td><td>mast:JWST/product/jw01541005001_0210d_00001_nis_trapsfilled.jpg</td><td>mast:JWST/product/jw01541005001_0210d_00001_nis_rateints.fits</td><td>PUBLIC</td><td>False</td><td>nan</td><td>79661804</td><td>849743240</td></tr>\n",
       "<tr><td>science</td><td>JWST</td><td>CALJWST</td><td>NIRISS/SOSS</td><td>JWST</td><td>CLEAR;GR700XD</td><td>INFRARED</td><td>HAT-P-14</td><td>Star; Exoplanet Systems; Exoplanets; F dwarfs; F stars</td><td>jw01541-o001_t002_niriss_clear-gr700xd-substrip256</td><td>260.11617716308433</td><td>38.242156511096475</td><td>timeseries</td><td>Espinoza, Nestor</td><td>3</td><td>59738.26121493056</td><td>59738.552486493056</td><td>18855.408</td><td>600.0</td><td>2800.0</td><td>NIRISS Sensitivity and Stability for Transiting Exoplanet Observations</td><td>59774.8541666</td><td>1541</td><td>COM</td><td>--</td><td>POLYGON 260.16190084 38.23723653 260.11337623 38.23744814 260.11348554 38.24618148 260.16201952 38.24596704 260.16190084 38.23723653</td><td>--</td><td>mast:JWST/product/jw01541-o001_t002_niriss_clear-gr700xd-substrip256_x1dints.fits</td><td>PUBLIC</td><td>False</td><td>nan</td><td>213209384</td><td>850390145</td></tr>\n",
       "<tr><td>science</td><td>JWST</td><td>CALJWST</td><td>NIRISS/SOSS</td><td>JWST</td><td>CLEAR;GR700XD</td><td>INFRARED</td><td>HAT-P-14</td><td>Star; Exoplanet Systems; Exoplanets; F dwarfs; F stars</td><td>jw01541001001_04102_00001-seg001_nis</td><td>260.1161771633686</td><td>38.24215651042749</td><td>timeseries</td><td>Espinoza, Nestor</td><td>2</td><td>59738.5539062963</td><td>59738.55835982639</td><td>329.64</td><td>600.0</td><td>2800.0</td><td>NIRISS Sensitivity and Stability for Transiting Exoplanet Observations</td><td>59774.8541666</td><td>1541</td><td>COM</td><td>--</td><td>POLYGON 260.071030425 38.2494554 260.119367244 38.246686364 260.11850644 38.23799955 260.070173176 38.240758866</td><td>mast:JWST/product/jw01541001001_04102_00001-seg001_nis_ramp.jpg</td><td>mast:JWST/product/jw01541001001_04102_00001-seg001_nis_rateints.fits</td><td>PUBLIC</td><td>False</td><td>nan</td><td>85700205</td><td>850390362</td></tr>\n",
       "<tr><td>science</td><td>JWST</td><td>CALJWST</td><td>NIRISS/SOSS</td><td>JWST</td><td>CLEAR;GR700XD</td><td>INFRARED</td><td>CD-38-2551</td><td>Star; G stars</td><td>jw02113005001_04103_00001-seg001_nis</td><td>94.33630544130959</td><td>-38.323444815098135</td><td>timeseries</td><td>Espinoza, Nestor</td><td>2</td><td>60216.25282483796</td><td>60216.257597488424</td><td>329.64</td><td>600.0</td><td>2800.0</td><td>Exploring the morning and evening limbs of a transiting exoplanet</td><td>60582.57626142</td><td>2113</td><td>GO</td><td>--</td><td>POLYGON 94.343932683 -38.287734536 94.342195697 -38.325771711 94.331098247 -38.325419041 94.332829036 -38.287380656</td><td>mast:JWST/product/jw02113005001_04103_00001-seg001_nis_ramp.jpg</td><td>mast:JWST/product/jw02113005001_04103_00001-seg001_nis_rateints.fits</td><td>PUBLIC</td><td>False</td><td>nan</td><td>178895888</td><td>851081576</td></tr>\n",
       "<tr><td>science</td><td>JWST</td><td>CALJWST</td><td>NIRISS/SOSS</td><td>JWST</td><td>CLEAR;GR700XD</td><td>INFRARED</td><td>CD-38-2551</td><td>Star; G stars</td><td>jw02113005001_04101_00001-seg001_nis</td><td>94.33630544945105</td><td>-38.3234448051187</td><td>timeseries</td><td>Espinoza, Nestor</td><td>2</td><td>60215.77435597222</td><td>60215.77448314815</td><td>5.494</td><td>600.0</td><td>2800.0</td><td>Exploring the morning and evening limbs of a transiting exoplanet</td><td>60582.58410871</td><td>2113</td><td>GO</td><td>--</td><td>POLYGON 94.38208655 -38.32834702 94.33350101 -38.32815311 94.33361111 -38.31941977 94.38219434 -38.31961642 94.38208655 -38.32834702</td><td>mast:JWST/product/jw02113005001_04101_00001-seg001_nis_ramp.jpg</td><td>mast:JWST/product/jw02113005001_04101_00001-seg001_nis_x1dints.fits</td><td>PUBLIC</td><td>False</td><td>nan</td><td>178895938</td><td>851081661</td></tr>\n",
       "<tr><td>science</td><td>JWST</td><td>CALJWST</td><td>NIRISS/SOSS</td><td>JWST</td><td>CLEAR;GR700XD</td><td>INFRARED</td><td>CD-38-2551</td><td>Star; G stars</td><td>jw02113-o005_t001_niriss_clear-gr700xd-substrip256</td><td>94.33630544541155</td><td>-38.323444810070136</td><td>timeseries</td><td>Espinoza, Nestor</td><td>3</td><td>60215.75685239583</td><td>60216.25049009259</td><td>32810.168</td><td>600.0</td><td>2800.0</td><td>Exploring the morning and evening limbs of a transiting exoplanet</td><td>60582.96342588</td><td>2113</td><td>GO</td><td>--</td><td>POLYGON 94.38208655 -38.32834702 94.33350101 -38.32815311 94.3336111 -38.31941978 94.38219433 -38.31961643 94.38208655 -38.32834702</td><td>--</td><td>mast:JWST/product/jw02113-o005_t001_niriss_clear-gr700xd-substrip256_x1dints.fits</td><td>PUBLIC</td><td>False</td><td>nan</td><td>188165781</td><td>851098040</td></tr>\n",
       "<tr><td>science</td><td>JWST</td><td>CALJWST</td><td>NIRISS/SOSS</td><td>JWST</td><td>CLEAR;GR700XD</td><td>INFRARED</td><td>CD-38-2551</td><td>Star; G stars</td><td>jw02113003001_02101_00001-seg001_nis</td><td>94.33630545011093</td><td>-38.32344480430984</td><td>timeseries</td><td>Espinoza, Nestor</td><td>2</td><td>60215.73234310764</td><td>60215.738556516204</td><td>429.471</td><td>600.0</td><td>2800.0</td><td>Exploring the morning and evening limbs of a transiting exoplanet</td><td>60581.98520821</td><td>2113</td><td>GO</td><td>--</td><td>POLYGON 94.358674113 -38.288655679 94.35699272 -38.325780744 94.309378304 -38.324278409 94.3110501 -38.287162213</td><td>mast:JWST/product/jw02113003001_02101_00001-seg001_nis_ramp.jpg</td><td>mast:JWST/product/jw02113003001_02101_00001-seg001_nis_x1dints.fits</td><td>PUBLIC</td><td>False</td><td>nan</td><td>178895241</td><td>988181339</td></tr>\n",
       "<tr><td>science</td><td>JWST</td><td>CALJWST</td><td>NIRISS/SOSS</td><td>JWST</td><td>CLEAR;GR700XD</td><td>INFRARED</td><td>CD-38-2551</td><td>Star; G stars</td><td>jw02113002001_02101_00001-seg001_nis</td><td>94.33630545031605</td><td>-38.323444804058404</td><td>timeseries</td><td>Espinoza, Nestor</td><td>2</td><td>60215.72022978588</td><td>60215.72644319444</td><td>429.471</td><td>600.0</td><td>2800.0</td><td>Exploring the morning and evening limbs of a transiting exoplanet</td><td>60581.97885404</td><td>2113</td><td>GO</td><td>--</td><td>POLYGON 94.372810846 -38.289090732 94.37114681 -38.326216279 94.323531402 -38.324727658 94.325185848 -38.287610984</td><td>mast:JWST/product/jw02113002001_02101_00001-seg001_nis_ramp.jpg</td><td>mast:JWST/product/jw02113002001_02101_00001-seg001_nis_x1dints.fits</td><td>PUBLIC</td><td>False</td><td>nan</td><td>178895222</td><td>988181546</td></tr>\n",
       "<tr><td>science</td><td>JWST</td><td>CALJWST</td><td>NIRISS/SOSS</td><td>JWST</td><td>CLEAR;GR700XD</td><td>INFRARED</td><td>CD-38-2551</td><td>Star; G stars</td><td>jw02113004001_02101_00001-seg001_nis</td><td>94.33630544990864</td><td>-38.3234448045578</td><td>timeseries</td><td>Espinoza, Nestor</td><td>2</td><td>60215.74428976273</td><td>60215.75050317129</td><td>429.471</td><td>600.0</td><td>2800.0</td><td>Exploring the morning and evening limbs of a transiting exoplanet</td><td>60581.98621516</td><td>2113</td><td>GO</td><td>--</td><td>POLYGON 94.351610404 -38.28843683 94.349915827 -38.325561526 94.302302094 -38.324048775 94.30398707 -38.286932947</td><td>mast:JWST/product/jw02113004001_02101_00001-seg001_nis_ramp.jpg</td><td>mast:JWST/product/jw02113004001_02101_00001-seg001_nis_x1dints.fits</td><td>PUBLIC</td><td>False</td><td>nan</td><td>178895849</td><td>988182195</td></tr>\n",
       "<tr><td>science</td><td>JWST</td><td>CALJWST</td><td>NIRISS/SOSS</td><td>JWST</td><td>CLEAR;GR700XD</td><td>INFRARED</td><td>CD-38-2551</td><td>Star; G stars</td><td>jw02113001001_02101_00001-seg001_nis</td><td>94.33630545052999</td><td>-38.32344480379617</td><td>timeseries</td><td>Espinoza, Nestor</td><td>2</td><td>60215.70759572338</td><td>60215.71380913194</td><td>429.471</td><td>600.0</td><td>2800.0</td><td>Exploring the morning and evening limbs of a transiting exoplanet</td><td>60581.93158554</td><td>2113</td><td>GO</td><td>--</td><td>POLYGON 94.379910812 -38.289302525 94.378273855 -38.326428813 94.330657223 -38.324961582 94.332284596 -38.287844171</td><td>mast:JWST/product/jw02113001001_02101_00001-seg001_nis_ramp.jpg</td><td>mast:JWST/product/jw02113001001_02101_00001-seg001_nis_x1dints.fits</td><td>PUBLIC</td><td>False</td><td>nan</td><td>178895197</td><td>988192511</td></tr>\n",
       "</table></div>"
      ],
      "text/plain": [
       "<Table masked=True length=234>\n",
       "intentType obs_collection provenance_name ...  srcDen   obsid     objID  \n",
       "   str7         str4            str7      ... float64    str9      str9  \n",
       "---------- -------------- --------------- ... ------- --------- ---------\n",
       "   science           JWST         CALJWST ...     nan 243253919 848149878\n",
       "   science           JWST         CALJWST ...     nan 243202118 848149881\n",
       "   science           JWST         CALJWST ...     nan 243202122 848149898\n",
       "   science           JWST         CALJWST ...     nan 243253920 848149904\n",
       "   science           JWST         CALJWST ...     nan 226939326 848176371\n",
       "   science           JWST         CALJWST ...     nan 226939320 848176390\n",
       "   science           JWST         CALJWST ...     nan 230534643 848176540\n",
       "   science           JWST         CALJWST ...     nan 230534644 848176556\n",
       "   science           JWST         CALJWST ...     nan 230535824 848176616\n",
       "       ...            ...             ... ...     ...       ...       ...\n",
       "   science           JWST         CALJWST ...     nan  79661804 849743240\n",
       "   science           JWST         CALJWST ...     nan 213209384 850390145\n",
       "   science           JWST         CALJWST ...     nan  85700205 850390362\n",
       "   science           JWST         CALJWST ...     nan 178895888 851081576\n",
       "   science           JWST         CALJWST ...     nan 178895938 851081661\n",
       "   science           JWST         CALJWST ...     nan 188165781 851098040\n",
       "   science           JWST         CALJWST ...     nan 178895241 988181339\n",
       "   science           JWST         CALJWST ...     nan 178895222 988181546\n",
       "   science           JWST         CALJWST ...     nan 178895849 988182195\n",
       "   science           JWST         CALJWST ...     nan 178895197 988192511"
      ]
     },
     "execution_count": 3,
     "metadata": {},
     "output_type": "execute_result"
    }
   ],
   "source": [
    "observations = Observations.query_criteria(proposal_pi=\"Espinoza, Nestor\",\n",
    "                                           instrument_name=\"NIRISS*\")\n",
    "observations"
   ]
  },
  {
   "cell_type": "markdown",
   "id": "3eb7c273",
   "metadata": {},
   "source": [
    "Our query returned many NIRISS observations led by the PI Dr. Espinoza. Let's get all the unique values under the `instrument_name` column to see what our `*` wildcard picked up."
   ]
  },
  {
   "cell_type": "code",
   "execution_count": 4,
   "id": "ffc1b58f",
   "metadata": {
    "execution": {
     "iopub.execute_input": "2025-09-10T18:58:20.098782Z",
     "iopub.status.busy": "2025-09-10T18:58:20.098600Z",
     "iopub.status.idle": "2025-09-10T18:58:20.104968Z",
     "shell.execute_reply": "2025-09-10T18:58:20.104504Z"
    }
   },
   "outputs": [
    {
     "data": {
      "text/plain": [
       "{np.str_('NIRISS/IMAGE'), np.str_('NIRISS/SOSS')}"
      ]
     },
     "execution_count": 4,
     "metadata": {},
     "output_type": "execute_result"
    }
   ],
   "source": [
    "set(observations['instrument_name'])"
   ]
  },
  {
   "cell_type": "markdown",
   "id": "34c9e95f",
   "metadata": {},
   "source": [
    "Our observations have the advanced labeling; had we simply set `instrument_name = \"NIRISS\"`, we would have missed several observations. For more details on this advanced labeling, see the [JWST Instrument Names page](https://outerspace.stsci.edu/display/MASTDOCS/JWST+Instrument+Names)."
   ]
  },
  {
   "cell_type": "markdown",
   "id": "a08f607f",
   "metadata": {},
   "source": [
    "#### A note of caution: There is such a thing as too many wildcards\n",
    "\n",
    "You can be too generous with the wildcards, so be sure to exercise caution in their use. Too much ambiguity can lead to unintended results. Let's take a look at our example below."
   ]
  },
  {
   "cell_type": "code",
   "execution_count": 5,
   "id": "17d9194e",
   "metadata": {
    "execution": {
     "iopub.execute_input": "2025-09-10T18:58:20.106718Z",
     "iopub.status.busy": "2025-09-10T18:58:20.106549Z",
     "iopub.status.idle": "2025-09-10T18:58:21.817004Z",
     "shell.execute_reply": "2025-09-10T18:58:21.816490Z"
    },
    "scrolled": true
   },
   "outputs": [
    {
     "data": {
      "text/plain": [
       "{np.str_('NIRISS/IMAGE'), np.str_('NIRISS/SOSS'), np.str_('NIRSPEC/SLIT')}"
      ]
     },
     "execution_count": 5,
     "metadata": {},
     "output_type": "execute_result"
    }
   ],
   "source": [
    "observations = Observations.query_criteria(proposal_pi='Espinoza, Nestor',\n",
    "                                           instrument_name='NIR*') # Surely only one instrument begins with 'NIR'\n",
    "set(observations['instrument_name'])"
   ]
  },
  {
   "cell_type": "markdown",
   "id": "e019a8e2",
   "metadata": {},
   "source": [
    "This query returns `NIRSPEC/SLIT` observations in addition to the NIRISS ones, which is not what we intended."
   ]
  },
  {
   "cell_type": "markdown",
   "id": "fefa0c07",
   "metadata": {},
   "source": [
    "<a id=\"case2\"></a>\n",
    "### Case 2: Wildcard Search with `instrument_name` and `proposal_id`"
   ]
  },
  {
   "cell_type": "markdown",
   "id": "99af085a",
   "metadata": {},
   "source": [
    "Let's add an additional `string` criterion and wildcard into the mix. We'll do this with the `proposal_id` field which, despite its numeric content, is encoded as a string.\n",
    "\n",
    "Let's query for a four digit proposal/program IDs that begin with `15`."
   ]
  },
  {
   "cell_type": "code",
   "execution_count": 6,
   "id": "dd436c7d",
   "metadata": {
    "execution": {
     "iopub.execute_input": "2025-09-10T18:58:21.818933Z",
     "iopub.status.busy": "2025-09-10T18:58:21.818761Z",
     "iopub.status.idle": "2025-09-10T18:58:22.052874Z",
     "shell.execute_reply": "2025-09-10T18:58:22.052372Z"
    }
   },
   "outputs": [
    {
     "data": {
      "text/plain": [
       "({np.str_('1512'), np.str_('1541')},\n",
       " {np.str_('NIRISS/IMAGE'), np.str_('NIRISS/SOSS')})"
      ]
     },
     "execution_count": 6,
     "metadata": {},
     "output_type": "execute_result"
    }
   ],
   "source": [
    "observations = Observations.query_criteria(proposal_pi='Espinoza, Nestor',\n",
    "                                           instrument_name='NIRISS*',\n",
    "                                           proposal_id=['15%%']) # Only a four digit result will match this\n",
    "\n",
    "set(observations['proposal_id']), set(observations['instrument_name'])"
   ]
  },
  {
   "cell_type": "markdown",
   "id": "9fcc9102",
   "metadata": {},
   "source": [
    "<a id=\"case3\"></a>\n",
    "### Case 3: Create a Moving Target Ephemeris using MAST Observations with Wildcard Search"
   ]
  },
  {
   "cell_type": "markdown",
   "id": "c38a4cdb",
   "metadata": {},
   "source": [
    "We will be querying for image observations of Comet 67P Churyumov-Gerasimenko observed through the Hubble Space Telescope's Advanced Camera for Surveys (ACS) Wide Field Camera (WFC). This comet's name can be listed in different ways, so we will use `*` wildcards in our criteria query."
   ]
  },
  {
   "cell_type": "code",
   "execution_count": 7,
   "id": "a7cd9670",
   "metadata": {
    "execution": {
     "iopub.execute_input": "2025-09-10T18:58:22.054598Z",
     "iopub.status.busy": "2025-09-10T18:58:22.054436Z",
     "iopub.status.idle": "2025-09-10T18:58:47.359186Z",
     "shell.execute_reply": "2025-09-10T18:58:47.358568Z"
    }
   },
   "outputs": [
    {
     "name": "stdout",
     "output_type": "stream",
     "text": [
      "140 total observations\n",
      "\n",
      "Listed target names:\n",
      "{np.str_('COMET-67P-CHURYUMOV-GER-UPDATE'), np.str_('COMET-67P-CHURYUMOV-GERASIMENK')}\n"
     ]
    }
   ],
   "source": [
    "observations = Observations.query_criteria(target_name=\"*67P*\",\n",
    "                                           instrument_name=\"ACS/WFC\")\n",
    "\n",
    "print(f\"{len(observations)} total observations\" + \"\\n\")\n",
    "print(\"Listed target names:\")\n",
    "print(set(observations['target_name']))"
   ]
  },
  {
   "cell_type": "markdown",
   "id": "5ed146c3",
   "metadata": {},
   "source": [
    "Above there are two names we get for Comet-67P. You should exercise caution when searching on the `target_name` criteria, since this is often entered by the PI who proposed the observation and can vary from person to person.\n",
    "\n",
    "In the remainder of this notebook, we will construct a bare-bones ephemeris using the filtered MAST observations of this object and their metadata. We will then do some reverse engineering to query for the target based on coordinates using the ephemeris table, and hope that we get the same results back! Let's begin:\n",
    "\n",
    "For simplicity, let's work only with the `'COMET-67P-CHURYUMOV-GERASIMENK'` observations to create our ephemeris."
   ]
  },
  {
   "cell_type": "code",
   "execution_count": 8,
   "id": "a028e9e6",
   "metadata": {
    "execution": {
     "iopub.execute_input": "2025-09-10T18:58:47.360891Z",
     "iopub.status.busy": "2025-09-10T18:58:47.360710Z",
     "iopub.status.idle": "2025-09-10T18:58:47.386487Z",
     "shell.execute_reply": "2025-09-10T18:58:47.385984Z"
    },
    "scrolled": true,
    "tags": []
   },
   "outputs": [
    {
     "data": {
      "text/html": [
       "<div><i>Table masked=True length=70</i>\n",
       "<table id=\"table140162445888784\" class=\"table-striped table-bordered table-condensed\">\n",
       "<thead><tr><th>intentType</th><th>obs_collection</th><th>provenance_name</th><th>instrument_name</th><th>project</th><th>filters</th><th>wavelength_region</th><th>target_name</th><th>target_classification</th><th>obs_id</th><th>s_ra</th><th>s_dec</th><th>dataproduct_type</th><th>proposal_pi</th><th>calib_level</th><th>t_min</th><th>t_max</th><th>t_exptime</th><th>em_min</th><th>em_max</th><th>obs_title</th><th>t_obs_release</th><th>proposal_id</th><th>proposal_type</th><th>sequence_number</th><th>s_region</th><th>jpegURL</th><th>dataURL</th><th>dataRights</th><th>mtFlag</th><th>srcDen</th><th>obsid</th><th>objID</th></tr></thead>\n",
       "<thead><tr><th>str7</th><th>str3</th><th>str6</th><th>str7</th><th>str3</th><th>str12</th><th>str7</th><th>str30</th><th>str89</th><th>str36</th><th>float64</th><th>float64</th><th>str5</th><th>str14</th><th>int64</th><th>float64</th><th>float64</th><th>float64</th><th>float64</th><th>float64</th><th>str119</th><th>float64</th><th>str5</th><th>str3</th><th>int64</th><th>str2243</th><th>str86</th><th>str35</th><th>str6</th><th>bool</th><th>float64</th><th>str8</th><th>str9</th></tr></thead>\n",
       "<tr><td>science</td><td>HST</td><td>CALACS</td><td>ACS/WFC</td><td>HST</td><td>F775W</td><td>OPTICAL</td><td>COMET-67P-CHURYUMOV-GERASIMENK</td><td>COMET; COMET-67P-CHURYUMOV-GERASIMENKO WHICH IS THE PRIMARY TARGET FOR ROSETTA SPACECRAFT</td><td>jcis04010</td><td>290.2735685756</td><td>-28.02183037337</td><td>image</td><td>Hines, Dean C.</td><td>3</td><td>56977.44858376157</td><td>56977.454660219904</td><td>300.0</td><td>690.0</td><td>860.0</td><td>Imaging Polarimetry of the 67P/Churyumov-Gerasimenko with ACS: Supporting the Rosetta Mission</td><td>57342.8724883</td><td>13863</td><td>GO</td><td>--</td><td>POLYGON -69.710339019999992 -28.03460849 -69.710342387468657 -28.034498772208945 -69.708739630000025 -28.03435188 -69.70961256999999 -28.00591362 -69.740906 -28.00877878 -69.740902662524562 -28.008888572547743 -69.742505129999984 -28.0090351 -69.74164077 -28.03747355 -69.710339019999992 -28.03460849 -69.710339019999992 -28.03460849</td><td>mast:HST/product/jcis04010_drz.jpg</td><td>mast:HST/product/jcis04010_drz.fits</td><td>PUBLIC</td><td>True</td><td>nan</td><td>24839231</td><td>905528669</td></tr>\n",
       "<tr><td>science</td><td>HST</td><td>CALACS</td><td>ACS/WFC</td><td>HST</td><td>F606W</td><td>OPTICAL</td><td>COMET-67P-CHURYUMOV-GERASIMENK</td><td>COMET; COMET BEING ORBITED BY THE ROSETTA SPACECRAFT</td><td>jcz302010</td><td>149.0210592664</td><td>17.79521475611</td><td>image</td><td>Hines, Dean C.</td><td>3</td><td>57306.00024725695</td><td>57306.02169383102</td><td>1868.0</td><td>470.0</td><td>720.0</td><td>Post-Perihelion Imaging Polarimetry of the 67P/Churyumov-Gerasimenko with ACS: Continued Support of the Rosetta Mission</td><td>57672.2263889</td><td>14261</td><td>GO</td><td>--</td><td>POLYGON 149.05409679 17.79964078 149.04813166312613 17.801899341627337 149.04814366 17.80192271 149.02083733 17.81225854 149.02015424058055 17.810927544842077 149.01400423 17.81325475 149.00078955 17.78750012 149.02809307 17.77716698 149.02876415476538 17.778474677304182 149.04087739 17.7738888 149.05409679 17.79964078 149.05409679 17.79964078</td><td>mast:HST/product/jcz302010_drz.jpg</td><td>mast:HST/product/jcz302010_drz.fits</td><td>PUBLIC</td><td>True</td><td>nan</td><td>25001891</td><td>905673890</td></tr>\n",
       "<tr><td>science</td><td>HST</td><td>CALACS</td><td>ACS/WFC</td><td>HST</td><td>F606W</td><td>OPTICAL</td><td>COMET-67P-CHURYUMOV-GERASIMENK</td><td>COMET; COMET BEING ORBITED BY THE ROSETTA SPACECRAFT</td><td>jcz303010</td><td>149.386341824</td><td>17.6965860963</td><td>image</td><td>Hines, Dean C.</td><td>3</td><td>57306.530825775466</td><td>57306.56028197917</td><td>1868.0</td><td>470.0</td><td>720.0</td><td>Post-Perihelion Imaging Polarimetry of the 67P/Churyumov-Gerasimenko with ACS: Continued Support of the Rosetta Mission</td><td>57672.72732635</td><td>14261</td><td>GO</td><td>--</td><td>POLYGON 149.42419008 17.69882864 149.419199178432 17.700727169054169 149.41933345 17.70098796 149.41339666747842 17.703246092045436 149.41340981 17.70327162 149.38611359 17.71365103 149.3854302694572 17.712323331878636 149.37931127 17.71464943 149.36605771 17.68889173 149.39335114 17.67851501 149.39388702876451 17.679556324023046 149.41093132 17.67307379 149.42419008 17.69882864 149.42419008 17.69882864</td><td>mast:HST/product/jcz303010_drz.jpg</td><td>mast:HST/product/jcz303010_drz.fits</td><td>PUBLIC</td><td>True</td><td>nan</td><td>25001892</td><td>905673874</td></tr>\n",
       "<tr><td>science</td><td>HST</td><td>CALACS</td><td>ACS/WFC</td><td>HST</td><td>F606W</td><td>OPTICAL</td><td>COMET-67P-CHURYUMOV-GERASIMENK</td><td>COMET; COMET-67P-CHURYUMOV-GERASIMENKO WHICH IS THE PRIMARY TARGET FOR ROSETTA SPACECRAFT</td><td>jcis02010</td><td>281.1070302812</td><td>-31.0066887554</td><td>image</td><td>Hines, Dean C.</td><td>3</td><td>56888.26101200232</td><td>56888.48685717593</td><td>9600.0</td><td>470.0</td><td>720.0</td><td>Imaging Polarimetry of the 67P/Churyumov-Gerasimenko with ACS: Supporting the Rosetta Mission</td><td>57253.60605318</td><td>13863</td><td>GO</td><td>--</td><td>POLYGON -78.905924930000026 -31.02423579 -78.87427893 -31.0173634 -78.8800066 -30.98912327 -78.882365737150309 -30.989635932676503 -78.882504439999991 -30.98895186 -78.889317083503954 -30.990432181918216 -78.889530770000022 -30.98937778 -78.891752852813568 -30.989860489154527 -78.891883689999986 -30.98921489 -78.899628421871924 -30.990897116662392 -78.9001551 -30.98829685 -78.902371489060187 -30.988778129799261 -78.90250218 -30.98813288 -78.909141342406116 -30.989574421562239 -78.909719680000023 -30.98671762 -78.911930371781551 -30.987197501880228 -78.91206093 -30.98655257 -78.943699260000017 -30.99341636 -78.937989440000024 -31.02165911 -78.935778550730731 -31.021179788693974 -78.935648239999978 -31.02182416 -78.929005954826081 -31.020383985804244 -78.928427829999976 -31.02324132 -78.926211233460563 -31.02276060029919 -78.926080790000015 -31.02340529 -78.918332079103052 -31.0217246209393 -78.91780553000001 -31.02432554 -78.9155832393156 -31.023843392393292 -78.91545265000002 -31.02448843 -78.9086363989854 -31.023009444135333 -78.908422719999976 -31.02406438 -78.906063370071536 -31.023552312315246 -78.905924930000026 -31.02423579 -78.905924930000026 -31.02423579</td><td>mast:HST/product/jcis02010_drz.jpg</td><td>mast:HST/product/jcis02010_drz.fits</td><td>PUBLIC</td><td>True</td><td>nan</td><td>24839229</td><td>906039325</td></tr>\n",
       "<tr><td>science</td><td>HST</td><td>CALACS</td><td>ACS/WFC</td><td>HST</td><td>F775W</td><td>OPTICAL</td><td>COMET-67P-CHURYUMOV-GERASIMENK</td><td>COMET; COMET-67P-CHURYUMOV-GERASIMENKO WHICH IS THE PRIMARY TARGET FOR ROSETTA SPACECRAFT</td><td>jcis06010</td><td>290.9112348543</td><td>-27.90621726673</td><td>image</td><td>Hines, Dean C.</td><td>3</td><td>56979.505933368055</td><td>56979.51200949074</td><td>300.0</td><td>690.0</td><td>860.0</td><td>Imaging Polarimetry of the 67P/Churyumov-Gerasimenko with ACS: Supporting the Rosetta Mission</td><td>57344.94012718</td><td>13863</td><td>GO</td><td>--</td><td>POLYGON -69.07205442999998 -27.91834206 -69.072058317717648 -27.918294549551291 -69.070418239999981 -27.91807766 -69.072739870000021 -27.88970302 -69.103821919999973 -27.89381052 -69.103818044368452 -27.893858065783444 -69.105458039999974 -27.89407459 -69.103144859999986 -27.92244975 -69.07205442999998 -27.91834206 -69.07205442999998 -27.91834206</td><td>mast:HST/product/jcis06010_drz.jpg</td><td>mast:HST/product/jcis06010_drz.fits</td><td>PUBLIC</td><td>True</td><td>nan</td><td>24839235</td><td>905533260</td></tr>\n",
       "<tr><td>science</td><td>HST</td><td>CALACS</td><td>ACS/WFC</td><td>HST</td><td>F775W</td><td>OPTICAL</td><td>COMET-67P-CHURYUMOV-GERASIMENK</td><td>COMET; COMET-67P-CHURYUMOV-GERASIMENKO WHICH IS THE PRIMARY TARGET FOR ROSETTA SPACECRAFT</td><td>jcis05010</td><td>290.5806735758</td><td>-27.96626079113</td><td>image</td><td>Hines, Dean C.</td><td>3</td><td>56978.44466003472</td><td>56978.45073653935</td><td>300.0</td><td>690.0</td><td>860.0</td><td>Imaging Polarimetry of the 67P/Churyumov-Gerasimenko with ACS: Supporting the Rosetta Mission</td><td>57343.70451382</td><td>13863</td><td>GO</td><td>--</td><td>POLYGON -69.403442700000028 -27.97923304 -69.403444700846464 -27.979100547103432 -69.401826809999989 -27.97897202 -69.40225662 -27.95052573 -69.433575589999975 -27.95301089 -69.433573626058035 -27.953143446156233 -69.435191219999979 -27.95327161 -69.43476999 -27.98171799 -69.403442700000028 -27.97923304 -69.403442700000028 -27.97923304</td><td>mast:HST/product/jcis05010_drz.jpg</td><td>mast:HST/product/jcis05010_drz.fits</td><td>PUBLIC</td><td>True</td><td>nan</td><td>24839233</td><td>905528677</td></tr>\n",
       "<tr><td>science</td><td>HST</td><td>CALACS</td><td>ACS/WFC</td><td>HST</td><td>F606W</td><td>OPTICAL</td><td>COMET-67P-CHURYUMOV-GERASIMENK</td><td>COMET; COMET-67P-CHURYUMOV-GERASIMENKO WHICH IS THE PRIMARY TARGET FOR ROSETTA SPACECRAFT</td><td>jcis01010</td><td>281.2558788729</td><td>-31.01619293249</td><td>image</td><td>Hines, Dean C.</td><td>3</td><td>56887.26573422454</td><td>56887.49156755787</td><td>7200.0</td><td>470.0</td><td>720.0</td><td>Imaging Polarimetry of the 67P/Churyumov-Gerasimenko with ACS: Supporting the Rosetta Mission</td><td>57252.60829852</td><td>13863</td><td>GO</td><td>--</td><td>POLYGON -78.756865950000019 -31.03386473 -78.72529176 -31.02670072 -78.731368569999972 -30.9985026 -78.733805750513454 -30.9990559361688 -78.733958120000011 -30.99834869 -78.740986132787157 -30.99994418656815 -78.741227330000015 -30.9988241 -78.743523208857965 -30.999345171906345 -78.743666940000026 -30.9986777 -78.751640936670128 -31.000487279621648 -78.752215089999993 -30.99781954 -78.754505385727953 -30.998339146989291 -78.75464896 -30.99767203 -78.761518775521665 -30.999230471627669 -78.762147550000009 -30.99630741 -78.764432262131379 -30.996825567137762 -78.764575690000015 -30.99615878 -78.796142359999976 -31.00331385 -78.79008367 -31.03151488 -78.787798738721818 -31.030997298944033 -78.787655570000027 -31.0316635 -78.780782261578381 -31.030106426334836 -78.780153620000021 -31.03303019 -78.777863106729612 -31.032511160972405 -78.777719789999992 -31.0331777 -78.769741953915457 -31.031369732821123 -78.76916795 -31.03403788 -78.766871853092809 -31.033517388181245 -78.766728380000018 -31.03418428 -78.759696670679176 -31.032590149820496 -78.759455460000027 -31.03371081 -78.757018048375642 -31.033158086745466 -78.756865950000019 -31.03386473 -78.756865950000019 -31.03386473</td><td>mast:HST/product/jcis01010_drz.jpg</td><td>mast:HST/product/jcis01010_drz.fits</td><td>PUBLIC</td><td>True</td><td>nan</td><td>24839228</td><td>906039334</td></tr>\n",
       "<tr><td>science</td><td>HST</td><td>CALACS</td><td>ACS/WFC</td><td>HST</td><td>F606W</td><td>OPTICAL</td><td>COMET-67P-CHURYUMOV-GERASIMENK</td><td>COMET; COMET BEING ORBITED BY THE ROSETTA SPACECRAFT</td><td>jcz301010</td><td>148.6544847864</td><td>17.89356942054</td><td>image</td><td>Hines, Dean C.</td><td>3</td><td>57305.47050170139</td><td>57305.49995790509</td><td>1868.0</td><td>470.0</td><td>720.0</td><td>Post-Perihelion Imaging Polarimetry of the 67P/Churyumov-Gerasimenko with ACS: Continued Support of the Rosetta Mission</td><td>57671.63094901</td><td>14261</td><td>GO</td><td>--</td><td>POLYGON 148.69195443 17.89721012 148.68672841023698 17.898793036618102 148.68699035 17.89940911 148.68079264145175 17.901286131427462 148.68095142 17.9016596 148.65292317 17.91014527 148.65250560953473 17.909162730128802 148.64610927 17.91109857 148.63481426 17.88451419 148.65263308739057 17.879121057787451 148.65263008 17.87911398 148.68065353 17.87062838 148.69195443 17.89721012 148.69195443 17.89721012</td><td>mast:HST/product/jcz301010_drz.jpg</td><td>mast:HST/product/jcz301010_drz.fits</td><td>PUBLIC</td><td>True</td><td>nan</td><td>25001890</td><td>905673894</td></tr>\n",
       "<tr><td>science</td><td>HST</td><td>CALACS</td><td>ACS/WFC</td><td>HST</td><td>F606W</td><td>OPTICAL</td><td>COMET-67P-CHURYUMOV-GERASIMENK</td><td>COMET; COMET-67P-CHURYUMOV-GERASIMENKO WHICH IS THE PRIMARY TARGET FOR ROSETTA SPACECRAFT</td><td>jcis03010</td><td>280.9542165962</td><td>-30.99542663878</td><td>image</td><td>Hines, Dean C.</td><td>3</td><td>56889.322632372685</td><td>56889.548465706015</td><td>9600.0</td><td>470.0</td><td>720.0</td><td>Imaging Polarimetry of the 67P/Churyumov-Gerasimenko with ACS: Supporting the Rosetta Mission</td><td>57254.78804398</td><td>13863</td><td>GO</td><td>--</td><td>POLYGON -79.05840738 -31.01316703 -79.026878020000026 -31.00584488 -79.033151780000026 -30.97766767 -79.035392031871083 -30.978188257438966 -79.035550100000023 -30.97747812 -79.042032257876684 -30.978984322746957 -79.04228344 -30.97785538 -79.044393200704519 -30.978345489210106 -79.044542289999981 -30.9776754 -79.0519318160874 -30.979391859188709 -79.052526699999987 -30.97671682 -79.054630711213818 -30.97720541840804 -79.054779619999977 -30.9765358 -79.0610665098948 -30.977995640936911 -79.061717779999981 -30.97506566 -79.0638160189322 -30.975552764251791 -79.063964759999976 -30.97488358 -79.09548675000002 -30.9821973 -79.089230410000027 -31.01037747 -79.087131972414525 -31.009890899345596 -79.086983480000015 -31.01055955 -79.080693324737766 -31.009100920228253 -79.08004225000002 -31.01203134 -79.077938041505035 -31.011543277238278 -79.077789380000013 -31.01221237 -79.070396015373021 -31.010497338548994 -79.06980123 -31.01317303 -79.067691267708852 -31.012683456849597 -79.06754243 -31.013353 -79.061056825969644 -31.011848027080774 -79.060805640000012 -31.0129775 -79.058565179306754 -31.012457479047875 -79.05840738 -31.01316703 -79.05840738 -31.01316703</td><td>mast:HST/product/jcis03010_drz.jpg</td><td>mast:HST/product/jcis03010_drz.fits</td><td>PUBLIC</td><td>True</td><td>nan</td><td>24839230</td><td>906039413</td></tr>\n",
       "<tr><td>...</td><td>...</td><td>...</td><td>...</td><td>...</td><td>...</td><td>...</td><td>...</td><td>...</td><td>...</td><td>...</td><td>...</td><td>...</td><td>...</td><td>...</td><td>...</td><td>...</td><td>...</td><td>...</td><td>...</td><td>...</td><td>...</td><td>...</td><td>...</td><td>...</td><td>...</td><td>...</td><td>...</td><td>...</td><td>...</td><td>...</td><td>...</td><td>...</td></tr>\n",
       "<tr><td>science</td><td>HLA</td><td>HLA</td><td>ACS/WFC</td><td>HLA</td><td>F606WPOL0V</td><td>--</td><td>COMET-67P-CHURYUMOV-GERASIMENK</td><td>--</td><td>hst_13863_04_acs_wfc_f606wpol0v_04</td><td>290.2770720459829</td><td>-28.02110770058012</td><td>image</td><td>Hines</td><td>2</td><td>56977.45821</td><td>56977.4673</td><td>785.0</td><td>nan</td><td>nan</td><td>--</td><td>57342.94112256</td><td>13863</td><td>HLA</td><td>--</td><td>POLYGON J2000 290.29327640 -28.03399480 290.29240020 -28.00533380 290.26087170 -28.00821870 290.26173940 -28.03687990 290.29327640 -28.03399480</td><td>https://hla.stsci.edu/cgi-bin/preview.cgi?dataset=hst_13863_04_acs_wfc_f606wpol0v_04</td><td>--</td><td>PUBLIC</td><td>--</td><td>nan</td><td>25981111</td><td>67948378</td></tr>\n",
       "<tr><td>science</td><td>HLA</td><td>HLA</td><td>ACS/WFC</td><td>HLA</td><td>F775W</td><td>OPTICAL</td><td>COMET-67P-CHURYUMOV-GERASIMENK</td><td>--</td><td>hst_13863_05_acs_wfc_f775w_02</td><td>290.58229756426226</td><td>-27.965992462729282</td><td>image</td><td>Hines</td><td>2</td><td>56978.449</td><td>56978.45075</td><td>150.0</td><td>690000000000.0</td><td>860000000000.0</td><td>--</td><td>57343.70451382</td><td>13863</td><td>HLA</td><td>--</td><td>POLYGON J2000 290.56684580 -27.98145780 290.59817000 -27.97896760 290.59774490 -27.95052540 290.56642890 -27.95301540 290.56684580 -27.98145780</td><td>https://hla.stsci.edu/cgi-bin/preview.cgi?dataset=hst_13863_05_acs_wfc_f775w_02</td><td>--</td><td>PUBLIC</td><td>--</td><td>nan</td><td>25981127</td><td>67948394</td></tr>\n",
       "<tr><td>science</td><td>HLA</td><td>HLA</td><td>ACS/WFC</td><td>HLA</td><td>F606WPOL120V</td><td>--</td><td>COMET-67P-CHURYUMOV-GERASIMENK</td><td>--</td><td>hst_13863_06_acs_wfc_f606wpol120v_01</td><td>290.9351417933782</td><td>-27.90260100826863</td><td>image</td><td>Hines</td><td>2</td><td>56979.58024</td><td>56979.58934</td><td>785.0</td><td>nan</td><td>nan</td><td>--</td><td>57344.94447902</td><td>13863</td><td>HLA</td><td>--</td><td>POLYGON J2000 290.94963450 -27.88622720 290.91830870 -27.89036570 290.92064470 -27.91897330 290.95197860 -27.91483430 290.94963450 -27.88622720</td><td>https://hla.stsci.edu/cgi-bin/preview.cgi?dataset=hst_13863_06_acs_wfc_f606wpol120v_01</td><td>--</td><td>PUBLIC</td><td>--</td><td>nan</td><td>25981128</td><td>67948395</td></tr>\n",
       "<tr><td>science</td><td>HLA</td><td>HLA</td><td>ACS/WFC</td><td>HLA</td><td>F606WPOL120V</td><td>--</td><td>COMET-67P-CHURYUMOV-GERASIMENK</td><td>--</td><td>hst_13863_06_acs_wfc_f606wpol120v_07</td><td>290.95544179257433</td><td>-27.897420057724133</td><td>image</td><td>Hines</td><td>2</td><td>56979.647</td><td>56979.6561</td><td>785.0</td><td>nan</td><td>nan</td><td>--</td><td>57344.94447902</td><td>13863</td><td>HLA</td><td>--</td><td>POLYGON J2000 290.93860690 -27.88518760 290.94094900 -27.91379480 290.97228050 -27.90965040 290.96993020 -27.88104380 290.93860690 -27.88518760</td><td>https://hla.stsci.edu/cgi-bin/preview.cgi?dataset=hst_13863_06_acs_wfc_f606wpol120v_07</td><td>--</td><td>PUBLIC</td><td>--</td><td>nan</td><td>25981134</td><td>67948401</td></tr>\n",
       "<tr><td>science</td><td>HLA</td><td>HLA</td><td>ACS/WFC</td><td>HLA</td><td>F606WPOL120V</td><td>--</td><td>COMET-67P-CHURYUMOV-GERASIMENK</td><td>--</td><td>hst_14261_03_acs_wfc_f606wpol120v_02</td><td>149.39905343216378</td><td>17.69330118900645</td><td>image</td><td>Hines</td><td>2</td><td>57306.54686</td><td>57306.55228</td><td>467.0</td><td>nan</td><td>nan</td><td>--</td><td>57672.72732635</td><td>14261</td><td>HLA</td><td>--</td><td>POLYGON J2000 149.37877620 17.68561370 149.40606970 17.67523370 149.41933240 17.70098660 149.39203580 17.71136840 149.37877620 17.68561370</td><td>https://hla.stsci.edu/cgi-bin/preview.cgi?dataset=hst_14261_03_acs_wfc_f606wpol120v_02</td><td>--</td><td>PUBLIC</td><td>--</td><td>nan</td><td>26004666</td><td>67971933</td></tr>\n",
       "<tr><td>science</td><td>HLA</td><td>HLA</td><td>ACS/WFC</td><td>HLA</td><td>F606WPOL60V</td><td>--</td><td>COMET-67P-CHURYUMOV-GERASIMENK</td><td>--</td><td>hst_13863_05_acs_wfc_f606wpol60v_03</td><td>290.6007621459412</td><td>-27.963361624819484</td><td>image</td><td>Hines</td><td>2</td><td>56978.50763</td><td>56978.51672</td><td>785.0</td><td>nan</td><td>nan</td><td>--</td><td>57343.75185176</td><td>13863</td><td>HLA</td><td>--</td><td>POLYGON J2000 290.61631780 -27.94778080 290.58477530 -27.95028270 290.58520200 -27.97894070 290.61675290 -27.97643870 290.61631780 -27.94778080</td><td>https://hla.stsci.edu/cgi-bin/preview.cgi?dataset=hst_13863_05_acs_wfc_f606wpol60v_03</td><td>--</td><td>PUBLIC</td><td>--</td><td>nan</td><td>25981120</td><td>67948387</td></tr>\n",
       "<tr><td>science</td><td>HLA</td><td>HLA</td><td>ACS/WFC</td><td>HLA</td><td>F775W</td><td>OPTICAL</td><td>COMET-67P-CHURYUMOV-GERASIMENK</td><td>--</td><td>hst_13863_05_acs_wfc_f775w_01</td><td>290.58067756432786</td><td>-27.966253462770922</td><td>image</td><td>Hines</td><td>2</td><td>56978.44466</td><td>56978.44641</td><td>150.0</td><td>690000000000.0</td><td>860000000000.0</td><td>--</td><td>57343.70451382</td><td>13863</td><td>HLA</td><td>--</td><td>POLYGON J2000 290.56522550 -27.98171880 290.59655000 -27.97922890 290.59612520 -27.95078640 290.56480900 -27.95327620 290.56522550 -27.98171880</td><td>https://hla.stsci.edu/cgi-bin/preview.cgi?dataset=hst_13863_05_acs_wfc_f775w_01</td><td>--</td><td>PUBLIC</td><td>--</td><td>nan</td><td>25981126</td><td>67948393</td></tr>\n",
       "<tr><td>science</td><td>HLA</td><td>HLA</td><td>ACS/WFC</td><td>HLA</td><td>F775W</td><td>OPTICAL</td><td>COMET-67P-CHURYUMOV-GERASIMENK</td><td>--</td><td>hst_13863_06_acs_wfc_f775w_01</td><td>290.9128770096229</td><td>-27.905945046863923</td><td>image</td><td>Hines</td><td>2</td><td>56979.51028</td><td>56979.51203</td><td>150.0</td><td>690000000000.0</td><td>860000000000.0</td><td>--</td><td>57344.94012718</td><td>13863</td><td>HLA</td><td>--</td><td>POLYGON J2000 290.89618110 -27.89381480 290.89848990 -27.92218630 290.92957680 -27.91807330 290.92725980 -27.88970230 290.89618110 -27.89381480</td><td>https://hla.stsci.edu/cgi-bin/preview.cgi?dataset=hst_13863_06_acs_wfc_f775w_01</td><td>--</td><td>PUBLIC</td><td>--</td><td>nan</td><td>25981136</td><td>67948403</td></tr>\n",
       "<tr><td>science</td><td>HLA</td><td>HLA</td><td>ACS/WFC</td><td>HLA</td><td>F606WPOL60V</td><td>--</td><td>COMET-67P-CHURYUMOV-GERASIMENK</td><td>--</td><td>hst_14261_02_acs_wfc_f606wpol60v_04</td><td>149.03383347531883</td><td>17.791933192580494</td><td>image</td><td>Hines</td><td>2</td><td>57306.01628</td><td>57306.0217</td><td>467.0</td><td>nan</td><td>nan</td><td>--</td><td>57672.2263889</td><td>14261</td><td>HLA</td><td>--</td><td>POLYGON J2000 149.02679120 17.80997720 149.01357040 17.78422550 149.04087430 17.77388890 149.05409830 17.79963880 149.02679120 17.80997720</td><td>https://hla.stsci.edu/cgi-bin/preview.cgi?dataset=hst_14261_02_acs_wfc_f606wpol60v_04</td><td>--</td><td>PUBLIC</td><td>--</td><td>nan</td><td>26004664</td><td>67971931</td></tr>\n",
       "<tr><td>science</td><td>HLA</td><td>HLA</td><td>ACS/WFC</td><td>HLA</td><td>F606WPOL120V</td><td>--</td><td>COMET-67P-CHURYUMOV-GERASIMENK</td><td>--</td><td>hst_14261_03_acs_wfc_f606wpol120v_03</td><td>149.38633343179924</td><td>17.696582189227897</td><td>image</td><td>Hines</td><td>2</td><td>57306.53082</td><td>57306.53624</td><td>467.0</td><td>nan</td><td>nan</td><td>--</td><td>57672.72732635</td><td>14261</td><td>HLA</td><td>--</td><td>POLYGON J2000 149.37931420 17.71464960 149.36605570 17.68889320 149.39335130 17.67851450 149.40661290 17.70426910 149.37931420 17.71464960</td><td>https://hla.stsci.edu/cgi-bin/preview.cgi?dataset=hst_14261_03_acs_wfc_f606wpol120v_03</td><td>--</td><td>PUBLIC</td><td>--</td><td>nan</td><td>26004667</td><td>67971934</td></tr>\n",
       "</table></div>"
      ],
      "text/plain": [
       "<Table masked=True length=70>\n",
       "intentType obs_collection provenance_name ...  srcDen  obsid     objID  \n",
       "   str7         str3            str6      ... float64   str8      str9  \n",
       "---------- -------------- --------------- ... ------- -------- ---------\n",
       "   science            HST          CALACS ...     nan 24839231 905528669\n",
       "   science            HST          CALACS ...     nan 25001891 905673890\n",
       "   science            HST          CALACS ...     nan 25001892 905673874\n",
       "   science            HST          CALACS ...     nan 24839229 906039325\n",
       "   science            HST          CALACS ...     nan 24839235 905533260\n",
       "   science            HST          CALACS ...     nan 24839233 905528677\n",
       "   science            HST          CALACS ...     nan 24839228 906039334\n",
       "   science            HST          CALACS ...     nan 25001890 905673894\n",
       "   science            HST          CALACS ...     nan 24839230 906039413\n",
       "       ...            ...             ... ...     ...      ...       ...\n",
       "   science            HLA             HLA ...     nan 25981111  67948378\n",
       "   science            HLA             HLA ...     nan 25981127  67948394\n",
       "   science            HLA             HLA ...     nan 25981128  67948395\n",
       "   science            HLA             HLA ...     nan 25981134  67948401\n",
       "   science            HLA             HLA ...     nan 26004666  67971933\n",
       "   science            HLA             HLA ...     nan 25981120  67948387\n",
       "   science            HLA             HLA ...     nan 25981126  67948393\n",
       "   science            HLA             HLA ...     nan 25981136  67948403\n",
       "   science            HLA             HLA ...     nan 26004664  67971931\n",
       "   science            HLA             HLA ...     nan 26004667  67971934"
      ]
     },
     "execution_count": 8,
     "metadata": {},
     "output_type": "execute_result"
    }
   ],
   "source": [
    "mask = observations[\"target_name\"] == \"COMET-67P-CHURYUMOV-GERASIMENK\"\n",
    "filtered_observations = observations[mask]\n",
    "filtered_observations"
   ]
  },
  {
   "cell_type": "markdown",
   "id": "ebdc42f6",
   "metadata": {},
   "source": [
    "Now that we have our filtered observations, let's sort the rows of this table based on the `t_min` criteria, which refers to the start time of the exposure in MJD."
   ]
  },
  {
   "cell_type": "code",
   "execution_count": 9,
   "id": "5198bf11",
   "metadata": {
    "execution": {
     "iopub.execute_input": "2025-09-10T18:58:47.388272Z",
     "iopub.status.busy": "2025-09-10T18:58:47.388009Z",
     "iopub.status.idle": "2025-09-10T18:58:47.400670Z",
     "shell.execute_reply": "2025-09-10T18:58:47.400123Z"
    }
   },
   "outputs": [],
   "source": [
    "filtered_observations.sort(\"t_min\")"
   ]
  },
  {
   "cell_type": "markdown",
   "id": "dc840a0a",
   "metadata": {},
   "source": [
    "Now that we've sorted our table, let's construct a basic ephemeris showing the path of our object over time (with `t_min`, or exposure start in MJD, as our time component):"
   ]
  },
  {
   "cell_type": "code",
   "execution_count": 10,
   "id": "cd4fca9a",
   "metadata": {
    "execution": {
     "iopub.execute_input": "2025-09-10T18:58:47.402632Z",
     "iopub.status.busy": "2025-09-10T18:58:47.402451Z",
     "iopub.status.idle": "2025-09-10T18:58:47.405904Z",
     "shell.execute_reply": "2025-09-10T18:58:47.405458Z"
    }
   },
   "outputs": [],
   "source": [
    "ephemeris = Table([filtered_observations[\"s_ra\"],\n",
    "                   filtered_observations[\"s_dec\"],\n",
    "                   filtered_observations[\"t_min\"]], names=(\"ra\", \"dec\", \"t_min\"))"
   ]
  },
  {
   "cell_type": "markdown",
   "id": "80b5f267",
   "metadata": {},
   "source": [
    "Let's display the contents of our ephemeris, and use it to generate a plot of the comet's path:"
   ]
  },
  {
   "cell_type": "code",
   "execution_count": 11,
   "id": "40a7aedb",
   "metadata": {
    "execution": {
     "iopub.execute_input": "2025-09-10T18:58:47.407481Z",
     "iopub.status.busy": "2025-09-10T18:58:47.407327Z",
     "iopub.status.idle": "2025-09-10T18:58:47.413856Z",
     "shell.execute_reply": "2025-09-10T18:58:47.413274Z"
    }
   },
   "outputs": [
    {
     "data": {
      "text/html": [
       "<div><i>Table length=70</i>\n",
       "<table id=\"table140162178017872\" class=\"table-striped table-bordered table-condensed\">\n",
       "<thead><tr><th>ra</th><th>dec</th><th>t_min</th></tr></thead>\n",
       "<thead><tr><th>float64</th><th>float64</th><th>float64</th></tr></thead>\n",
       "<tr><td>281.2558788729</td><td>-31.01619293249</td><td>56887.26573422454</td></tr>\n",
       "<tr><td>281.1070408364967</td><td>-31.006679797131913</td><td>56888.26101</td></tr>\n",
       "<tr><td>281.1070302812</td><td>-31.0066887554</td><td>56888.26101200232</td></tr>\n",
       "<tr><td>281.1045408863173</td><td>-31.00650879708346</td><td>56888.27707</td></tr>\n",
       "<tr><td>281.0975108367455</td><td>-31.006933797314236</td><td>56888.32419</td></tr>\n",
       "<tr><td>281.0951608865579</td><td>-31.006770747268593</td><td>56888.34025</td></tr>\n",
       "<tr><td>281.0868808868347</td><td>-31.005851797486205</td><td>56888.39054</td></tr>\n",
       "<tr><td>281.0845408866453</td><td>-31.005687797434355</td><td>56888.40661</td></tr>\n",
       "<tr><td>281.0773208868312</td><td>-31.004271747618215</td><td>56888.4569</td></tr>\n",
       "<tr><td>...</td><td>...</td><td>...</td></tr>\n",
       "<tr><td>149.02105347495342</td><td>17.795211192797524</td><td>57306.00024</td></tr>\n",
       "<tr><td>149.0210592664</td><td>17.79521475611</td><td>57306.00024725695</td></tr>\n",
       "<tr><td>149.02788342509825</td><td>17.794214142733026</td><td>57306.00826</td></tr>\n",
       "<tr><td>149.03383347531883</td><td>17.791933192580494</td><td>57306.01628</td></tr>\n",
       "<tr><td>149.0387234255141</td><td>17.789775192433133</td><td>57306.02429</td></tr>\n",
       "<tr><td>149.38633343179924</td><td>17.696582189227897</td><td>57306.53082</td></tr>\n",
       "<tr><td>149.386341824</td><td>17.6965860963</td><td>57306.530825775466</td></tr>\n",
       "<tr><td>149.39313343193777</td><td>17.695584189165338</td><td>57306.53884</td></tr>\n",
       "<tr><td>149.39905343216378</td><td>17.69330118900645</td><td>57306.54686</td></tr>\n",
       "<tr><td>149.40391343235848</td><td>17.69114218886538</td><td>57306.55487</td></tr>\n",
       "</table></div>"
      ],
      "text/plain": [
       "<Table length=70>\n",
       "        ra                 dec               t_min       \n",
       "     float64             float64            float64      \n",
       "------------------ ------------------- ------------------\n",
       "    281.2558788729     -31.01619293249  56887.26573422454\n",
       " 281.1070408364967 -31.006679797131913        56888.26101\n",
       "    281.1070302812      -31.0066887554  56888.26101200232\n",
       " 281.1045408863173  -31.00650879708346        56888.27707\n",
       " 281.0975108367455 -31.006933797314236        56888.32419\n",
       " 281.0951608865579 -31.006770747268593        56888.34025\n",
       " 281.0868808868347 -31.005851797486205        56888.39054\n",
       " 281.0845408866453 -31.005687797434355        56888.40661\n",
       " 281.0773208868312 -31.004271747618215         56888.4569\n",
       "               ...                 ...                ...\n",
       "149.02105347495342  17.795211192797524        57306.00024\n",
       "    149.0210592664      17.79521475611  57306.00024725695\n",
       "149.02788342509825  17.794214142733026        57306.00826\n",
       "149.03383347531883  17.791933192580494        57306.01628\n",
       " 149.0387234255141  17.789775192433133        57306.02429\n",
       "149.38633343179924  17.696582189227897        57306.53082\n",
       "     149.386341824       17.6965860963 57306.530825775466\n",
       "149.39313343193777  17.695584189165338        57306.53884\n",
       "149.39905343216378   17.69330118900645        57306.54686\n",
       "149.40391343235848   17.69114218886538        57306.55487"
      ]
     },
     "execution_count": 11,
     "metadata": {},
     "output_type": "execute_result"
    }
   ],
   "source": [
    "ephemeris.sort(\"t_min\")\n",
    "ephemeris"
   ]
  },
  {
   "cell_type": "code",
   "execution_count": 12,
   "id": "29d51f19",
   "metadata": {
    "execution": {
     "iopub.execute_input": "2025-09-10T18:58:47.415559Z",
     "iopub.status.busy": "2025-09-10T18:58:47.415387Z",
     "iopub.status.idle": "2025-09-10T18:58:47.576658Z",
     "shell.execute_reply": "2025-09-10T18:58:47.576027Z"
    }
   },
   "outputs": [
    {
     "data": {
      "image/png": "[encoded data removed]",
      "text/plain": [
       "<Figure size 1200x800 with 1 Axes>"
      ]
     },
     "metadata": {},
     "output_type": "display_data"
    }
   ],
   "source": [
    "plt.figure(figsize=(12,8))\n",
    "plt.scatter(ephemeris[0:18]['ra'], ephemeris[0:18]['dec'], color='royalblue', s=200, lw=1., edgecolor='k')\n",
    "\n",
    "plt.xlabel(\"Right Ascension (deg)\", fontsize=20)\n",
    "plt.ylabel(\"Declination (deg)\", fontsize=20)\n",
    "\n",
    "plt.title(\"Sky Coordinates\", fontsize=20)\n",
    "\n",
    "plt.xticks(fontsize=15)\n",
    "plt.yticks(fontsize=15)\n",
    "plt.grid()"
   ]
  },
  {
   "cell_type": "markdown",
   "id": "78e5b531",
   "metadata": {},
   "source": [
    "You can choose to save the ephemeris table in your current working directory by running the cell below:"
   ]
  },
  {
   "cell_type": "code",
   "execution_count": 13,
   "id": "8763a7e9",
   "metadata": {
    "execution": {
     "iopub.execute_input": "2025-09-10T18:58:47.578424Z",
     "iopub.status.busy": "2025-09-10T18:58:47.578262Z",
     "iopub.status.idle": "2025-09-10T18:58:47.583173Z",
     "shell.execute_reply": "2025-09-10T18:58:47.582690Z"
    }
   },
   "outputs": [],
   "source": [
    "# Overwriting is not necessary, but prevents this Notebook from failing STScI's automated testing\n",
    "ephemeris.write('ephemeris-comet67p-cg.csv', format='ascii', overwrite=True)"
   ]
  },
  {
   "cell_type": "markdown",
   "id": "4b6fafaf",
   "metadata": {},
   "source": [
    "## Resources"
   ]
  },
  {
   "cell_type": "markdown",
   "id": "e1ce99f9",
   "metadata": {},
   "source": [
    "The following is a list of resources that were referenced throughout the tutorial, as well as some additional references that you may find useful:\n",
    "\n",
    "* [`astroquery.mast.Observation` criteria queries](https://astroquery.readthedocs.io/en/latest/mast/mast.html#observation-criteria-queries)\n",
    "* [JWST Instrument Names](https://outerspace.stsci.edu/display/MASTDOCS/JWST+Instrument+Names)"
   ]
  },
  {
   "cell_type": "markdown",
   "id": "55a71062",
   "metadata": {},
   "source": [
    "## Citations"
   ]
  },
  {
   "cell_type": "markdown",
   "id": "268da702",
   "metadata": {},
   "source": [
    "If you use any of astroquery's tools for published research, please cite the authors. Follow this link for more information about citing astroquery:\n",
    "\n",
    "* [Citing astroquery](https://github.com/astropy/astroquery/blob/main/astroquery/CITATION)"
   ]
  },
  {
   "cell_type": "markdown",
   "id": "79ab0efc",
   "metadata": {},
   "source": [
    "## About This Notebook"
   ]
  },
  {
   "cell_type": "markdown",
   "id": "bb9ce04c",
   "metadata": {},
   "source": [
    "If you have comments or questions on this notebook, please contact us through the Archive Help Desk e-mail at archive@stsci.edu. <br>\n",
    "<br>\n",
    "Author: Jenny V. Medina <br>\n",
    "Keywords: astroquery, wildcards, moving target <br>\n",
    "Last Updated: Jun 2023"
   ]
  }
 ],
 "metadata": {
  "kernelspec": {
   "display_name": "Python 3 (ipykernel)",
   "language": "python",
   "name": "python3"
  },
  "language_info": {
   "codemirror_mode": {
    "name": "ipython",
    "version": 3
   },
   "file_extension": ".py",
   "mimetype": "text/x-python",
   "name": "python",
   "nbconvert_exporter": "python",
   "pygments_lexer": "ipython3",
   "version": "3.11.13"
  }
 },
 "nbformat": 4,
 "nbformat_minor": 5
}
