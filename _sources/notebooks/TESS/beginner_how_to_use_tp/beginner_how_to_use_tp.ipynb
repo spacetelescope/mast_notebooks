{
 "cells": [
  {
   "cell_type": "markdown",
   "metadata": {},
   "source": [
    "<a id=\"title_ID\"></a>\n",
    "# Read and Display A TESS Target Pixel File\n",
    "\n",
    "This notebook tutorial demonstrates how to load and display the contents of a TESS target pixel (tp) file.  We will display the flux values from a given cadence, and identify the pixels used in the photometric aperture."
   ]
  },
  {
   "cell_type": "code",
   "execution_count": 1,
   "metadata": {
    "execution": {
     "iopub.execute_input": "2025-09-11T15:14:40.733528Z",
     "iopub.status.busy": "2025-09-11T15:14:40.733378Z",
     "iopub.status.idle": "2025-09-11T15:14:41.123192Z",
     "shell.execute_reply": "2025-09-11T15:14:41.122675Z"
    }
   },
   "outputs": [],
   "source": [
    "%matplotlib inline\n",
    "from astropy.io import fits\n",
    "import matplotlib.pyplot as plt\n",
    "import numpy as np"
   ]
  },
  {
   "cell_type": "markdown",
   "metadata": {},
   "source": [
    "## Introduction\n",
    "\n",
    "A target pixel file contains the raw and calibrated fluxes for the pixels downloaded at a cadence shorter than the full frame images.  Nominally, these are at a two-minute cadence.  It also contains information about the aperture, including which pixels were used to calculate the total flux, which pixels were used to estimate the background flux, and which pixels were used to calculate the flux weighted or pixel response function centroids.  The data shown here will be for the star TIC 25155310, which is known to host at least one planet, WASP-126 b.\n",
    "\n",
    "This tutorial will refer to a couple TESS-related terms that we define here.\n",
    "* Sector = TESS observed the sky in regions of 24x96 degrees along the southern, then northern, ecliptic hemispheres.  Each of these regions is referred to as a \"sector\", starting with Sector 1.\n",
    "* HDU = Header Data Unit.  A FITS file is made up of HDUs that contain data and metadata relating to the file. The first HDU is called the primary HDU, and anything that follows is considered an \"extension\", e.g., \"the first FITS extension\", \"the second FITS extension\", etc.\n",
    "* BJD = Barycentric Julian Date, the Julian Date that has been corrected for differences in the Earth's position with respect to the Solar System center of mass.\n",
    "* TBJD = TESS Barycentric Julian Date, the timestamp measured in BJD, but offset by 2457000.0.  I.e., TBJD = BJD - 2457000.0\n",
    "* Cadence = The interval between flux measurements, nominally ~2 minutes for the target pixel files, and ~30 minutes for the full frame images."
   ]
  },
  {
   "cell_type": "markdown",
   "metadata": {},
   "source": [
    "## Obtaining The Target Pixel File\n",
    "\n",
    "We will read the target pixel file from Sector 1 using the MAST URL location.  So that we can get started with understanding the file contents without reviewing how to automatically search for and retrieve TESS files, we won't show how to search and retrieve TESS target pixel files in this tutorial. Consult other TESS tutorials [in the TESS Archive Handbook](https://outerspace.stsci.edu/display/TESS/6.0+-+Data+Search+Tutorials) for much more information on how to search for TESS data using MAST services."
   ]
  },
  {
   "cell_type": "code",
   "execution_count": 2,
   "metadata": {
    "execution": {
     "iopub.execute_input": "2025-09-11T15:14:41.125141Z",
     "iopub.status.busy": "2025-09-11T15:14:41.124955Z",
     "iopub.status.idle": "2025-09-11T15:14:41.127263Z",
     "shell.execute_reply": "2025-09-11T15:14:41.126866Z"
    }
   },
   "outputs": [],
   "source": [
    "# For the purposes of this tutorial, we just know the MAST URL location of the file we want to examine.\n",
    "fits_file = \"https://archive.stsci.edu/missions/tess/tid/s0001/0000/0000/2515/5310/tess2018206045859-s0001-0000000025155310-0120-s_tp.fits\""
   ]
  },
  {
   "cell_type": "markdown",
   "metadata": {},
   "source": [
    "## Understanding The Target Pixel File Structure\n",
    "\n",
    "The TESS target pixel files contain a primary HDU with metadata stored in the header.  The first extension HDU contains more metadata in the header and stores arrays of data in a binary FITS table, which include the timestamps, fluxes, and background fluxes for each cadence of the pixels read out and downloaded by the spacecraft.  The second extension HDU contains an image that stores the pixels that were read out, and records information such as which pixels were used in the optimal photometric aperture to create the SAP fluxes.  The third extension HDU is a placeholder and is not currently used by the mission:  it can be ignored.  Let's examine the structure of the FITS file using the astropy.fits `info` function, which shows the FITS file format in more detail."
   ]
  },
  {
   "cell_type": "code",
   "execution_count": 3,
   "metadata": {
    "execution": {
     "iopub.execute_input": "2025-09-11T15:14:41.128726Z",
     "iopub.status.busy": "2025-09-11T15:14:41.128576Z",
     "iopub.status.idle": "2025-09-11T15:14:41.135661Z",
     "shell.execute_reply": "2025-09-11T15:14:41.135183Z"
    }
   },
   "outputs": [
    {
     "name": "stdout",
     "output_type": "stream",
     "text": [
      "Filename: /home/runner/.astropy/cache/download/url/ec0e845560e8e75754a996e0a58d2177/contents\n",
      "No.    Name      Ver    Type      Cards   Dimensions   Format\n",
      "  0  PRIMARY       1 PrimaryHDU      44   ()      \n",
      "  1  PIXELS        1 BinTableHDU    248   20076R x 11C   [D, E, J, 121J, 121E, 121E, 121E, 121E, J, E, E]   \n",
      "  2  APERTURE      1 ImageHDU        49   (11, 11)   int32   \n",
      "  3  TARGET COSMIC RAY    1 BinTableHDU     27   0R x 4C   [J, I, I, E]   \n"
     ]
    }
   ],
   "source": [
    "fits.info(fits_file)"
   ]
  },
  {
   "cell_type": "markdown",
   "metadata": {},
   "source": [
    "Let's examine the binary table in the first FITS extension, since that contains the arrays of timestamps and fluxes for each cadence.  We will use the astropy.fits `getdata` function to access the table from the first extension HDU, and then show the columns of the table.  We can see included in the table are columns for the timestamps in TESS BJD format (**TIME**), raw counts (**RAW_CNTS**), and calibrated fluxes (**FLUX**)."
   ]
  },
  {
   "cell_type": "code",
   "execution_count": 4,
   "metadata": {
    "execution": {
     "iopub.execute_input": "2025-09-11T15:14:41.161741Z",
     "iopub.status.busy": "2025-09-11T15:14:41.161574Z",
     "iopub.status.idle": "2025-09-11T15:14:41.191589Z",
     "shell.execute_reply": "2025-09-11T15:14:41.191091Z"
    }
   },
   "outputs": [
    {
     "data": {
      "text/plain": [
       "ColDefs(\n",
       "    name = 'TIME'; format = 'D'; unit = 'BJD - 2457000, days'; disp = 'D14.7'\n",
       "    name = 'TIMECORR'; format = 'E'; unit = 'd'; disp = 'E14.7'\n",
       "    name = 'CADENCENO'; format = 'J'; disp = 'I10'\n",
       "    name = 'RAW_CNTS'; format = '121J'; unit = 'count'; null = -1; disp = 'I8'; dim = '(11,11)'\n",
       "    name = 'FLUX'; format = '121E'; unit = 'e-/s'; disp = 'E14.7'; dim = '(11,11)'\n",
       "    name = 'FLUX_ERR'; format = '121E'; unit = 'e-/s'; disp = 'E14.7'; dim = '(11,11)'\n",
       "    name = 'FLUX_BKG'; format = '121E'; unit = 'e-/s'; disp = 'E14.7'; dim = '(11,11)'\n",
       "    name = 'FLUX_BKG_ERR'; format = '121E'; unit = 'e-/s'; disp = 'E14.7'; dim = '(11,11)'\n",
       "    name = 'QUALITY'; format = 'J'; disp = 'B16.16'\n",
       "    name = 'POS_CORR1'; format = 'E'; unit = 'pixel'; disp = 'E14.7'\n",
       "    name = 'POS_CORR2'; format = 'E'; unit = 'pixel'; disp = 'E14.7'\n",
       ")"
      ]
     },
     "execution_count": 4,
     "metadata": {},
     "output_type": "execute_result"
    }
   ],
   "source": [
    "fits.getdata(fits_file, ext=1).columns"
   ]
  },
  {
   "cell_type": "markdown",
   "metadata": {},
   "source": [
    "If you examine the structure of the data, the table is more complicated than just rows and columns of values.  You can see the dimensions of the raw counts, flux, flux errors, flux backgrounds, and flux background errors are 11x11 (the size of the pixel stamp read out for this particular target).  We'll show how to examine the fluxes from a particular cadence below."
   ]
  },
  {
   "cell_type": "markdown",
   "metadata": {},
   "source": [
    "## Reading the timestamps and fluxes.\n",
    "\n",
    "Now that we have the target pixel file, let's store the timestamps and fluxes for use later."
   ]
  },
  {
   "cell_type": "code",
   "execution_count": 5,
   "metadata": {
    "execution": {
     "iopub.execute_input": "2025-09-11T15:14:41.193301Z",
     "iopub.status.busy": "2025-09-11T15:14:41.193120Z",
     "iopub.status.idle": "2025-09-11T15:14:41.202368Z",
     "shell.execute_reply": "2025-09-11T15:14:41.201856Z"
    }
   },
   "outputs": [],
   "source": [
    "with fits.open(fits_file, mode=\"readonly\") as hdulist:\n",
    "    tess_bjds = hdulist[1].data['TIME']\n",
    "    raw_counts = hdulist[1].data['RAW_CNTS']\n",
    "    calibrated_fluxes = hdulist[1].data['FLUX']"
   ]
  },
  {
   "cell_type": "markdown",
   "metadata": {},
   "source": [
    "Let's examine one of these to see how Python stores the data."
   ]
  },
  {
   "cell_type": "code",
   "execution_count": 6,
   "metadata": {
    "execution": {
     "iopub.execute_input": "2025-09-11T15:14:41.203834Z",
     "iopub.status.busy": "2025-09-11T15:14:41.203681Z",
     "iopub.status.idle": "2025-09-11T15:14:41.206311Z",
     "shell.execute_reply": "2025-09-11T15:14:41.205881Z"
    }
   },
   "outputs": [
    {
     "name": "stdout",
     "output_type": "stream",
     "text": [
      "<class 'numpy.ndarray'>\n",
      "(20076, 11, 11)\n"
     ]
    }
   ],
   "source": [
    "print(type(calibrated_fluxes))\n",
    "print(calibrated_fluxes.shape)"
   ]
  },
  {
   "cell_type": "markdown",
   "metadata": {},
   "source": [
    "So these data are stored as a numpy array.  The first dimension is the number of cadences, followed by the size of the readout.  Thus, accessing `calibrated_fluxes[4,:,:]` should return to us the 11x11 grid of pixels from the **fifth** cadence (remember Python is zero-indexed, so the first cadence is stored in the zeroth index, the second in the first index, etc.)"
   ]
  },
  {
   "cell_type": "code",
   "execution_count": 7,
   "metadata": {
    "execution": {
     "iopub.execute_input": "2025-09-11T15:14:41.207694Z",
     "iopub.status.busy": "2025-09-11T15:14:41.207543Z",
     "iopub.status.idle": "2025-09-11T15:14:41.210843Z",
     "shell.execute_reply": "2025-09-11T15:14:41.210369Z"
    }
   },
   "outputs": [
    {
     "data": {
      "text/plain": [
       "(11, 11)"
      ]
     },
     "execution_count": 7,
     "metadata": {},
     "output_type": "execute_result"
    }
   ],
   "source": [
    "calibrated_fluxes[4,:,:].shape"
   ]
  },
  {
   "cell_type": "markdown",
   "metadata": {},
   "source": [
    "## Show the calibrated pixel values.\n",
    "\n",
    "Let's display the calibrated fluxes for one of the cadences in our target pixel file.  For now, we'll pick the fifth cadence (index number 4).  You could of course decide to look at multiple cadences by looping over each index in the first dimension of the structure (e.g., loop over `calibrated_fluxes[i,:,:]`).  You could even make an animated .gif of the fluxes and see how they change from cadence to cadence.  To get you started though, let's just display one of the cadence's flux values."
   ]
  },
  {
   "cell_type": "code",
   "execution_count": 8,
   "metadata": {
    "execution": {
     "iopub.execute_input": "2025-09-11T15:14:41.212233Z",
     "iopub.status.busy": "2025-09-11T15:14:41.212064Z",
     "iopub.status.idle": "2025-09-11T15:14:41.361593Z",
     "shell.execute_reply": "2025-09-11T15:14:41.361082Z"
    }
   },
   "outputs": [
    {
     "data": {
      "image/png": "[encoded data removed]",
      "text/plain": [
       "<Figure size 640x480 with 2 Axes>"
      ]
     },
     "metadata": {},
     "output_type": "display_data"
    }
   ],
   "source": [
    "# Start figure and axis.\n",
    "fig, ax = plt.subplots()\n",
    "\n",
    "# Display the calibrated fluxes as an image for the fifth cadence.\n",
    "cax = ax.imshow(calibrated_fluxes[4,:,:], cmap=plt.cm.YlGnBu_r, origin=\"lower\")\n",
    "\n",
    "# Let's define a title for the figure.\n",
    "fig.suptitle(\"WASP-126 b Calibrated Fluxes - Sector 1, Fifth Cadence\")\n",
    "\n",
    "# Add a color bar.\n",
    "cbar = fig.colorbar(cax)\n",
    "plt.show()"
   ]
  },
  {
   "cell_type": "markdown",
   "metadata": {},
   "source": [
    "## Displaying The Aperture Pixel Information\n",
    "\n",
    "Let's read in the second FITS extension HDU to display the aperture information.  First, let's read in the aperture pixels from the HDU."
   ]
  },
  {
   "cell_type": "code",
   "execution_count": 9,
   "metadata": {
    "execution": {
     "iopub.execute_input": "2025-09-11T15:14:41.363190Z",
     "iopub.status.busy": "2025-09-11T15:14:41.363005Z",
     "iopub.status.idle": "2025-09-11T15:14:41.368382Z",
     "shell.execute_reply": "2025-09-11T15:14:41.367938Z"
    }
   },
   "outputs": [],
   "source": [
    "with fits.open(fits_file, mode=\"readonly\") as hdulist:\n",
    "    aperture = hdulist[2].data"
   ]
  },
  {
   "cell_type": "markdown",
   "metadata": {},
   "source": [
    "Let's plot the pixels as an image."
   ]
  },
  {
   "cell_type": "code",
   "execution_count": 10,
   "metadata": {
    "execution": {
     "iopub.execute_input": "2025-09-11T15:14:41.369817Z",
     "iopub.status.busy": "2025-09-11T15:14:41.369678Z",
     "iopub.status.idle": "2025-09-11T15:14:41.484889Z",
     "shell.execute_reply": "2025-09-11T15:14:41.484430Z"
    }
   },
   "outputs": [
    {
     "data": {
      "image/png": "[encoded data removed]",
      "text/plain": [
       "<Figure size 640x480 with 2 Axes>"
      ]
     },
     "metadata": {},
     "output_type": "display_data"
    }
   ],
   "source": [
    "# Start figure and axis.\n",
    "fig, ax = plt.subplots()\n",
    "\n",
    "# Display the pixels as an image.\n",
    "cax = ax.imshow(aperture, cmap=plt.cm.YlGnBu_r, origin=\"lower\")\n",
    "\n",
    "# Add a color bar.\n",
    "cbar = fig.colorbar(cax)\n",
    "\n",
    "# Add a title to the plot.\n",
    "fig.suptitle(\"WASP-126 b Aperture - Sector 1\")\n",
    "plt.show()"
   ]
  },
  {
   "cell_type": "markdown",
   "metadata": {},
   "source": [
    "## Understanding The Aperture Pixel Values\n",
    "\n",
    "We see the pixel values are integers, but what do they mean?  The pixels are bitmasks that encode information about each pixel.  You can find a summary of what the different values mean [here](https://outerspace.stsci.edu/display/TESS/2.0+-+Data+Product+Overview#id-2.0-DataProductOverview-Table:ApertureMaskImageFlags).  For example, a pixel in the aperture that might have a value of 57 can be broken down into power of 2 like: 32+16+8+1 = 57.  Referencing the table of values, this means this particular pixel was in CCD Output A, was used to calculate the PRF centroid, was used to calculate the flux weighted centroid, and was collected by the spacecraft.  Numpy has a bulit-in function that can convert an integer into a binary bit mask.  Let's use that now one one of the common values we see in our displayed image above."
   ]
  },
  {
   "cell_type": "code",
   "execution_count": 11,
   "metadata": {
    "execution": {
     "iopub.execute_input": "2025-09-11T15:14:41.486650Z",
     "iopub.status.busy": "2025-09-11T15:14:41.486476Z",
     "iopub.status.idle": "2025-09-11T15:14:41.489294Z",
     "shell.execute_reply": "2025-09-11T15:14:41.488858Z"
    }
   },
   "outputs": [
    {
     "name": "stdout",
     "output_type": "stream",
     "text": [
      "100001011\n"
     ]
    }
   ],
   "source": [
    "# Break down a pixel value of 267 (yellow pixels displayed above) into its constituent bits.\n",
    "bits = np.binary_repr(267)\n",
    "print(bits)"
   ]
  },
  {
   "cell_type": "markdown",
   "metadata": {},
   "source": [
    "Binary bits start from the right and end at the left, so the bit farthest on the right is the Least Significant Bit (LSB, equal to 2^0 = 1), the second from the right is 2^1=2, the third from the right is 2^2=4, etc. This bit mask has bit values of 1 (2^0), 2 (2^1), 8 (2^3), and 256 (2^8) set. From our look-up table, these values mean the pixels have been: collected by the spacecraft (value = 1), used in the optimal photometric aperture (value = 2), used to calculate the flux-weighted centroid (value = 8), and are on CCD Output D (value = 256)."
   ]
  },
  {
   "cell_type": "markdown",
   "metadata": {},
   "source": [
    "## Marking All Pixels Used In The Photometric Aperture\n",
    "\n",
    "Let's display the pixels in the aperture FITS extension again, but this time, let's only mark those that are used in the optimal photometric aperture (bit mask value of 2 set).  While it is possible to do this in fewer lines, we'll show more of the steps involved for clarity."
   ]
  },
  {
   "cell_type": "code",
   "execution_count": 12,
   "metadata": {
    "execution": {
     "iopub.execute_input": "2025-09-11T15:14:41.491004Z",
     "iopub.status.busy": "2025-09-11T15:14:41.490739Z",
     "iopub.status.idle": "2025-09-11T15:14:41.494366Z",
     "shell.execute_reply": "2025-09-11T15:14:41.493955Z"
    }
   },
   "outputs": [],
   "source": [
    "# Create an array that will keep track of which pixels have a bitmask\n",
    "# value of 2 set. To start, everything is set to 0 = not set.  We make it\n",
    "# the same dimension as the aperture pixel table, for clarity.\n",
    "bitmask2_set = np.zeros(aperture.shape)\n",
    "\n",
    "# Identify which pixels have the bit mask value of 2 set.  We'll first\n",
    "# loop over each row (i) in the 11x11 table, and then each column (j).\n",
    "for i,row in enumerate(aperture):\n",
    "    for j, pix in enumerate(row):\n",
    "\n",
    "        # Get the bitmask as a string of zeros and ones.\n",
    "        this_bitmask = np.binary_repr(pix)\n",
    "\n",
    "        # Is the bitmask value of 2 set?  If so, the 2nd integer from the\n",
    "        # right should be set to 1.  We'll use Python negative indexes to\n",
    "        # access the second integer from the right.\n",
    "        if this_bitmask[-2] == '1':\n",
    "            \n",
    "            # Then record this pixel as having a bitmask value of 2 set.\n",
    "            bitmask2_set[i,j] = 1"
   ]
  },
  {
   "cell_type": "markdown",
   "metadata": {},
   "source": [
    "Now we can display the aperture, but this time we will only display the bitmask2_set table we've created, where a zero means the bitmask value of 2 is NOT set (thus these pixels aren't used in the optimal photometric aperture) and a one means the bitmask value of 2 is set (and thus these pixels were used in the optimal photometric aperture)."
   ]
  },
  {
   "cell_type": "code",
   "execution_count": 13,
   "metadata": {
    "execution": {
     "iopub.execute_input": "2025-09-11T15:14:41.495885Z",
     "iopub.status.busy": "2025-09-11T15:14:41.495728Z",
     "iopub.status.idle": "2025-09-11T15:14:41.641133Z",
     "shell.execute_reply": "2025-09-11T15:14:41.640524Z"
    }
   },
   "outputs": [
    {
     "data": {
      "image/png": "[encoded data removed]",
      "text/plain": [
       "<Figure size 640x480 with 2 Axes>"
      ]
     },
     "metadata": {},
     "output_type": "display_data"
    }
   ],
   "source": [
    "# Start figure and axis.\n",
    "fig, ax = plt.subplots()\n",
    "\n",
    "# Display, as an image, the 11x11 table that records the bitmask value of 2 being set.\n",
    "cax = ax.imshow(bitmask2_set, cmap=plt.cm.YlGnBu_r, origin=\"lower\")\n",
    "\n",
    "# Add a color bar.\n",
    "cbar = fig.colorbar(cax)\n",
    "\n",
    "# Add a title to the plot.\n",
    "fig.suptitle(\"WASP-126 b Aperture - Sector 1 - Pixels Used In Phot. Ap.\")\n",
    "plt.show()"
   ]
  },
  {
   "cell_type": "markdown",
   "metadata": {},
   "source": [
    "## About this Notebook\n",
    "\n",
    "**Author:** Scott W. Fleming, STScI Archive Scientist\n",
    "\n",
    "**Updated On:** 2018-11-21"
   ]
  },
  {
   "cell_type": "markdown",
   "metadata": {},
   "source": [
    "[Top of Page](#title_ID)\n",
    "<img style=\"float: right;\" src=\"https://raw.githubusercontent.com/spacetelescope/notebooks/master/assets/stsci_pri_combo_mark_horizonal_white_bkgd.png\" alt=\"STScI logo\" width=\"200px\"/> "
   ]
  }
 ],
 "metadata": {
  "kernelspec": {
   "display_name": "Python 3 (ipykernel)",
   "language": "python",
   "name": "python3"
  },
  "language_info": {
   "codemirror_mode": {
    "name": "ipython",
    "version": 3
   },
   "file_extension": ".py",
   "mimetype": "text/x-python",
   "name": "python",
   "nbconvert_exporter": "python",
   "pygments_lexer": "ipython3",
   "version": "3.11.13"
  }
 },
 "nbformat": 4,
 "nbformat_minor": 4
}
