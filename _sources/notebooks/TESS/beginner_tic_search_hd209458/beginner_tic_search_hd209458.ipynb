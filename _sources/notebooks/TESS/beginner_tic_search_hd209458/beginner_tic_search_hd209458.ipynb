{
 "cells": [
  {
   "cell_type": "markdown",
   "metadata": {},
   "source": [
    "<a id=\"title_ID\"></a>\n",
    "# Search The TESS Input Catalog Centered On HD 209458.\n",
    "\n",
    "This notebook tutorial demonstrates how to do a cone search centered on the location of a target (in this example, the star HD 209458) in the TESS Input Catalog.  We will then select a subset of the returned targets based on their Luminosity Class values.  Finally, we will identify the TIC object that is closest on the sky to HD 209458 as a means to determine the star's TIC number.  This tutorial uses Python and the astroquery module.  Information on how to install astroquery for MAST can be found on the [Astroquery site](http://astroquery.readthedocs.io/)."
   ]
  },
  {
   "cell_type": "code",
   "execution_count": 1,
   "metadata": {
    "execution": {
     "iopub.execute_input": "2025-09-11T15:22:26.034481Z",
     "iopub.status.busy": "2025-09-11T15:22:26.034331Z",
     "iopub.status.idle": "2025-09-11T15:22:26.458064Z",
     "shell.execute_reply": "2025-09-11T15:22:26.457446Z"
    }
   },
   "outputs": [],
   "source": [
    "from astroquery.mast import Catalogs\n",
    "import numpy as np"
   ]
  },
  {
   "cell_type": "markdown",
   "metadata": {},
   "source": [
    "## Setup The Search Parameters\n",
    "\n",
    "Let's start by defining the name of our target and our desired search radius in degrees."
   ]
  },
  {
   "cell_type": "code",
   "execution_count": 2,
   "metadata": {
    "execution": {
     "iopub.execute_input": "2025-09-11T15:22:26.460107Z",
     "iopub.status.busy": "2025-09-11T15:22:26.459943Z",
     "iopub.status.idle": "2025-09-11T15:22:26.462402Z",
     "shell.execute_reply": "2025-09-11T15:22:26.461903Z"
    }
   },
   "outputs": [],
   "source": [
    "target_name = \"HD 209458\"\n",
    "search_radius_deg = 0.2"
   ]
  },
  {
   "cell_type": "markdown",
   "metadata": {},
   "source": [
    "# Astroquery Catalog Cone Search\n",
    "\n",
    "We will now use the Catalogs `query_object` function to do a cone search centered on HD 209458 and return the rows from the TIC catalog.  The function makes use of MAST's name resolver to convert a target name (as a string) into coordinates (Right Ascension and Declination).  Many types of ID's are possible, including any string that can be resolved by Simbad or NED, as well as any target in the Kepler Input Catalog, K2 EPIC Catalog, or the TESS Input Catalog.  The function also can accept a search radius size (specified in degrees), and it needs to know which catalog you want to query.  Catalog options are listed on [this page](https://astroquery.readthedocs.io/en/latest/mast/mast.html#catalog-queries).\n",
    "\n",
    "In the second line,  we print out the numbers of returned rows."
   ]
  },
  {
   "cell_type": "code",
   "execution_count": 3,
   "metadata": {
    "execution": {
     "iopub.execute_input": "2025-09-11T15:22:26.463915Z",
     "iopub.status.busy": "2025-09-11T15:22:26.463739Z",
     "iopub.status.idle": "2025-09-11T15:22:28.304799Z",
     "shell.execute_reply": "2025-09-11T15:22:28.304241Z"
    }
   },
   "outputs": [
    {
     "name": "stdout",
     "output_type": "stream",
     "text": [
      "Number of TIC objects within 0.200000 deg of HD 209458: 1345\n"
     ]
    }
   ],
   "source": [
    "# Query the TESS Input Catalog centered on HD 209458 with a 0.2 degree radius.\n",
    "catalogTIC = Catalogs.query_object(target_name, radius=search_radius_deg, catalog=\"TIC\")\n",
    "\n",
    "# Print out the number of returned rows.\n",
    "print(\"Number of TIC objects within %f deg of %s: %u\" % (search_radius_deg, target_name, len(catalogTIC)))"
   ]
  },
  {
   "cell_type": "markdown",
   "metadata": {},
   "source": [
    "## Examine The Returned Table\n",
    "\n",
    "Let's take a look at the table returned from the query.  We see the returned object is an astropy Table.  We can also examine the columns available."
   ]
  },
  {
   "cell_type": "code",
   "execution_count": 4,
   "metadata": {
    "execution": {
     "iopub.execute_input": "2025-09-11T15:22:28.332315Z",
     "iopub.status.busy": "2025-09-11T15:22:28.332110Z",
     "iopub.status.idle": "2025-09-11T15:22:28.334812Z",
     "shell.execute_reply": "2025-09-11T15:22:28.334180Z"
    }
   },
   "outputs": [
    {
     "name": "stdout",
     "output_type": "stream",
     "text": [
      "<class 'astropy.table.table.Table'>\n"
     ]
    }
   ],
   "source": [
    "# What type of objects is the returned result?\n",
    "print(type(catalogTIC))"
   ]
  },
  {
   "cell_type": "code",
   "execution_count": 5,
   "metadata": {
    "execution": {
     "iopub.execute_input": "2025-09-11T15:22:28.336286Z",
     "iopub.status.busy": "2025-09-11T15:22:28.336100Z",
     "iopub.status.idle": "2025-09-11T15:22:28.338918Z",
     "shell.execute_reply": "2025-09-11T15:22:28.338486Z"
    }
   },
   "outputs": [
    {
     "name": "stdout",
     "output_type": "stream",
     "text": [
      "<TableColumns names=('ID','ra','dec','pmRA','pmDEC','Tmag','objType','typeSrc','version','HIP','TYC','UCAC','TWOMASS','SDSS','ALLWISE','GAIA','APASS','KIC','POSflag','e_pmRA','e_pmDEC','PMflag','plx','e_plx','PARflag','gallong','gallat','eclong','eclat','Bmag','e_Bmag','Vmag','e_Vmag','umag','e_umag','gmag','e_gmag','rmag','e_rmag','imag','e_imag','zmag','e_zmag','Jmag','e_Jmag','Hmag','e_Hmag','Kmag','e_Kmag','TWOMflag','prox','w1mag','e_w1mag','w2mag','e_w2mag','w3mag','e_w3mag','w4mag','e_w4mag','GAIAmag','e_GAIAmag','e_Tmag','TESSflag','SPFlag','Teff','e_Teff','logg','e_logg','MH','e_MH','rad','e_rad','mass','e_mass','rho','e_rho','lumclass','lum','e_lum','d','e_d','ebv','e_ebv','numcont','contratio','disposition','duplicate_id','priority','eneg_EBV','epos_EBV','EBVflag','eneg_Mass','epos_Mass','eneg_Rad','epos_Rad','eneg_rho','epos_rho','eneg_logg','epos_logg','eneg_lum','epos_lum','eneg_dist','epos_dist','distflag','eneg_Teff','epos_Teff','TeffFlag','gaiabp','e_gaiabp','gaiarp','e_gaiarp','gaiaqflag','starchareFlag','VmagFlag','BmagFlag','splists','e_RA','e_Dec','RA_orig','Dec_orig','e_RA_orig','e_Dec_orig','raddflag','wdflag','dstArcSec')>\n"
     ]
    }
   ],
   "source": [
    "# What columns are available from the TIC?\n",
    "print(catalogTIC.columns)"
   ]
  },
  {
   "cell_type": "markdown",
   "metadata": {},
   "source": [
    "## Select Dwarf Stars Based On Luminosity Class\n",
    "\n",
    "Let's select a subset of the returned objects based on the \"lumclass\" column.  This column classifies sources in the TIC as \"giant\" or \"dwarf\".  For more information on how the columns of the TIC are populated, consult the [TESS Input Catalog paper](http://adsabs.harvard.edu/abs/2017arXiv170600495S) and the [TIC Live Release Notes](https://outerspace.stsci.edu/display/TESS/TIC+and+CTL+Data+Release+Notes+Home+Page)."
   ]
  },
  {
   "cell_type": "code",
   "execution_count": 6,
   "metadata": {
    "execution": {
     "iopub.execute_input": "2025-09-11T15:22:28.340303Z",
     "iopub.status.busy": "2025-09-11T15:22:28.340160Z",
     "iopub.status.idle": "2025-09-11T15:22:28.344162Z",
     "shell.execute_reply": "2025-09-11T15:22:28.343735Z"
    }
   },
   "outputs": [
    {
     "name": "stdout",
     "output_type": "stream",
     "text": [
      "Number of objects classified as 'DWARF' within 0.200000 deg of HD 209458: 903\n",
      "Number of objects classified as 'GIANT' within 0.200000 deg of HD 209458: 28\n"
     ]
    }
   ],
   "source": [
    "# Identify where the luminosity class is set to \"DWARF\".\n",
    "where_dwarfs = np.where(catalogTIC['lumclass'] == 'DWARF')[0]\n",
    "\n",
    "# Let's also find out where the luminosity class is set to \"GIANT\".\n",
    "where_giants = np.where(catalogTIC['lumclass'] == 'GIANT')[0]\n",
    "\n",
    "# Let's print out the number of rows of each type within the returned objects from our search.\n",
    "print(\"Number of objects classified as 'DWARF' within %f deg of %s: %u\" %\n",
    "      (search_radius_deg, target_name, len(where_dwarfs)))\n",
    "print(\"Number of objects classified as 'GIANT' within %f deg of %s: %u\" %\n",
    "      (search_radius_deg, target_name, len(where_giants)))"
   ]
  },
  {
   "cell_type": "markdown",
   "metadata": {},
   "source": [
    "## Find The Closest TIC ID To HD 209458\n",
    "\n",
    "Let's now find the star in the TESS Input Catalog that is closest to our target. The table produced by the astroquery request is sorted by the column \"dstArcSec\" by default.  This column gives the distance in arcseconds from the requested target's position returned by the name resolver.  It should be the first row if you haven't sorted the table yet, but let's not assume that and instead find the row with the smallest \"dstArcSec\"."
   ]
  },
  {
   "cell_type": "code",
   "execution_count": 7,
   "metadata": {
    "execution": {
     "iopub.execute_input": "2025-09-11T15:22:28.345513Z",
     "iopub.status.busy": "2025-09-11T15:22:28.345364Z",
     "iopub.status.idle": "2025-09-11T15:22:28.348667Z",
     "shell.execute_reply": "2025-09-11T15:22:28.348240Z"
    }
   },
   "outputs": [
    {
     "name": "stdout",
     "output_type": "stream",
     "text": [
      "Closest TIC ID to HD 209458: TIC 420814525, separation of 0.003237 arcsec. and a TESS mag. of 7.127400\n"
     ]
    }
   ],
   "source": [
    "where_closest = np.argmin(catalogTIC['dstArcSec'])\n",
    "\n",
    "print(\"Closest TIC ID to %s: TIC %s, separation of %f arcsec. and a TESS mag. of %f\"%\n",
    "      (target_name, catalogTIC['ID'][where_closest], catalogTIC['dstArcSec'][where_closest],\n",
    "      catalogTIC['Tmag'][where_closest]))"
   ]
  },
  {
   "cell_type": "markdown",
   "metadata": {},
   "source": [
    "Looks like a good match, we know that HD 209458 is a fairly bright star, and the TIC coordinate is very close to the coordinate from the name resolver."
   ]
  },
  {
   "cell_type": "markdown",
   "metadata": {},
   "source": [
    "## About this Notebook\n",
    "\n",
    "**Author:** Scott W. Fleming, STScI Archive Scientist\n",
    "\n",
    "**Updated On:** 2018-11-27"
   ]
  },
  {
   "cell_type": "markdown",
   "metadata": {},
   "source": [
    "[Top of Page](#title_ID)\n",
    "<img style=\"float: right;\" src=\"https://raw.githubusercontent.com/spacetelescope/notebooks/master/assets/stsci_pri_combo_mark_horizonal_white_bkgd.png\" alt=\"STScI logo\" width=\"200px\"/> "
   ]
  }
 ],
 "metadata": {
  "kernelspec": {
   "display_name": "Python 3 (ipykernel)",
   "language": "python",
   "name": "python3"
  },
  "language_info": {
   "codemirror_mode": {
    "name": "ipython",
    "version": 3
   },
   "file_extension": ".py",
   "mimetype": "text/x-python",
   "name": "python",
   "nbconvert_exporter": "python",
   "pygments_lexer": "ipython3",
   "version": "3.11.13"
  }
 },
 "nbformat": 4,
 "nbformat_minor": 4
}
