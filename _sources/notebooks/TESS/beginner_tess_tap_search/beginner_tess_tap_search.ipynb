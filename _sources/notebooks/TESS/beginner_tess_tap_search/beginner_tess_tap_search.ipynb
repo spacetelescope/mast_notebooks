{
 "cells": [
  {
   "cell_type": "markdown",
   "metadata": {},
   "source": [
    "# Download MAST TESS Light Curves Within an FFI Footprint Using TAP"
   ]
  },
  {
   "cell_type": "markdown",
   "metadata": {},
   "source": [
    "<br> This notebook is a demo for accessing Transiting Exoplanet Survey Satellite (TESS) data in the Common Archive Observation Model (CAOM) catalog at MAST, using a Virtual Observatory standard Table Access Protocol (TAP) service.\n",
    "***\n",
    "### Table of Contents\n",
    "\n",
    "1. [TAP Service Introduction](#TAP-Service-Introduction)\n",
    "2. [Imports](#Imports)\n",
    "3. [Service Specific Configuration](#Service-Specific-Configuration)\n",
    "4. [Connecting to the TAP Service](#Connecting-to-the-TAP-Service)\n",
    "5. [Use Case: Getting light curves from a sector, camera, and chip](#Use-Case:-Getting-images-from-a-sector,-camera,-and-chip)\n",
    "    - [Step 1: Getting the footprint](#Step-1:-Getting-the-footprint)\n",
    "    - [Step 2: Getting an inventory of TESS lightcurves within the footprint](#Step-2:-Getting-an-inventory-of-TESS-lightcurves-within-the-footprint)\n",
    "5. [Additional Resources](#Additional-Resources)\n",
    "6. [About This Notebook](#About-this-Notebook)\n",
    "***"
   ]
  },
  {
   "cell_type": "markdown",
   "metadata": {},
   "source": [
    "## TAP Service Introduction"
   ]
  },
  {
   "cell_type": "markdown",
   "metadata": {},
   "source": [
    "Table Access Protocol (TAP) services allow more direct and flexible access to astronomical data than the simpler types of IVOA standard data services. Queries are built with the SQL-like Astronomical Data Query Language (ADQL), and can include geographic / spatial queries as well as filtering on other characteristics of the data. This also allows the user fine-grained control over the returned columns, unlike the fixed set of coumns retunred from cone, image, and spectral services.\n",
    "\n",
    "For this example, we'll be using the astropy affiliated PyVO client, which is interoperable with other valid TAP services, including those at MAST. PyVO documentation is available at ReadTheDocs: https://pyvo.readthedocs.io\n",
    "\n",
    "We'll be using PyVO to call the CAOM Catalog TAP service at MAST and filter the results for TESS-related information. The schema for this catalog is an IVOA standard, and is also described within the service itself."
   ]
  },
  {
   "cell_type": "markdown",
   "metadata": {},
   "source": [
    "***\n",
    "## Imports"
   ]
  },
  {
   "cell_type": "code",
   "execution_count": 1,
   "metadata": {
    "execution": {
     "iopub.execute_input": "2025-09-11T15:30:26.775246Z",
     "iopub.status.busy": "2025-09-11T15:30:26.775111Z",
     "iopub.status.idle": "2025-09-11T15:30:27.175743Z",
     "shell.execute_reply": "2025-09-11T15:30:27.175248Z"
    }
   },
   "outputs": [],
   "source": [
    "# Use the pyvo library as our client to the data service.\n",
    "import pyvo as vo\n",
    "\n",
    "# For handling ordinary astropy Tables in responses\n",
    "from astropy.table import Table\n",
    "\n",
    "# For displaying and manipulating some types of results\n",
    "import requests\n",
    "import astropy\n",
    "import time\n",
    "\n",
    "# suppress unimportant unit warnings from many TAP services\n",
    "import warnings\n",
    "warnings.filterwarnings(\"ignore\", module=\"astropy.io.votable.*\")\n",
    "warnings.filterwarnings(\"ignore\", module=\"pyvo.utils.xml.elements\")\n",
    "warnings.filterwarnings(\"ignore\", module=\"pyvo.io.vosi.vodataservice\")"
   ]
  },
  {
   "cell_type": "markdown",
   "metadata": {},
   "source": [
    "## Service Specific Configuration\n",
    "\n",
    "Every TAP service has a \"Base URL\" plus associated endpoints for synchronous and asynchronous queries, as well as status and capability information, and sometimes service-provided sample queries. The endpoints are predefined in the TAP standard, so clients can infer them using the base. We therefore only have to provide astroquery that base."
   ]
  },
  {
   "cell_type": "code",
   "execution_count": 2,
   "metadata": {
    "execution": {
     "iopub.execute_input": "2025-09-11T15:30:27.177588Z",
     "iopub.status.busy": "2025-09-11T15:30:27.177432Z",
     "iopub.status.idle": "2025-09-11T15:30:27.179631Z",
     "shell.execute_reply": "2025-09-11T15:30:27.179248Z"
    }
   },
   "outputs": [],
   "source": [
    "TAP_URL = \"https://mast.stsci.edu/vo-tap/api/v0.1/caom/\""
   ]
  },
  {
   "cell_type": "markdown",
   "metadata": {},
   "source": [
    "## Connecting to the TAP Service\n",
    "\n",
    "The PyVO library is able to connect to any TAP service, given the \"base\" URL as noted in metadata registry resources describing the service. The CAOM TAP service at MAST has access to TESS FFI and time series, including file URLs for download."
   ]
  },
  {
   "cell_type": "code",
   "execution_count": 3,
   "metadata": {
    "execution": {
     "iopub.execute_input": "2025-09-11T15:30:27.181035Z",
     "iopub.status.busy": "2025-09-11T15:30:27.180894Z",
     "iopub.status.idle": "2025-09-11T15:30:27.667215Z",
     "shell.execute_reply": "2025-09-11T15:30:27.666667Z"
    }
   },
   "outputs": [
    {
     "name": "stdout",
     "output_type": "stream",
     "text": [
      "Capability ivo://ivoa.net/std/TAP\n",
      "\n",
      "Interface vs:ParamHTTP\n",
      "    https://mast.stsci.edu/vo-tap/api/v0.1/caom\n",
      "\n",
      "Datamodel ObsCore-1.1\n",
      "    ivo://ivoa.net/std/ObsCore#core-1.1\n",
      "\n",
      "Language ADQL\n",
      "    ivo://ivoa.net/std/TAPRegExt#features-adqlgeo\n",
      "        CONTAINS\n",
      "\n",
      "        INTERSECTS\n",
      "\n",
      "        POINT\n",
      "\n",
      "        CIRCLE\n",
      "\n",
      "        BOX\n",
      "\n",
      "        POLYGON\n",
      "\n",
      "\n",
      "    ivo://ivoa.net/std/TAPRegExt#features-udf\n",
      "        fnAstron_ComputeScale(cd11 float, cd12 float) -> float\n",
      "\n",
      "\n",
      "Output format application/json\n",
      "    Also available as json\n",
      "\n",
      "Output format text/csv;header=present\n",
      "    Also available as csv\n",
      "\n",
      "Output format application/xml\n",
      "    Also available as xml\n",
      "\n",
      "Output format application/x-votable+xml\n",
      "    Also available as votable\n",
      "\n",
      "Maximum size of resultsets\n",
      "    Default 100000 row\n",
      "    Maximum 100000 row\n",
      "\n",
      "\n",
      "Capability ivo://ivoa.net/std/DALI#examples\n",
      "\n",
      "Interface vr:WebBrowser\n",
      "    https://mast.stsci.edu/vo-tap/api/v0.1/caom/examples\n",
      "\n",
      "\n"
     ]
    }
   ],
   "source": [
    "TAP_service = vo.dal.TAPService(TAP_URL)\n",
    "TAP_service.describe()"
   ]
  },
  {
   "cell_type": "markdown",
   "metadata": {},
   "source": [
    "### List available tables"
   ]
  },
  {
   "cell_type": "code",
   "execution_count": 4,
   "metadata": {
    "execution": {
     "iopub.execute_input": "2025-09-11T15:30:27.692728Z",
     "iopub.status.busy": "2025-09-11T15:30:27.692559Z",
     "iopub.status.idle": "2025-09-11T15:30:29.781149Z",
     "shell.execute_reply": "2025-09-11T15:30:29.780589Z"
    }
   },
   "outputs": [
    {
     "name": "stdout",
     "output_type": "stream",
     "text": [
      "dbo.AllPointing\n",
      "No description\n",
      "\n",
      "Columns=['calib_level', 'dataRights', 'dataURL', 'dataproduct_type', 'em_max', 'em_min', 'filters', 'instrument_name', 'intentType', 'jpegURL', 'mtFlag', 'objID', 'obs_collection', 'obs_id', 'obs_title', 'obsid', 'project', 'proposal_id', 'proposal_pi', 'proposal_type', 'provenance_name', 's_dec', 's_ra', 's_region', 'sequence_number', 'srcDen', 't_exptime', 't_max', 't_min', 't_obs_release', 'target_classification', 'target_name', 'wavelength_region']\n",
      "----\n",
      "dbo.CalPointing\n",
      "No description\n",
      "\n",
      "Columns=['calib_level', 'dataRights', 'dataURL', 'dataproduct_type', 'em_max', 'em_min', 'filters', 'instrument_name', 'intentType', 'jpegURL', 'mtFlag', 'objID', 'obs_collection', 'obs_id', 'obs_title', 'obsid', 'project', 'proposal_id', 'proposal_pi', 'proposal_type', 'provenance_name', 's_dec', 's_ra', 's_region', 'sequence_number', 'srcDen', 't_exptime', 't_max', 't_min', 't_obs_release', 'target_classification', 'target_name', 'wavelength_region']\n",
      "----\n"
     ]
    },
    {
     "name": "stdout",
     "output_type": "stream",
     "text": [
      "dbo.ObsPointing\n",
      "No description\n",
      "\n",
      "Columns=['calib_level', 'dataRights', 'dataURL', 'dataproduct_type', 'em_max', 'em_min', 'filters', 'instrument_name', 'intentType', 'jpegURL', 'mtFlag', 'objID', 'obs_collection', 'obs_id', 'obs_title', 'obsid', 'project', 'proposal_id', 'proposal_pi', 'proposal_type', 'provenance_name', 's_dec', 's_ra', 's_region', 'sequence_number', 'srcDen', 't_exptime', 't_max', 't_min', 't_obs_release', 'target_classification', 'target_name', 'wavelength_region']\n",
      "----\n",
      "dbo.CaomObservation\n",
      "No description\n",
      "\n",
      "Columns=['accMetaChecksum', 'algName', 'collection', 'envAmbientTemp', 'envElevation', 'envHumidity', 'envPhotometric', 'envSeeing', 'envTau', 'envWavelengthTau', 'id', 'insKeywords', 'insName', 'intent', 'lastModified', 'linked', 'maxLastModified', 'maxLevel', 'metaChecksum', 'metaDataRights', 'metaProducer', 'metaReadGroups', 'metaRelease', 'nObs', 'obsType', 'observationID', 'observationTID', 'prpID', 'prpKeywords', 'prpPI', 'prpProject', 'prpTitle', 'recordCreated', 'recordModified', 'reqFlag', 'sequenceNumber', 'statusCode', 'tlsGeoLocationX', 'tlsGeoLocationY', 'tlsGeoLocationZ', 'tlsKeywords', 'tlsName', 'trgClassification', 'trgID', 'trgKeywords', 'trgMoving', 'trgName', 'trgPosDec', 'trgRedshift', 'trgStandard', 'trgType', 'trgposCoordSys', 'trgposEquinox', 'trgposRA', 'type']\n",
      "----\n"
     ]
    },
    {
     "name": "stdout",
     "output_type": "stream",
     "text": [
      "dbo.CaomMembers\n",
      "No description\n",
      "\n",
      "Columns=['collection', 'derivedTID', 'recordCreated', 'recordModified', 'simpleTID', 'statusCode']\n",
      "----\n",
      "dbo.CaomPlane\n",
      "No description\n",
      "\n",
      "Columns=['accMetaChecksum', 'calibrationLevel', 'collection', 'creatorID', 'cstCtype', 'cstDimension', 'cstLower', 'cstUpper', 'dataProductType', 'dataReadGroups', 'dataRelease', 'dataRights', 'dqFlag', 'enrBandpassName', 'enrBoundsSTCS', 'enrDimension', 'enrEMBand', 'enrMax', 'enrMin', 'enrResolvingPower', 'enrResolvingPowerLower', 'enrResolvingPowerUpper', 'enrRestWavelength', 'enrSampleSize', 'enrTransition', 'id', 'lastModified', 'maxLastModified', 'metaChecksum', 'metaDataRights', 'metaProducer', 'metaReadGroups', 'metaRelease', 'midExpDate', 'mtrBackground', 'mtrBackgroundStdDev', 'mtrFluxDensityLimit', 'mtrMagLimit', 'mtrSampleSNR', 'mtrSourceNumberDensity', 'obsUCD', 'observationTID', 'observationUUID', 'planeTID', 'plrDimension', 'plrState', 'posBoundsSTCS', 'posDimension1', 'posDimension2', 'posResolution', 'posResolutionLower', 'posResolutionUpper', 'posSampleSize', 'posTimeDependant', 'previewURI', 'productID', 'productURI', 'prvInputs', 'prvKeywords', 'prvLastExecuted', 'prvName', 'prvProducer', 'prvProject', 'prvReference', 'prvRunID', 'prvVersion', 'recordCreated', 'recordModified', 'releaseDate', 'statusCode', 'timBoundsSTCS', 'timDimension', 'timExposure', 'timMax', 'timMin', 'timResolution', 'timResolutionLower', 'timResolutionUpper', 'timSampleSize']\n",
      "----\n"
     ]
    },
    {
     "name": "stdout",
     "output_type": "stream",
     "text": [
      "dbo.CaomArtifact\n",
      "No description\n",
      "\n",
      "Columns=['accMetaChecksum', 'artifactTID', 'collection', 'contentChecksum', 'contentLength', 'contentReadGroups', 'contentRelease', 'contentRights', 'contentType', 'creationDate', 'dataURI', 'id', 'lastModified', 'maxLastModified', 'metaChecksum', 'metaProducer', 'planeTID', 'planeUUID', 'productFileName', 'productType', 'productTypeID', 'recordCreated', 'recordModified', 'releaseType', 'statusCode']\n",
      "----\n",
      "dbo.CaomPart\n",
      "No description\n",
      "\n",
      "Columns=['accMetaChecksum', 'artifactTID', 'artifactUUID', 'collection', 'id', 'lastModified', 'maxLastModified', 'metaChecksum', 'metaProducer', 'name', 'partTID', 'productType', 'recordCreated', 'recordModified', 'statusCode']\n",
      "----\n"
     ]
    },
    {
     "name": "stdout",
     "output_type": "stream",
     "text": [
      "dbo.CaomChunk\n",
      "No description\n",
      "\n",
      "Columns=['accMetaChecksum', 'chunkTID', 'collection', 'cstwcsCRPIX', 'cstwcsCRVAL', 'cstwcsCTYPE', 'cstwcsCUNIT', 'cstwcsDELTA', 'cstwcsNAXIS', 'cstwcsRNDER', 'cstwcsRangeEndPix', 'cstwcsRangeEndVal', 'cstwcsRangeStartPix', 'cstwcsRangeStartVal', 'cstwcsSYSER', 'customAxis', 'energyAxis', 'enrwcsBandpassName', 'enrwcsCRPIX', 'enrwcsCRVAL', 'enrwcsCTYPE', 'enrwcsCUNIT', 'enrwcsDELTA', 'enrwcsNAXIS', 'enrwcsRNDER', 'enrwcsRangeEndPix', 'enrwcsRangeEndVal', 'enrwcsRangeStartPix', 'enrwcsRangeStartVal', 'enrwcsResolvingPower', 'enrwcsRestfrq', 'enrwcsRestwav', 'enrwcsSYSER', 'enrwcsSpecsys', 'enrwcsSsysobs', 'enrwcsSsyssrc', 'enrwcsTransition', 'enrwcsVelang', 'enrwcsVelosys', 'enrwcsZsource', 'id', 'lastModified', 'maxLastModified', 'metaChecksum', 'metaProducer', 'naxis', 'observableAxis', 'obxDepBin', 'obxDepCTYPE', 'obxDepCUNIT', 'obxIndBin', 'obxIndCTYPE', 'obxIndCUNIT', 'partTID', 'partUUID', 'plrwcsCRPIX', 'plrwcsCRVAL', 'plrwcsCTYPE', 'plrwcsCUNIT', 'plrwcsDELTA', 'plrwcsNAXIS', 'plrwcsRNDER', 'plrwcsRangeEndPix', 'plrwcsRangeEndVal', 'plrwcsRangeStartPix', 'plrwcsRangeStartVal', 'plrwcsSYSER', 'polarizationAxis', 'positionAxis1', 'positionAxis2', 'poswcsCD11', 'poswcsCD12', 'poswcsCD21', 'poswcsCD22', 'poswcsCRPIX1', 'poswcsCRPIX2', 'poswcsCRVAL1', 'poswcsCRVAL2', 'poswcsCTYPE1', 'poswcsCTYPE2', 'poswcsCUNIT1', 'poswcsCUNIT2', 'poswcsCoordSys', 'poswcsEquinox', 'poswcsNAXIS1', 'poswcsNAXIS2', 'poswcsRNDER1', 'poswcsRNDER2', 'poswcsRangeEndPix1', 'poswcsRangeEndPix2', 'poswcsRangeEndVal1', 'poswcsRangeEndVal2', 'poswcsRangeStartPix1', 'poswcsRangeStartPix2', 'poswcsRangeStartVal1', 'poswcsRangeStartVal2', 'poswcsResolution', 'poswcsSYSER1', 'poswcsSYSER2', 'productType', 'recordCreated', 'recordModified', 'statusCode', 'timeAxis', 'timwcsCRPIX', 'timwcsCRVAL', 'timwcsCTYPE', 'timwcsCUNIT', 'timwcsDELTA', 'timwcsExposure', 'timwcsMJDref', 'timwcsNAXIS', 'timwcsRNDER', 'timwcsRangeEndPix', 'timwcsRangeEndVal', 'timwcsRangeStartPix', 'timwcsRangeStartVal', 'timwcsResolution', 'timwcsSYSER', 'timwcsTimeSys', 'timwcsTrefpos']\n",
      "----\n",
      "dbo.MastLinks\n",
      "No description\n",
      "\n",
      "Columns=['collection', 'linkCollection', 'linkTID', 'linkType', 'obsTID', 'recordCreated']\n",
      "----\n"
     ]
    },
    {
     "name": "stdout",
     "output_type": "stream",
     "text": [
      "dbo.MastProductDescription\n",
      "No description\n",
      "\n",
      "Columns=['contentType', 'description', 'documentationURL', 'groupDescription', 'mission', 'productType', 'project', 'subGroupDescription', 'typeID']\n",
      "----\n",
      "ivoa.ObsCore\n",
      "No description\n",
      "\n",
      "Columns=['access_estsize', 'access_format', 'access_url', 'calib_level', 'dataproduct_type', 'em_max', 'em_min', 'em_res_power', 'em_xel', 'facility_name', 'instrument_name', 'o_ucd', 'objID', 'obs_collection', 'obs_id', 'obs_publisher_did', 'pol_states', 'pol_xel', 's_dec', 's_fov', 's_ra', 's_region', 's_resolution', 's_xel1', 's_xel2', 't_exptime', 't_max', 't_min', 't_resolution', 't_xel', 'target_name']\n",
      "----\n"
     ]
    },
    {
     "name": "stdout",
     "output_type": "stream",
     "text": [
      "ivoa.Experiment_ASB_23925\n",
      "No description\n",
      "\n",
      "Columns=['access_estsize', 'access_format', 'access_url', 'calib_level', 'dataproduct_type', 'em_max', 'em_min', 'em_res_power', 'em_xel', 'facility_name', 'instrument_name', 'o_ucd', 'objID', 'obs_collection', 'obs_id', 'obs_publisher_did', 'obs_release_date', 'pol_states', 'pol_xel', 's_dec', 's_fov', 's_ra', 's_region', 's_resolution', 's_xel1', 's_xel2', 't_exptime', 't_max', 't_min', 't_resolution', 't_xel', 'target_name']\n",
      "----\n"
     ]
    }
   ],
   "source": [
    "TAP_tables = TAP_service.tables\n",
    "for tablename in TAP_tables.keys():\n",
    "    if not \"tap_schema\" in tablename:  \n",
    "        # These tables have no descriptions, but we can easily print the table name\n",
    "        TAP_tables[tablename].describe()\n",
    "        print(\"Columns={}\".format(sorted([k.name for k in TAP_tables[tablename].columns ])))\n",
    "        print(\"----\")"
   ]
  },
  {
   "cell_type": "markdown",
   "metadata": {},
   "source": [
    "## Use Case: Getting images from a sector, camera, and chip"
   ]
  },
  {
   "cell_type": "markdown",
   "metadata": {},
   "source": [
    "### Step 1: Getting the footprint\n",
    "\n",
    "For our purposes, any one footprint related to a sector, camera, and chip combination is good enough. We are not currently accounting for small movements of the spacecraft to form a composite footprint. Observation IDs for this mission are constructed based on sector, camera, and chip combination, and we can use this to launch our footprint search:"
   ]
  },
  {
   "cell_type": "code",
   "execution_count": 5,
   "metadata": {
    "execution": {
     "iopub.execute_input": "2025-09-11T15:30:29.782750Z",
     "iopub.status.busy": "2025-09-11T15:30:29.782591Z",
     "iopub.status.idle": "2025-09-11T15:30:29.785108Z",
     "shell.execute_reply": "2025-09-11T15:30:29.784605Z"
    }
   },
   "outputs": [],
   "source": [
    "sector = '1'\n",
    "camera = '1'\n",
    "chip = '2'\n",
    "observationIDwildcard = 'tess%-s000{}-{}-{}-%-s'.format(sector, camera, chip)"
   ]
  },
  {
   "cell_type": "markdown",
   "metadata": {},
   "source": [
    "Here we query for a single ID and footprint to start with. For filters, we use the TESS mission, target types associated with light curves instead of full frame images, and the sector number. Note that the sector ID (sequence number) is in a different table in the CAOM database than most of the metadata we want, so we have to join these tables based on the shared observation ID.\n",
    "\n",
    "This query uses an asynchronous job with longer timeouts in case of connection issues."
   ]
  },
  {
   "cell_type": "code",
   "execution_count": 6,
   "metadata": {
    "execution": {
     "iopub.execute_input": "2025-09-11T15:30:29.786462Z",
     "iopub.status.busy": "2025-09-11T15:30:29.786316Z",
     "iopub.status.idle": "2025-09-11T15:30:30.831106Z",
     "shell.execute_reply": "2025-09-11T15:30:30.830580Z"
    }
   },
   "outputs": [
    {
     "data": {
      "text/html": [
       "<div><i>Table length=1</i>\n",
       "<table id=\"table140379862033296\" class=\"table-striped table-bordered table-condensed\">\n",
       "<thead><tr><th>obs_id</th><th>s_region</th></tr></thead>\n",
       "<thead><tr><th>object</th><th>object</th></tr></thead>\n",
       "<tr><td>tess2018206192942-s0001-1-2-0120-s</td><td>POLYGON 330.343781 -44.336357 324.663695 -33.277694 337.720618 -28.384546 344.128672 -38.561645 330.343781 -44.336357</td></tr>\n",
       "</table></div>"
      ],
      "text/plain": [
       "<Table length=1>\n",
       "              obs_id               ...\n",
       "              object               ...\n",
       "---------------------------------- ...\n",
       "tess2018206192942-s0001-1-2-0120-s ..."
      ]
     },
     "execution_count": 6,
     "metadata": {},
     "output_type": "execute_result"
    }
   ],
   "source": [
    "job = TAP_service.run_async(f\"\"\"\n",
    "            SELECT top 1 obs_id, s_region  \n",
    "            FROM dbo.caomobservation JOIN ivoa.obscore on dbo.caomobservation.observationID = ivoa.obscore.obs_id \n",
    "            WHERE collection = 'TESS' and trgType = 'FIELD' and \n",
    "            sequenceNumber = {sector} and\n",
    "            observationID like '{observationIDwildcard}'\n",
    "            \"\"\")\n",
    "\n",
    "footprint_results = job.to_table()\n",
    "footprint_results"
   ]
  },
  {
   "cell_type": "markdown",
   "metadata": {},
   "source": [
    "### Step 2: Getting an inventory of TESS lightcurves within the footprint"
   ]
  },
  {
   "cell_type": "markdown",
   "metadata": {},
   "source": [
    "Here we take the footprint from the above query and find all lightcurves intersecting with this footprint, in ALL sectors. Depending on where this is in the sky, there could be responses only in the original sector, or there could be overlaps with other sectors. There would be more sector overlap near the poles, for instance. By filtering on obs_collection = TESS, we filter based on the TESS mission and exclude High Level Science Products (including those based on TESS).\n",
    "\n",
    "The format must be reformatted for our next query. We separate the shape from the list of vertices, which themselves must be comma-separated."
   ]
  },
  {
   "cell_type": "code",
   "execution_count": 7,
   "metadata": {
    "execution": {
     "iopub.execute_input": "2025-09-11T15:30:30.832629Z",
     "iopub.status.busy": "2025-09-11T15:30:30.832471Z",
     "iopub.status.idle": "2025-09-11T15:30:30.835582Z",
     "shell.execute_reply": "2025-09-11T15:30:30.835119Z"
    }
   },
   "outputs": [
    {
     "name": "stdout",
     "output_type": "stream",
     "text": [
      "POLYGON\n",
      "330.343781, -44.336357, 324.663695, -33.277694, 337.720618, -28.384546, 344.128672, -38.561645, 330.343781, -44.336357\n"
     ]
    }
   ],
   "source": [
    "footprint = footprint_results['s_region'][0]\n",
    "footprintShape = footprint[0:footprint.find(' ')]\n",
    "footprintVertices = footprint[footprint.find(' '):].strip().replace(' ', ', ')\n",
    "\n",
    "print(footprintShape)\n",
    "print(footprintVertices)"
   ]
  },
  {
   "cell_type": "markdown",
   "metadata": {},
   "source": [
    "Once the footprint has been isolated and reformatted, we perform another query listing all lightcurves (minus the data validation timeseries, whose files end in _dvt) by their target name, sector, RA and Dec, as well as returning the access url for each FITS file and its estimated file size. We are doing this as an asynchronous query, which handles longer response times, just in case."
   ]
  },
  {
   "cell_type": "code",
   "execution_count": 8,
   "metadata": {
    "execution": {
     "iopub.execute_input": "2025-09-11T15:30:30.837013Z",
     "iopub.status.busy": "2025-09-11T15:30:30.836766Z",
     "iopub.status.idle": "2025-09-11T15:31:57.591045Z",
     "shell.execute_reply": "2025-09-11T15:31:57.590562Z"
    }
   },
   "outputs": [
    {
     "data": {
      "text/html": [
       "<div><i>Table length=3064</i>\n",
       "<table id=\"table140379861507856\" class=\"table-striped table-bordered table-condensed\">\n",
       "<thead><tr><th>target_name</th><th>sector</th><th>s_ra</th><th>s_dec</th><th>access_url</th><th>access_estsize</th><th>obs_id</th></tr></thead>\n",
       "<thead><tr><th></th><th></th><th>deg</th><th>deg</th><th></th><th>kbyte</th><th></th></tr></thead>\n",
       "<thead><tr><th>object</th><th>int32</th><th>float64</th><th>float64</th><th>object</th><th>int64</th><th>object</th></tr></thead>\n",
       "<tr><td>60110897</td><td>1</td><td>333.611092049931</td><td>-34.1474539447427</td><td>https://mast.stsci.edu/portal/Download/file?uri=mast:TESS/product/tess2018206045859-s0001-0000000060110897-0120-s_lc.fits</td><td>2039040</td><td>tess2018206045859-s0001-0000000060110897-0120-s</td></tr>\n",
       "<tr><td>60111044</td><td>1</td><td>333.645004280576</td><td>-32.3082644286201</td><td>https://mast.stsci.edu/portal/Download/file?uri=mast:TESS/product/tess2018206045859-s0001-0000000060111044-0120-s_lc.fits</td><td>2039040</td><td>tess2018206045859-s0001-0000000060111044-0120-s</td></tr>\n",
       "<tr><td>60111124</td><td>1</td><td>333.709133469947</td><td>-31.2369654902247</td><td>https://mast.stsci.edu/portal/Download/file?uri=mast:TESS/product/tess2018206045859-s0001-0000000060111124-0120-s_lc.fits</td><td>2039040</td><td>tess2018206045859-s0001-0000000060111124-0120-s</td></tr>\n",
       "<tr><td>60111195</td><td>1</td><td>333.743914416813</td><td>-30.4163228673023</td><td>https://mast.stsci.edu/portal/Download/file?uri=mast:TESS/product/tess2018206045859-s0001-0000000060111195-0120-s_lc.fits</td><td>2039040</td><td>tess2018206045859-s0001-0000000060111195-0120-s</td></tr>\n",
       "<tr><td>60111206</td><td>1</td><td>333.728257472536</td><td>-30.3226536580254</td><td>https://mast.stsci.edu/portal/Download/file?uri=mast:TESS/product/tess2018206045859-s0001-0000000060111206-0120-s_lc.fits</td><td>2039040</td><td>tess2018206045859-s0001-0000000060111206-0120-s</td></tr>\n",
       "<tr><td>60112433</td><td>1</td><td>333.470951231467</td><td>-34.7598204527287</td><td>https://mast.stsci.edu/portal/Download/file?uri=mast:TESS/product/tess2018206045859-s0001-0000000060112433-0120-s_lc.fits</td><td>2039040</td><td>tess2018206045859-s0001-0000000060112433-0120-s</td></tr>\n",
       "<tr><td>60112451</td><td>1</td><td>333.547377436129</td><td>-34.6817596173526</td><td>https://mast.stsci.edu/portal/Download/file?uri=mast:TESS/product/tess2018206045859-s0001-0000000060112451-0120-s_lc.fits</td><td>2039040</td><td>tess2018206045859-s0001-0000000060112451-0120-s</td></tr>\n",
       "<tr><td>60112490</td><td>1</td><td>333.482493702655</td><td>-34.0636720281529</td><td>https://mast.stsci.edu/portal/Download/file?uri=mast:TESS/product/tess2018206045859-s0001-0000000060112490-0120-s_lc.fits</td><td>2039040</td><td>tess2018206045859-s0001-0000000060112490-0120-s</td></tr>\n",
       "<tr><td>60112659</td><td>1</td><td>333.65931</td><td>-32.206633</td><td>https://mast.stsci.edu/portal/Download/file?uri=mast:TESS/product/tess2018206045859-s0001-0000000060112659-0120-s_lc.fits</td><td>2039040</td><td>tess2018206045859-s0001-0000000060112659-0120-s</td></tr>\n",
       "<tr><td>...</td><td>...</td><td>...</td><td>...</td><td>...</td><td>...</td><td>...</td></tr>\n",
       "<tr><td>2028180603</td><td>95</td><td>329.250304786607</td><td>-31.8551694099779</td><td>https://mast.stsci.edu/portal/Download/file?uri=mast:TESS/product/tess2025206162959-s0095-0000002028180603-0292-s_lc.fits</td><td>1846080</td><td>tess2025206162959-s0095-0000002028180603-0292-s</td></tr>\n",
       "<tr><td>2055848122</td><td>95</td><td>342.74937499793</td><td>-39.0010184670381</td><td>https://mast.stsci.edu/portal/Download/file?uri=mast:TESS/product/tess2025206162959-s0095-0000002055848122-0292-a_fast-lc.fits</td><td>10929600</td><td>tess2025206162959-s0095-0000002055848122-0292-a_fast</td></tr>\n",
       "<tr><td>2055848122</td><td>95</td><td>342.74937499793</td><td>-39.0010184670381</td><td>https://mast.stsci.edu/portal/Download/file?uri=mast:TESS/product/tess2025206162959-s0095-0000002055848122-0292-s_lc.fits</td><td>1846080</td><td>tess2025206162959-s0095-0000002055848122-0292-s</td></tr>\n",
       "<tr><td>2055849178</td><td>95</td><td>342.448409174102</td><td>-38.5170226826395</td><td>https://mast.stsci.edu/portal/Download/file?uri=mast:TESS/product/tess2025206162959-s0095-0000002055849178-0292-a_fast-lc.fits</td><td>10929600</td><td>tess2025206162959-s0095-0000002055849178-0292-a_fast</td></tr>\n",
       "<tr><td>2055849178</td><td>95</td><td>342.448409174102</td><td>-38.5170226826395</td><td>https://mast.stsci.edu/portal/Download/file?uri=mast:TESS/product/tess2025206162959-s0095-0000002055849178-0292-s_lc.fits</td><td>1846080</td><td>tess2025206162959-s0095-0000002055849178-0292-s</td></tr>\n",
       "<tr><td>2055850555</td><td>95</td><td>341.293721296462</td><td>-38.6127931475585</td><td>https://mast.stsci.edu/portal/Download/file?uri=mast:TESS/product/tess2025206162959-s0095-0000002055850555-0292-a_fast-lc.fits</td><td>10929600</td><td>tess2025206162959-s0095-0000002055850555-0292-a_fast</td></tr>\n",
       "<tr><td>2055850555</td><td>95</td><td>341.293721296462</td><td>-38.6127931475585</td><td>https://mast.stsci.edu/portal/Download/file?uri=mast:TESS/product/tess2025206162959-s0095-0000002055850555-0292-s_lc.fits</td><td>1846080</td><td>tess2025206162959-s0095-0000002055850555-0292-s</td></tr>\n",
       "<tr><td>2055851325</td><td>95</td><td>340.984553670934</td><td>-38.5837079185913</td><td>https://mast.stsci.edu/portal/Download/file?uri=mast:TESS/product/tess2025206162959-s0095-0000002055851325-0292-a_fast-lc.fits</td><td>10929600</td><td>tess2025206162959-s0095-0000002055851325-0292-a_fast</td></tr>\n",
       "<tr><td>2055851325</td><td>95</td><td>340.984553670934</td><td>-38.5837079185913</td><td>https://mast.stsci.edu/portal/Download/file?uri=mast:TESS/product/tess2025206162959-s0095-0000002055851325-0292-s_lc.fits</td><td>1846080</td><td>tess2025206162959-s0095-0000002055851325-0292-s</td></tr>\n",
       "</table></div>"
      ],
      "text/plain": [
       "<Table length=3064>\n",
       "target_name sector ...                        obs_id                       \n",
       "                   ...                                                     \n",
       "   object   int32  ...                        object                       \n",
       "----------- ------ ... ----------------------------------------------------\n",
       "   60110897      1 ...      tess2018206045859-s0001-0000000060110897-0120-s\n",
       "   60111044      1 ...      tess2018206045859-s0001-0000000060111044-0120-s\n",
       "   60111124      1 ...      tess2018206045859-s0001-0000000060111124-0120-s\n",
       "   60111195      1 ...      tess2018206045859-s0001-0000000060111195-0120-s\n",
       "   60111206      1 ...      tess2018206045859-s0001-0000000060111206-0120-s\n",
       "   60112433      1 ...      tess2018206045859-s0001-0000000060112433-0120-s\n",
       "   60112451      1 ...      tess2018206045859-s0001-0000000060112451-0120-s\n",
       "   60112490      1 ...      tess2018206045859-s0001-0000000060112490-0120-s\n",
       "   60112659      1 ...      tess2018206045859-s0001-0000000060112659-0120-s\n",
       "        ...    ... ...                                                  ...\n",
       " 2028180603     95 ...      tess2025206162959-s0095-0000002028180603-0292-s\n",
       " 2055848122     95 ... tess2025206162959-s0095-0000002055848122-0292-a_fast\n",
       " 2055848122     95 ...      tess2025206162959-s0095-0000002055848122-0292-s\n",
       " 2055849178     95 ... tess2025206162959-s0095-0000002055849178-0292-a_fast\n",
       " 2055849178     95 ...      tess2025206162959-s0095-0000002055849178-0292-s\n",
       " 2055850555     95 ... tess2025206162959-s0095-0000002055850555-0292-a_fast\n",
       " 2055850555     95 ...      tess2025206162959-s0095-0000002055850555-0292-s\n",
       " 2055851325     95 ... tess2025206162959-s0095-0000002055851325-0292-a_fast\n",
       " 2055851325     95 ...      tess2025206162959-s0095-0000002055851325-0292-s"
      ]
     },
     "execution_count": 8,
     "metadata": {},
     "output_type": "execute_result"
    }
   ],
   "source": [
    "job = TAP_service.run_async(\"\"\"\n",
    "            SELECT target_name, sequenceNumber as sector, s_ra, s_dec, access_url, access_estsize, obs_id \n",
    "            FROM dbo.caomobservation JOIN ivoa.obscore on dbo.caomobservation.observationID = ivoa.obscore.obs_id \n",
    "            WHERE \n",
    "            obs_collection = 'TESS' and dataproduct_type = 'timeseries' \n",
    "            and access_url like '%lc.fits' and \n",
    "            CONTAINS(POINT('ICRS',s_ra,s_dec),{}('ICRS', {}))=1\n",
    "            ORDER BY obs_id\n",
    "            \"\"\".format(footprintShape, footprintVertices))\n",
    "\n",
    "TAP_results = job.to_table()\n",
    "TAP_results          "
   ]
  },
  {
   "cell_type": "markdown",
   "metadata": {},
   "source": [
    "The returned data is in an astropy table; you can manipulate it to do more ordering or filtering. To download individual files or the whole set, you can use the <i>access_url</i> column, as below.\n",
    "\n",
    "Python's requests library lets you download files from a URL. The downloads will appear in the directory where your notebook is running."
   ]
  },
  {
   "cell_type": "code",
   "execution_count": 9,
   "metadata": {
    "execution": {
     "iopub.execute_input": "2025-09-11T15:31:57.592513Z",
     "iopub.status.busy": "2025-09-11T15:31:57.592371Z",
     "iopub.status.idle": "2025-09-11T15:31:58.463477Z",
     "shell.execute_reply": "2025-09-11T15:31:58.463080Z"
    }
   },
   "outputs": [
    {
     "name": "stdout",
     "output_type": "stream",
     "text": [
      "File downloaded: 2039040 bytes\n"
     ]
    }
   ],
   "source": [
    "# Example: first result row:\n",
    "single_url = TAP_results['access_url'][0]\n",
    "filename = TAP_results['obs_id'][0] + \"_lc.fits\"\n",
    "r = requests.get(single_url, allow_redirects=True)\n",
    "open(filename, 'wb').write(r.content)\n",
    "print('File downloaded: {} bytes'.format(r.headers['Content-length']))\n",
    "\n",
    "\n",
    "# Uncomment the code below to download every file in a loop. \n",
    "# Warning: this can take some time as there are ~900 2megabyte files listed from the notebook's original sample query \n",
    "# (see \"True length\" of masked table above).\n",
    "\n",
    "#for rows in TAP_results:\n",
    "#    single_url = rows['access_url']\n",
    "#    filename = rows['obs_id'] + \"_lc.fits\"\n",
    "#    r = requests.get(single_url, allow_redirects=True)\n",
    "#    open(filename, 'wb').write(r.content)\n",
    "#print('All files downloaded.')"
   ]
  },
  {
   "cell_type": "markdown",
   "metadata": {},
   "source": [
    "If you have problems running requests or would rather save individual files through your browser, you can simply print clickable links, instead, or wrap them in curl or wget calls, which may be different based on your operating system."
   ]
  },
  {
   "cell_type": "code",
   "execution_count": 10,
   "metadata": {
    "execution": {
     "iopub.execute_input": "2025-09-11T15:31:58.464772Z",
     "iopub.status.busy": "2025-09-11T15:31:58.464634Z",
     "iopub.status.idle": "2025-09-11T15:31:58.467355Z",
     "shell.execute_reply": "2025-09-11T15:31:58.466964Z"
    }
   },
   "outputs": [
    {
     "name": "stdout",
     "output_type": "stream",
     "text": [
      "https://mast.stsci.edu/portal/Download/file?uri=mast:TESS/product/tess2018206045859-s0001-0000000060110897-0120-s_lc.fits\n"
     ]
    }
   ],
   "source": [
    "# Example: first result row:\n",
    "single_url = TAP_results['access_url'][0]\n",
    "print(single_url)\n",
    "\n",
    "# Uncomment the code below to display clickable links for every file in a loop.\n",
    "#for rows in TAP_results:\n",
    "#    single_url = rows['access_url'].decode('UTF-8')\n",
    "#    print(single_url)"
   ]
  },
  {
   "cell_type": "markdown",
   "metadata": {},
   "source": [
    "***\n",
    "# Additional Resources\n",
    "\n",
    "\n",
    "## Table Access Protocol \n",
    "* IVOA standard for RESTful web service access to tabular data\n",
    "* http://www.ivoa.net/documents/TAP/\n",
    "\n",
    "\n",
    "## Astronomical Query Data Language (2.0)\n",
    "* IVOA standard for querying astronomical data in tabular format, with geometric search support\n",
    "* http://www.ivoa.net/documents/latest/ADQL.html\n",
    "\n",
    "\n",
    "## Common Archive Observation Model (2)\n",
    "* IVOA standard data model whose relational representation this catalog follows\n",
    "* http://www.opencadc.org/caom2/\n",
    "\n",
    "\n",
    "## PyVO\n",
    "* an affiliated package for astropy\n",
    "* find and retrieve astronomical data available from archives that support standard IVOA virtual observatory service protocols.\n",
    "* https://pyvo.readthedocs.io/en/latest/index.html"
   ]
  },
  {
   "cell_type": "markdown",
   "metadata": {},
   "source": [
    "***"
   ]
  },
  {
   "cell_type": "markdown",
   "metadata": {},
   "source": [
    "## About this Notebook\n",
    "**Authors:** Scott Fleming & Theresa Dower, STScI Archive Scientists & Software Engineer\n",
    "\n",
    "**Last Updated**: Dec 2022"
   ]
  },
  {
   "cell_type": "markdown",
   "metadata": {},
   "source": [
    "***"
   ]
  },
  {
   "cell_type": "markdown",
   "metadata": {},
   "source": [
    "<img style=\"float: right;\" src=\"https://raw.githubusercontent.com/spacetelescope/notebooks/master/assets/stsci_pri_combo_mark_horizonal_white_bkgd.png\" alt=\"STScI logo\" width=\"200px\"/> "
   ]
  }
 ],
 "metadata": {
  "kernelspec": {
   "display_name": "Python 3 (ipykernel)",
   "language": "python",
   "name": "python3"
  },
  "language_info": {
   "codemirror_mode": {
    "name": "ipython",
    "version": 3
   },
   "file_extension": ".py",
   "mimetype": "text/x-python",
   "name": "python",
   "nbconvert_exporter": "python",
   "pygments_lexer": "ipython3",
   "version": "3.11.13"
  }
 },
 "nbformat": 4,
 "nbformat_minor": 4
}
